{
 "nbformat": 4,
 "nbformat_minor": 0,
 "metadata": {
  "colab": {
   "provenance": [
    {
     "file_id": "1gMJFWaucLj5MUJ8mSUiOYxS-Csesyiky",
     "timestamp": 1704883856917
    }
   ],
   "collapsed_sections": [
    "MKCieCgYJv6D",
    "E5p2bqv4gnwK",
    "uL8IctpH-BOs",
    "d0lz4KQAjdnh",
    "g4JL4U2rCj20",
    "LHwYNF0Nkpbo",
    "nzzp6bThGjTL",
    "l2bYeauXO9a0",
    "hJCtPBLQO8mL",
    "S88e7JvSO8mL"
   ],
   "toc_visible": true,
   "gpuType": "T4"
  },
  "kernelspec": {
   "name": "python3",
   "display_name": "Python 3 (ipykernel)",
   "language": "python"
  },
  "language_info": {
   "name": "python"
  },
  "widgets": {
   "application/vnd.jupyter.widget-state+json": {
    "104b65f54f2a4e369dfde3b5e8d8f6a8": {
     "model_module": "@jupyter-widgets/controls",
     "model_name": "HBoxModel",
     "model_module_version": "1.5.0",
     "state": {
      "_dom_classes": [],
      "_model_module": "@jupyter-widgets/controls",
      "_model_module_version": "1.5.0",
      "_model_name": "HBoxModel",
      "_view_count": null,
      "_view_module": "@jupyter-widgets/controls",
      "_view_module_version": "1.5.0",
      "_view_name": "HBoxView",
      "box_style": "",
      "children": [
       "IPY_MODEL_a87b6877b44d4b518cf377e235489c0a",
       "IPY_MODEL_18c5cfd17f0349e9aa131172f450f16e",
       "IPY_MODEL_fb9ffbbd1c2e4bc793ba7f31b15e8e1c"
      ],
      "layout": "IPY_MODEL_3d28c7fc252041dbb1abfe4905db3f89"
     }
    },
    "a87b6877b44d4b518cf377e235489c0a": {
     "model_module": "@jupyter-widgets/controls",
     "model_name": "HTMLModel",
     "model_module_version": "1.5.0",
     "state": {
      "_dom_classes": [],
      "_model_module": "@jupyter-widgets/controls",
      "_model_module_version": "1.5.0",
      "_model_name": "HTMLModel",
      "_view_count": null,
      "_view_module": "@jupyter-widgets/controls",
      "_view_module_version": "1.5.0",
      "_view_name": "HTMLView",
      "description": "",
      "description_tooltip": null,
      "layout": "IPY_MODEL_3a75638df1a049d69b12af4f019a6b17",
      "placeholder": "​",
      "style": "IPY_MODEL_92053eebcc5748b9983aaf3926cabf8b",
      "value": "100%"
     }
    },
    "18c5cfd17f0349e9aa131172f450f16e": {
     "model_module": "@jupyter-widgets/controls",
     "model_name": "FloatProgressModel",
     "model_module_version": "1.5.0",
     "state": {
      "_dom_classes": [],
      "_model_module": "@jupyter-widgets/controls",
      "_model_module_version": "1.5.0",
      "_model_name": "FloatProgressModel",
      "_view_count": null,
      "_view_module": "@jupyter-widgets/controls",
      "_view_module_version": "1.5.0",
      "_view_name": "ProgressView",
      "bar_style": "success",
      "description": "",
      "description_tooltip": null,
      "layout": "IPY_MODEL_3f04a6010a2a43debcc3a3c0143bba85",
      "max": 44,
      "min": 0,
      "orientation": "horizontal",
      "style": "IPY_MODEL_7e67e024df644a119ecd265599e1af1d",
      "value": 44
     }
    },
    "fb9ffbbd1c2e4bc793ba7f31b15e8e1c": {
     "model_module": "@jupyter-widgets/controls",
     "model_name": "HTMLModel",
     "model_module_version": "1.5.0",
     "state": {
      "_dom_classes": [],
      "_model_module": "@jupyter-widgets/controls",
      "_model_module_version": "1.5.0",
      "_model_name": "HTMLModel",
      "_view_count": null,
      "_view_module": "@jupyter-widgets/controls",
      "_view_module_version": "1.5.0",
      "_view_name": "HTMLView",
      "description": "",
      "description_tooltip": null,
      "layout": "IPY_MODEL_ca415ef8e9784867bb7e9aaf9ac6848f",
      "placeholder": "​",
      "style": "IPY_MODEL_d64a6e6a52854ba8a523398bf499a05f",
      "value": " 44/44 [02:40&lt;00:00,  3.67s/it]"
     }
    },
    "3d28c7fc252041dbb1abfe4905db3f89": {
     "model_module": "@jupyter-widgets/base",
     "model_name": "LayoutModel",
     "model_module_version": "1.2.0",
     "state": {
      "_model_module": "@jupyter-widgets/base",
      "_model_module_version": "1.2.0",
      "_model_name": "LayoutModel",
      "_view_count": null,
      "_view_module": "@jupyter-widgets/base",
      "_view_module_version": "1.2.0",
      "_view_name": "LayoutView",
      "align_content": null,
      "align_items": null,
      "align_self": null,
      "border": null,
      "bottom": null,
      "display": null,
      "flex": null,
      "flex_flow": null,
      "grid_area": null,
      "grid_auto_columns": null,
      "grid_auto_flow": null,
      "grid_auto_rows": null,
      "grid_column": null,
      "grid_gap": null,
      "grid_row": null,
      "grid_template_areas": null,
      "grid_template_columns": null,
      "grid_template_rows": null,
      "height": null,
      "justify_content": null,
      "justify_items": null,
      "left": null,
      "margin": null,
      "max_height": null,
      "max_width": null,
      "min_height": null,
      "min_width": null,
      "object_fit": null,
      "object_position": null,
      "order": null,
      "overflow": null,
      "overflow_x": null,
      "overflow_y": null,
      "padding": null,
      "right": null,
      "top": null,
      "visibility": null,
      "width": null
     }
    },
    "3a75638df1a049d69b12af4f019a6b17": {
     "model_module": "@jupyter-widgets/base",
     "model_name": "LayoutModel",
     "model_module_version": "1.2.0",
     "state": {
      "_model_module": "@jupyter-widgets/base",
      "_model_module_version": "1.2.0",
      "_model_name": "LayoutModel",
      "_view_count": null,
      "_view_module": "@jupyter-widgets/base",
      "_view_module_version": "1.2.0",
      "_view_name": "LayoutView",
      "align_content": null,
      "align_items": null,
      "align_self": null,
      "border": null,
      "bottom": null,
      "display": null,
      "flex": null,
      "flex_flow": null,
      "grid_area": null,
      "grid_auto_columns": null,
      "grid_auto_flow": null,
      "grid_auto_rows": null,
      "grid_column": null,
      "grid_gap": null,
      "grid_row": null,
      "grid_template_areas": null,
      "grid_template_columns": null,
      "grid_template_rows": null,
      "height": null,
      "justify_content": null,
      "justify_items": null,
      "left": null,
      "margin": null,
      "max_height": null,
      "max_width": null,
      "min_height": null,
      "min_width": null,
      "object_fit": null,
      "object_position": null,
      "order": null,
      "overflow": null,
      "overflow_x": null,
      "overflow_y": null,
      "padding": null,
      "right": null,
      "top": null,
      "visibility": null,
      "width": null
     }
    },
    "92053eebcc5748b9983aaf3926cabf8b": {
     "model_module": "@jupyter-widgets/controls",
     "model_name": "DescriptionStyleModel",
     "model_module_version": "1.5.0",
     "state": {
      "_model_module": "@jupyter-widgets/controls",
      "_model_module_version": "1.5.0",
      "_model_name": "DescriptionStyleModel",
      "_view_count": null,
      "_view_module": "@jupyter-widgets/base",
      "_view_module_version": "1.2.0",
      "_view_name": "StyleView",
      "description_width": ""
     }
    },
    "3f04a6010a2a43debcc3a3c0143bba85": {
     "model_module": "@jupyter-widgets/base",
     "model_name": "LayoutModel",
     "model_module_version": "1.2.0",
     "state": {
      "_model_module": "@jupyter-widgets/base",
      "_model_module_version": "1.2.0",
      "_model_name": "LayoutModel",
      "_view_count": null,
      "_view_module": "@jupyter-widgets/base",
      "_view_module_version": "1.2.0",
      "_view_name": "LayoutView",
      "align_content": null,
      "align_items": null,
      "align_self": null,
      "border": null,
      "bottom": null,
      "display": null,
      "flex": null,
      "flex_flow": null,
      "grid_area": null,
      "grid_auto_columns": null,
      "grid_auto_flow": null,
      "grid_auto_rows": null,
      "grid_column": null,
      "grid_gap": null,
      "grid_row": null,
      "grid_template_areas": null,
      "grid_template_columns": null,
      "grid_template_rows": null,
      "height": null,
      "justify_content": null,
      "justify_items": null,
      "left": null,
      "margin": null,
      "max_height": null,
      "max_width": null,
      "min_height": null,
      "min_width": null,
      "object_fit": null,
      "object_position": null,
      "order": null,
      "overflow": null,
      "overflow_x": null,
      "overflow_y": null,
      "padding": null,
      "right": null,
      "top": null,
      "visibility": null,
      "width": null
     }
    },
    "7e67e024df644a119ecd265599e1af1d": {
     "model_module": "@jupyter-widgets/controls",
     "model_name": "ProgressStyleModel",
     "model_module_version": "1.5.0",
     "state": {
      "_model_module": "@jupyter-widgets/controls",
      "_model_module_version": "1.5.0",
      "_model_name": "ProgressStyleModel",
      "_view_count": null,
      "_view_module": "@jupyter-widgets/base",
      "_view_module_version": "1.2.0",
      "_view_name": "StyleView",
      "bar_color": null,
      "description_width": ""
     }
    },
    "ca415ef8e9784867bb7e9aaf9ac6848f": {
     "model_module": "@jupyter-widgets/base",
     "model_name": "LayoutModel",
     "model_module_version": "1.2.0",
     "state": {
      "_model_module": "@jupyter-widgets/base",
      "_model_module_version": "1.2.0",
      "_model_name": "LayoutModel",
      "_view_count": null,
      "_view_module": "@jupyter-widgets/base",
      "_view_module_version": "1.2.0",
      "_view_name": "LayoutView",
      "align_content": null,
      "align_items": null,
      "align_self": null,
      "border": null,
      "bottom": null,
      "display": null,
      "flex": null,
      "flex_flow": null,
      "grid_area": null,
      "grid_auto_columns": null,
      "grid_auto_flow": null,
      "grid_auto_rows": null,
      "grid_column": null,
      "grid_gap": null,
      "grid_row": null,
      "grid_template_areas": null,
      "grid_template_columns": null,
      "grid_template_rows": null,
      "height": null,
      "justify_content": null,
      "justify_items": null,
      "left": null,
      "margin": null,
      "max_height": null,
      "max_width": null,
      "min_height": null,
      "min_width": null,
      "object_fit": null,
      "object_position": null,
      "order": null,
      "overflow": null,
      "overflow_x": null,
      "overflow_y": null,
      "padding": null,
      "right": null,
      "top": null,
      "visibility": null,
      "width": null
     }
    },
    "d64a6e6a52854ba8a523398bf499a05f": {
     "model_module": "@jupyter-widgets/controls",
     "model_name": "DescriptionStyleModel",
     "model_module_version": "1.5.0",
     "state": {
      "_model_module": "@jupyter-widgets/controls",
      "_model_module_version": "1.5.0",
      "_model_name": "DescriptionStyleModel",
      "_view_count": null,
      "_view_module": "@jupyter-widgets/base",
      "_view_module_version": "1.2.0",
      "_view_name": "StyleView",
      "description_width": ""
     }
    },
    "815ace888620492085699015facd54c1": {
     "model_module": "@jupyter-widgets/controls",
     "model_name": "HBoxModel",
     "model_module_version": "1.5.0",
     "state": {
      "_dom_classes": [],
      "_model_module": "@jupyter-widgets/controls",
      "_model_module_version": "1.5.0",
      "_model_name": "HBoxModel",
      "_view_count": null,
      "_view_module": "@jupyter-widgets/controls",
      "_view_module_version": "1.5.0",
      "_view_name": "HBoxView",
      "box_style": "",
      "children": [
       "IPY_MODEL_a94b1416a2cf4f43a67e7af90adbd69e",
       "IPY_MODEL_edcc66cff6a64a4da006d92f4c91dc17",
       "IPY_MODEL_ec3e1e44043e4e659e8e3c9ee6a18090"
      ],
      "layout": "IPY_MODEL_6fc73a21e1f24254b6582825e5180d90"
     }
    },
    "a94b1416a2cf4f43a67e7af90adbd69e": {
     "model_module": "@jupyter-widgets/controls",
     "model_name": "HTMLModel",
     "model_module_version": "1.5.0",
     "state": {
      "_dom_classes": [],
      "_model_module": "@jupyter-widgets/controls",
      "_model_module_version": "1.5.0",
      "_model_name": "HTMLModel",
      "_view_count": null,
      "_view_module": "@jupyter-widgets/controls",
      "_view_module_version": "1.5.0",
      "_view_name": "HTMLView",
      "description": "",
      "description_tooltip": null,
      "layout": "IPY_MODEL_222774aa83c84e8eaefb53a8bee8cc20",
      "placeholder": "​",
      "style": "IPY_MODEL_c7d3d2b2aedb40cf9afa076ddd123a38",
      "value": "100%"
     }
    },
    "edcc66cff6a64a4da006d92f4c91dc17": {
     "model_module": "@jupyter-widgets/controls",
     "model_name": "FloatProgressModel",
     "model_module_version": "1.5.0",
     "state": {
      "_dom_classes": [],
      "_model_module": "@jupyter-widgets/controls",
      "_model_module_version": "1.5.0",
      "_model_name": "FloatProgressModel",
      "_view_count": null,
      "_view_module": "@jupyter-widgets/controls",
      "_view_module_version": "1.5.0",
      "_view_name": "ProgressView",
      "bar_style": "success",
      "description": "",
      "description_tooltip": null,
      "layout": "IPY_MODEL_599ec7237e0c4cdd97829d66ffbc9ba0",
      "max": 44,
      "min": 0,
      "orientation": "horizontal",
      "style": "IPY_MODEL_30bd2fe551c84ca0b8ff23542ee9be5e",
      "value": 44
     }
    },
    "ec3e1e44043e4e659e8e3c9ee6a18090": {
     "model_module": "@jupyter-widgets/controls",
     "model_name": "HTMLModel",
     "model_module_version": "1.5.0",
     "state": {
      "_dom_classes": [],
      "_model_module": "@jupyter-widgets/controls",
      "_model_module_version": "1.5.0",
      "_model_name": "HTMLModel",
      "_view_count": null,
      "_view_module": "@jupyter-widgets/controls",
      "_view_module_version": "1.5.0",
      "_view_name": "HTMLView",
      "description": "",
      "description_tooltip": null,
      "layout": "IPY_MODEL_a569b702763143a4b17080387685a6cd",
      "placeholder": "​",
      "style": "IPY_MODEL_e76c0b92d57848309985a67e6015eb08",
      "value": " 44/44 [01:34&lt;00:00,  2.19s/it]"
     }
    },
    "6fc73a21e1f24254b6582825e5180d90": {
     "model_module": "@jupyter-widgets/base",
     "model_name": "LayoutModel",
     "model_module_version": "1.2.0",
     "state": {
      "_model_module": "@jupyter-widgets/base",
      "_model_module_version": "1.2.0",
      "_model_name": "LayoutModel",
      "_view_count": null,
      "_view_module": "@jupyter-widgets/base",
      "_view_module_version": "1.2.0",
      "_view_name": "LayoutView",
      "align_content": null,
      "align_items": null,
      "align_self": null,
      "border": null,
      "bottom": null,
      "display": null,
      "flex": null,
      "flex_flow": null,
      "grid_area": null,
      "grid_auto_columns": null,
      "grid_auto_flow": null,
      "grid_auto_rows": null,
      "grid_column": null,
      "grid_gap": null,
      "grid_row": null,
      "grid_template_areas": null,
      "grid_template_columns": null,
      "grid_template_rows": null,
      "height": null,
      "justify_content": null,
      "justify_items": null,
      "left": null,
      "margin": null,
      "max_height": null,
      "max_width": null,
      "min_height": null,
      "min_width": null,
      "object_fit": null,
      "object_position": null,
      "order": null,
      "overflow": null,
      "overflow_x": null,
      "overflow_y": null,
      "padding": null,
      "right": null,
      "top": null,
      "visibility": null,
      "width": null
     }
    },
    "222774aa83c84e8eaefb53a8bee8cc20": {
     "model_module": "@jupyter-widgets/base",
     "model_name": "LayoutModel",
     "model_module_version": "1.2.0",
     "state": {
      "_model_module": "@jupyter-widgets/base",
      "_model_module_version": "1.2.0",
      "_model_name": "LayoutModel",
      "_view_count": null,
      "_view_module": "@jupyter-widgets/base",
      "_view_module_version": "1.2.0",
      "_view_name": "LayoutView",
      "align_content": null,
      "align_items": null,
      "align_self": null,
      "border": null,
      "bottom": null,
      "display": null,
      "flex": null,
      "flex_flow": null,
      "grid_area": null,
      "grid_auto_columns": null,
      "grid_auto_flow": null,
      "grid_auto_rows": null,
      "grid_column": null,
      "grid_gap": null,
      "grid_row": null,
      "grid_template_areas": null,
      "grid_template_columns": null,
      "grid_template_rows": null,
      "height": null,
      "justify_content": null,
      "justify_items": null,
      "left": null,
      "margin": null,
      "max_height": null,
      "max_width": null,
      "min_height": null,
      "min_width": null,
      "object_fit": null,
      "object_position": null,
      "order": null,
      "overflow": null,
      "overflow_x": null,
      "overflow_y": null,
      "padding": null,
      "right": null,
      "top": null,
      "visibility": null,
      "width": null
     }
    },
    "c7d3d2b2aedb40cf9afa076ddd123a38": {
     "model_module": "@jupyter-widgets/controls",
     "model_name": "DescriptionStyleModel",
     "model_module_version": "1.5.0",
     "state": {
      "_model_module": "@jupyter-widgets/controls",
      "_model_module_version": "1.5.0",
      "_model_name": "DescriptionStyleModel",
      "_view_count": null,
      "_view_module": "@jupyter-widgets/base",
      "_view_module_version": "1.2.0",
      "_view_name": "StyleView",
      "description_width": ""
     }
    },
    "599ec7237e0c4cdd97829d66ffbc9ba0": {
     "model_module": "@jupyter-widgets/base",
     "model_name": "LayoutModel",
     "model_module_version": "1.2.0",
     "state": {
      "_model_module": "@jupyter-widgets/base",
      "_model_module_version": "1.2.0",
      "_model_name": "LayoutModel",
      "_view_count": null,
      "_view_module": "@jupyter-widgets/base",
      "_view_module_version": "1.2.0",
      "_view_name": "LayoutView",
      "align_content": null,
      "align_items": null,
      "align_self": null,
      "border": null,
      "bottom": null,
      "display": null,
      "flex": null,
      "flex_flow": null,
      "grid_area": null,
      "grid_auto_columns": null,
      "grid_auto_flow": null,
      "grid_auto_rows": null,
      "grid_column": null,
      "grid_gap": null,
      "grid_row": null,
      "grid_template_areas": null,
      "grid_template_columns": null,
      "grid_template_rows": null,
      "height": null,
      "justify_content": null,
      "justify_items": null,
      "left": null,
      "margin": null,
      "max_height": null,
      "max_width": null,
      "min_height": null,
      "min_width": null,
      "object_fit": null,
      "object_position": null,
      "order": null,
      "overflow": null,
      "overflow_x": null,
      "overflow_y": null,
      "padding": null,
      "right": null,
      "top": null,
      "visibility": null,
      "width": null
     }
    },
    "30bd2fe551c84ca0b8ff23542ee9be5e": {
     "model_module": "@jupyter-widgets/controls",
     "model_name": "ProgressStyleModel",
     "model_module_version": "1.5.0",
     "state": {
      "_model_module": "@jupyter-widgets/controls",
      "_model_module_version": "1.5.0",
      "_model_name": "ProgressStyleModel",
      "_view_count": null,
      "_view_module": "@jupyter-widgets/base",
      "_view_module_version": "1.2.0",
      "_view_name": "StyleView",
      "bar_color": null,
      "description_width": ""
     }
    },
    "a569b702763143a4b17080387685a6cd": {
     "model_module": "@jupyter-widgets/base",
     "model_name": "LayoutModel",
     "model_module_version": "1.2.0",
     "state": {
      "_model_module": "@jupyter-widgets/base",
      "_model_module_version": "1.2.0",
      "_model_name": "LayoutModel",
      "_view_count": null,
      "_view_module": "@jupyter-widgets/base",
      "_view_module_version": "1.2.0",
      "_view_name": "LayoutView",
      "align_content": null,
      "align_items": null,
      "align_self": null,
      "border": null,
      "bottom": null,
      "display": null,
      "flex": null,
      "flex_flow": null,
      "grid_area": null,
      "grid_auto_columns": null,
      "grid_auto_flow": null,
      "grid_auto_rows": null,
      "grid_column": null,
      "grid_gap": null,
      "grid_row": null,
      "grid_template_areas": null,
      "grid_template_columns": null,
      "grid_template_rows": null,
      "height": null,
      "justify_content": null,
      "justify_items": null,
      "left": null,
      "margin": null,
      "max_height": null,
      "max_width": null,
      "min_height": null,
      "min_width": null,
      "object_fit": null,
      "object_position": null,
      "order": null,
      "overflow": null,
      "overflow_x": null,
      "overflow_y": null,
      "padding": null,
      "right": null,
      "top": null,
      "visibility": null,
      "width": null
     }
    },
    "e76c0b92d57848309985a67e6015eb08": {
     "model_module": "@jupyter-widgets/controls",
     "model_name": "DescriptionStyleModel",
     "model_module_version": "1.5.0",
     "state": {
      "_model_module": "@jupyter-widgets/controls",
      "_model_module_version": "1.5.0",
      "_model_name": "DescriptionStyleModel",
      "_view_count": null,
      "_view_module": "@jupyter-widgets/base",
      "_view_module_version": "1.2.0",
      "_view_name": "StyleView",
      "description_width": ""
     }
    },
    "8f288bb70d664ec98a663805ea2364cf": {
     "model_module": "@jupyter-widgets/controls",
     "model_name": "HBoxModel",
     "model_module_version": "1.5.0",
     "state": {
      "_dom_classes": [],
      "_model_module": "@jupyter-widgets/controls",
      "_model_module_version": "1.5.0",
      "_model_name": "HBoxModel",
      "_view_count": null,
      "_view_module": "@jupyter-widgets/controls",
      "_view_module_version": "1.5.0",
      "_view_name": "HBoxView",
      "box_style": "",
      "children": [
       "IPY_MODEL_68fd19eae12348099177d61f3a3a6419",
       "IPY_MODEL_a975dc73e2a4473483ff84e1ca13bd11",
       "IPY_MODEL_71c4d830ea1c4f79a664e2de17915c1b"
      ],
      "layout": "IPY_MODEL_852a12f640d648dbb46945c6933b86d2"
     }
    },
    "68fd19eae12348099177d61f3a3a6419": {
     "model_module": "@jupyter-widgets/controls",
     "model_name": "HTMLModel",
     "model_module_version": "1.5.0",
     "state": {
      "_dom_classes": [],
      "_model_module": "@jupyter-widgets/controls",
      "_model_module_version": "1.5.0",
      "_model_name": "HTMLModel",
      "_view_count": null,
      "_view_module": "@jupyter-widgets/controls",
      "_view_module_version": "1.5.0",
      "_view_name": "HTMLView",
      "description": "",
      "description_tooltip": null,
      "layout": "IPY_MODEL_e72015d4628544b6b389bb3290b3c71c",
      "placeholder": "​",
      "style": "IPY_MODEL_b665ebd6e33141c4a3878e8c444788bf",
      "value": "100%"
     }
    },
    "a975dc73e2a4473483ff84e1ca13bd11": {
     "model_module": "@jupyter-widgets/controls",
     "model_name": "FloatProgressModel",
     "model_module_version": "1.5.0",
     "state": {
      "_dom_classes": [],
      "_model_module": "@jupyter-widgets/controls",
      "_model_module_version": "1.5.0",
      "_model_name": "FloatProgressModel",
      "_view_count": null,
      "_view_module": "@jupyter-widgets/controls",
      "_view_module_version": "1.5.0",
      "_view_name": "ProgressView",
      "bar_style": "success",
      "description": "",
      "description_tooltip": null,
      "layout": "IPY_MODEL_79dd280b0d004a1e81601501890fd295",
      "max": 118,
      "min": 0,
      "orientation": "horizontal",
      "style": "IPY_MODEL_31d7381dfa674ff69ffcd9fd3af8e313",
      "value": 118
     }
    },
    "71c4d830ea1c4f79a664e2de17915c1b": {
     "model_module": "@jupyter-widgets/controls",
     "model_name": "HTMLModel",
     "model_module_version": "1.5.0",
     "state": {
      "_dom_classes": [],
      "_model_module": "@jupyter-widgets/controls",
      "_model_module_version": "1.5.0",
      "_model_name": "HTMLModel",
      "_view_count": null,
      "_view_module": "@jupyter-widgets/controls",
      "_view_module_version": "1.5.0",
      "_view_name": "HTMLView",
      "description": "",
      "description_tooltip": null,
      "layout": "IPY_MODEL_2c12283ba462428cadbc546374b30b37",
      "placeholder": "​",
      "style": "IPY_MODEL_85b62e14efcc4110b6bf2b7ec6295ef2",
      "value": " 118/118 [06:58&lt;00:00,  3.35s/it]"
     }
    },
    "852a12f640d648dbb46945c6933b86d2": {
     "model_module": "@jupyter-widgets/base",
     "model_name": "LayoutModel",
     "model_module_version": "1.2.0",
     "state": {
      "_model_module": "@jupyter-widgets/base",
      "_model_module_version": "1.2.0",
      "_model_name": "LayoutModel",
      "_view_count": null,
      "_view_module": "@jupyter-widgets/base",
      "_view_module_version": "1.2.0",
      "_view_name": "LayoutView",
      "align_content": null,
      "align_items": null,
      "align_self": null,
      "border": null,
      "bottom": null,
      "display": null,
      "flex": null,
      "flex_flow": null,
      "grid_area": null,
      "grid_auto_columns": null,
      "grid_auto_flow": null,
      "grid_auto_rows": null,
      "grid_column": null,
      "grid_gap": null,
      "grid_row": null,
      "grid_template_areas": null,
      "grid_template_columns": null,
      "grid_template_rows": null,
      "height": null,
      "justify_content": null,
      "justify_items": null,
      "left": null,
      "margin": null,
      "max_height": null,
      "max_width": null,
      "min_height": null,
      "min_width": null,
      "object_fit": null,
      "object_position": null,
      "order": null,
      "overflow": null,
      "overflow_x": null,
      "overflow_y": null,
      "padding": null,
      "right": null,
      "top": null,
      "visibility": null,
      "width": null
     }
    },
    "e72015d4628544b6b389bb3290b3c71c": {
     "model_module": "@jupyter-widgets/base",
     "model_name": "LayoutModel",
     "model_module_version": "1.2.0",
     "state": {
      "_model_module": "@jupyter-widgets/base",
      "_model_module_version": "1.2.0",
      "_model_name": "LayoutModel",
      "_view_count": null,
      "_view_module": "@jupyter-widgets/base",
      "_view_module_version": "1.2.0",
      "_view_name": "LayoutView",
      "align_content": null,
      "align_items": null,
      "align_self": null,
      "border": null,
      "bottom": null,
      "display": null,
      "flex": null,
      "flex_flow": null,
      "grid_area": null,
      "grid_auto_columns": null,
      "grid_auto_flow": null,
      "grid_auto_rows": null,
      "grid_column": null,
      "grid_gap": null,
      "grid_row": null,
      "grid_template_areas": null,
      "grid_template_columns": null,
      "grid_template_rows": null,
      "height": null,
      "justify_content": null,
      "justify_items": null,
      "left": null,
      "margin": null,
      "max_height": null,
      "max_width": null,
      "min_height": null,
      "min_width": null,
      "object_fit": null,
      "object_position": null,
      "order": null,
      "overflow": null,
      "overflow_x": null,
      "overflow_y": null,
      "padding": null,
      "right": null,
      "top": null,
      "visibility": null,
      "width": null
     }
    },
    "b665ebd6e33141c4a3878e8c444788bf": {
     "model_module": "@jupyter-widgets/controls",
     "model_name": "DescriptionStyleModel",
     "model_module_version": "1.5.0",
     "state": {
      "_model_module": "@jupyter-widgets/controls",
      "_model_module_version": "1.5.0",
      "_model_name": "DescriptionStyleModel",
      "_view_count": null,
      "_view_module": "@jupyter-widgets/base",
      "_view_module_version": "1.2.0",
      "_view_name": "StyleView",
      "description_width": ""
     }
    },
    "79dd280b0d004a1e81601501890fd295": {
     "model_module": "@jupyter-widgets/base",
     "model_name": "LayoutModel",
     "model_module_version": "1.2.0",
     "state": {
      "_model_module": "@jupyter-widgets/base",
      "_model_module_version": "1.2.0",
      "_model_name": "LayoutModel",
      "_view_count": null,
      "_view_module": "@jupyter-widgets/base",
      "_view_module_version": "1.2.0",
      "_view_name": "LayoutView",
      "align_content": null,
      "align_items": null,
      "align_self": null,
      "border": null,
      "bottom": null,
      "display": null,
      "flex": null,
      "flex_flow": null,
      "grid_area": null,
      "grid_auto_columns": null,
      "grid_auto_flow": null,
      "grid_auto_rows": null,
      "grid_column": null,
      "grid_gap": null,
      "grid_row": null,
      "grid_template_areas": null,
      "grid_template_columns": null,
      "grid_template_rows": null,
      "height": null,
      "justify_content": null,
      "justify_items": null,
      "left": null,
      "margin": null,
      "max_height": null,
      "max_width": null,
      "min_height": null,
      "min_width": null,
      "object_fit": null,
      "object_position": null,
      "order": null,
      "overflow": null,
      "overflow_x": null,
      "overflow_y": null,
      "padding": null,
      "right": null,
      "top": null,
      "visibility": null,
      "width": null
     }
    },
    "31d7381dfa674ff69ffcd9fd3af8e313": {
     "model_module": "@jupyter-widgets/controls",
     "model_name": "ProgressStyleModel",
     "model_module_version": "1.5.0",
     "state": {
      "_model_module": "@jupyter-widgets/controls",
      "_model_module_version": "1.5.0",
      "_model_name": "ProgressStyleModel",
      "_view_count": null,
      "_view_module": "@jupyter-widgets/base",
      "_view_module_version": "1.2.0",
      "_view_name": "StyleView",
      "bar_color": null,
      "description_width": ""
     }
    },
    "2c12283ba462428cadbc546374b30b37": {
     "model_module": "@jupyter-widgets/base",
     "model_name": "LayoutModel",
     "model_module_version": "1.2.0",
     "state": {
      "_model_module": "@jupyter-widgets/base",
      "_model_module_version": "1.2.0",
      "_model_name": "LayoutModel",
      "_view_count": null,
      "_view_module": "@jupyter-widgets/base",
      "_view_module_version": "1.2.0",
      "_view_name": "LayoutView",
      "align_content": null,
      "align_items": null,
      "align_self": null,
      "border": null,
      "bottom": null,
      "display": null,
      "flex": null,
      "flex_flow": null,
      "grid_area": null,
      "grid_auto_columns": null,
      "grid_auto_flow": null,
      "grid_auto_rows": null,
      "grid_column": null,
      "grid_gap": null,
      "grid_row": null,
      "grid_template_areas": null,
      "grid_template_columns": null,
      "grid_template_rows": null,
      "height": null,
      "justify_content": null,
      "justify_items": null,
      "left": null,
      "margin": null,
      "max_height": null,
      "max_width": null,
      "min_height": null,
      "min_width": null,
      "object_fit": null,
      "object_position": null,
      "order": null,
      "overflow": null,
      "overflow_x": null,
      "overflow_y": null,
      "padding": null,
      "right": null,
      "top": null,
      "visibility": null,
      "width": null
     }
    },
    "85b62e14efcc4110b6bf2b7ec6295ef2": {
     "model_module": "@jupyter-widgets/controls",
     "model_name": "DescriptionStyleModel",
     "model_module_version": "1.5.0",
     "state": {
      "_model_module": "@jupyter-widgets/controls",
      "_model_module_version": "1.5.0",
      "_model_name": "DescriptionStyleModel",
      "_view_count": null,
      "_view_module": "@jupyter-widgets/base",
      "_view_module_version": "1.2.0",
      "_view_name": "StyleView",
      "description_width": ""
     }
    },
    "6b132a81fd5449ea97b4c68861597a34": {
     "model_module": "@jupyter-widgets/controls",
     "model_name": "HBoxModel",
     "model_module_version": "1.5.0",
     "state": {
      "_dom_classes": [],
      "_model_module": "@jupyter-widgets/controls",
      "_model_module_version": "1.5.0",
      "_model_name": "HBoxModel",
      "_view_count": null,
      "_view_module": "@jupyter-widgets/controls",
      "_view_module_version": "1.5.0",
      "_view_name": "HBoxView",
      "box_style": "",
      "children": [
       "IPY_MODEL_801149af491045df97d4254de19f3520",
       "IPY_MODEL_a92987913b4444f29e7616b87ba6f885",
       "IPY_MODEL_191860a5e3ca473d9fbd3cc946c74c4d"
      ],
      "layout": "IPY_MODEL_87aec3ca45e1490c965f4b634c0d6531"
     }
    },
    "801149af491045df97d4254de19f3520": {
     "model_module": "@jupyter-widgets/controls",
     "model_name": "HTMLModel",
     "model_module_version": "1.5.0",
     "state": {
      "_dom_classes": [],
      "_model_module": "@jupyter-widgets/controls",
      "_model_module_version": "1.5.0",
      "_model_name": "HTMLModel",
      "_view_count": null,
      "_view_module": "@jupyter-widgets/controls",
      "_view_module_version": "1.5.0",
      "_view_name": "HTMLView",
      "description": "",
      "description_tooltip": null,
      "layout": "IPY_MODEL_06e94530600e48eb87a6aedbe74b2b79",
      "placeholder": "​",
      "style": "IPY_MODEL_5e5db0ac6af34be49acad988d27bed76",
      "value": "100%"
     }
    },
    "a92987913b4444f29e7616b87ba6f885": {
     "model_module": "@jupyter-widgets/controls",
     "model_name": "FloatProgressModel",
     "model_module_version": "1.5.0",
     "state": {
      "_dom_classes": [],
      "_model_module": "@jupyter-widgets/controls",
      "_model_module_version": "1.5.0",
      "_model_name": "FloatProgressModel",
      "_view_count": null,
      "_view_module": "@jupyter-widgets/controls",
      "_view_module_version": "1.5.0",
      "_view_name": "ProgressView",
      "bar_style": "success",
      "description": "",
      "description_tooltip": null,
      "layout": "IPY_MODEL_f7f0575e90604269b53b60badfe81a0f",
      "max": 118,
      "min": 0,
      "orientation": "horizontal",
      "style": "IPY_MODEL_e2ad0923fba949509a675a84752b894f",
      "value": 118
     }
    },
    "191860a5e3ca473d9fbd3cc946c74c4d": {
     "model_module": "@jupyter-widgets/controls",
     "model_name": "HTMLModel",
     "model_module_version": "1.5.0",
     "state": {
      "_dom_classes": [],
      "_model_module": "@jupyter-widgets/controls",
      "_model_module_version": "1.5.0",
      "_model_name": "HTMLModel",
      "_view_count": null,
      "_view_module": "@jupyter-widgets/controls",
      "_view_module_version": "1.5.0",
      "_view_name": "HTMLView",
      "description": "",
      "description_tooltip": null,
      "layout": "IPY_MODEL_2609ceb9e16b44a8b0e2f144ef02395f",
      "placeholder": "​",
      "style": "IPY_MODEL_47e846d2b1654057bb10949dba37eb7e",
      "value": " 118/118 [04:39&lt;00:00,  2.41s/it]"
     }
    },
    "87aec3ca45e1490c965f4b634c0d6531": {
     "model_module": "@jupyter-widgets/base",
     "model_name": "LayoutModel",
     "model_module_version": "1.2.0",
     "state": {
      "_model_module": "@jupyter-widgets/base",
      "_model_module_version": "1.2.0",
      "_model_name": "LayoutModel",
      "_view_count": null,
      "_view_module": "@jupyter-widgets/base",
      "_view_module_version": "1.2.0",
      "_view_name": "LayoutView",
      "align_content": null,
      "align_items": null,
      "align_self": null,
      "border": null,
      "bottom": null,
      "display": null,
      "flex": null,
      "flex_flow": null,
      "grid_area": null,
      "grid_auto_columns": null,
      "grid_auto_flow": null,
      "grid_auto_rows": null,
      "grid_column": null,
      "grid_gap": null,
      "grid_row": null,
      "grid_template_areas": null,
      "grid_template_columns": null,
      "grid_template_rows": null,
      "height": null,
      "justify_content": null,
      "justify_items": null,
      "left": null,
      "margin": null,
      "max_height": null,
      "max_width": null,
      "min_height": null,
      "min_width": null,
      "object_fit": null,
      "object_position": null,
      "order": null,
      "overflow": null,
      "overflow_x": null,
      "overflow_y": null,
      "padding": null,
      "right": null,
      "top": null,
      "visibility": null,
      "width": null
     }
    },
    "06e94530600e48eb87a6aedbe74b2b79": {
     "model_module": "@jupyter-widgets/base",
     "model_name": "LayoutModel",
     "model_module_version": "1.2.0",
     "state": {
      "_model_module": "@jupyter-widgets/base",
      "_model_module_version": "1.2.0",
      "_model_name": "LayoutModel",
      "_view_count": null,
      "_view_module": "@jupyter-widgets/base",
      "_view_module_version": "1.2.0",
      "_view_name": "LayoutView",
      "align_content": null,
      "align_items": null,
      "align_self": null,
      "border": null,
      "bottom": null,
      "display": null,
      "flex": null,
      "flex_flow": null,
      "grid_area": null,
      "grid_auto_columns": null,
      "grid_auto_flow": null,
      "grid_auto_rows": null,
      "grid_column": null,
      "grid_gap": null,
      "grid_row": null,
      "grid_template_areas": null,
      "grid_template_columns": null,
      "grid_template_rows": null,
      "height": null,
      "justify_content": null,
      "justify_items": null,
      "left": null,
      "margin": null,
      "max_height": null,
      "max_width": null,
      "min_height": null,
      "min_width": null,
      "object_fit": null,
      "object_position": null,
      "order": null,
      "overflow": null,
      "overflow_x": null,
      "overflow_y": null,
      "padding": null,
      "right": null,
      "top": null,
      "visibility": null,
      "width": null
     }
    },
    "5e5db0ac6af34be49acad988d27bed76": {
     "model_module": "@jupyter-widgets/controls",
     "model_name": "DescriptionStyleModel",
     "model_module_version": "1.5.0",
     "state": {
      "_model_module": "@jupyter-widgets/controls",
      "_model_module_version": "1.5.0",
      "_model_name": "DescriptionStyleModel",
      "_view_count": null,
      "_view_module": "@jupyter-widgets/base",
      "_view_module_version": "1.2.0",
      "_view_name": "StyleView",
      "description_width": ""
     }
    },
    "f7f0575e90604269b53b60badfe81a0f": {
     "model_module": "@jupyter-widgets/base",
     "model_name": "LayoutModel",
     "model_module_version": "1.2.0",
     "state": {
      "_model_module": "@jupyter-widgets/base",
      "_model_module_version": "1.2.0",
      "_model_name": "LayoutModel",
      "_view_count": null,
      "_view_module": "@jupyter-widgets/base",
      "_view_module_version": "1.2.0",
      "_view_name": "LayoutView",
      "align_content": null,
      "align_items": null,
      "align_self": null,
      "border": null,
      "bottom": null,
      "display": null,
      "flex": null,
      "flex_flow": null,
      "grid_area": null,
      "grid_auto_columns": null,
      "grid_auto_flow": null,
      "grid_auto_rows": null,
      "grid_column": null,
      "grid_gap": null,
      "grid_row": null,
      "grid_template_areas": null,
      "grid_template_columns": null,
      "grid_template_rows": null,
      "height": null,
      "justify_content": null,
      "justify_items": null,
      "left": null,
      "margin": null,
      "max_height": null,
      "max_width": null,
      "min_height": null,
      "min_width": null,
      "object_fit": null,
      "object_position": null,
      "order": null,
      "overflow": null,
      "overflow_x": null,
      "overflow_y": null,
      "padding": null,
      "right": null,
      "top": null,
      "visibility": null,
      "width": null
     }
    },
    "e2ad0923fba949509a675a84752b894f": {
     "model_module": "@jupyter-widgets/controls",
     "model_name": "ProgressStyleModel",
     "model_module_version": "1.5.0",
     "state": {
      "_model_module": "@jupyter-widgets/controls",
      "_model_module_version": "1.5.0",
      "_model_name": "ProgressStyleModel",
      "_view_count": null,
      "_view_module": "@jupyter-widgets/base",
      "_view_module_version": "1.2.0",
      "_view_name": "StyleView",
      "bar_color": null,
      "description_width": ""
     }
    },
    "2609ceb9e16b44a8b0e2f144ef02395f": {
     "model_module": "@jupyter-widgets/base",
     "model_name": "LayoutModel",
     "model_module_version": "1.2.0",
     "state": {
      "_model_module": "@jupyter-widgets/base",
      "_model_module_version": "1.2.0",
      "_model_name": "LayoutModel",
      "_view_count": null,
      "_view_module": "@jupyter-widgets/base",
      "_view_module_version": "1.2.0",
      "_view_name": "LayoutView",
      "align_content": null,
      "align_items": null,
      "align_self": null,
      "border": null,
      "bottom": null,
      "display": null,
      "flex": null,
      "flex_flow": null,
      "grid_area": null,
      "grid_auto_columns": null,
      "grid_auto_flow": null,
      "grid_auto_rows": null,
      "grid_column": null,
      "grid_gap": null,
      "grid_row": null,
      "grid_template_areas": null,
      "grid_template_columns": null,
      "grid_template_rows": null,
      "height": null,
      "justify_content": null,
      "justify_items": null,
      "left": null,
      "margin": null,
      "max_height": null,
      "max_width": null,
      "min_height": null,
      "min_width": null,
      "object_fit": null,
      "object_position": null,
      "order": null,
      "overflow": null,
      "overflow_x": null,
      "overflow_y": null,
      "padding": null,
      "right": null,
      "top": null,
      "visibility": null,
      "width": null
     }
    },
    "47e846d2b1654057bb10949dba37eb7e": {
     "model_module": "@jupyter-widgets/controls",
     "model_name": "DescriptionStyleModel",
     "model_module_version": "1.5.0",
     "state": {
      "_model_module": "@jupyter-widgets/controls",
      "_model_module_version": "1.5.0",
      "_model_name": "DescriptionStyleModel",
      "_view_count": null,
      "_view_module": "@jupyter-widgets/base",
      "_view_module_version": "1.2.0",
      "_view_name": "StyleView",
      "description_width": ""
     }
    },
    "3bec918ac8b747aa9ac65cf750ef3ec7": {
     "model_module": "@jupyter-widgets/controls",
     "model_name": "HBoxModel",
     "model_module_version": "1.5.0",
     "state": {
      "_dom_classes": [],
      "_model_module": "@jupyter-widgets/controls",
      "_model_module_version": "1.5.0",
      "_model_name": "HBoxModel",
      "_view_count": null,
      "_view_module": "@jupyter-widgets/controls",
      "_view_module_version": "1.5.0",
      "_view_name": "HBoxView",
      "box_style": "",
      "children": [
       "IPY_MODEL_9f134955289b442388e02c911bead3d0",
       "IPY_MODEL_c7bfe6e49cce4a86a7a9eb247f81a9a0",
       "IPY_MODEL_ab71190ec22d4fea9ab3d66109c1682d"
      ],
      "layout": "IPY_MODEL_fdb606321859488187744e6abaa00cc1"
     }
    },
    "9f134955289b442388e02c911bead3d0": {
     "model_module": "@jupyter-widgets/controls",
     "model_name": "HTMLModel",
     "model_module_version": "1.5.0",
     "state": {
      "_dom_classes": [],
      "_model_module": "@jupyter-widgets/controls",
      "_model_module_version": "1.5.0",
      "_model_name": "HTMLModel",
      "_view_count": null,
      "_view_module": "@jupyter-widgets/controls",
      "_view_module_version": "1.5.0",
      "_view_name": "HTMLView",
      "description": "",
      "description_tooltip": null,
      "layout": "IPY_MODEL_a258d75bcb8b4530857a3b42f91c2a26",
      "placeholder": "​",
      "style": "IPY_MODEL_359bd6610085476697babcf774c78526",
      "value": "100%"
     }
    },
    "c7bfe6e49cce4a86a7a9eb247f81a9a0": {
     "model_module": "@jupyter-widgets/controls",
     "model_name": "FloatProgressModel",
     "model_module_version": "1.5.0",
     "state": {
      "_dom_classes": [],
      "_model_module": "@jupyter-widgets/controls",
      "_model_module_version": "1.5.0",
      "_model_name": "FloatProgressModel",
      "_view_count": null,
      "_view_module": "@jupyter-widgets/controls",
      "_view_module_version": "1.5.0",
      "_view_name": "ProgressView",
      "bar_style": "success",
      "description": "",
      "description_tooltip": null,
      "layout": "IPY_MODEL_b7534606a9c94b7dbd1cc95b04a79aff",
      "max": 54,
      "min": 0,
      "orientation": "horizontal",
      "style": "IPY_MODEL_09b8ec9e405d4b0e812e6b12200d17f4",
      "value": 54
     }
    },
    "ab71190ec22d4fea9ab3d66109c1682d": {
     "model_module": "@jupyter-widgets/controls",
     "model_name": "HTMLModel",
     "model_module_version": "1.5.0",
     "state": {
      "_dom_classes": [],
      "_model_module": "@jupyter-widgets/controls",
      "_model_module_version": "1.5.0",
      "_model_name": "HTMLModel",
      "_view_count": null,
      "_view_module": "@jupyter-widgets/controls",
      "_view_module_version": "1.5.0",
      "_view_name": "HTMLView",
      "description": "",
      "description_tooltip": null,
      "layout": "IPY_MODEL_db716d8aec604152abd45e0b0e6abe02",
      "placeholder": "​",
      "style": "IPY_MODEL_58d38490b44b4b79b770ccfb8d918c41",
      "value": " 54/54 [07:57&lt;00:00,  8.71s/it]"
     }
    },
    "fdb606321859488187744e6abaa00cc1": {
     "model_module": "@jupyter-widgets/base",
     "model_name": "LayoutModel",
     "model_module_version": "1.2.0",
     "state": {
      "_model_module": "@jupyter-widgets/base",
      "_model_module_version": "1.2.0",
      "_model_name": "LayoutModel",
      "_view_count": null,
      "_view_module": "@jupyter-widgets/base",
      "_view_module_version": "1.2.0",
      "_view_name": "LayoutView",
      "align_content": null,
      "align_items": null,
      "align_self": null,
      "border": null,
      "bottom": null,
      "display": null,
      "flex": null,
      "flex_flow": null,
      "grid_area": null,
      "grid_auto_columns": null,
      "grid_auto_flow": null,
      "grid_auto_rows": null,
      "grid_column": null,
      "grid_gap": null,
      "grid_row": null,
      "grid_template_areas": null,
      "grid_template_columns": null,
      "grid_template_rows": null,
      "height": null,
      "justify_content": null,
      "justify_items": null,
      "left": null,
      "margin": null,
      "max_height": null,
      "max_width": null,
      "min_height": null,
      "min_width": null,
      "object_fit": null,
      "object_position": null,
      "order": null,
      "overflow": null,
      "overflow_x": null,
      "overflow_y": null,
      "padding": null,
      "right": null,
      "top": null,
      "visibility": null,
      "width": null
     }
    },
    "a258d75bcb8b4530857a3b42f91c2a26": {
     "model_module": "@jupyter-widgets/base",
     "model_name": "LayoutModel",
     "model_module_version": "1.2.0",
     "state": {
      "_model_module": "@jupyter-widgets/base",
      "_model_module_version": "1.2.0",
      "_model_name": "LayoutModel",
      "_view_count": null,
      "_view_module": "@jupyter-widgets/base",
      "_view_module_version": "1.2.0",
      "_view_name": "LayoutView",
      "align_content": null,
      "align_items": null,
      "align_self": null,
      "border": null,
      "bottom": null,
      "display": null,
      "flex": null,
      "flex_flow": null,
      "grid_area": null,
      "grid_auto_columns": null,
      "grid_auto_flow": null,
      "grid_auto_rows": null,
      "grid_column": null,
      "grid_gap": null,
      "grid_row": null,
      "grid_template_areas": null,
      "grid_template_columns": null,
      "grid_template_rows": null,
      "height": null,
      "justify_content": null,
      "justify_items": null,
      "left": null,
      "margin": null,
      "max_height": null,
      "max_width": null,
      "min_height": null,
      "min_width": null,
      "object_fit": null,
      "object_position": null,
      "order": null,
      "overflow": null,
      "overflow_x": null,
      "overflow_y": null,
      "padding": null,
      "right": null,
      "top": null,
      "visibility": null,
      "width": null
     }
    },
    "359bd6610085476697babcf774c78526": {
     "model_module": "@jupyter-widgets/controls",
     "model_name": "DescriptionStyleModel",
     "model_module_version": "1.5.0",
     "state": {
      "_model_module": "@jupyter-widgets/controls",
      "_model_module_version": "1.5.0",
      "_model_name": "DescriptionStyleModel",
      "_view_count": null,
      "_view_module": "@jupyter-widgets/base",
      "_view_module_version": "1.2.0",
      "_view_name": "StyleView",
      "description_width": ""
     }
    },
    "b7534606a9c94b7dbd1cc95b04a79aff": {
     "model_module": "@jupyter-widgets/base",
     "model_name": "LayoutModel",
     "model_module_version": "1.2.0",
     "state": {
      "_model_module": "@jupyter-widgets/base",
      "_model_module_version": "1.2.0",
      "_model_name": "LayoutModel",
      "_view_count": null,
      "_view_module": "@jupyter-widgets/base",
      "_view_module_version": "1.2.0",
      "_view_name": "LayoutView",
      "align_content": null,
      "align_items": null,
      "align_self": null,
      "border": null,
      "bottom": null,
      "display": null,
      "flex": null,
      "flex_flow": null,
      "grid_area": null,
      "grid_auto_columns": null,
      "grid_auto_flow": null,
      "grid_auto_rows": null,
      "grid_column": null,
      "grid_gap": null,
      "grid_row": null,
      "grid_template_areas": null,
      "grid_template_columns": null,
      "grid_template_rows": null,
      "height": null,
      "justify_content": null,
      "justify_items": null,
      "left": null,
      "margin": null,
      "max_height": null,
      "max_width": null,
      "min_height": null,
      "min_width": null,
      "object_fit": null,
      "object_position": null,
      "order": null,
      "overflow": null,
      "overflow_x": null,
      "overflow_y": null,
      "padding": null,
      "right": null,
      "top": null,
      "visibility": null,
      "width": null
     }
    },
    "09b8ec9e405d4b0e812e6b12200d17f4": {
     "model_module": "@jupyter-widgets/controls",
     "model_name": "ProgressStyleModel",
     "model_module_version": "1.5.0",
     "state": {
      "_model_module": "@jupyter-widgets/controls",
      "_model_module_version": "1.5.0",
      "_model_name": "ProgressStyleModel",
      "_view_count": null,
      "_view_module": "@jupyter-widgets/base",
      "_view_module_version": "1.2.0",
      "_view_name": "StyleView",
      "bar_color": null,
      "description_width": ""
     }
    },
    "db716d8aec604152abd45e0b0e6abe02": {
     "model_module": "@jupyter-widgets/base",
     "model_name": "LayoutModel",
     "model_module_version": "1.2.0",
     "state": {
      "_model_module": "@jupyter-widgets/base",
      "_model_module_version": "1.2.0",
      "_model_name": "LayoutModel",
      "_view_count": null,
      "_view_module": "@jupyter-widgets/base",
      "_view_module_version": "1.2.0",
      "_view_name": "LayoutView",
      "align_content": null,
      "align_items": null,
      "align_self": null,
      "border": null,
      "bottom": null,
      "display": null,
      "flex": null,
      "flex_flow": null,
      "grid_area": null,
      "grid_auto_columns": null,
      "grid_auto_flow": null,
      "grid_auto_rows": null,
      "grid_column": null,
      "grid_gap": null,
      "grid_row": null,
      "grid_template_areas": null,
      "grid_template_columns": null,
      "grid_template_rows": null,
      "height": null,
      "justify_content": null,
      "justify_items": null,
      "left": null,
      "margin": null,
      "max_height": null,
      "max_width": null,
      "min_height": null,
      "min_width": null,
      "object_fit": null,
      "object_position": null,
      "order": null,
      "overflow": null,
      "overflow_x": null,
      "overflow_y": null,
      "padding": null,
      "right": null,
      "top": null,
      "visibility": null,
      "width": null
     }
    },
    "58d38490b44b4b79b770ccfb8d918c41": {
     "model_module": "@jupyter-widgets/controls",
     "model_name": "DescriptionStyleModel",
     "model_module_version": "1.5.0",
     "state": {
      "_model_module": "@jupyter-widgets/controls",
      "_model_module_version": "1.5.0",
      "_model_name": "DescriptionStyleModel",
      "_view_count": null,
      "_view_module": "@jupyter-widgets/base",
      "_view_module_version": "1.2.0",
      "_view_name": "StyleView",
      "description_width": ""
     }
    },
    "1ff577c934734a4d8c086a46508cb9d5": {
     "model_module": "@jupyter-widgets/controls",
     "model_name": "HBoxModel",
     "model_module_version": "1.5.0",
     "state": {
      "_dom_classes": [],
      "_model_module": "@jupyter-widgets/controls",
      "_model_module_version": "1.5.0",
      "_model_name": "HBoxModel",
      "_view_count": null,
      "_view_module": "@jupyter-widgets/controls",
      "_view_module_version": "1.5.0",
      "_view_name": "HBoxView",
      "box_style": "",
      "children": [
       "IPY_MODEL_3dcd7bd351814f7a8e7a4f175e20139f",
       "IPY_MODEL_41924b8158fc459ea7630f12ea63e1e0",
       "IPY_MODEL_05d30bcd5906444cae224f816016bbb6"
      ],
      "layout": "IPY_MODEL_6dac11974b8741148f03bc07b069b375"
     }
    },
    "3dcd7bd351814f7a8e7a4f175e20139f": {
     "model_module": "@jupyter-widgets/controls",
     "model_name": "HTMLModel",
     "model_module_version": "1.5.0",
     "state": {
      "_dom_classes": [],
      "_model_module": "@jupyter-widgets/controls",
      "_model_module_version": "1.5.0",
      "_model_name": "HTMLModel",
      "_view_count": null,
      "_view_module": "@jupyter-widgets/controls",
      "_view_module_version": "1.5.0",
      "_view_name": "HTMLView",
      "description": "",
      "description_tooltip": null,
      "layout": "IPY_MODEL_00881fbac2d940ff9bf086823cca296a",
      "placeholder": "​",
      "style": "IPY_MODEL_8c622c984f634f388fdcb940d44f4f76",
      "value": "100%"
     }
    },
    "41924b8158fc459ea7630f12ea63e1e0": {
     "model_module": "@jupyter-widgets/controls",
     "model_name": "FloatProgressModel",
     "model_module_version": "1.5.0",
     "state": {
      "_dom_classes": [],
      "_model_module": "@jupyter-widgets/controls",
      "_model_module_version": "1.5.0",
      "_model_name": "FloatProgressModel",
      "_view_count": null,
      "_view_module": "@jupyter-widgets/controls",
      "_view_module_version": "1.5.0",
      "_view_name": "ProgressView",
      "bar_style": "success",
      "description": "",
      "description_tooltip": null,
      "layout": "IPY_MODEL_9af8e38805564668b3268f67b733900c",
      "max": 54,
      "min": 0,
      "orientation": "horizontal",
      "style": "IPY_MODEL_e9d3636effa9414b991f7eb20a479678",
      "value": 54
     }
    },
    "05d30bcd5906444cae224f816016bbb6": {
     "model_module": "@jupyter-widgets/controls",
     "model_name": "HTMLModel",
     "model_module_version": "1.5.0",
     "state": {
      "_dom_classes": [],
      "_model_module": "@jupyter-widgets/controls",
      "_model_module_version": "1.5.0",
      "_model_name": "HTMLModel",
      "_view_count": null,
      "_view_module": "@jupyter-widgets/controls",
      "_view_module_version": "1.5.0",
      "_view_name": "HTMLView",
      "description": "",
      "description_tooltip": null,
      "layout": "IPY_MODEL_1497046ba6e84692ab669ba76b0996f2",
      "placeholder": "​",
      "style": "IPY_MODEL_8c188acbdbe04af7af2b65ed409b6d3e",
      "value": " 54/54 [02:05&lt;00:00,  2.43s/it]"
     }
    },
    "6dac11974b8741148f03bc07b069b375": {
     "model_module": "@jupyter-widgets/base",
     "model_name": "LayoutModel",
     "model_module_version": "1.2.0",
     "state": {
      "_model_module": "@jupyter-widgets/base",
      "_model_module_version": "1.2.0",
      "_model_name": "LayoutModel",
      "_view_count": null,
      "_view_module": "@jupyter-widgets/base",
      "_view_module_version": "1.2.0",
      "_view_name": "LayoutView",
      "align_content": null,
      "align_items": null,
      "align_self": null,
      "border": null,
      "bottom": null,
      "display": null,
      "flex": null,
      "flex_flow": null,
      "grid_area": null,
      "grid_auto_columns": null,
      "grid_auto_flow": null,
      "grid_auto_rows": null,
      "grid_column": null,
      "grid_gap": null,
      "grid_row": null,
      "grid_template_areas": null,
      "grid_template_columns": null,
      "grid_template_rows": null,
      "height": null,
      "justify_content": null,
      "justify_items": null,
      "left": null,
      "margin": null,
      "max_height": null,
      "max_width": null,
      "min_height": null,
      "min_width": null,
      "object_fit": null,
      "object_position": null,
      "order": null,
      "overflow": null,
      "overflow_x": null,
      "overflow_y": null,
      "padding": null,
      "right": null,
      "top": null,
      "visibility": null,
      "width": null
     }
    },
    "00881fbac2d940ff9bf086823cca296a": {
     "model_module": "@jupyter-widgets/base",
     "model_name": "LayoutModel",
     "model_module_version": "1.2.0",
     "state": {
      "_model_module": "@jupyter-widgets/base",
      "_model_module_version": "1.2.0",
      "_model_name": "LayoutModel",
      "_view_count": null,
      "_view_module": "@jupyter-widgets/base",
      "_view_module_version": "1.2.0",
      "_view_name": "LayoutView",
      "align_content": null,
      "align_items": null,
      "align_self": null,
      "border": null,
      "bottom": null,
      "display": null,
      "flex": null,
      "flex_flow": null,
      "grid_area": null,
      "grid_auto_columns": null,
      "grid_auto_flow": null,
      "grid_auto_rows": null,
      "grid_column": null,
      "grid_gap": null,
      "grid_row": null,
      "grid_template_areas": null,
      "grid_template_columns": null,
      "grid_template_rows": null,
      "height": null,
      "justify_content": null,
      "justify_items": null,
      "left": null,
      "margin": null,
      "max_height": null,
      "max_width": null,
      "min_height": null,
      "min_width": null,
      "object_fit": null,
      "object_position": null,
      "order": null,
      "overflow": null,
      "overflow_x": null,
      "overflow_y": null,
      "padding": null,
      "right": null,
      "top": null,
      "visibility": null,
      "width": null
     }
    },
    "8c622c984f634f388fdcb940d44f4f76": {
     "model_module": "@jupyter-widgets/controls",
     "model_name": "DescriptionStyleModel",
     "model_module_version": "1.5.0",
     "state": {
      "_model_module": "@jupyter-widgets/controls",
      "_model_module_version": "1.5.0",
      "_model_name": "DescriptionStyleModel",
      "_view_count": null,
      "_view_module": "@jupyter-widgets/base",
      "_view_module_version": "1.2.0",
      "_view_name": "StyleView",
      "description_width": ""
     }
    },
    "9af8e38805564668b3268f67b733900c": {
     "model_module": "@jupyter-widgets/base",
     "model_name": "LayoutModel",
     "model_module_version": "1.2.0",
     "state": {
      "_model_module": "@jupyter-widgets/base",
      "_model_module_version": "1.2.0",
      "_model_name": "LayoutModel",
      "_view_count": null,
      "_view_module": "@jupyter-widgets/base",
      "_view_module_version": "1.2.0",
      "_view_name": "LayoutView",
      "align_content": null,
      "align_items": null,
      "align_self": null,
      "border": null,
      "bottom": null,
      "display": null,
      "flex": null,
      "flex_flow": null,
      "grid_area": null,
      "grid_auto_columns": null,
      "grid_auto_flow": null,
      "grid_auto_rows": null,
      "grid_column": null,
      "grid_gap": null,
      "grid_row": null,
      "grid_template_areas": null,
      "grid_template_columns": null,
      "grid_template_rows": null,
      "height": null,
      "justify_content": null,
      "justify_items": null,
      "left": null,
      "margin": null,
      "max_height": null,
      "max_width": null,
      "min_height": null,
      "min_width": null,
      "object_fit": null,
      "object_position": null,
      "order": null,
      "overflow": null,
      "overflow_x": null,
      "overflow_y": null,
      "padding": null,
      "right": null,
      "top": null,
      "visibility": null,
      "width": null
     }
    },
    "e9d3636effa9414b991f7eb20a479678": {
     "model_module": "@jupyter-widgets/controls",
     "model_name": "ProgressStyleModel",
     "model_module_version": "1.5.0",
     "state": {
      "_model_module": "@jupyter-widgets/controls",
      "_model_module_version": "1.5.0",
      "_model_name": "ProgressStyleModel",
      "_view_count": null,
      "_view_module": "@jupyter-widgets/base",
      "_view_module_version": "1.2.0",
      "_view_name": "StyleView",
      "bar_color": null,
      "description_width": ""
     }
    },
    "1497046ba6e84692ab669ba76b0996f2": {
     "model_module": "@jupyter-widgets/base",
     "model_name": "LayoutModel",
     "model_module_version": "1.2.0",
     "state": {
      "_model_module": "@jupyter-widgets/base",
      "_model_module_version": "1.2.0",
      "_model_name": "LayoutModel",
      "_view_count": null,
      "_view_module": "@jupyter-widgets/base",
      "_view_module_version": "1.2.0",
      "_view_name": "LayoutView",
      "align_content": null,
      "align_items": null,
      "align_self": null,
      "border": null,
      "bottom": null,
      "display": null,
      "flex": null,
      "flex_flow": null,
      "grid_area": null,
      "grid_auto_columns": null,
      "grid_auto_flow": null,
      "grid_auto_rows": null,
      "grid_column": null,
      "grid_gap": null,
      "grid_row": null,
      "grid_template_areas": null,
      "grid_template_columns": null,
      "grid_template_rows": null,
      "height": null,
      "justify_content": null,
      "justify_items": null,
      "left": null,
      "margin": null,
      "max_height": null,
      "max_width": null,
      "min_height": null,
      "min_width": null,
      "object_fit": null,
      "object_position": null,
      "order": null,
      "overflow": null,
      "overflow_x": null,
      "overflow_y": null,
      "padding": null,
      "right": null,
      "top": null,
      "visibility": null,
      "width": null
     }
    },
    "8c188acbdbe04af7af2b65ed409b6d3e": {
     "model_module": "@jupyter-widgets/controls",
     "model_name": "DescriptionStyleModel",
     "model_module_version": "1.5.0",
     "state": {
      "_model_module": "@jupyter-widgets/controls",
      "_model_module_version": "1.5.0",
      "_model_name": "DescriptionStyleModel",
      "_view_count": null,
      "_view_module": "@jupyter-widgets/base",
      "_view_module_version": "1.2.0",
      "_view_name": "StyleView",
      "description_width": ""
     }
    },
    "fc382788d8af4c4baec93d27dcec66ce": {
     "model_module": "@jupyter-widgets/controls",
     "model_name": "HBoxModel",
     "model_module_version": "1.5.0",
     "state": {
      "_dom_classes": [],
      "_model_module": "@jupyter-widgets/controls",
      "_model_module_version": "1.5.0",
      "_model_name": "HBoxModel",
      "_view_count": null,
      "_view_module": "@jupyter-widgets/controls",
      "_view_module_version": "1.5.0",
      "_view_name": "HBoxView",
      "box_style": "",
      "children": [
       "IPY_MODEL_a674b5c7d05747a1a7d5827569abaaae",
       "IPY_MODEL_10d25a3e5b93465e928fb9d396d920e3",
       "IPY_MODEL_7123d68b937c4f51b33e66a704ecb761"
      ],
      "layout": "IPY_MODEL_98ed69d9e9dd48c2920f29fa9251ee45"
     }
    },
    "a674b5c7d05747a1a7d5827569abaaae": {
     "model_module": "@jupyter-widgets/controls",
     "model_name": "HTMLModel",
     "model_module_version": "1.5.0",
     "state": {
      "_dom_classes": [],
      "_model_module": "@jupyter-widgets/controls",
      "_model_module_version": "1.5.0",
      "_model_name": "HTMLModel",
      "_view_count": null,
      "_view_module": "@jupyter-widgets/controls",
      "_view_module_version": "1.5.0",
      "_view_name": "HTMLView",
      "description": "",
      "description_tooltip": null,
      "layout": "IPY_MODEL_94b3a092e86f405f920648373f45fe68",
      "placeholder": "​",
      "style": "IPY_MODEL_001ac89f7007472c975d6d232a8eae5f",
      "value": "100%"
     }
    },
    "10d25a3e5b93465e928fb9d396d920e3": {
     "model_module": "@jupyter-widgets/controls",
     "model_name": "FloatProgressModel",
     "model_module_version": "1.5.0",
     "state": {
      "_dom_classes": [],
      "_model_module": "@jupyter-widgets/controls",
      "_model_module_version": "1.5.0",
      "_model_name": "FloatProgressModel",
      "_view_count": null,
      "_view_module": "@jupyter-widgets/controls",
      "_view_module_version": "1.5.0",
      "_view_name": "ProgressView",
      "bar_style": "success",
      "description": "",
      "description_tooltip": null,
      "layout": "IPY_MODEL_49137e67fa7341c999622479609c23f9",
      "max": 58,
      "min": 0,
      "orientation": "horizontal",
      "style": "IPY_MODEL_c0bc17cf22e54d5dbfe73d06929c0271",
      "value": 58
     }
    },
    "7123d68b937c4f51b33e66a704ecb761": {
     "model_module": "@jupyter-widgets/controls",
     "model_name": "HTMLModel",
     "model_module_version": "1.5.0",
     "state": {
      "_dom_classes": [],
      "_model_module": "@jupyter-widgets/controls",
      "_model_module_version": "1.5.0",
      "_model_name": "HTMLModel",
      "_view_count": null,
      "_view_module": "@jupyter-widgets/controls",
      "_view_module_version": "1.5.0",
      "_view_name": "HTMLView",
      "description": "",
      "description_tooltip": null,
      "layout": "IPY_MODEL_2e24b50e4dac4c3f92629d32b8ca37ba",
      "placeholder": "​",
      "style": "IPY_MODEL_5f7ae408e3a648b4adbb17608b805824",
      "value": " 58/58 [03:28&lt;00:00,  3.41s/it]"
     }
    },
    "98ed69d9e9dd48c2920f29fa9251ee45": {
     "model_module": "@jupyter-widgets/base",
     "model_name": "LayoutModel",
     "model_module_version": "1.2.0",
     "state": {
      "_model_module": "@jupyter-widgets/base",
      "_model_module_version": "1.2.0",
      "_model_name": "LayoutModel",
      "_view_count": null,
      "_view_module": "@jupyter-widgets/base",
      "_view_module_version": "1.2.0",
      "_view_name": "LayoutView",
      "align_content": null,
      "align_items": null,
      "align_self": null,
      "border": null,
      "bottom": null,
      "display": null,
      "flex": null,
      "flex_flow": null,
      "grid_area": null,
      "grid_auto_columns": null,
      "grid_auto_flow": null,
      "grid_auto_rows": null,
      "grid_column": null,
      "grid_gap": null,
      "grid_row": null,
      "grid_template_areas": null,
      "grid_template_columns": null,
      "grid_template_rows": null,
      "height": null,
      "justify_content": null,
      "justify_items": null,
      "left": null,
      "margin": null,
      "max_height": null,
      "max_width": null,
      "min_height": null,
      "min_width": null,
      "object_fit": null,
      "object_position": null,
      "order": null,
      "overflow": null,
      "overflow_x": null,
      "overflow_y": null,
      "padding": null,
      "right": null,
      "top": null,
      "visibility": null,
      "width": null
     }
    },
    "94b3a092e86f405f920648373f45fe68": {
     "model_module": "@jupyter-widgets/base",
     "model_name": "LayoutModel",
     "model_module_version": "1.2.0",
     "state": {
      "_model_module": "@jupyter-widgets/base",
      "_model_module_version": "1.2.0",
      "_model_name": "LayoutModel",
      "_view_count": null,
      "_view_module": "@jupyter-widgets/base",
      "_view_module_version": "1.2.0",
      "_view_name": "LayoutView",
      "align_content": null,
      "align_items": null,
      "align_self": null,
      "border": null,
      "bottom": null,
      "display": null,
      "flex": null,
      "flex_flow": null,
      "grid_area": null,
      "grid_auto_columns": null,
      "grid_auto_flow": null,
      "grid_auto_rows": null,
      "grid_column": null,
      "grid_gap": null,
      "grid_row": null,
      "grid_template_areas": null,
      "grid_template_columns": null,
      "grid_template_rows": null,
      "height": null,
      "justify_content": null,
      "justify_items": null,
      "left": null,
      "margin": null,
      "max_height": null,
      "max_width": null,
      "min_height": null,
      "min_width": null,
      "object_fit": null,
      "object_position": null,
      "order": null,
      "overflow": null,
      "overflow_x": null,
      "overflow_y": null,
      "padding": null,
      "right": null,
      "top": null,
      "visibility": null,
      "width": null
     }
    },
    "001ac89f7007472c975d6d232a8eae5f": {
     "model_module": "@jupyter-widgets/controls",
     "model_name": "DescriptionStyleModel",
     "model_module_version": "1.5.0",
     "state": {
      "_model_module": "@jupyter-widgets/controls",
      "_model_module_version": "1.5.0",
      "_model_name": "DescriptionStyleModel",
      "_view_count": null,
      "_view_module": "@jupyter-widgets/base",
      "_view_module_version": "1.2.0",
      "_view_name": "StyleView",
      "description_width": ""
     }
    },
    "49137e67fa7341c999622479609c23f9": {
     "model_module": "@jupyter-widgets/base",
     "model_name": "LayoutModel",
     "model_module_version": "1.2.0",
     "state": {
      "_model_module": "@jupyter-widgets/base",
      "_model_module_version": "1.2.0",
      "_model_name": "LayoutModel",
      "_view_count": null,
      "_view_module": "@jupyter-widgets/base",
      "_view_module_version": "1.2.0",
      "_view_name": "LayoutView",
      "align_content": null,
      "align_items": null,
      "align_self": null,
      "border": null,
      "bottom": null,
      "display": null,
      "flex": null,
      "flex_flow": null,
      "grid_area": null,
      "grid_auto_columns": null,
      "grid_auto_flow": null,
      "grid_auto_rows": null,
      "grid_column": null,
      "grid_gap": null,
      "grid_row": null,
      "grid_template_areas": null,
      "grid_template_columns": null,
      "grid_template_rows": null,
      "height": null,
      "justify_content": null,
      "justify_items": null,
      "left": null,
      "margin": null,
      "max_height": null,
      "max_width": null,
      "min_height": null,
      "min_width": null,
      "object_fit": null,
      "object_position": null,
      "order": null,
      "overflow": null,
      "overflow_x": null,
      "overflow_y": null,
      "padding": null,
      "right": null,
      "top": null,
      "visibility": null,
      "width": null
     }
    },
    "c0bc17cf22e54d5dbfe73d06929c0271": {
     "model_module": "@jupyter-widgets/controls",
     "model_name": "ProgressStyleModel",
     "model_module_version": "1.5.0",
     "state": {
      "_model_module": "@jupyter-widgets/controls",
      "_model_module_version": "1.5.0",
      "_model_name": "ProgressStyleModel",
      "_view_count": null,
      "_view_module": "@jupyter-widgets/base",
      "_view_module_version": "1.2.0",
      "_view_name": "StyleView",
      "bar_color": null,
      "description_width": ""
     }
    },
    "2e24b50e4dac4c3f92629d32b8ca37ba": {
     "model_module": "@jupyter-widgets/base",
     "model_name": "LayoutModel",
     "model_module_version": "1.2.0",
     "state": {
      "_model_module": "@jupyter-widgets/base",
      "_model_module_version": "1.2.0",
      "_model_name": "LayoutModel",
      "_view_count": null,
      "_view_module": "@jupyter-widgets/base",
      "_view_module_version": "1.2.0",
      "_view_name": "LayoutView",
      "align_content": null,
      "align_items": null,
      "align_self": null,
      "border": null,
      "bottom": null,
      "display": null,
      "flex": null,
      "flex_flow": null,
      "grid_area": null,
      "grid_auto_columns": null,
      "grid_auto_flow": null,
      "grid_auto_rows": null,
      "grid_column": null,
      "grid_gap": null,
      "grid_row": null,
      "grid_template_areas": null,
      "grid_template_columns": null,
      "grid_template_rows": null,
      "height": null,
      "justify_content": null,
      "justify_items": null,
      "left": null,
      "margin": null,
      "max_height": null,
      "max_width": null,
      "min_height": null,
      "min_width": null,
      "object_fit": null,
      "object_position": null,
      "order": null,
      "overflow": null,
      "overflow_x": null,
      "overflow_y": null,
      "padding": null,
      "right": null,
      "top": null,
      "visibility": null,
      "width": null
     }
    },
    "5f7ae408e3a648b4adbb17608b805824": {
     "model_module": "@jupyter-widgets/controls",
     "model_name": "DescriptionStyleModel",
     "model_module_version": "1.5.0",
     "state": {
      "_model_module": "@jupyter-widgets/controls",
      "_model_module_version": "1.5.0",
      "_model_name": "DescriptionStyleModel",
      "_view_count": null,
      "_view_module": "@jupyter-widgets/base",
      "_view_module_version": "1.2.0",
      "_view_name": "StyleView",
      "description_width": ""
     }
    },
    "c9f34ce813cf402a88e013de6dee3b9f": {
     "model_module": "@jupyter-widgets/controls",
     "model_name": "HBoxModel",
     "model_module_version": "1.5.0",
     "state": {
      "_dom_classes": [],
      "_model_module": "@jupyter-widgets/controls",
      "_model_module_version": "1.5.0",
      "_model_name": "HBoxModel",
      "_view_count": null,
      "_view_module": "@jupyter-widgets/controls",
      "_view_module_version": "1.5.0",
      "_view_name": "HBoxView",
      "box_style": "",
      "children": [
       "IPY_MODEL_22bbad19c62449738f7e0b85ac33d56c",
       "IPY_MODEL_3178bd869fb1447f9eaf0887ca2590c4",
       "IPY_MODEL_9c2dfc94a9534ee29e2a50903c6dba95"
      ],
      "layout": "IPY_MODEL_628e58117b4d4464afed8e19b5f6d62f"
     }
    },
    "22bbad19c62449738f7e0b85ac33d56c": {
     "model_module": "@jupyter-widgets/controls",
     "model_name": "HTMLModel",
     "model_module_version": "1.5.0",
     "state": {
      "_dom_classes": [],
      "_model_module": "@jupyter-widgets/controls",
      "_model_module_version": "1.5.0",
      "_model_name": "HTMLModel",
      "_view_count": null,
      "_view_module": "@jupyter-widgets/controls",
      "_view_module_version": "1.5.0",
      "_view_name": "HTMLView",
      "description": "",
      "description_tooltip": null,
      "layout": "IPY_MODEL_368086d4e5824499a3c5b13649b4f4d9",
      "placeholder": "​",
      "style": "IPY_MODEL_0edfe941463d463aabb5f5823f39098a",
      "value": "100%"
     }
    },
    "3178bd869fb1447f9eaf0887ca2590c4": {
     "model_module": "@jupyter-widgets/controls",
     "model_name": "FloatProgressModel",
     "model_module_version": "1.5.0",
     "state": {
      "_dom_classes": [],
      "_model_module": "@jupyter-widgets/controls",
      "_model_module_version": "1.5.0",
      "_model_name": "FloatProgressModel",
      "_view_count": null,
      "_view_module": "@jupyter-widgets/controls",
      "_view_module_version": "1.5.0",
      "_view_name": "ProgressView",
      "bar_style": "success",
      "description": "",
      "description_tooltip": null,
      "layout": "IPY_MODEL_51eb6e1676984b76ac2d20f82e63c82d",
      "max": 58,
      "min": 0,
      "orientation": "horizontal",
      "style": "IPY_MODEL_9721e3918fc949689db4ec8432de0c6a",
      "value": 58
     }
    },
    "9c2dfc94a9534ee29e2a50903c6dba95": {
     "model_module": "@jupyter-widgets/controls",
     "model_name": "HTMLModel",
     "model_module_version": "1.5.0",
     "state": {
      "_dom_classes": [],
      "_model_module": "@jupyter-widgets/controls",
      "_model_module_version": "1.5.0",
      "_model_name": "HTMLModel",
      "_view_count": null,
      "_view_module": "@jupyter-widgets/controls",
      "_view_module_version": "1.5.0",
      "_view_name": "HTMLView",
      "description": "",
      "description_tooltip": null,
      "layout": "IPY_MODEL_d81cfdd32fdb45b0a7a3da2d80d2e8b0",
      "placeholder": "​",
      "style": "IPY_MODEL_2d39c0448f3f47e19356437d517b4ab7",
      "value": " 58/58 [02:17&lt;00:00,  2.44s/it]"
     }
    },
    "628e58117b4d4464afed8e19b5f6d62f": {
     "model_module": "@jupyter-widgets/base",
     "model_name": "LayoutModel",
     "model_module_version": "1.2.0",
     "state": {
      "_model_module": "@jupyter-widgets/base",
      "_model_module_version": "1.2.0",
      "_model_name": "LayoutModel",
      "_view_count": null,
      "_view_module": "@jupyter-widgets/base",
      "_view_module_version": "1.2.0",
      "_view_name": "LayoutView",
      "align_content": null,
      "align_items": null,
      "align_self": null,
      "border": null,
      "bottom": null,
      "display": null,
      "flex": null,
      "flex_flow": null,
      "grid_area": null,
      "grid_auto_columns": null,
      "grid_auto_flow": null,
      "grid_auto_rows": null,
      "grid_column": null,
      "grid_gap": null,
      "grid_row": null,
      "grid_template_areas": null,
      "grid_template_columns": null,
      "grid_template_rows": null,
      "height": null,
      "justify_content": null,
      "justify_items": null,
      "left": null,
      "margin": null,
      "max_height": null,
      "max_width": null,
      "min_height": null,
      "min_width": null,
      "object_fit": null,
      "object_position": null,
      "order": null,
      "overflow": null,
      "overflow_x": null,
      "overflow_y": null,
      "padding": null,
      "right": null,
      "top": null,
      "visibility": null,
      "width": null
     }
    },
    "368086d4e5824499a3c5b13649b4f4d9": {
     "model_module": "@jupyter-widgets/base",
     "model_name": "LayoutModel",
     "model_module_version": "1.2.0",
     "state": {
      "_model_module": "@jupyter-widgets/base",
      "_model_module_version": "1.2.0",
      "_model_name": "LayoutModel",
      "_view_count": null,
      "_view_module": "@jupyter-widgets/base",
      "_view_module_version": "1.2.0",
      "_view_name": "LayoutView",
      "align_content": null,
      "align_items": null,
      "align_self": null,
      "border": null,
      "bottom": null,
      "display": null,
      "flex": null,
      "flex_flow": null,
      "grid_area": null,
      "grid_auto_columns": null,
      "grid_auto_flow": null,
      "grid_auto_rows": null,
      "grid_column": null,
      "grid_gap": null,
      "grid_row": null,
      "grid_template_areas": null,
      "grid_template_columns": null,
      "grid_template_rows": null,
      "height": null,
      "justify_content": null,
      "justify_items": null,
      "left": null,
      "margin": null,
      "max_height": null,
      "max_width": null,
      "min_height": null,
      "min_width": null,
      "object_fit": null,
      "object_position": null,
      "order": null,
      "overflow": null,
      "overflow_x": null,
      "overflow_y": null,
      "padding": null,
      "right": null,
      "top": null,
      "visibility": null,
      "width": null
     }
    },
    "0edfe941463d463aabb5f5823f39098a": {
     "model_module": "@jupyter-widgets/controls",
     "model_name": "DescriptionStyleModel",
     "model_module_version": "1.5.0",
     "state": {
      "_model_module": "@jupyter-widgets/controls",
      "_model_module_version": "1.5.0",
      "_model_name": "DescriptionStyleModel",
      "_view_count": null,
      "_view_module": "@jupyter-widgets/base",
      "_view_module_version": "1.2.0",
      "_view_name": "StyleView",
      "description_width": ""
     }
    },
    "51eb6e1676984b76ac2d20f82e63c82d": {
     "model_module": "@jupyter-widgets/base",
     "model_name": "LayoutModel",
     "model_module_version": "1.2.0",
     "state": {
      "_model_module": "@jupyter-widgets/base",
      "_model_module_version": "1.2.0",
      "_model_name": "LayoutModel",
      "_view_count": null,
      "_view_module": "@jupyter-widgets/base",
      "_view_module_version": "1.2.0",
      "_view_name": "LayoutView",
      "align_content": null,
      "align_items": null,
      "align_self": null,
      "border": null,
      "bottom": null,
      "display": null,
      "flex": null,
      "flex_flow": null,
      "grid_area": null,
      "grid_auto_columns": null,
      "grid_auto_flow": null,
      "grid_auto_rows": null,
      "grid_column": null,
      "grid_gap": null,
      "grid_row": null,
      "grid_template_areas": null,
      "grid_template_columns": null,
      "grid_template_rows": null,
      "height": null,
      "justify_content": null,
      "justify_items": null,
      "left": null,
      "margin": null,
      "max_height": null,
      "max_width": null,
      "min_height": null,
      "min_width": null,
      "object_fit": null,
      "object_position": null,
      "order": null,
      "overflow": null,
      "overflow_x": null,
      "overflow_y": null,
      "padding": null,
      "right": null,
      "top": null,
      "visibility": null,
      "width": null
     }
    },
    "9721e3918fc949689db4ec8432de0c6a": {
     "model_module": "@jupyter-widgets/controls",
     "model_name": "ProgressStyleModel",
     "model_module_version": "1.5.0",
     "state": {
      "_model_module": "@jupyter-widgets/controls",
      "_model_module_version": "1.5.0",
      "_model_name": "ProgressStyleModel",
      "_view_count": null,
      "_view_module": "@jupyter-widgets/base",
      "_view_module_version": "1.2.0",
      "_view_name": "StyleView",
      "bar_color": null,
      "description_width": ""
     }
    },
    "d81cfdd32fdb45b0a7a3da2d80d2e8b0": {
     "model_module": "@jupyter-widgets/base",
     "model_name": "LayoutModel",
     "model_module_version": "1.2.0",
     "state": {
      "_model_module": "@jupyter-widgets/base",
      "_model_module_version": "1.2.0",
      "_model_name": "LayoutModel",
      "_view_count": null,
      "_view_module": "@jupyter-widgets/base",
      "_view_module_version": "1.2.0",
      "_view_name": "LayoutView",
      "align_content": null,
      "align_items": null,
      "align_self": null,
      "border": null,
      "bottom": null,
      "display": null,
      "flex": null,
      "flex_flow": null,
      "grid_area": null,
      "grid_auto_columns": null,
      "grid_auto_flow": null,
      "grid_auto_rows": null,
      "grid_column": null,
      "grid_gap": null,
      "grid_row": null,
      "grid_template_areas": null,
      "grid_template_columns": null,
      "grid_template_rows": null,
      "height": null,
      "justify_content": null,
      "justify_items": null,
      "left": null,
      "margin": null,
      "max_height": null,
      "max_width": null,
      "min_height": null,
      "min_width": null,
      "object_fit": null,
      "object_position": null,
      "order": null,
      "overflow": null,
      "overflow_x": null,
      "overflow_y": null,
      "padding": null,
      "right": null,
      "top": null,
      "visibility": null,
      "width": null
     }
    },
    "2d39c0448f3f47e19356437d517b4ab7": {
     "model_module": "@jupyter-widgets/controls",
     "model_name": "DescriptionStyleModel",
     "model_module_version": "1.5.0",
     "state": {
      "_model_module": "@jupyter-widgets/controls",
      "_model_module_version": "1.5.0",
      "_model_name": "DescriptionStyleModel",
      "_view_count": null,
      "_view_module": "@jupyter-widgets/base",
      "_view_module_version": "1.2.0",
      "_view_name": "StyleView",
      "description_width": ""
     }
    },
    "2c6b8c7cb47c4965a215c52e6f518de2": {
     "model_module": "@jupyter-widgets/controls",
     "model_name": "HBoxModel",
     "model_module_version": "1.5.0",
     "state": {
      "_dom_classes": [],
      "_model_module": "@jupyter-widgets/controls",
      "_model_module_version": "1.5.0",
      "_model_name": "HBoxModel",
      "_view_count": null,
      "_view_module": "@jupyter-widgets/controls",
      "_view_module_version": "1.5.0",
      "_view_name": "HBoxView",
      "box_style": "",
      "children": [
       "IPY_MODEL_71d8848eea3c4837aa9469d95b14152f",
       "IPY_MODEL_6edbc7e8c5db4ddd9637854f3aef0cf7",
       "IPY_MODEL_51ed99c780104884ae8ad754d1392d93"
      ],
      "layout": "IPY_MODEL_3d7d2f1bb548429883875e58aa8239f1"
     }
    },
    "71d8848eea3c4837aa9469d95b14152f": {
     "model_module": "@jupyter-widgets/controls",
     "model_name": "HTMLModel",
     "model_module_version": "1.5.0",
     "state": {
      "_dom_classes": [],
      "_model_module": "@jupyter-widgets/controls",
      "_model_module_version": "1.5.0",
      "_model_name": "HTMLModel",
      "_view_count": null,
      "_view_module": "@jupyter-widgets/controls",
      "_view_module_version": "1.5.0",
      "_view_name": "HTMLView",
      "description": "",
      "description_tooltip": null,
      "layout": "IPY_MODEL_9089ea3edb954fc5b3e456a66f058cb9",
      "placeholder": "​",
      "style": "IPY_MODEL_1fda6814a5f14f5a81c6fbb1773d3ea0",
      "value": "100%"
     }
    },
    "6edbc7e8c5db4ddd9637854f3aef0cf7": {
     "model_module": "@jupyter-widgets/controls",
     "model_name": "FloatProgressModel",
     "model_module_version": "1.5.0",
     "state": {
      "_dom_classes": [],
      "_model_module": "@jupyter-widgets/controls",
      "_model_module_version": "1.5.0",
      "_model_name": "FloatProgressModel",
      "_view_count": null,
      "_view_module": "@jupyter-widgets/controls",
      "_view_module_version": "1.5.0",
      "_view_name": "ProgressView",
      "bar_style": "success",
      "description": "",
      "description_tooltip": null,
      "layout": "IPY_MODEL_78a1a61289e24cfa98550618a8cd3141",
      "max": 49,
      "min": 0,
      "orientation": "horizontal",
      "style": "IPY_MODEL_67a7ba06d9554f8bb7d8764afc1a7ace",
      "value": 49
     }
    },
    "51ed99c780104884ae8ad754d1392d93": {
     "model_module": "@jupyter-widgets/controls",
     "model_name": "HTMLModel",
     "model_module_version": "1.5.0",
     "state": {
      "_dom_classes": [],
      "_model_module": "@jupyter-widgets/controls",
      "_model_module_version": "1.5.0",
      "_model_name": "HTMLModel",
      "_view_count": null,
      "_view_module": "@jupyter-widgets/controls",
      "_view_module_version": "1.5.0",
      "_view_name": "HTMLView",
      "description": "",
      "description_tooltip": null,
      "layout": "IPY_MODEL_2985c9fcafef4aeab48ef36079c8649a",
      "placeholder": "​",
      "style": "IPY_MODEL_1e06bbe08d2a4f20900429401aef2a93",
      "value": " 49/49 [03:50&lt;00:00,  4.61s/it]"
     }
    },
    "3d7d2f1bb548429883875e58aa8239f1": {
     "model_module": "@jupyter-widgets/base",
     "model_name": "LayoutModel",
     "model_module_version": "1.2.0",
     "state": {
      "_model_module": "@jupyter-widgets/base",
      "_model_module_version": "1.2.0",
      "_model_name": "LayoutModel",
      "_view_count": null,
      "_view_module": "@jupyter-widgets/base",
      "_view_module_version": "1.2.0",
      "_view_name": "LayoutView",
      "align_content": null,
      "align_items": null,
      "align_self": null,
      "border": null,
      "bottom": null,
      "display": null,
      "flex": null,
      "flex_flow": null,
      "grid_area": null,
      "grid_auto_columns": null,
      "grid_auto_flow": null,
      "grid_auto_rows": null,
      "grid_column": null,
      "grid_gap": null,
      "grid_row": null,
      "grid_template_areas": null,
      "grid_template_columns": null,
      "grid_template_rows": null,
      "height": null,
      "justify_content": null,
      "justify_items": null,
      "left": null,
      "margin": null,
      "max_height": null,
      "max_width": null,
      "min_height": null,
      "min_width": null,
      "object_fit": null,
      "object_position": null,
      "order": null,
      "overflow": null,
      "overflow_x": null,
      "overflow_y": null,
      "padding": null,
      "right": null,
      "top": null,
      "visibility": null,
      "width": null
     }
    },
    "9089ea3edb954fc5b3e456a66f058cb9": {
     "model_module": "@jupyter-widgets/base",
     "model_name": "LayoutModel",
     "model_module_version": "1.2.0",
     "state": {
      "_model_module": "@jupyter-widgets/base",
      "_model_module_version": "1.2.0",
      "_model_name": "LayoutModel",
      "_view_count": null,
      "_view_module": "@jupyter-widgets/base",
      "_view_module_version": "1.2.0",
      "_view_name": "LayoutView",
      "align_content": null,
      "align_items": null,
      "align_self": null,
      "border": null,
      "bottom": null,
      "display": null,
      "flex": null,
      "flex_flow": null,
      "grid_area": null,
      "grid_auto_columns": null,
      "grid_auto_flow": null,
      "grid_auto_rows": null,
      "grid_column": null,
      "grid_gap": null,
      "grid_row": null,
      "grid_template_areas": null,
      "grid_template_columns": null,
      "grid_template_rows": null,
      "height": null,
      "justify_content": null,
      "justify_items": null,
      "left": null,
      "margin": null,
      "max_height": null,
      "max_width": null,
      "min_height": null,
      "min_width": null,
      "object_fit": null,
      "object_position": null,
      "order": null,
      "overflow": null,
      "overflow_x": null,
      "overflow_y": null,
      "padding": null,
      "right": null,
      "top": null,
      "visibility": null,
      "width": null
     }
    },
    "1fda6814a5f14f5a81c6fbb1773d3ea0": {
     "model_module": "@jupyter-widgets/controls",
     "model_name": "DescriptionStyleModel",
     "model_module_version": "1.5.0",
     "state": {
      "_model_module": "@jupyter-widgets/controls",
      "_model_module_version": "1.5.0",
      "_model_name": "DescriptionStyleModel",
      "_view_count": null,
      "_view_module": "@jupyter-widgets/base",
      "_view_module_version": "1.2.0",
      "_view_name": "StyleView",
      "description_width": ""
     }
    },
    "78a1a61289e24cfa98550618a8cd3141": {
     "model_module": "@jupyter-widgets/base",
     "model_name": "LayoutModel",
     "model_module_version": "1.2.0",
     "state": {
      "_model_module": "@jupyter-widgets/base",
      "_model_module_version": "1.2.0",
      "_model_name": "LayoutModel",
      "_view_count": null,
      "_view_module": "@jupyter-widgets/base",
      "_view_module_version": "1.2.0",
      "_view_name": "LayoutView",
      "align_content": null,
      "align_items": null,
      "align_self": null,
      "border": null,
      "bottom": null,
      "display": null,
      "flex": null,
      "flex_flow": null,
      "grid_area": null,
      "grid_auto_columns": null,
      "grid_auto_flow": null,
      "grid_auto_rows": null,
      "grid_column": null,
      "grid_gap": null,
      "grid_row": null,
      "grid_template_areas": null,
      "grid_template_columns": null,
      "grid_template_rows": null,
      "height": null,
      "justify_content": null,
      "justify_items": null,
      "left": null,
      "margin": null,
      "max_height": null,
      "max_width": null,
      "min_height": null,
      "min_width": null,
      "object_fit": null,
      "object_position": null,
      "order": null,
      "overflow": null,
      "overflow_x": null,
      "overflow_y": null,
      "padding": null,
      "right": null,
      "top": null,
      "visibility": null,
      "width": null
     }
    },
    "67a7ba06d9554f8bb7d8764afc1a7ace": {
     "model_module": "@jupyter-widgets/controls",
     "model_name": "ProgressStyleModel",
     "model_module_version": "1.5.0",
     "state": {
      "_model_module": "@jupyter-widgets/controls",
      "_model_module_version": "1.5.0",
      "_model_name": "ProgressStyleModel",
      "_view_count": null,
      "_view_module": "@jupyter-widgets/base",
      "_view_module_version": "1.2.0",
      "_view_name": "StyleView",
      "bar_color": null,
      "description_width": ""
     }
    },
    "2985c9fcafef4aeab48ef36079c8649a": {
     "model_module": "@jupyter-widgets/base",
     "model_name": "LayoutModel",
     "model_module_version": "1.2.0",
     "state": {
      "_model_module": "@jupyter-widgets/base",
      "_model_module_version": "1.2.0",
      "_model_name": "LayoutModel",
      "_view_count": null,
      "_view_module": "@jupyter-widgets/base",
      "_view_module_version": "1.2.0",
      "_view_name": "LayoutView",
      "align_content": null,
      "align_items": null,
      "align_self": null,
      "border": null,
      "bottom": null,
      "display": null,
      "flex": null,
      "flex_flow": null,
      "grid_area": null,
      "grid_auto_columns": null,
      "grid_auto_flow": null,
      "grid_auto_rows": null,
      "grid_column": null,
      "grid_gap": null,
      "grid_row": null,
      "grid_template_areas": null,
      "grid_template_columns": null,
      "grid_template_rows": null,
      "height": null,
      "justify_content": null,
      "justify_items": null,
      "left": null,
      "margin": null,
      "max_height": null,
      "max_width": null,
      "min_height": null,
      "min_width": null,
      "object_fit": null,
      "object_position": null,
      "order": null,
      "overflow": null,
      "overflow_x": null,
      "overflow_y": null,
      "padding": null,
      "right": null,
      "top": null,
      "visibility": null,
      "width": null
     }
    },
    "1e06bbe08d2a4f20900429401aef2a93": {
     "model_module": "@jupyter-widgets/controls",
     "model_name": "DescriptionStyleModel",
     "model_module_version": "1.5.0",
     "state": {
      "_model_module": "@jupyter-widgets/controls",
      "_model_module_version": "1.5.0",
      "_model_name": "DescriptionStyleModel",
      "_view_count": null,
      "_view_module": "@jupyter-widgets/base",
      "_view_module_version": "1.2.0",
      "_view_name": "StyleView",
      "description_width": ""
     }
    },
    "63b180db45444175a261e84679b98c5b": {
     "model_module": "@jupyter-widgets/controls",
     "model_name": "HBoxModel",
     "model_module_version": "1.5.0",
     "state": {
      "_dom_classes": [],
      "_model_module": "@jupyter-widgets/controls",
      "_model_module_version": "1.5.0",
      "_model_name": "HBoxModel",
      "_view_count": null,
      "_view_module": "@jupyter-widgets/controls",
      "_view_module_version": "1.5.0",
      "_view_name": "HBoxView",
      "box_style": "",
      "children": [
       "IPY_MODEL_1fc99eae01e14abc836096562af2b2c6",
       "IPY_MODEL_6658226a31864ff3bf11f3ff5e7ccd1f",
       "IPY_MODEL_d5c004dfc73c44d59a89dca72f45bd1f"
      ],
      "layout": "IPY_MODEL_258dc14d49884e67a37c3dee17f04a25"
     }
    },
    "1fc99eae01e14abc836096562af2b2c6": {
     "model_module": "@jupyter-widgets/controls",
     "model_name": "HTMLModel",
     "model_module_version": "1.5.0",
     "state": {
      "_dom_classes": [],
      "_model_module": "@jupyter-widgets/controls",
      "_model_module_version": "1.5.0",
      "_model_name": "HTMLModel",
      "_view_count": null,
      "_view_module": "@jupyter-widgets/controls",
      "_view_module_version": "1.5.0",
      "_view_name": "HTMLView",
      "description": "",
      "description_tooltip": null,
      "layout": "IPY_MODEL_2b94f183c4f44722875459be88f53b48",
      "placeholder": "​",
      "style": "IPY_MODEL_bdce50ee7d0e446c8bde45cf26247b24",
      "value": "100%"
     }
    },
    "6658226a31864ff3bf11f3ff5e7ccd1f": {
     "model_module": "@jupyter-widgets/controls",
     "model_name": "FloatProgressModel",
     "model_module_version": "1.5.0",
     "state": {
      "_dom_classes": [],
      "_model_module": "@jupyter-widgets/controls",
      "_model_module_version": "1.5.0",
      "_model_name": "FloatProgressModel",
      "_view_count": null,
      "_view_module": "@jupyter-widgets/controls",
      "_view_module_version": "1.5.0",
      "_view_name": "ProgressView",
      "bar_style": "success",
      "description": "",
      "description_tooltip": null,
      "layout": "IPY_MODEL_db411178d8274f76bd0de67fb6143b28",
      "max": 49,
      "min": 0,
      "orientation": "horizontal",
      "style": "IPY_MODEL_16f82d768d63414ca0aa56bc52560d9b",
      "value": 49
     }
    },
    "d5c004dfc73c44d59a89dca72f45bd1f": {
     "model_module": "@jupyter-widgets/controls",
     "model_name": "HTMLModel",
     "model_module_version": "1.5.0",
     "state": {
      "_dom_classes": [],
      "_model_module": "@jupyter-widgets/controls",
      "_model_module_version": "1.5.0",
      "_model_name": "HTMLModel",
      "_view_count": null,
      "_view_module": "@jupyter-widgets/controls",
      "_view_module_version": "1.5.0",
      "_view_name": "HTMLView",
      "description": "",
      "description_tooltip": null,
      "layout": "IPY_MODEL_e9207849000b4836a869b17f78295074",
      "placeholder": "​",
      "style": "IPY_MODEL_023ed02c7b4941d6ad5b94429aafdd45",
      "value": " 49/49 [01:54&lt;00:00,  2.44s/it]"
     }
    },
    "258dc14d49884e67a37c3dee17f04a25": {
     "model_module": "@jupyter-widgets/base",
     "model_name": "LayoutModel",
     "model_module_version": "1.2.0",
     "state": {
      "_model_module": "@jupyter-widgets/base",
      "_model_module_version": "1.2.0",
      "_model_name": "LayoutModel",
      "_view_count": null,
      "_view_module": "@jupyter-widgets/base",
      "_view_module_version": "1.2.0",
      "_view_name": "LayoutView",
      "align_content": null,
      "align_items": null,
      "align_self": null,
      "border": null,
      "bottom": null,
      "display": null,
      "flex": null,
      "flex_flow": null,
      "grid_area": null,
      "grid_auto_columns": null,
      "grid_auto_flow": null,
      "grid_auto_rows": null,
      "grid_column": null,
      "grid_gap": null,
      "grid_row": null,
      "grid_template_areas": null,
      "grid_template_columns": null,
      "grid_template_rows": null,
      "height": null,
      "justify_content": null,
      "justify_items": null,
      "left": null,
      "margin": null,
      "max_height": null,
      "max_width": null,
      "min_height": null,
      "min_width": null,
      "object_fit": null,
      "object_position": null,
      "order": null,
      "overflow": null,
      "overflow_x": null,
      "overflow_y": null,
      "padding": null,
      "right": null,
      "top": null,
      "visibility": null,
      "width": null
     }
    },
    "2b94f183c4f44722875459be88f53b48": {
     "model_module": "@jupyter-widgets/base",
     "model_name": "LayoutModel",
     "model_module_version": "1.2.0",
     "state": {
      "_model_module": "@jupyter-widgets/base",
      "_model_module_version": "1.2.0",
      "_model_name": "LayoutModel",
      "_view_count": null,
      "_view_module": "@jupyter-widgets/base",
      "_view_module_version": "1.2.0",
      "_view_name": "LayoutView",
      "align_content": null,
      "align_items": null,
      "align_self": null,
      "border": null,
      "bottom": null,
      "display": null,
      "flex": null,
      "flex_flow": null,
      "grid_area": null,
      "grid_auto_columns": null,
      "grid_auto_flow": null,
      "grid_auto_rows": null,
      "grid_column": null,
      "grid_gap": null,
      "grid_row": null,
      "grid_template_areas": null,
      "grid_template_columns": null,
      "grid_template_rows": null,
      "height": null,
      "justify_content": null,
      "justify_items": null,
      "left": null,
      "margin": null,
      "max_height": null,
      "max_width": null,
      "min_height": null,
      "min_width": null,
      "object_fit": null,
      "object_position": null,
      "order": null,
      "overflow": null,
      "overflow_x": null,
      "overflow_y": null,
      "padding": null,
      "right": null,
      "top": null,
      "visibility": null,
      "width": null
     }
    },
    "bdce50ee7d0e446c8bde45cf26247b24": {
     "model_module": "@jupyter-widgets/controls",
     "model_name": "DescriptionStyleModel",
     "model_module_version": "1.5.0",
     "state": {
      "_model_module": "@jupyter-widgets/controls",
      "_model_module_version": "1.5.0",
      "_model_name": "DescriptionStyleModel",
      "_view_count": null,
      "_view_module": "@jupyter-widgets/base",
      "_view_module_version": "1.2.0",
      "_view_name": "StyleView",
      "description_width": ""
     }
    },
    "db411178d8274f76bd0de67fb6143b28": {
     "model_module": "@jupyter-widgets/base",
     "model_name": "LayoutModel",
     "model_module_version": "1.2.0",
     "state": {
      "_model_module": "@jupyter-widgets/base",
      "_model_module_version": "1.2.0",
      "_model_name": "LayoutModel",
      "_view_count": null,
      "_view_module": "@jupyter-widgets/base",
      "_view_module_version": "1.2.0",
      "_view_name": "LayoutView",
      "align_content": null,
      "align_items": null,
      "align_self": null,
      "border": null,
      "bottom": null,
      "display": null,
      "flex": null,
      "flex_flow": null,
      "grid_area": null,
      "grid_auto_columns": null,
      "grid_auto_flow": null,
      "grid_auto_rows": null,
      "grid_column": null,
      "grid_gap": null,
      "grid_row": null,
      "grid_template_areas": null,
      "grid_template_columns": null,
      "grid_template_rows": null,
      "height": null,
      "justify_content": null,
      "justify_items": null,
      "left": null,
      "margin": null,
      "max_height": null,
      "max_width": null,
      "min_height": null,
      "min_width": null,
      "object_fit": null,
      "object_position": null,
      "order": null,
      "overflow": null,
      "overflow_x": null,
      "overflow_y": null,
      "padding": null,
      "right": null,
      "top": null,
      "visibility": null,
      "width": null
     }
    },
    "16f82d768d63414ca0aa56bc52560d9b": {
     "model_module": "@jupyter-widgets/controls",
     "model_name": "ProgressStyleModel",
     "model_module_version": "1.5.0",
     "state": {
      "_model_module": "@jupyter-widgets/controls",
      "_model_module_version": "1.5.0",
      "_model_name": "ProgressStyleModel",
      "_view_count": null,
      "_view_module": "@jupyter-widgets/base",
      "_view_module_version": "1.2.0",
      "_view_name": "StyleView",
      "bar_color": null,
      "description_width": ""
     }
    },
    "e9207849000b4836a869b17f78295074": {
     "model_module": "@jupyter-widgets/base",
     "model_name": "LayoutModel",
     "model_module_version": "1.2.0",
     "state": {
      "_model_module": "@jupyter-widgets/base",
      "_model_module_version": "1.2.0",
      "_model_name": "LayoutModel",
      "_view_count": null,
      "_view_module": "@jupyter-widgets/base",
      "_view_module_version": "1.2.0",
      "_view_name": "LayoutView",
      "align_content": null,
      "align_items": null,
      "align_self": null,
      "border": null,
      "bottom": null,
      "display": null,
      "flex": null,
      "flex_flow": null,
      "grid_area": null,
      "grid_auto_columns": null,
      "grid_auto_flow": null,
      "grid_auto_rows": null,
      "grid_column": null,
      "grid_gap": null,
      "grid_row": null,
      "grid_template_areas": null,
      "grid_template_columns": null,
      "grid_template_rows": null,
      "height": null,
      "justify_content": null,
      "justify_items": null,
      "left": null,
      "margin": null,
      "max_height": null,
      "max_width": null,
      "min_height": null,
      "min_width": null,
      "object_fit": null,
      "object_position": null,
      "order": null,
      "overflow": null,
      "overflow_x": null,
      "overflow_y": null,
      "padding": null,
      "right": null,
      "top": null,
      "visibility": null,
      "width": null
     }
    },
    "023ed02c7b4941d6ad5b94429aafdd45": {
     "model_module": "@jupyter-widgets/controls",
     "model_name": "DescriptionStyleModel",
     "model_module_version": "1.5.0",
     "state": {
      "_model_module": "@jupyter-widgets/controls",
      "_model_module_version": "1.5.0",
      "_model_name": "DescriptionStyleModel",
      "_view_count": null,
      "_view_module": "@jupyter-widgets/base",
      "_view_module_version": "1.2.0",
      "_view_name": "StyleView",
      "description_width": ""
     }
    },
    "5b7e69b78ddd4e1caef0cfecfb463a32": {
     "model_module": "@jupyter-widgets/controls",
     "model_name": "HBoxModel",
     "model_module_version": "1.5.0",
     "state": {
      "_dom_classes": [],
      "_model_module": "@jupyter-widgets/controls",
      "_model_module_version": "1.5.0",
      "_model_name": "HBoxModel",
      "_view_count": null,
      "_view_module": "@jupyter-widgets/controls",
      "_view_module_version": "1.5.0",
      "_view_name": "HBoxView",
      "box_style": "",
      "children": [
       "IPY_MODEL_ca06ea6e417a4cad936cc66ec1a62156",
       "IPY_MODEL_ad992480b49a420aa5cd4a45c9b309de",
       "IPY_MODEL_22ab7993259e435e89068803f33eb894"
      ],
      "layout": "IPY_MODEL_83b40944ca664190b3a7e3c97612c723"
     }
    },
    "ca06ea6e417a4cad936cc66ec1a62156": {
     "model_module": "@jupyter-widgets/controls",
     "model_name": "HTMLModel",
     "model_module_version": "1.5.0",
     "state": {
      "_dom_classes": [],
      "_model_module": "@jupyter-widgets/controls",
      "_model_module_version": "1.5.0",
      "_model_name": "HTMLModel",
      "_view_count": null,
      "_view_module": "@jupyter-widgets/controls",
      "_view_module_version": "1.5.0",
      "_view_name": "HTMLView",
      "description": "",
      "description_tooltip": null,
      "layout": "IPY_MODEL_6d2d9d9ab83a45b7ae8e9b32aff60e33",
      "placeholder": "​",
      "style": "IPY_MODEL_aaa25bd57d0f4fb48b0e64989eda0379",
      "value": "100%"
     }
    },
    "ad992480b49a420aa5cd4a45c9b309de": {
     "model_module": "@jupyter-widgets/controls",
     "model_name": "FloatProgressModel",
     "model_module_version": "1.5.0",
     "state": {
      "_dom_classes": [],
      "_model_module": "@jupyter-widgets/controls",
      "_model_module_version": "1.5.0",
      "_model_name": "FloatProgressModel",
      "_view_count": null,
      "_view_module": "@jupyter-widgets/controls",
      "_view_module_version": "1.5.0",
      "_view_name": "ProgressView",
      "bar_style": "success",
      "description": "",
      "description_tooltip": null,
      "layout": "IPY_MODEL_55244d288bb94c939af8e24a54c98dd4",
      "max": 26,
      "min": 0,
      "orientation": "horizontal",
      "style": "IPY_MODEL_60b4b8de52634524949f58774b6eb51c",
      "value": 26
     }
    },
    "22ab7993259e435e89068803f33eb894": {
     "model_module": "@jupyter-widgets/controls",
     "model_name": "HTMLModel",
     "model_module_version": "1.5.0",
     "state": {
      "_dom_classes": [],
      "_model_module": "@jupyter-widgets/controls",
      "_model_module_version": "1.5.0",
      "_model_name": "HTMLModel",
      "_view_count": null,
      "_view_module": "@jupyter-widgets/controls",
      "_view_module_version": "1.5.0",
      "_view_name": "HTMLView",
      "description": "",
      "description_tooltip": null,
      "layout": "IPY_MODEL_35cb114ae9c349728dbe3a0ee1293aa2",
      "placeholder": "​",
      "style": "IPY_MODEL_9c71ebdaefad4874b285a73d82236945",
      "value": " 26/26 [05:31&lt;00:00, 12.41s/it]"
     }
    },
    "83b40944ca664190b3a7e3c97612c723": {
     "model_module": "@jupyter-widgets/base",
     "model_name": "LayoutModel",
     "model_module_version": "1.2.0",
     "state": {
      "_model_module": "@jupyter-widgets/base",
      "_model_module_version": "1.2.0",
      "_model_name": "LayoutModel",
      "_view_count": null,
      "_view_module": "@jupyter-widgets/base",
      "_view_module_version": "1.2.0",
      "_view_name": "LayoutView",
      "align_content": null,
      "align_items": null,
      "align_self": null,
      "border": null,
      "bottom": null,
      "display": null,
      "flex": null,
      "flex_flow": null,
      "grid_area": null,
      "grid_auto_columns": null,
      "grid_auto_flow": null,
      "grid_auto_rows": null,
      "grid_column": null,
      "grid_gap": null,
      "grid_row": null,
      "grid_template_areas": null,
      "grid_template_columns": null,
      "grid_template_rows": null,
      "height": null,
      "justify_content": null,
      "justify_items": null,
      "left": null,
      "margin": null,
      "max_height": null,
      "max_width": null,
      "min_height": null,
      "min_width": null,
      "object_fit": null,
      "object_position": null,
      "order": null,
      "overflow": null,
      "overflow_x": null,
      "overflow_y": null,
      "padding": null,
      "right": null,
      "top": null,
      "visibility": null,
      "width": null
     }
    },
    "6d2d9d9ab83a45b7ae8e9b32aff60e33": {
     "model_module": "@jupyter-widgets/base",
     "model_name": "LayoutModel",
     "model_module_version": "1.2.0",
     "state": {
      "_model_module": "@jupyter-widgets/base",
      "_model_module_version": "1.2.0",
      "_model_name": "LayoutModel",
      "_view_count": null,
      "_view_module": "@jupyter-widgets/base",
      "_view_module_version": "1.2.0",
      "_view_name": "LayoutView",
      "align_content": null,
      "align_items": null,
      "align_self": null,
      "border": null,
      "bottom": null,
      "display": null,
      "flex": null,
      "flex_flow": null,
      "grid_area": null,
      "grid_auto_columns": null,
      "grid_auto_flow": null,
      "grid_auto_rows": null,
      "grid_column": null,
      "grid_gap": null,
      "grid_row": null,
      "grid_template_areas": null,
      "grid_template_columns": null,
      "grid_template_rows": null,
      "height": null,
      "justify_content": null,
      "justify_items": null,
      "left": null,
      "margin": null,
      "max_height": null,
      "max_width": null,
      "min_height": null,
      "min_width": null,
      "object_fit": null,
      "object_position": null,
      "order": null,
      "overflow": null,
      "overflow_x": null,
      "overflow_y": null,
      "padding": null,
      "right": null,
      "top": null,
      "visibility": null,
      "width": null
     }
    },
    "aaa25bd57d0f4fb48b0e64989eda0379": {
     "model_module": "@jupyter-widgets/controls",
     "model_name": "DescriptionStyleModel",
     "model_module_version": "1.5.0",
     "state": {
      "_model_module": "@jupyter-widgets/controls",
      "_model_module_version": "1.5.0",
      "_model_name": "DescriptionStyleModel",
      "_view_count": null,
      "_view_module": "@jupyter-widgets/base",
      "_view_module_version": "1.2.0",
      "_view_name": "StyleView",
      "description_width": ""
     }
    },
    "55244d288bb94c939af8e24a54c98dd4": {
     "model_module": "@jupyter-widgets/base",
     "model_name": "LayoutModel",
     "model_module_version": "1.2.0",
     "state": {
      "_model_module": "@jupyter-widgets/base",
      "_model_module_version": "1.2.0",
      "_model_name": "LayoutModel",
      "_view_count": null,
      "_view_module": "@jupyter-widgets/base",
      "_view_module_version": "1.2.0",
      "_view_name": "LayoutView",
      "align_content": null,
      "align_items": null,
      "align_self": null,
      "border": null,
      "bottom": null,
      "display": null,
      "flex": null,
      "flex_flow": null,
      "grid_area": null,
      "grid_auto_columns": null,
      "grid_auto_flow": null,
      "grid_auto_rows": null,
      "grid_column": null,
      "grid_gap": null,
      "grid_row": null,
      "grid_template_areas": null,
      "grid_template_columns": null,
      "grid_template_rows": null,
      "height": null,
      "justify_content": null,
      "justify_items": null,
      "left": null,
      "margin": null,
      "max_height": null,
      "max_width": null,
      "min_height": null,
      "min_width": null,
      "object_fit": null,
      "object_position": null,
      "order": null,
      "overflow": null,
      "overflow_x": null,
      "overflow_y": null,
      "padding": null,
      "right": null,
      "top": null,
      "visibility": null,
      "width": null
     }
    },
    "60b4b8de52634524949f58774b6eb51c": {
     "model_module": "@jupyter-widgets/controls",
     "model_name": "ProgressStyleModel",
     "model_module_version": "1.5.0",
     "state": {
      "_model_module": "@jupyter-widgets/controls",
      "_model_module_version": "1.5.0",
      "_model_name": "ProgressStyleModel",
      "_view_count": null,
      "_view_module": "@jupyter-widgets/base",
      "_view_module_version": "1.2.0",
      "_view_name": "StyleView",
      "bar_color": null,
      "description_width": ""
     }
    },
    "35cb114ae9c349728dbe3a0ee1293aa2": {
     "model_module": "@jupyter-widgets/base",
     "model_name": "LayoutModel",
     "model_module_version": "1.2.0",
     "state": {
      "_model_module": "@jupyter-widgets/base",
      "_model_module_version": "1.2.0",
      "_model_name": "LayoutModel",
      "_view_count": null,
      "_view_module": "@jupyter-widgets/base",
      "_view_module_version": "1.2.0",
      "_view_name": "LayoutView",
      "align_content": null,
      "align_items": null,
      "align_self": null,
      "border": null,
      "bottom": null,
      "display": null,
      "flex": null,
      "flex_flow": null,
      "grid_area": null,
      "grid_auto_columns": null,
      "grid_auto_flow": null,
      "grid_auto_rows": null,
      "grid_column": null,
      "grid_gap": null,
      "grid_row": null,
      "grid_template_areas": null,
      "grid_template_columns": null,
      "grid_template_rows": null,
      "height": null,
      "justify_content": null,
      "justify_items": null,
      "left": null,
      "margin": null,
      "max_height": null,
      "max_width": null,
      "min_height": null,
      "min_width": null,
      "object_fit": null,
      "object_position": null,
      "order": null,
      "overflow": null,
      "overflow_x": null,
      "overflow_y": null,
      "padding": null,
      "right": null,
      "top": null,
      "visibility": null,
      "width": null
     }
    },
    "9c71ebdaefad4874b285a73d82236945": {
     "model_module": "@jupyter-widgets/controls",
     "model_name": "DescriptionStyleModel",
     "model_module_version": "1.5.0",
     "state": {
      "_model_module": "@jupyter-widgets/controls",
      "_model_module_version": "1.5.0",
      "_model_name": "DescriptionStyleModel",
      "_view_count": null,
      "_view_module": "@jupyter-widgets/base",
      "_view_module_version": "1.2.0",
      "_view_name": "StyleView",
      "description_width": ""
     }
    },
    "515d3e5b421e4374b10f951aa7a36da6": {
     "model_module": "@jupyter-widgets/controls",
     "model_name": "HBoxModel",
     "model_module_version": "1.5.0",
     "state": {
      "_dom_classes": [],
      "_model_module": "@jupyter-widgets/controls",
      "_model_module_version": "1.5.0",
      "_model_name": "HBoxModel",
      "_view_count": null,
      "_view_module": "@jupyter-widgets/controls",
      "_view_module_version": "1.5.0",
      "_view_name": "HBoxView",
      "box_style": "",
      "children": [
       "IPY_MODEL_06336f5d0be64ae985316064f649c0fe",
       "IPY_MODEL_f3edc5ad97a14aa98a8b47bf83fcddcb",
       "IPY_MODEL_724acbd1865042439cd7f4ea04d98416"
      ],
      "layout": "IPY_MODEL_fedadb9128f94a8188c48ce53a4c8eea"
     }
    },
    "06336f5d0be64ae985316064f649c0fe": {
     "model_module": "@jupyter-widgets/controls",
     "model_name": "HTMLModel",
     "model_module_version": "1.5.0",
     "state": {
      "_dom_classes": [],
      "_model_module": "@jupyter-widgets/controls",
      "_model_module_version": "1.5.0",
      "_model_name": "HTMLModel",
      "_view_count": null,
      "_view_module": "@jupyter-widgets/controls",
      "_view_module_version": "1.5.0",
      "_view_name": "HTMLView",
      "description": "",
      "description_tooltip": null,
      "layout": "IPY_MODEL_5dcd21233bf141e58cc84ad341bfa3e6",
      "placeholder": "​",
      "style": "IPY_MODEL_039b60a3e0b847c188079caaa2be4501",
      "value": "100%"
     }
    },
    "f3edc5ad97a14aa98a8b47bf83fcddcb": {
     "model_module": "@jupyter-widgets/controls",
     "model_name": "FloatProgressModel",
     "model_module_version": "1.5.0",
     "state": {
      "_dom_classes": [],
      "_model_module": "@jupyter-widgets/controls",
      "_model_module_version": "1.5.0",
      "_model_name": "FloatProgressModel",
      "_view_count": null,
      "_view_module": "@jupyter-widgets/controls",
      "_view_module_version": "1.5.0",
      "_view_name": "ProgressView",
      "bar_style": "success",
      "description": "",
      "description_tooltip": null,
      "layout": "IPY_MODEL_5276d88fcdc54529968419d5e338d6be",
      "max": 26,
      "min": 0,
      "orientation": "horizontal",
      "style": "IPY_MODEL_2e24df40bffe48bfb6634790fc91defe",
      "value": 26
     }
    },
    "724acbd1865042439cd7f4ea04d98416": {
     "model_module": "@jupyter-widgets/controls",
     "model_name": "HTMLModel",
     "model_module_version": "1.5.0",
     "state": {
      "_dom_classes": [],
      "_model_module": "@jupyter-widgets/controls",
      "_model_module_version": "1.5.0",
      "_model_name": "HTMLModel",
      "_view_count": null,
      "_view_module": "@jupyter-widgets/controls",
      "_view_module_version": "1.5.0",
      "_view_name": "HTMLView",
      "description": "",
      "description_tooltip": null,
      "layout": "IPY_MODEL_799f0a148926458ebf62bc071c6cc901",
      "placeholder": "​",
      "style": "IPY_MODEL_e519e71ebdc445a1985b7b0c51661589",
      "value": " 26/26 [00:58&lt;00:00,  2.32s/it]"
     }
    },
    "fedadb9128f94a8188c48ce53a4c8eea": {
     "model_module": "@jupyter-widgets/base",
     "model_name": "LayoutModel",
     "model_module_version": "1.2.0",
     "state": {
      "_model_module": "@jupyter-widgets/base",
      "_model_module_version": "1.2.0",
      "_model_name": "LayoutModel",
      "_view_count": null,
      "_view_module": "@jupyter-widgets/base",
      "_view_module_version": "1.2.0",
      "_view_name": "LayoutView",
      "align_content": null,
      "align_items": null,
      "align_self": null,
      "border": null,
      "bottom": null,
      "display": null,
      "flex": null,
      "flex_flow": null,
      "grid_area": null,
      "grid_auto_columns": null,
      "grid_auto_flow": null,
      "grid_auto_rows": null,
      "grid_column": null,
      "grid_gap": null,
      "grid_row": null,
      "grid_template_areas": null,
      "grid_template_columns": null,
      "grid_template_rows": null,
      "height": null,
      "justify_content": null,
      "justify_items": null,
      "left": null,
      "margin": null,
      "max_height": null,
      "max_width": null,
      "min_height": null,
      "min_width": null,
      "object_fit": null,
      "object_position": null,
      "order": null,
      "overflow": null,
      "overflow_x": null,
      "overflow_y": null,
      "padding": null,
      "right": null,
      "top": null,
      "visibility": null,
      "width": null
     }
    },
    "5dcd21233bf141e58cc84ad341bfa3e6": {
     "model_module": "@jupyter-widgets/base",
     "model_name": "LayoutModel",
     "model_module_version": "1.2.0",
     "state": {
      "_model_module": "@jupyter-widgets/base",
      "_model_module_version": "1.2.0",
      "_model_name": "LayoutModel",
      "_view_count": null,
      "_view_module": "@jupyter-widgets/base",
      "_view_module_version": "1.2.0",
      "_view_name": "LayoutView",
      "align_content": null,
      "align_items": null,
      "align_self": null,
      "border": null,
      "bottom": null,
      "display": null,
      "flex": null,
      "flex_flow": null,
      "grid_area": null,
      "grid_auto_columns": null,
      "grid_auto_flow": null,
      "grid_auto_rows": null,
      "grid_column": null,
      "grid_gap": null,
      "grid_row": null,
      "grid_template_areas": null,
      "grid_template_columns": null,
      "grid_template_rows": null,
      "height": null,
      "justify_content": null,
      "justify_items": null,
      "left": null,
      "margin": null,
      "max_height": null,
      "max_width": null,
      "min_height": null,
      "min_width": null,
      "object_fit": null,
      "object_position": null,
      "order": null,
      "overflow": null,
      "overflow_x": null,
      "overflow_y": null,
      "padding": null,
      "right": null,
      "top": null,
      "visibility": null,
      "width": null
     }
    },
    "039b60a3e0b847c188079caaa2be4501": {
     "model_module": "@jupyter-widgets/controls",
     "model_name": "DescriptionStyleModel",
     "model_module_version": "1.5.0",
     "state": {
      "_model_module": "@jupyter-widgets/controls",
      "_model_module_version": "1.5.0",
      "_model_name": "DescriptionStyleModel",
      "_view_count": null,
      "_view_module": "@jupyter-widgets/base",
      "_view_module_version": "1.2.0",
      "_view_name": "StyleView",
      "description_width": ""
     }
    },
    "5276d88fcdc54529968419d5e338d6be": {
     "model_module": "@jupyter-widgets/base",
     "model_name": "LayoutModel",
     "model_module_version": "1.2.0",
     "state": {
      "_model_module": "@jupyter-widgets/base",
      "_model_module_version": "1.2.0",
      "_model_name": "LayoutModel",
      "_view_count": null,
      "_view_module": "@jupyter-widgets/base",
      "_view_module_version": "1.2.0",
      "_view_name": "LayoutView",
      "align_content": null,
      "align_items": null,
      "align_self": null,
      "border": null,
      "bottom": null,
      "display": null,
      "flex": null,
      "flex_flow": null,
      "grid_area": null,
      "grid_auto_columns": null,
      "grid_auto_flow": null,
      "grid_auto_rows": null,
      "grid_column": null,
      "grid_gap": null,
      "grid_row": null,
      "grid_template_areas": null,
      "grid_template_columns": null,
      "grid_template_rows": null,
      "height": null,
      "justify_content": null,
      "justify_items": null,
      "left": null,
      "margin": null,
      "max_height": null,
      "max_width": null,
      "min_height": null,
      "min_width": null,
      "object_fit": null,
      "object_position": null,
      "order": null,
      "overflow": null,
      "overflow_x": null,
      "overflow_y": null,
      "padding": null,
      "right": null,
      "top": null,
      "visibility": null,
      "width": null
     }
    },
    "2e24df40bffe48bfb6634790fc91defe": {
     "model_module": "@jupyter-widgets/controls",
     "model_name": "ProgressStyleModel",
     "model_module_version": "1.5.0",
     "state": {
      "_model_module": "@jupyter-widgets/controls",
      "_model_module_version": "1.5.0",
      "_model_name": "ProgressStyleModel",
      "_view_count": null,
      "_view_module": "@jupyter-widgets/base",
      "_view_module_version": "1.2.0",
      "_view_name": "StyleView",
      "bar_color": null,
      "description_width": ""
     }
    },
    "799f0a148926458ebf62bc071c6cc901": {
     "model_module": "@jupyter-widgets/base",
     "model_name": "LayoutModel",
     "model_module_version": "1.2.0",
     "state": {
      "_model_module": "@jupyter-widgets/base",
      "_model_module_version": "1.2.0",
      "_model_name": "LayoutModel",
      "_view_count": null,
      "_view_module": "@jupyter-widgets/base",
      "_view_module_version": "1.2.0",
      "_view_name": "LayoutView",
      "align_content": null,
      "align_items": null,
      "align_self": null,
      "border": null,
      "bottom": null,
      "display": null,
      "flex": null,
      "flex_flow": null,
      "grid_area": null,
      "grid_auto_columns": null,
      "grid_auto_flow": null,
      "grid_auto_rows": null,
      "grid_column": null,
      "grid_gap": null,
      "grid_row": null,
      "grid_template_areas": null,
      "grid_template_columns": null,
      "grid_template_rows": null,
      "height": null,
      "justify_content": null,
      "justify_items": null,
      "left": null,
      "margin": null,
      "max_height": null,
      "max_width": null,
      "min_height": null,
      "min_width": null,
      "object_fit": null,
      "object_position": null,
      "order": null,
      "overflow": null,
      "overflow_x": null,
      "overflow_y": null,
      "padding": null,
      "right": null,
      "top": null,
      "visibility": null,
      "width": null
     }
    },
    "e519e71ebdc445a1985b7b0c51661589": {
     "model_module": "@jupyter-widgets/controls",
     "model_name": "DescriptionStyleModel",
     "model_module_version": "1.5.0",
     "state": {
      "_model_module": "@jupyter-widgets/controls",
      "_model_module_version": "1.5.0",
      "_model_name": "DescriptionStyleModel",
      "_view_count": null,
      "_view_module": "@jupyter-widgets/base",
      "_view_module_version": "1.2.0",
      "_view_name": "StyleView",
      "description_width": ""
     }
    }
   }
  },
  "accelerator": "GPU"
 },
 "cells": [
  {
   "cell_type": "markdown",
   "source": [
    "# Label Propagation: Benchmarking Pipeline"
   ],
   "metadata": {
    "id": "JoYopppnWfhf"
   }
  },
  {
   "cell_type": "markdown",
   "source": [
    "This notebook contains the pipeline that helps create benchmarks on different datasets using one of the following approaches:\n",
    "1. Point Label Aware Superpixels approach\n",
    "2. SAM -  Multiple \"Points Based Prompting\" followed by Masks Blending\n",
    "3. SAM-HQ - Multiple \"Points Based Prompting\" followed by Masks Blending"
   ],
   "metadata": {
    "id": "_6MLA7rl81nQ"
   }
  },
  {
   "cell_type": "markdown",
   "source": [
    "## Setups"
   ],
   "metadata": {
    "id": "MKCieCgYJv6D"
   }
  },
  {
   "cell_type": "markdown",
   "source": [
    "### Logger Setup"
   ],
   "metadata": {
    "id": "E5p2bqv4gnwK"
   }
  },
  {
   "cell_type": "code",
   "source": [
    "import logging"
   ],
   "metadata": {
    "id": "8buPth8VgqXE",
    "executionInfo": {
     "status": "ok",
     "timestamp": 1705387606879,
     "user_tz": -330,
     "elapsed": 7,
     "user": {
      "displayName": "Ponniah Kameswaran",
      "userId": "10075489862576309872"
     }
    },
    "ExecuteTime": {
     "end_time": "2024-09-21T11:25:30.181693Z",
     "start_time": "2024-09-21T11:25:30.169509Z"
    }
   },
   "outputs": [],
   "execution_count": 1
  },
  {
   "cell_type": "code",
   "source": [
    "# define a formatter to display the messages to console (standard output)\n",
    "console_formatter = logging.Formatter('%(message)s')\n",
    "# console_formatter = logging.Formatter('%(levelname)s:%(module)s:%(message)s')\n",
    "console_handler = logging.StreamHandler()\n",
    "console_handler.setFormatter(console_formatter)"
   ],
   "metadata": {
    "id": "PLargIWLjtNA",
    "executionInfo": {
     "status": "ok",
     "timestamp": 1705387606880,
     "user_tz": -330,
     "elapsed": 7,
     "user": {
      "displayName": "Ponniah Kameswaran",
      "userId": "10075489862576309872"
     }
    },
    "ExecuteTime": {
     "end_time": "2024-09-21T11:25:30.245945Z",
     "start_time": "2024-09-21T11:25:30.181693Z"
    }
   },
   "outputs": [],
   "execution_count": 2
  },
  {
   "cell_type": "code",
   "source": [
    "# define a logger for this notebook and attach the console handler\n",
    "logger = logging.getLogger('Label-Propagation')\n",
    "logger.handlers.clear()\n",
    "logger.propagate = False\n",
    "logger.addHandler(console_handler)"
   ],
   "metadata": {
    "id": "bSBCasjziGlR",
    "executionInfo": {
     "status": "ok",
     "timestamp": 1705387606880,
     "user_tz": -330,
     "elapsed": 6,
     "user": {
      "displayName": "Ponniah Kameswaran",
      "userId": "10075489862576309872"
     }
    },
    "ExecuteTime": {
     "end_time": "2024-09-21T11:25:30.260089Z",
     "start_time": "2024-09-21T11:25:30.245945Z"
    }
   },
   "outputs": [],
   "execution_count": 3
  },
  {
   "cell_type": "code",
   "source": [
    "# set an appropriate level of logging for this notebook\n",
    "logger.setLevel(logging.INFO)"
   ],
   "metadata": {
    "id": "GTQoU-iJhKKR",
    "executionInfo": {
     "status": "ok",
     "timestamp": 1705387606880,
     "user_tz": -330,
     "elapsed": 6,
     "user": {
      "displayName": "Ponniah Kameswaran",
      "userId": "10075489862576309872"
     }
    },
    "ExecuteTime": {
     "end_time": "2024-09-21T11:25:30.269745Z",
     "start_time": "2024-09-21T11:25:30.262540Z"
    }
   },
   "outputs": [],
   "execution_count": 4
  },
  {
   "cell_type": "markdown",
   "source": [
    "### Mount GCS Bucket"
   ],
   "metadata": {
    "id": "uL8IctpH-BOs"
   }
  },
  {
   "cell_type": "markdown",
   "source": [
    "References:\n",
    "1. [Mount a Cloud Storage bucket using Cloud Storage FUSE](https://cloud.google.com/storage/docs/gcsfuse-quickstart-mount-bucket)\n",
    "2. [Snippets: Saving Data to Google Cloud Storage](https://colab.research.google.com/notebooks/snippets/gcs.ipynb)\n",
    "3. [Connect Colab to GCS Bucket Using gcsfuse](https://pub.towardsai.net/connect-colab-to-gcs-bucket-using-gcsfuse-29f4f844d074)"
   ],
   "metadata": {
    "id": "8rOzXJHy8sTi"
   }
  },
  {
   "cell_type": "markdown",
   "source": [
    "**Authentication**"
   ],
   "metadata": {
    "id": "kLMO2c-x9yA3"
   }
  },
  {
   "cell_type": "markdown",
   "source": [
    "This step authenticates the user in order to access Google Storage Bucket using an authenticated account."
   ],
   "metadata": {
    "id": "PG08o90o9zok"
   }
  },
  {
   "cell_type": "code",
   "source": [
    "from google.colab import auth\n",
    "auth.authenticate_user()"
   ],
   "metadata": {
    "id": "1-ULM9rk9yar",
    "executionInfo": {
     "status": "ok",
     "timestamp": 1705387626045,
     "user_tz": -330,
     "elapsed": 19170,
     "user": {
      "displayName": "Ponniah Kameswaran",
      "userId": "10075489862576309872"
     }
    },
    "ExecuteTime": {
     "end_time": "2024-09-21T11:25:30.306927Z",
     "start_time": "2024-09-21T11:25:30.276137Z"
    }
   },
   "outputs": [
    {
     "ename": "ModuleNotFoundError",
     "evalue": "No module named 'google'",
     "output_type": "error",
     "traceback": [
      "\u001B[1;31m---------------------------------------------------------------------------\u001B[0m",
      "\u001B[1;31mModuleNotFoundError\u001B[0m                       Traceback (most recent call last)",
      "Cell \u001B[1;32mIn[5], line 1\u001B[0m\n\u001B[1;32m----> 1\u001B[0m \u001B[38;5;28;01mfrom\u001B[39;00m \u001B[38;5;21;01mgoogle\u001B[39;00m\u001B[38;5;21;01m.\u001B[39;00m\u001B[38;5;21;01mcolab\u001B[39;00m \u001B[38;5;28;01mimport\u001B[39;00m auth\n\u001B[0;32m      2\u001B[0m auth\u001B[38;5;241m.\u001B[39mauthenticate_user()\n",
      "\u001B[1;31mModuleNotFoundError\u001B[0m: No module named 'google'"
     ]
    }
   ],
   "execution_count": 5
  },
  {
   "cell_type": "markdown",
   "source": [
    "**Install Cloud Storage FUSE**"
   ],
   "metadata": {
    "id": "fPQUeobI7YwF"
   }
  },
  {
   "cell_type": "markdown",
   "source": [
    "1. Add the Cloud Storage FUSE distribution URL as a package source:"
   ],
   "metadata": {
    "id": "3Ab_2lvV7czl"
   }
  },
  {
   "cell_type": "code",
   "metadata": {
    "colab": {
     "base_uri": "https://localhost:8080/"
    },
    "id": "UgeksjnF5_A7",
    "executionInfo": {
     "status": "ok",
     "timestamp": 1705387626045,
     "user_tz": -330,
     "elapsed": 16,
     "user": {
      "displayName": "Ponniah Kameswaran",
      "userId": "10075489862576309872"
     }
    },
    "outputId": "2e78e0bf-7d93-4c7b-9e98-32990a9ea61e",
    "ExecuteTime": {
     "end_time": "2024-09-21T11:25:30.592650Z",
     "start_time": "2024-09-21T11:25:30.470727Z"
    }
   },
   "source": [
    "# check if gcsfuse.list file exists at the path it normally resides\n",
    "!ls /etc/apt/sources.list.d"
   ],
   "outputs": [
    {
     "name": "stderr",
     "output_type": "stream",
     "text": [
      "'ls' is not recognized as an internal or external command,\n",
      "operable program or batch file.\n"
     ]
    }
   ],
   "execution_count": 6
  },
  {
   "cell_type": "code",
   "source": [
    "# open gcsfuse.list file and show its contents\n",
    "!cat /etc/apt/sources.list.d/gcsfuse.list"
   ],
   "metadata": {
    "colab": {
     "base_uri": "https://localhost:8080/"
    },
    "id": "PiOv1AYy7pG1",
    "executionInfo": {
     "status": "ok",
     "timestamp": 1705387626045,
     "user_tz": -330,
     "elapsed": 10,
     "user": {
      "displayName": "Ponniah Kameswaran",
      "userId": "10075489862576309872"
     }
    },
    "outputId": "7180250c-5f8b-4433-9ef2-bf10abc1b397",
    "ExecuteTime": {
     "end_time": "2024-09-21T11:25:31.956244Z",
     "start_time": "2024-09-21T11:25:31.889356Z"
    }
   },
   "outputs": [
    {
     "name": "stderr",
     "output_type": "stream",
     "text": [
      "'cat' is not recognized as an internal or external command,\n",
      "operable program or batch file.\n"
     ]
    }
   ],
   "execution_count": 7
  },
  {
   "cell_type": "code",
   "source": [
    "# add Cloud Storage FUSE distribution URL as a package source\n",
    "!echo \"deb https://packages.cloud.google.com/apt gcsfuse-`lsb_release -c -s` main\" | sudo tee /etc/apt/sources.list.d/gcsfuse.list"
   ],
   "metadata": {
    "colab": {
     "base_uri": "https://localhost:8080/"
    },
    "id": "LTgf8Nb08E88",
    "executionInfo": {
     "status": "ok",
     "timestamp": 1705387626046,
     "user_tz": -330,
     "elapsed": 9,
     "user": {
      "displayName": "Ponniah Kameswaran",
      "userId": "10075489862576309872"
     }
    },
    "outputId": "c77c6838-24a6-47fb-c111-fb0cb127130c",
    "ExecuteTime": {
     "end_time": "2024-09-21T11:25:34.024329Z",
     "start_time": "2024-09-21T11:25:33.871435Z"
    }
   },
   "outputs": [
    {
     "name": "stderr",
     "output_type": "stream",
     "text": [
      "'sudo' is not recognized as an internal or external command,\n",
      "operable program or batch file.\n"
     ]
    }
   ],
   "execution_count": 8
  },
  {
   "cell_type": "code",
   "source": [
    "# open gcsfuse.list file and show its contents\n",
    "!cat /etc/apt/sources.list.d/gcsfuse.list"
   ],
   "metadata": {
    "colab": {
     "base_uri": "https://localhost:8080/"
    },
    "id": "v0UyiIzw8cuc",
    "executionInfo": {
     "status": "ok",
     "timestamp": 1705387627533,
     "user_tz": -330,
     "elapsed": 1495,
     "user": {
      "displayName": "Ponniah Kameswaran",
      "userId": "10075489862576309872"
     }
    },
    "outputId": "145df53a-eef5-40ef-9b73-2f2f2d19eb38",
    "ExecuteTime": {
     "end_time": "2024-09-21T11:25:34.492800Z",
     "start_time": "2024-09-21T11:25:34.419274Z"
    }
   },
   "outputs": [
    {
     "name": "stderr",
     "output_type": "stream",
     "text": [
      "'cat' is not recognized as an internal or external command,\n",
      "operable program or batch file.\n"
     ]
    }
   ],
   "execution_count": 9
  },
  {
   "cell_type": "markdown",
   "source": [
    "2. Import the Google Cloud APT repository public key and add it to your list of keys:"
   ],
   "metadata": {
    "id": "fDQIFccj8jzL"
   }
  },
  {
   "cell_type": "code",
   "source": [
    "!curl https://packages.cloud.google.com/apt/doc/apt-key.gpg | sudo apt-key add -"
   ],
   "metadata": {
    "colab": {
     "base_uri": "https://localhost:8080/"
    },
    "id": "ucTalK-98eVT",
    "executionInfo": {
     "status": "ok",
     "timestamp": 1705387627534,
     "user_tz": -330,
     "elapsed": 6,
     "user": {
      "displayName": "Ponniah Kameswaran",
      "userId": "10075489862576309872"
     }
    },
    "outputId": "66e71d1e-a4a4-4b7d-a013-d2530cea827c",
    "ExecuteTime": {
     "end_time": "2024-09-21T11:25:34.969059Z",
     "start_time": "2024-09-21T11:25:34.840138Z"
    }
   },
   "outputs": [
    {
     "name": "stderr",
     "output_type": "stream",
     "text": [
      "'sudo' is not recognized as an internal or external command,\n",
      "operable program or batch file.\n"
     ]
    }
   ],
   "execution_count": 10
  },
  {
   "cell_type": "markdown",
   "source": [
    "3. Updates the list of available packages and install gcsfuse:"
   ],
   "metadata": {
    "id": "su0tD6MF88M0"
   }
  },
  {
   "cell_type": "code",
   "source": [
    "!apt -qq update && apt -qq install gcsfuse"
   ],
   "metadata": {
    "colab": {
     "base_uri": "https://localhost:8080/"
    },
    "id": "dWKOcMvb88ij",
    "executionInfo": {
     "status": "ok",
     "timestamp": 1705387635540,
     "user_tz": -330,
     "elapsed": 8010,
     "user": {
      "displayName": "Ponniah Kameswaran",
      "userId": "10075489862576309872"
     }
    },
    "outputId": "b3969f58-fb17-4c5e-bde6-d7038a8a9c48",
    "ExecuteTime": {
     "end_time": "2024-09-21T11:25:35.175131Z",
     "start_time": "2024-09-21T11:25:35.112701Z"
    }
   },
   "outputs": [
    {
     "name": "stderr",
     "output_type": "stream",
     "text": [
      "'apt' is not recognized as an internal or external command,\n",
      "operable program or batch file.\n"
     ]
    }
   ],
   "execution_count": 11
  },
  {
   "cell_type": "code",
   "source": [
    "# check if gcsfuse is installed\n",
    "!gcsfuse -v"
   ],
   "metadata": {
    "colab": {
     "base_uri": "https://localhost:8080/"
    },
    "id": "q34W2p2C9ElB",
    "executionInfo": {
     "status": "ok",
     "timestamp": 1705387635540,
     "user_tz": -330,
     "elapsed": 10,
     "user": {
      "displayName": "Ponniah Kameswaran",
      "userId": "10075489862576309872"
     }
    },
    "outputId": "ea0b60f1-a29e-4b57-938c-8590a3848cf1",
    "ExecuteTime": {
     "end_time": "2024-09-21T11:25:35.593261Z",
     "start_time": "2024-09-21T11:25:35.535299Z"
    }
   },
   "outputs": [
    {
     "name": "stderr",
     "output_type": "stream",
     "text": [
      "'gcsfuse' is not recognized as an internal or external command,\n",
      "operable program or batch file.\n"
     ]
    }
   ],
   "execution_count": 12
  },
  {
   "cell_type": "markdown",
   "source": [
    "**Mount Bucket on Colab Disk**"
   ],
   "metadata": {
    "id": "UAu1I6wL9KnU"
   }
  },
  {
   "cell_type": "markdown",
   "source": [
    "Initialize bucket name and the folder on Colab on which the bucket will be mounted"
   ],
   "metadata": {
    "id": "NnRJ_BOU9MdI"
   }
  },
  {
   "cell_type": "code",
   "source": [
    "BUCKET_NAME = 'rs_storage_open'\n",
    "BUCKET_MOUNT_DIR = f\"/mnt/gs/{BUCKET_NAME}\""
   ],
   "metadata": {
    "id": "bT4-2zuW9K9_",
    "executionInfo": {
     "status": "ok",
     "timestamp": 1705387635541,
     "user_tz": -330,
     "elapsed": 9,
     "user": {
      "displayName": "Ponniah Kameswaran",
      "userId": "10075489862576309872"
     }
    },
    "ExecuteTime": {
     "end_time": "2024-09-21T11:25:35.930183Z",
     "start_time": "2024-09-21T11:25:35.915286Z"
    }
   },
   "outputs": [],
   "execution_count": 13
  },
  {
   "cell_type": "markdown",
   "source": [
    "Create a directory to mount the storage bucket to"
   ],
   "metadata": {
    "id": "uh7kjdVJ9UzQ"
   }
  },
  {
   "cell_type": "code",
   "source": [
    "!mkdir -p {BUCKET_MOUNT_DIR}"
   ],
   "metadata": {
    "id": "MnfSmvwr9VRA",
    "executionInfo": {
     "status": "ok",
     "timestamp": 1705387635541,
     "user_tz": -330,
     "elapsed": 8,
     "user": {
      "displayName": "Ponniah Kameswaran",
      "userId": "10075489862576309872"
     }
    },
    "ExecuteTime": {
     "end_time": "2024-09-21T11:25:36.234764Z",
     "start_time": "2024-09-21T11:25:36.163563Z"
    }
   },
   "outputs": [
    {
     "name": "stderr",
     "output_type": "stream",
     "text": [
      "The syntax of the command is incorrect.\n"
     ]
    }
   ],
   "execution_count": 14
  },
  {
   "cell_type": "code",
   "source": [
    "!ls -l /mnt/gs"
   ],
   "metadata": {
    "colab": {
     "base_uri": "https://localhost:8080/"
    },
    "id": "eLnTVZPu9bSH",
    "executionInfo": {
     "status": "ok",
     "timestamp": 1705387635541,
     "user_tz": -330,
     "elapsed": 7,
     "user": {
      "displayName": "Ponniah Kameswaran",
      "userId": "10075489862576309872"
     }
    },
    "outputId": "7a36f356-158f-458b-c50e-75e1ad89d9df",
    "ExecuteTime": {
     "end_time": "2024-09-21T11:25:36.728717Z",
     "start_time": "2024-09-21T11:25:36.599537Z"
    }
   },
   "outputs": [
    {
     "name": "stderr",
     "output_type": "stream",
     "text": [
      "'ls' is not recognized as an internal or external command,\n",
      "operable program or batch file.\n"
     ]
    }
   ],
   "execution_count": 15
  },
  {
   "cell_type": "markdown",
   "source": [
    "Mount your storage bucket using the gcsfuse command:"
   ],
   "metadata": {
    "id": "jWWqn9569gji"
   }
  },
  {
   "cell_type": "code",
   "source": [
    "!gcsfuse --implicit-dirs {BUCKET_NAME} {BUCKET_MOUNT_DIR}"
   ],
   "metadata": {
    "colab": {
     "base_uri": "https://localhost:8080/"
    },
    "id": "XfYQT1zy9iE0",
    "executionInfo": {
     "status": "ok",
     "timestamp": 1705387636152,
     "user_tz": -330,
     "elapsed": 616,
     "user": {
      "displayName": "Ponniah Kameswaran",
      "userId": "10075489862576309872"
     }
    },
    "outputId": "0565c2e6-01cf-49cc-eee6-f0fc97706b96",
    "ExecuteTime": {
     "end_time": "2024-09-21T11:25:37.125645Z",
     "start_time": "2024-09-21T11:25:37.032479Z"
    }
   },
   "outputs": [
    {
     "name": "stderr",
     "output_type": "stream",
     "text": [
      "'gcsfuse' is not recognized as an internal or external command,\n",
      "operable program or batch file.\n"
     ]
    }
   ],
   "execution_count": 16
  },
  {
   "cell_type": "code",
   "source": [
    "!ls -l {BUCKET_MOUNT_DIR}"
   ],
   "metadata": {
    "colab": {
     "base_uri": "https://localhost:8080/"
    },
    "id": "fFy_qzXA9tEj",
    "executionInfo": {
     "status": "ok",
     "timestamp": 1705387636153,
     "user_tz": -330,
     "elapsed": 7,
     "user": {
      "displayName": "Ponniah Kameswaran",
      "userId": "10075489862576309872"
     }
    },
    "outputId": "67606bcc-347d-47d0-f3d1-a7dd12ba442a",
    "ExecuteTime": {
     "end_time": "2024-09-21T11:25:37.488639Z",
     "start_time": "2024-09-21T11:25:37.413211Z"
    }
   },
   "outputs": [
    {
     "name": "stderr",
     "output_type": "stream",
     "text": [
      "'ls' is not recognized as an internal or external command,\n",
      "operable program or batch file.\n"
     ]
    }
   ],
   "execution_count": 17
  },
  {
   "cell_type": "markdown",
   "source": [
    "### Mount Google Drive"
   ],
   "metadata": {
    "id": "d0lz4KQAjdnh"
   }
  },
  {
   "cell_type": "code",
   "source": [
    "import os\n",
    "from google.colab import drive"
   ],
   "metadata": {
    "id": "NfUeK9sajjvb",
    "executionInfo": {
     "status": "ok",
     "timestamp": 1705387636153,
     "user_tz": -330,
     "elapsed": 5,
     "user": {
      "displayName": "Ponniah Kameswaran",
      "userId": "10075489862576309872"
     }
    },
    "ExecuteTime": {
     "end_time": "2024-09-21T11:25:37.793608Z",
     "start_time": "2024-09-21T11:25:37.756795Z"
    }
   },
   "outputs": [
    {
     "ename": "ModuleNotFoundError",
     "evalue": "No module named 'google'",
     "output_type": "error",
     "traceback": [
      "\u001B[1;31m---------------------------------------------------------------------------\u001B[0m",
      "\u001B[1;31mModuleNotFoundError\u001B[0m                       Traceback (most recent call last)",
      "Cell \u001B[1;32mIn[18], line 2\u001B[0m\n\u001B[0;32m      1\u001B[0m \u001B[38;5;28;01mimport\u001B[39;00m \u001B[38;5;21;01mos\u001B[39;00m\n\u001B[1;32m----> 2\u001B[0m \u001B[38;5;28;01mfrom\u001B[39;00m \u001B[38;5;21;01mgoogle\u001B[39;00m\u001B[38;5;21;01m.\u001B[39;00m\u001B[38;5;21;01mcolab\u001B[39;00m \u001B[38;5;28;01mimport\u001B[39;00m drive\n",
      "\u001B[1;31mModuleNotFoundError\u001B[0m: No module named 'google'"
     ]
    }
   ],
   "execution_count": 18
  },
  {
   "cell_type": "code",
   "source": [
    "DRIVE_MOUNT_DIR = '/content/drive'\n",
    "drive.mount(DRIVE_MOUNT_DIR, force_remount=True)"
   ],
   "metadata": {
    "colab": {
     "base_uri": "https://localhost:8080/"
    },
    "id": "7aDYVU0YjmwZ",
    "executionInfo": {
     "status": "ok",
     "timestamp": 1705387653794,
     "user_tz": -330,
     "elapsed": 17645,
     "user": {
      "displayName": "Ponniah Kameswaran",
      "userId": "10075489862576309872"
     }
    },
    "outputId": "19700f21-b406-4b87-8613-d5ea2472abc9",
    "ExecuteTime": {
     "end_time": "2024-09-21T11:25:38.168737Z",
     "start_time": "2024-09-21T11:25:38.130344Z"
    }
   },
   "outputs": [
    {
     "ename": "NameError",
     "evalue": "name 'drive' is not defined",
     "output_type": "error",
     "traceback": [
      "\u001B[1;31m---------------------------------------------------------------------------\u001B[0m",
      "\u001B[1;31mNameError\u001B[0m                                 Traceback (most recent call last)",
      "Cell \u001B[1;32mIn[19], line 2\u001B[0m\n\u001B[0;32m      1\u001B[0m DRIVE_MOUNT_DIR \u001B[38;5;241m=\u001B[39m \u001B[38;5;124m'\u001B[39m\u001B[38;5;124m/content/drive\u001B[39m\u001B[38;5;124m'\u001B[39m\n\u001B[1;32m----> 2\u001B[0m \u001B[43mdrive\u001B[49m\u001B[38;5;241m.\u001B[39mmount(DRIVE_MOUNT_DIR, force_remount\u001B[38;5;241m=\u001B[39m\u001B[38;5;28;01mTrue\u001B[39;00m)\n",
      "\u001B[1;31mNameError\u001B[0m: name 'drive' is not defined"
     ]
    }
   ],
   "execution_count": 19
  },
  {
   "cell_type": "markdown",
   "source": [
    "### Directory Setup"
   ],
   "metadata": {
    "id": "g4JL4U2rCj20"
   }
  },
  {
   "cell_type": "markdown",
   "source": [
    "Local Root Directory"
   ],
   "metadata": {
    "id": "YN_CaebyYgwi"
   }
  },
  {
   "cell_type": "code",
   "source": [
    "# local root directory for this notebook\n",
    "LOCAL_ROOT_DIR = '/content'"
   ],
   "metadata": {
    "id": "s0TtA6WfYi9P",
    "executionInfo": {
     "status": "ok",
     "timestamp": 1705387653794,
     "user_tz": -330,
     "elapsed": 13,
     "user": {
      "displayName": "Ponniah Kameswaran",
      "userId": "10075489862576309872"
     }
    },
    "ExecuteTime": {
     "end_time": "2024-09-21T11:25:38.253074Z",
     "start_time": "2024-09-21T11:25:38.242501Z"
    }
   },
   "outputs": [],
   "execution_count": 20
  },
  {
   "cell_type": "markdown",
   "source": [
    "Bucket Mount Directory"
   ],
   "metadata": {
    "id": "PkoXlp3TDkXH"
   }
  },
  {
   "cell_type": "code",
   "source": [
    "# Root folder for dataset\n",
    "logger.info(f\"Root directory for dataset: {BUCKET_MOUNT_DIR}\")"
   ],
   "metadata": {
    "colab": {
     "base_uri": "https://localhost:8080/"
    },
    "id": "Asrbrw-tDkXJ",
    "executionInfo": {
     "status": "ok",
     "timestamp": 1705387653794,
     "user_tz": -330,
     "elapsed": 11,
     "user": {
      "displayName": "Ponniah Kameswaran",
      "userId": "10075489862576309872"
     }
    },
    "outputId": "e611abaf-ad9b-4413-f304-3971359995ea",
    "ExecuteTime": {
     "end_time": "2024-09-21T11:25:38.704735Z",
     "start_time": "2024-09-21T11:25:38.669586Z"
    }
   },
   "outputs": [
    {
     "name": "stderr",
     "output_type": "stream",
     "text": [
      "Root directory for dataset: /mnt/gs/rs_storage_open\n"
     ]
    }
   ],
   "execution_count": 21
  },
  {
   "cell_type": "markdown",
   "source": [
    "Project Root Directory"
   ],
   "metadata": {
    "id": "cE2E71QekMEb"
   }
  },
  {
   "cell_type": "code",
   "source": [
    "# Root folder in Google Drive for this project\n",
    "PROJECT_ROOT_DIR = os.path.join(DRIVE_MOUNT_DIR, 'MyDrive', '20231114-FruitPunch-AI-for-Coral-Reefs-2')\n",
    "logger.info(f\"Root directory for project in Google Drive: {PROJECT_ROOT_DIR}\")"
   ],
   "metadata": {
    "id": "Z5Fm6jpIkOXS",
    "executionInfo": {
     "status": "ok",
     "timestamp": 1705387653794,
     "user_tz": -330,
     "elapsed": 10,
     "user": {
      "displayName": "Ponniah Kameswaran",
      "userId": "10075489862576309872"
     }
    },
    "colab": {
     "base_uri": "https://localhost:8080/"
    },
    "outputId": "54caeee1-4005-401f-d2b5-a9f722838c70",
    "ExecuteTime": {
     "end_time": "2024-09-21T11:25:39.178896Z",
     "start_time": "2024-09-21T11:25:39.164245Z"
    }
   },
   "outputs": [
    {
     "name": "stderr",
     "output_type": "stream",
     "text": [
      "Root directory for project in Google Drive: /content/drive\\MyDrive\\20231114-FruitPunch-AI-for-Coral-Reefs-2\n"
     ]
    }
   ],
   "execution_count": 22
  },
  {
   "cell_type": "markdown",
   "source": [
    "### Custom Libraries"
   ],
   "metadata": {
    "id": "LHwYNF0Nkpbo"
   }
  },
  {
   "cell_type": "code",
   "source": [
    "import sys"
   ],
   "metadata": {
    "id": "sOTcfPubktEJ",
    "executionInfo": {
     "status": "ok",
     "timestamp": 1705387653795,
     "user_tz": -330,
     "elapsed": 10,
     "user": {
      "displayName": "Ponniah Kameswaran",
      "userId": "10075489862576309872"
     }
    },
    "ExecuteTime": {
     "end_time": "2024-09-21T11:25:39.303558Z",
     "start_time": "2024-09-21T11:25:39.284213Z"
    }
   },
   "outputs": [],
   "execution_count": 23
  },
  {
   "cell_type": "code",
   "source": [
    "# add the path where point label aware superpixels and custom packags is located\n",
    "sys.path.append(os.path.join(PROJECT_ROOT_DIR, 'packages'))"
   ],
   "metadata": {
    "id": "nGb-75hgku1A",
    "executionInfo": {
     "status": "ok",
     "timestamp": 1705387653795,
     "user_tz": -330,
     "elapsed": 9,
     "user": {
      "displayName": "Ponniah Kameswaran",
      "userId": "10075489862576309872"
     }
    },
    "ExecuteTime": {
     "end_time": "2024-09-21T11:25:39.628801Z",
     "start_time": "2024-09-21T11:25:39.609982Z"
    }
   },
   "outputs": [],
   "execution_count": 24
  },
  {
   "cell_type": "markdown",
   "source": [
    "### Dependencies"
   ],
   "metadata": {
    "id": "JXTsGtOD3M5m"
   }
  },
  {
   "cell_type": "code",
   "source": [
    "import torch"
   ],
   "metadata": {
    "id": "ijtk2dimtqUb",
    "executionInfo": {
     "status": "ok",
     "timestamp": 1705387658607,
     "user_tz": -330,
     "elapsed": 4820,
     "user": {
      "displayName": "Ponniah Kameswaran",
      "userId": "10075489862576309872"
     }
    },
    "ExecuteTime": {
     "end_time": "2024-09-21T11:25:39.867052Z",
     "start_time": "2024-09-21T11:25:39.824457Z"
    }
   },
   "outputs": [
    {
     "ename": "ModuleNotFoundError",
     "evalue": "No module named 'torch'",
     "output_type": "error",
     "traceback": [
      "\u001B[1;31m---------------------------------------------------------------------------\u001B[0m",
      "\u001B[1;31mModuleNotFoundError\u001B[0m                       Traceback (most recent call last)",
      "Cell \u001B[1;32mIn[25], line 1\u001B[0m\n\u001B[1;32m----> 1\u001B[0m \u001B[38;5;28;01mimport\u001B[39;00m \u001B[38;5;21;01mtorch\u001B[39;00m\n",
      "\u001B[1;31mModuleNotFoundError\u001B[0m: No module named 'torch'"
     ]
    }
   ],
   "execution_count": 25
  },
  {
   "cell_type": "code",
   "source": [
    "# workaround to overcome long duration needed for installing torch_scatter\n",
    "!pip install pyg_lib torch_scatter -f https://data.pyg.org/whl/torch-{torch.__version__}.html"
   ],
   "metadata": {
    "colab": {
     "base_uri": "https://localhost:8080/"
    },
    "id": "t_USDnDouoyz",
    "executionInfo": {
     "status": "ok",
     "timestamp": 1705387666447,
     "user_tz": -330,
     "elapsed": 7844,
     "user": {
      "displayName": "Ponniah Kameswaran",
      "userId": "10075489862576309872"
     }
    },
    "outputId": "d6faa38d-7eeb-433f-e40a-b4d16524ea3f",
    "ExecuteTime": {
     "end_time": "2024-09-21T11:25:47.077371Z",
     "start_time": "2024-09-21T11:25:40.095856Z"
    }
   },
   "outputs": [
    {
     "name": "stdout",
     "output_type": "stream",
     "text": [
      "Looking in links: https://data.pyg.org/whl/torch-{torch.__version__}.html\n"
     ]
    },
    {
     "name": "stderr",
     "output_type": "stream",
     "text": [
      "ERROR: Could not find a version that satisfies the requirement pyg_lib (from versions: none)\n",
      "ERROR: No matching distribution found for pyg_lib\n",
      "\n",
      "[notice] A new release of pip is available: 23.2.1 -> 24.2\n",
      "[notice] To update, run: python.exe -m pip install --upgrade pip\n"
     ]
    }
   ],
   "execution_count": 26
  },
  {
   "cell_type": "code",
   "source": [
    "!pip install torchmetrics"
   ],
   "metadata": {
    "colab": {
     "base_uri": "https://localhost:8080/"
    },
    "id": "B6YbNsNou1C8",
    "executionInfo": {
     "status": "ok",
     "timestamp": 1705387675341,
     "user_tz": -330,
     "elapsed": 8899,
     "user": {
      "displayName": "Ponniah Kameswaran",
      "userId": "10075489862576309872"
     }
    },
    "outputId": "aca7f1b0-5b1c-442e-cdf7-29362b14fa81",
    "ExecuteTime": {
     "end_time": "2024-09-21T11:29:50.585013Z",
     "start_time": "2024-09-21T11:25:47.081733Z"
    }
   },
   "outputs": [
    {
     "name": "stdout",
     "output_type": "stream",
     "text": [
      "Collecting torchmetrics\n",
      "  Obtaining dependency information for torchmetrics from https://files.pythonhosted.org/packages/01/11/ccac4393629bd51859fcfaaae479c06e7c37848811e8d0bcc736ae4ede76/torchmetrics-1.4.2-py3-none-any.whl.metadata\n",
      "  Downloading torchmetrics-1.4.2-py3-none-any.whl.metadata (19 kB)\n",
      "Requirement already satisfied: numpy>1.20.0 in c:\\users\\ambra\\pycharmprojects\\dc3_group8\\.venv\\lib\\site-packages (from torchmetrics) (2.1.1)\n",
      "Requirement already satisfied: packaging>17.1 in c:\\users\\ambra\\pycharmprojects\\dc3_group8\\.venv\\lib\\site-packages (from torchmetrics) (24.1)\n",
      "Collecting torch>=1.10.0 (from torchmetrics)\n",
      "  Obtaining dependency information for torch>=1.10.0 from https://files.pythonhosted.org/packages/a8/e0/ca8354dfb8d834a76da51b06e8248b70fc182bc163540507919124974bdf/torch-2.4.1-cp312-cp312-win_amd64.whl.metadata\n",
      "  Downloading torch-2.4.1-cp312-cp312-win_amd64.whl.metadata (27 kB)\n",
      "Collecting lightning-utilities>=0.8.0 (from torchmetrics)\n",
      "  Obtaining dependency information for lightning-utilities>=0.8.0 from https://files.pythonhosted.org/packages/16/2a/d5de2884759ca5eb1103200c1c3b9c5df362250020870a1556d19d15a6d1/lightning_utilities-0.11.7-py3-none-any.whl.metadata\n",
      "  Downloading lightning_utilities-0.11.7-py3-none-any.whl.metadata (5.2 kB)\n",
      "Requirement already satisfied: setuptools in c:\\users\\ambra\\pycharmprojects\\dc3_group8\\.venv\\lib\\site-packages (from lightning-utilities>=0.8.0->torchmetrics) (75.1.0)\n",
      "Collecting typing-extensions (from lightning-utilities>=0.8.0->torchmetrics)\n",
      "  Obtaining dependency information for typing-extensions from https://files.pythonhosted.org/packages/26/9f/ad63fc0248c5379346306f8668cda6e2e2e9c95e01216d2b8ffd9ff037d0/typing_extensions-4.12.2-py3-none-any.whl.metadata\n",
      "  Using cached typing_extensions-4.12.2-py3-none-any.whl.metadata (3.0 kB)\n",
      "Collecting filelock (from torch>=1.10.0->torchmetrics)\n",
      "  Obtaining dependency information for filelock from https://files.pythonhosted.org/packages/b9/f8/feced7779d755758a52d1f6635d990b8d98dc0a29fa568bbe0625f18fdf3/filelock-3.16.1-py3-none-any.whl.metadata\n",
      "  Downloading filelock-3.16.1-py3-none-any.whl.metadata (2.9 kB)\n",
      "Collecting sympy (from torch>=1.10.0->torchmetrics)\n",
      "  Obtaining dependency information for sympy from https://files.pythonhosted.org/packages/99/ff/c87e0622b1dadea79d2fb0b25ade9ed98954c9033722eb707053d310d4f3/sympy-1.13.3-py3-none-any.whl.metadata\n",
      "  Downloading sympy-1.13.3-py3-none-any.whl.metadata (12 kB)\n",
      "Collecting networkx (from torch>=1.10.0->torchmetrics)\n",
      "  Obtaining dependency information for networkx from https://files.pythonhosted.org/packages/38/e9/5f72929373e1a0e8d142a130f3f97e6ff920070f87f91c4e13e40e0fba5a/networkx-3.3-py3-none-any.whl.metadata\n",
      "  Downloading networkx-3.3-py3-none-any.whl.metadata (5.1 kB)\n",
      "Requirement already satisfied: jinja2 in c:\\users\\ambra\\pycharmprojects\\dc3_group8\\.venv\\lib\\site-packages (from torch>=1.10.0->torchmetrics) (3.1.4)\n",
      "Collecting fsspec (from torch>=1.10.0->torchmetrics)\n",
      "  Obtaining dependency information for fsspec from https://files.pythonhosted.org/packages/1d/a0/6aaea0c2fbea2f89bfd5db25fb1e3481896a423002ebe4e55288907a97a3/fsspec-2024.9.0-py3-none-any.whl.metadata\n",
      "  Downloading fsspec-2024.9.0-py3-none-any.whl.metadata (11 kB)\n",
      "Requirement already satisfied: MarkupSafe>=2.0 in c:\\users\\ambra\\pycharmprojects\\dc3_group8\\.venv\\lib\\site-packages (from jinja2->torch>=1.10.0->torchmetrics) (2.1.5)\n",
      "Collecting mpmath<1.4,>=1.1.0 (from sympy->torch>=1.10.0->torchmetrics)\n",
      "  Obtaining dependency information for mpmath<1.4,>=1.1.0 from https://files.pythonhosted.org/packages/43/e3/7d92a15f894aa0c9c4b49b8ee9ac9850d6e63b03c9c32c0367a13ae62209/mpmath-1.3.0-py3-none-any.whl.metadata\n",
      "  Downloading mpmath-1.3.0-py3-none-any.whl.metadata (8.6 kB)\n",
      "Downloading torchmetrics-1.4.2-py3-none-any.whl (869 kB)\n",
      "   ---------------------------------------- 0.0/869.2 kB ? eta -:--:--\n",
      "   ----- ---------------------------------- 122.9/869.2 kB 3.6 MB/s eta 0:00:01\n",
      "   ---------------- ----------------------- 358.4/869.2 kB 4.5 MB/s eta 0:00:01\n",
      "   -------------------------------- ------- 716.8/869.2 kB 5.0 MB/s eta 0:00:01\n",
      "   ---------------------------------------- 869.2/869.2 kB 5.0 MB/s eta 0:00:00\n",
      "Downloading lightning_utilities-0.11.7-py3-none-any.whl (26 kB)\n",
      "Downloading torch-2.4.1-cp312-cp312-win_amd64.whl (199.4 MB)\n",
      "   ---------------------------------------- 0.0/199.4 MB ? eta -:--:--\n",
      "   ---------------------------------------- 0.3/199.4 MB 10.6 MB/s eta 0:00:19\n",
      "   ---------------------------------------- 0.5/199.4 MB 7.9 MB/s eta 0:00:26\n",
      "   ---------------------------------------- 0.9/199.4 MB 6.0 MB/s eta 0:00:34\n",
      "   ---------------------------------------- 1.1/199.4 MB 5.4 MB/s eta 0:00:37\n",
      "   ---------------------------------------- 1.5/199.4 MB 5.6 MB/s eta 0:00:36\n",
      "   ---------------------------------------- 1.9/199.4 MB 5.9 MB/s eta 0:00:34\n",
      "   ---------------------------------------- 2.2/199.4 MB 6.0 MB/s eta 0:00:33\n",
      "   ---------------------------------------- 2.4/199.4 MB 5.8 MB/s eta 0:00:35\n",
      "    --------------------------------------- 2.7/199.4 MB 5.9 MB/s eta 0:00:34\n",
      "    --------------------------------------- 3.0/199.4 MB 5.8 MB/s eta 0:00:34\n",
      "    --------------------------------------- 3.2/199.4 MB 5.9 MB/s eta 0:00:34\n",
      "    --------------------------------------- 3.3/199.4 MB 5.5 MB/s eta 0:00:36\n",
      "    --------------------------------------- 3.5/199.4 MB 5.4 MB/s eta 0:00:37\n",
      "    --------------------------------------- 3.8/199.4 MB 5.4 MB/s eta 0:00:36\n",
      "    --------------------------------------- 4.0/199.4 MB 5.5 MB/s eta 0:00:36\n",
      "    --------------------------------------- 4.3/199.4 MB 5.6 MB/s eta 0:00:36\n",
      "    --------------------------------------- 4.6/199.4 MB 5.5 MB/s eta 0:00:36\n",
      "    --------------------------------------- 4.9/199.4 MB 5.5 MB/s eta 0:00:36\n",
      "   - -------------------------------------- 5.1/199.4 MB 5.5 MB/s eta 0:00:36\n",
      "   - -------------------------------------- 5.4/199.4 MB 5.5 MB/s eta 0:00:36\n",
      "   - -------------------------------------- 5.7/199.4 MB 5.5 MB/s eta 0:00:36\n",
      "   - -------------------------------------- 5.9/199.4 MB 5.5 MB/s eta 0:00:36\n",
      "   - -------------------------------------- 6.2/199.4 MB 5.4 MB/s eta 0:00:37\n",
      "   - -------------------------------------- 6.4/199.4 MB 5.3 MB/s eta 0:00:37\n",
      "   - -------------------------------------- 6.6/199.4 MB 5.4 MB/s eta 0:00:37\n",
      "   - -------------------------------------- 6.9/199.4 MB 5.3 MB/s eta 0:00:37\n",
      "   - -------------------------------------- 7.1/199.4 MB 5.3 MB/s eta 0:00:37\n",
      "   - -------------------------------------- 7.4/199.4 MB 5.3 MB/s eta 0:00:37\n",
      "   - -------------------------------------- 7.8/199.4 MB 5.4 MB/s eta 0:00:36\n",
      "   - -------------------------------------- 8.1/199.4 MB 5.3 MB/s eta 0:00:36\n",
      "   - -------------------------------------- 8.3/199.4 MB 5.3 MB/s eta 0:00:36\n",
      "   - -------------------------------------- 8.5/199.4 MB 5.3 MB/s eta 0:00:36\n",
      "   - -------------------------------------- 8.6/199.4 MB 5.3 MB/s eta 0:00:37\n",
      "   - -------------------------------------- 8.6/199.4 MB 5.3 MB/s eta 0:00:37\n",
      "   - -------------------------------------- 8.6/199.4 MB 5.3 MB/s eta 0:00:37\n",
      "   - -------------------------------------- 8.7/199.4 MB 4.9 MB/s eta 0:00:40\n",
      "   - -------------------------------------- 8.8/199.4 MB 4.8 MB/s eta 0:00:40\n",
      "   - -------------------------------------- 9.1/199.4 MB 4.8 MB/s eta 0:00:40\n",
      "   - -------------------------------------- 9.3/199.4 MB 4.8 MB/s eta 0:00:40\n",
      "   - -------------------------------------- 9.7/199.4 MB 4.9 MB/s eta 0:00:40\n",
      "   - -------------------------------------- 9.9/199.4 MB 4.9 MB/s eta 0:00:39\n",
      "   -- ------------------------------------- 10.2/199.4 MB 4.9 MB/s eta 0:00:39\n",
      "   -- ------------------------------------- 10.4/199.4 MB 4.8 MB/s eta 0:00:39\n",
      "   -- ------------------------------------- 10.7/199.4 MB 4.8 MB/s eta 0:00:39\n",
      "   -- ------------------------------------- 11.0/199.4 MB 4.9 MB/s eta 0:00:39\n",
      "   -- ------------------------------------- 11.3/199.4 MB 4.9 MB/s eta 0:00:39\n",
      "   -- ------------------------------------- 11.5/199.4 MB 4.9 MB/s eta 0:00:39\n",
      "   -- ------------------------------------- 11.7/199.4 MB 4.8 MB/s eta 0:00:39\n",
      "   -- ------------------------------------- 11.9/199.4 MB 4.8 MB/s eta 0:00:40\n",
      "   -- ------------------------------------- 12.1/199.4 MB 4.7 MB/s eta 0:00:40\n",
      "   -- ------------------------------------- 12.3/199.4 MB 4.7 MB/s eta 0:00:40\n",
      "   -- ------------------------------------- 12.4/199.4 MB 4.7 MB/s eta 0:00:40\n",
      "   -- ------------------------------------- 12.6/199.4 MB 4.6 MB/s eta 0:00:41\n",
      "   -- ------------------------------------- 12.8/199.4 MB 4.6 MB/s eta 0:00:41\n",
      "   -- ------------------------------------- 13.0/199.4 MB 4.6 MB/s eta 0:00:41\n",
      "   -- ------------------------------------- 13.0/199.4 MB 4.5 MB/s eta 0:00:41\n",
      "   -- ------------------------------------- 13.3/199.4 MB 4.5 MB/s eta 0:00:42\n",
      "   -- ------------------------------------- 13.5/199.4 MB 4.5 MB/s eta 0:00:41\n",
      "   -- ------------------------------------- 13.8/199.4 MB 4.6 MB/s eta 0:00:41\n",
      "   -- ------------------------------------- 14.0/199.4 MB 4.6 MB/s eta 0:00:41\n",
      "   -- ------------------------------------- 14.3/199.4 MB 4.5 MB/s eta 0:00:42\n",
      "   -- ------------------------------------- 14.5/199.4 MB 4.6 MB/s eta 0:00:41\n",
      "   -- ------------------------------------- 14.8/199.4 MB 4.5 MB/s eta 0:00:41\n",
      "   -- ------------------------------------- 14.9/199.4 MB 4.5 MB/s eta 0:00:41\n",
      "   --- ------------------------------------ 15.2/199.4 MB 4.5 MB/s eta 0:00:41\n",
      "   --- ------------------------------------ 15.5/199.4 MB 4.5 MB/s eta 0:00:41\n",
      "   --- ------------------------------------ 15.7/199.4 MB 4.5 MB/s eta 0:00:41\n",
      "   --- ------------------------------------ 15.9/199.4 MB 4.5 MB/s eta 0:00:42\n",
      "   --- ------------------------------------ 16.1/199.4 MB 4.5 MB/s eta 0:00:42\n",
      "   --- ------------------------------------ 16.4/199.4 MB 4.5 MB/s eta 0:00:41\n",
      "   --- ------------------------------------ 16.6/199.4 MB 4.5 MB/s eta 0:00:41\n",
      "   --- ------------------------------------ 16.8/199.4 MB 4.5 MB/s eta 0:00:41\n",
      "   --- ------------------------------------ 17.0/199.4 MB 4.5 MB/s eta 0:00:41\n",
      "   --- ------------------------------------ 17.3/199.4 MB 4.5 MB/s eta 0:00:41\n",
      "   --- ------------------------------------ 17.6/199.4 MB 4.5 MB/s eta 0:00:41\n",
      "   --- ------------------------------------ 17.8/199.4 MB 4.5 MB/s eta 0:00:41\n",
      "   --- ------------------------------------ 18.0/199.4 MB 4.5 MB/s eta 0:00:41\n",
      "   --- ------------------------------------ 18.2/199.4 MB 4.5 MB/s eta 0:00:41\n",
      "   --- ------------------------------------ 18.4/199.4 MB 4.4 MB/s eta 0:00:42\n",
      "   --- ------------------------------------ 18.6/199.4 MB 4.4 MB/s eta 0:00:42\n",
      "   --- ------------------------------------ 18.8/199.4 MB 4.7 MB/s eta 0:00:39\n",
      "   --- ------------------------------------ 19.1/199.4 MB 4.7 MB/s eta 0:00:39\n",
      "   --- ------------------------------------ 19.3/199.4 MB 4.8 MB/s eta 0:00:38\n",
      "   --- ------------------------------------ 19.4/199.4 MB 4.7 MB/s eta 0:00:39\n",
      "   --- ------------------------------------ 19.7/199.4 MB 4.7 MB/s eta 0:00:39\n",
      "   --- ------------------------------------ 19.9/199.4 MB 4.7 MB/s eta 0:00:39\n",
      "   ---- ----------------------------------- 20.0/199.4 MB 4.6 MB/s eta 0:00:39\n",
      "   ---- ----------------------------------- 20.3/199.4 MB 4.6 MB/s eta 0:00:39\n",
      "   ---- ----------------------------------- 20.5/199.4 MB 4.6 MB/s eta 0:00:40\n",
      "   ---- ----------------------------------- 20.8/199.4 MB 4.6 MB/s eta 0:00:39\n",
      "   ---- ----------------------------------- 21.0/199.4 MB 4.6 MB/s eta 0:00:39\n",
      "   ---- ----------------------------------- 21.2/199.4 MB 4.6 MB/s eta 0:00:39\n",
      "   ---- ----------------------------------- 21.5/199.4 MB 4.6 MB/s eta 0:00:39\n",
      "   ---- ----------------------------------- 21.7/199.4 MB 4.5 MB/s eta 0:00:40\n",
      "   ---- ----------------------------------- 22.0/199.4 MB 4.6 MB/s eta 0:00:39\n",
      "   ---- ----------------------------------- 22.0/199.4 MB 4.6 MB/s eta 0:00:39\n",
      "   ---- ----------------------------------- 22.0/199.4 MB 4.6 MB/s eta 0:00:39\n",
      "   ---- ----------------------------------- 22.0/199.4 MB 4.6 MB/s eta 0:00:39\n",
      "   ---- ----------------------------------- 22.0/199.4 MB 4.6 MB/s eta 0:00:39\n",
      "   ---- ----------------------------------- 22.2/199.4 MB 4.2 MB/s eta 0:00:42\n",
      "   ---- ----------------------------------- 22.4/199.4 MB 4.3 MB/s eta 0:00:42\n",
      "   ---- ----------------------------------- 22.6/199.4 MB 4.3 MB/s eta 0:00:42\n",
      "   ---- ----------------------------------- 22.9/199.4 MB 4.3 MB/s eta 0:00:41\n",
      "   ---- ----------------------------------- 23.2/199.4 MB 4.4 MB/s eta 0:00:41\n",
      "   ---- ----------------------------------- 23.4/199.4 MB 4.4 MB/s eta 0:00:40\n",
      "   ---- ----------------------------------- 23.7/199.4 MB 4.4 MB/s eta 0:00:40\n",
      "   ---- ----------------------------------- 23.9/199.4 MB 4.4 MB/s eta 0:00:40\n",
      "   ---- ----------------------------------- 24.1/199.4 MB 4.4 MB/s eta 0:00:40\n",
      "   ---- ----------------------------------- 24.4/199.4 MB 4.5 MB/s eta 0:00:40\n",
      "   ---- ----------------------------------- 24.6/199.4 MB 4.5 MB/s eta 0:00:40\n",
      "   ---- ----------------------------------- 24.9/199.4 MB 4.4 MB/s eta 0:00:40\n",
      "   ----- ---------------------------------- 25.0/199.4 MB 4.5 MB/s eta 0:00:39\n",
      "   ----- ---------------------------------- 25.3/199.4 MB 4.4 MB/s eta 0:00:40\n",
      "   ----- ---------------------------------- 25.5/199.4 MB 4.4 MB/s eta 0:00:40\n",
      "   ----- ---------------------------------- 25.8/199.4 MB 4.4 MB/s eta 0:00:40\n",
      "   ----- ---------------------------------- 26.0/199.4 MB 4.4 MB/s eta 0:00:40\n",
      "   ----- ---------------------------------- 26.2/199.4 MB 4.4 MB/s eta 0:00:40\n",
      "   ----- ---------------------------------- 26.4/199.4 MB 4.4 MB/s eta 0:00:40\n",
      "   ----- ---------------------------------- 26.7/199.4 MB 4.4 MB/s eta 0:00:40\n",
      "   ----- ---------------------------------- 26.9/199.4 MB 4.4 MB/s eta 0:00:39\n",
      "   ----- ---------------------------------- 27.2/199.4 MB 4.5 MB/s eta 0:00:39\n",
      "   ----- ---------------------------------- 27.4/199.4 MB 4.5 MB/s eta 0:00:39\n",
      "   ----- ---------------------------------- 27.6/199.4 MB 4.4 MB/s eta 0:00:40\n",
      "   ----- ---------------------------------- 27.9/199.4 MB 4.4 MB/s eta 0:00:39\n",
      "   ----- ---------------------------------- 28.3/199.4 MB 4.5 MB/s eta 0:00:39\n",
      "   ----- ---------------------------------- 28.5/199.4 MB 4.5 MB/s eta 0:00:39\n",
      "   ----- ---------------------------------- 28.7/199.4 MB 4.5 MB/s eta 0:00:39\n",
      "   ----- ---------------------------------- 28.9/199.4 MB 4.5 MB/s eta 0:00:39\n",
      "   ----- ---------------------------------- 29.1/199.4 MB 4.5 MB/s eta 0:00:38\n",
      "   ----- ---------------------------------- 29.4/199.4 MB 4.5 MB/s eta 0:00:38\n",
      "   ----- ---------------------------------- 29.7/199.4 MB 4.6 MB/s eta 0:00:38\n",
      "   ------ --------------------------------- 30.0/199.4 MB 4.6 MB/s eta 0:00:38\n",
      "   ------ --------------------------------- 30.2/199.4 MB 4.5 MB/s eta 0:00:38\n",
      "   ------ --------------------------------- 30.4/199.4 MB 4.6 MB/s eta 0:00:37\n",
      "   ------ --------------------------------- 30.7/199.4 MB 4.6 MB/s eta 0:00:37\n",
      "   ------ --------------------------------- 31.0/199.4 MB 4.6 MB/s eta 0:00:37\n",
      "   ------ --------------------------------- 31.2/199.4 MB 4.6 MB/s eta 0:00:37\n",
      "   ------ --------------------------------- 31.4/199.4 MB 4.6 MB/s eta 0:00:37\n",
      "   ------ --------------------------------- 31.7/199.4 MB 4.6 MB/s eta 0:00:37\n",
      "   ------ --------------------------------- 31.9/199.4 MB 4.6 MB/s eta 0:00:37\n",
      "   ------ --------------------------------- 32.1/199.4 MB 4.6 MB/s eta 0:00:37\n",
      "   ------ --------------------------------- 32.3/199.4 MB 5.0 MB/s eta 0:00:34\n",
      "   ------ --------------------------------- 32.6/199.4 MB 5.1 MB/s eta 0:00:33\n",
      "   ------ --------------------------------- 32.8/199.4 MB 5.1 MB/s eta 0:00:33\n",
      "   ------ --------------------------------- 33.0/199.4 MB 5.1 MB/s eta 0:00:33\n",
      "   ------ --------------------------------- 33.3/199.4 MB 5.1 MB/s eta 0:00:33\n",
      "   ------ --------------------------------- 33.6/199.4 MB 5.1 MB/s eta 0:00:33\n",
      "   ------ --------------------------------- 33.8/199.4 MB 5.0 MB/s eta 0:00:34\n",
      "   ------ --------------------------------- 34.0/199.4 MB 5.0 MB/s eta 0:00:33\n",
      "   ------ --------------------------------- 34.3/199.4 MB 5.0 MB/s eta 0:00:33\n",
      "   ------ --------------------------------- 34.5/199.4 MB 5.1 MB/s eta 0:00:33\n",
      "   ------ --------------------------------- 34.8/199.4 MB 5.0 MB/s eta 0:00:33\n",
      "   ------- -------------------------------- 34.9/199.4 MB 5.0 MB/s eta 0:00:33\n",
      "   ------- -------------------------------- 35.1/199.4 MB 5.0 MB/s eta 0:00:34\n",
      "   ------- -------------------------------- 35.3/199.4 MB 5.0 MB/s eta 0:00:34\n",
      "   ------- -------------------------------- 35.5/199.4 MB 5.0 MB/s eta 0:00:34\n",
      "   ------- -------------------------------- 35.7/199.4 MB 5.0 MB/s eta 0:00:34\n",
      "   ------- -------------------------------- 36.0/199.4 MB 5.0 MB/s eta 0:00:33\n",
      "   ------- -------------------------------- 36.3/199.4 MB 5.0 MB/s eta 0:00:33\n",
      "   ------- -------------------------------- 36.6/199.4 MB 5.1 MB/s eta 0:00:33\n",
      "   ------- -------------------------------- 36.8/199.4 MB 5.0 MB/s eta 0:00:33\n",
      "   ------- -------------------------------- 37.2/199.4 MB 5.0 MB/s eta 0:00:33\n",
      "   ------- -------------------------------- 37.4/199.4 MB 5.0 MB/s eta 0:00:33\n",
      "   ------- -------------------------------- 37.7/199.4 MB 5.0 MB/s eta 0:00:33\n",
      "   ------- -------------------------------- 37.9/199.4 MB 5.0 MB/s eta 0:00:33\n",
      "   ------- -------------------------------- 38.2/199.4 MB 5.1 MB/s eta 0:00:32\n",
      "   ------- -------------------------------- 38.5/199.4 MB 5.1 MB/s eta 0:00:32\n",
      "   ------- -------------------------------- 38.8/199.4 MB 5.1 MB/s eta 0:00:32\n",
      "   ------- -------------------------------- 39.0/199.4 MB 5.2 MB/s eta 0:00:32\n",
      "   ------- -------------------------------- 39.3/199.4 MB 5.1 MB/s eta 0:00:32\n",
      "   ------- -------------------------------- 39.6/199.4 MB 5.1 MB/s eta 0:00:32\n",
      "   ------- -------------------------------- 39.9/199.4 MB 5.1 MB/s eta 0:00:32\n",
      "   -------- ------------------------------- 40.1/199.4 MB 5.1 MB/s eta 0:00:32\n",
      "   -------- ------------------------------- 40.3/199.4 MB 5.1 MB/s eta 0:00:32\n",
      "   -------- ------------------------------- 40.5/199.4 MB 5.0 MB/s eta 0:00:32\n",
      "   -------- ------------------------------- 40.9/199.4 MB 5.1 MB/s eta 0:00:32\n",
      "   -------- ------------------------------- 41.1/199.4 MB 5.1 MB/s eta 0:00:31\n",
      "   -------- ------------------------------- 41.4/199.4 MB 5.1 MB/s eta 0:00:31\n",
      "   -------- ------------------------------- 41.6/199.4 MB 5.1 MB/s eta 0:00:31\n",
      "   -------- ------------------------------- 41.8/199.4 MB 5.1 MB/s eta 0:00:31\n",
      "   -------- ------------------------------- 42.1/199.4 MB 5.2 MB/s eta 0:00:31\n",
      "   -------- ------------------------------- 42.3/199.4 MB 5.1 MB/s eta 0:00:31\n",
      "   -------- ------------------------------- 42.6/199.4 MB 5.1 MB/s eta 0:00:31\n",
      "   -------- ------------------------------- 42.8/199.4 MB 5.2 MB/s eta 0:00:31\n",
      "   -------- ------------------------------- 43.0/199.4 MB 5.2 MB/s eta 0:00:31\n",
      "   -------- ------------------------------- 43.3/199.4 MB 5.1 MB/s eta 0:00:31\n",
      "   -------- ------------------------------- 43.6/199.4 MB 5.2 MB/s eta 0:00:31\n",
      "   -------- ------------------------------- 44.1/199.4 MB 5.2 MB/s eta 0:00:30\n",
      "   -------- ------------------------------- 44.3/199.4 MB 5.2 MB/s eta 0:00:30\n",
      "   -------- ------------------------------- 44.5/199.4 MB 5.2 MB/s eta 0:00:30\n",
      "   -------- ------------------------------- 44.7/199.4 MB 5.2 MB/s eta 0:00:30\n",
      "   --------- ------------------------------ 45.0/199.4 MB 5.2 MB/s eta 0:00:30\n",
      "   --------- ------------------------------ 45.2/199.4 MB 5.2 MB/s eta 0:00:30\n",
      "   --------- ------------------------------ 45.3/199.4 MB 5.2 MB/s eta 0:00:30\n",
      "   --------- ------------------------------ 45.6/199.4 MB 5.2 MB/s eta 0:00:30\n",
      "   --------- ------------------------------ 45.7/199.4 MB 5.2 MB/s eta 0:00:30\n",
      "   --------- ------------------------------ 45.9/199.4 MB 5.2 MB/s eta 0:00:30\n",
      "   --------- ------------------------------ 46.1/199.4 MB 5.2 MB/s eta 0:00:30\n",
      "   --------- ------------------------------ 46.3/199.4 MB 5.2 MB/s eta 0:00:30\n",
      "   --------- ------------------------------ 46.5/199.4 MB 5.1 MB/s eta 0:00:30\n",
      "   --------- ------------------------------ 46.6/199.4 MB 5.1 MB/s eta 0:00:31\n",
      "   --------- ------------------------------ 46.8/199.4 MB 5.0 MB/s eta 0:00:31\n",
      "   --------- ------------------------------ 47.0/199.4 MB 5.1 MB/s eta 0:00:31\n",
      "   --------- ------------------------------ 47.2/199.4 MB 5.0 MB/s eta 0:00:31\n",
      "   --------- ------------------------------ 47.4/199.4 MB 5.0 MB/s eta 0:00:31\n",
      "   --------- ------------------------------ 47.6/199.4 MB 5.0 MB/s eta 0:00:31\n",
      "   --------- ------------------------------ 47.8/199.4 MB 5.0 MB/s eta 0:00:31\n",
      "   --------- ------------------------------ 48.0/199.4 MB 4.9 MB/s eta 0:00:31\n",
      "   --------- ------------------------------ 48.2/199.4 MB 4.9 MB/s eta 0:00:31\n",
      "   --------- ------------------------------ 48.5/199.4 MB 4.9 MB/s eta 0:00:32\n",
      "   --------- ------------------------------ 48.7/199.4 MB 4.9 MB/s eta 0:00:32\n",
      "   --------- ------------------------------ 48.9/199.4 MB 4.8 MB/s eta 0:00:32\n",
      "   --------- ------------------------------ 49.0/199.4 MB 4.8 MB/s eta 0:00:32\n",
      "   --------- ------------------------------ 49.2/199.4 MB 4.7 MB/s eta 0:00:32\n",
      "   --------- ------------------------------ 49.4/199.4 MB 4.7 MB/s eta 0:00:32\n",
      "   --------- ------------------------------ 49.6/199.4 MB 4.7 MB/s eta 0:00:32\n",
      "   ---------- ----------------------------- 49.9/199.4 MB 4.7 MB/s eta 0:00:32\n",
      "   ---------- ----------------------------- 50.1/199.4 MB 4.6 MB/s eta 0:00:33\n",
      "   ---------- ----------------------------- 50.2/199.4 MB 4.7 MB/s eta 0:00:32\n",
      "   ---------- ----------------------------- 50.5/199.4 MB 4.6 MB/s eta 0:00:33\n",
      "   ---------- ----------------------------- 50.6/199.4 MB 4.6 MB/s eta 0:00:33\n",
      "   ---------- ----------------------------- 50.8/199.4 MB 4.6 MB/s eta 0:00:33\n",
      "   ---------- ----------------------------- 51.1/199.4 MB 4.6 MB/s eta 0:00:33\n",
      "   ---------- ----------------------------- 51.3/199.4 MB 4.6 MB/s eta 0:00:33\n",
      "   ---------- ----------------------------- 51.5/199.4 MB 4.6 MB/s eta 0:00:33\n",
      "   ---------- ----------------------------- 51.8/199.4 MB 4.5 MB/s eta 0:00:33\n",
      "   ---------- ----------------------------- 51.8/199.4 MB 4.4 MB/s eta 0:00:34\n",
      "   ---------- ----------------------------- 52.0/199.4 MB 4.5 MB/s eta 0:00:33\n",
      "   ---------- ----------------------------- 52.1/199.4 MB 4.4 MB/s eta 0:00:34\n",
      "   ---------- ----------------------------- 52.3/199.4 MB 4.3 MB/s eta 0:00:34\n",
      "   ---------- ----------------------------- 52.3/199.4 MB 4.3 MB/s eta 0:00:35\n",
      "   ---------- ----------------------------- 52.4/199.4 MB 4.3 MB/s eta 0:00:35\n",
      "   ---------- ----------------------------- 52.6/199.4 MB 4.2 MB/s eta 0:00:35\n",
      "   ---------- ----------------------------- 52.7/199.4 MB 4.2 MB/s eta 0:00:35\n",
      "   ---------- ----------------------------- 52.9/199.4 MB 4.1 MB/s eta 0:00:36\n",
      "   ---------- ----------------------------- 53.0/199.4 MB 4.1 MB/s eta 0:00:36\n",
      "   ---------- ----------------------------- 53.2/199.4 MB 4.1 MB/s eta 0:00:36\n",
      "   ---------- ----------------------------- 53.3/199.4 MB 4.1 MB/s eta 0:00:36\n",
      "   ---------- ----------------------------- 53.4/199.4 MB 4.0 MB/s eta 0:00:37\n",
      "   ---------- ----------------------------- 53.6/199.4 MB 4.0 MB/s eta 0:00:37\n",
      "   ---------- ----------------------------- 53.6/199.4 MB 3.9 MB/s eta 0:00:38\n",
      "   ---------- ----------------------------- 53.7/199.4 MB 3.9 MB/s eta 0:00:38\n",
      "   ---------- ----------------------------- 53.8/199.4 MB 3.9 MB/s eta 0:00:38\n",
      "   ---------- ----------------------------- 53.9/199.4 MB 3.8 MB/s eta 0:00:39\n",
      "   ---------- ----------------------------- 54.1/199.4 MB 3.8 MB/s eta 0:00:39\n",
      "   ---------- ----------------------------- 54.2/199.4 MB 3.7 MB/s eta 0:00:39\n",
      "   ---------- ----------------------------- 54.3/199.4 MB 3.7 MB/s eta 0:00:40\n",
      "   ---------- ----------------------------- 54.4/199.4 MB 3.6 MB/s eta 0:00:40\n",
      "   ---------- ----------------------------- 54.6/199.4 MB 3.6 MB/s eta 0:00:41\n",
      "   ---------- ----------------------------- 54.7/199.4 MB 3.6 MB/s eta 0:00:41\n",
      "   ---------- ----------------------------- 54.8/199.4 MB 3.6 MB/s eta 0:00:41\n",
      "   ----------- ---------------------------- 54.8/199.4 MB 3.5 MB/s eta 0:00:41\n",
      "   ----------- ---------------------------- 54.9/199.4 MB 3.5 MB/s eta 0:00:42\n",
      "   ----------- ---------------------------- 55.0/199.4 MB 3.4 MB/s eta 0:00:42\n",
      "   ----------- ---------------------------- 55.1/199.4 MB 3.4 MB/s eta 0:00:43\n",
      "   ----------- ---------------------------- 55.2/199.4 MB 3.4 MB/s eta 0:00:43\n",
      "   ----------- ---------------------------- 55.3/199.4 MB 3.3 MB/s eta 0:00:44\n",
      "   ----------- ---------------------------- 55.4/199.4 MB 3.3 MB/s eta 0:00:44\n",
      "   ----------- ---------------------------- 55.5/199.4 MB 3.3 MB/s eta 0:00:45\n",
      "   ----------- ---------------------------- 55.6/199.4 MB 3.2 MB/s eta 0:00:45\n",
      "   ----------- ---------------------------- 55.7/199.4 MB 3.2 MB/s eta 0:00:45\n",
      "   ----------- ---------------------------- 55.7/199.4 MB 3.2 MB/s eta 0:00:45\n",
      "   ----------- ---------------------------- 55.8/199.4 MB 3.1 MB/s eta 0:00:47\n",
      "   ----------- ---------------------------- 55.8/199.4 MB 3.0 MB/s eta 0:00:48\n",
      "   ----------- ---------------------------- 55.9/199.4 MB 3.0 MB/s eta 0:00:48\n",
      "   ----------- ---------------------------- 56.0/199.4 MB 3.0 MB/s eta 0:00:48\n",
      "   ----------- ---------------------------- 56.1/199.4 MB 3.0 MB/s eta 0:00:49\n",
      "   ----------- ---------------------------- 56.2/199.4 MB 3.0 MB/s eta 0:00:49\n",
      "   ----------- ---------------------------- 56.3/199.4 MB 2.9 MB/s eta 0:00:49\n",
      "   ----------- ---------------------------- 56.4/199.4 MB 2.9 MB/s eta 0:00:49\n",
      "   ----------- ---------------------------- 56.5/199.4 MB 2.9 MB/s eta 0:00:50\n",
      "   ----------- ---------------------------- 56.6/199.4 MB 2.9 MB/s eta 0:00:50\n",
      "   ----------- ---------------------------- 56.6/199.4 MB 2.9 MB/s eta 0:00:50\n",
      "   ----------- ---------------------------- 56.8/199.4 MB 2.8 MB/s eta 0:00:51\n",
      "   ----------- ---------------------------- 56.9/199.4 MB 2.8 MB/s eta 0:00:51\n",
      "   ----------- ---------------------------- 57.0/199.4 MB 2.8 MB/s eta 0:00:51\n",
      "   ----------- ---------------------------- 57.1/199.4 MB 2.8 MB/s eta 0:00:51\n",
      "   ----------- ---------------------------- 57.2/199.4 MB 2.8 MB/s eta 0:00:52\n",
      "   ----------- ---------------------------- 57.4/199.4 MB 2.7 MB/s eta 0:00:52\n",
      "   ----------- ---------------------------- 57.6/199.4 MB 2.7 MB/s eta 0:00:52\n",
      "   ----------- ---------------------------- 57.7/199.4 MB 2.7 MB/s eta 0:00:52\n",
      "   ----------- ---------------------------- 57.8/199.4 MB 2.7 MB/s eta 0:00:52\n",
      "   ----------- ---------------------------- 57.9/199.4 MB 2.7 MB/s eta 0:00:53\n",
      "   ----------- ---------------------------- 58.0/199.4 MB 2.7 MB/s eta 0:00:53\n",
      "   ----------- ---------------------------- 58.1/199.4 MB 2.7 MB/s eta 0:00:53\n",
      "   ----------- ---------------------------- 58.3/199.4 MB 2.7 MB/s eta 0:00:54\n",
      "   ----------- ---------------------------- 58.5/199.4 MB 2.7 MB/s eta 0:00:54\n",
      "   ----------- ---------------------------- 58.6/199.4 MB 2.6 MB/s eta 0:00:54\n",
      "   ----------- ---------------------------- 58.8/199.4 MB 2.6 MB/s eta 0:00:54\n",
      "   ----------- ---------------------------- 59.0/199.4 MB 2.6 MB/s eta 0:00:54\n",
      "   ----------- ---------------------------- 59.1/199.4 MB 2.6 MB/s eta 0:00:54\n",
      "   ----------- ---------------------------- 59.3/199.4 MB 2.6 MB/s eta 0:00:54\n",
      "   ----------- ---------------------------- 59.5/199.4 MB 2.6 MB/s eta 0:00:54\n",
      "   ----------- ---------------------------- 59.7/199.4 MB 2.6 MB/s eta 0:00:54\n",
      "   ------------ --------------------------- 59.9/199.4 MB 2.6 MB/s eta 0:00:54\n",
      "   ------------ --------------------------- 60.1/199.4 MB 2.6 MB/s eta 0:00:54\n",
      "   ------------ --------------------------- 60.3/199.4 MB 2.6 MB/s eta 0:00:54\n",
      "   ------------ --------------------------- 60.4/199.4 MB 2.6 MB/s eta 0:00:54\n",
      "   ------------ --------------------------- 60.6/199.4 MB 2.6 MB/s eta 0:00:53\n",
      "   ------------ --------------------------- 60.9/199.4 MB 2.6 MB/s eta 0:00:54\n",
      "   ------------ --------------------------- 61.1/199.4 MB 2.6 MB/s eta 0:00:53\n",
      "   ------------ --------------------------- 61.3/199.4 MB 2.6 MB/s eta 0:00:53\n",
      "   ------------ --------------------------- 61.5/199.4 MB 2.6 MB/s eta 0:00:53\n",
      "   ------------ --------------------------- 61.7/199.4 MB 2.6 MB/s eta 0:00:53\n",
      "   ------------ --------------------------- 61.9/199.4 MB 2.6 MB/s eta 0:00:53\n",
      "   ------------ --------------------------- 62.1/199.4 MB 2.6 MB/s eta 0:00:53\n",
      "   ------------ --------------------------- 62.3/199.4 MB 2.6 MB/s eta 0:00:52\n",
      "   ------------ --------------------------- 62.5/199.4 MB 2.7 MB/s eta 0:00:52\n",
      "   ------------ --------------------------- 62.7/199.4 MB 2.7 MB/s eta 0:00:52\n",
      "   ------------ --------------------------- 62.7/199.4 MB 2.7 MB/s eta 0:00:52\n",
      "   ------------ --------------------------- 62.7/199.4 MB 2.7 MB/s eta 0:00:52\n",
      "   ------------ --------------------------- 62.7/199.4 MB 2.7 MB/s eta 0:00:52\n",
      "   ------------ --------------------------- 62.7/199.4 MB 2.7 MB/s eta 0:00:52\n",
      "   ------------ --------------------------- 62.7/199.4 MB 2.5 MB/s eta 0:00:54\n",
      "   ------------ --------------------------- 62.8/199.4 MB 2.5 MB/s eta 0:00:55\n",
      "   ------------ --------------------------- 62.8/199.4 MB 2.5 MB/s eta 0:00:55\n",
      "   ------------ --------------------------- 62.8/199.4 MB 2.5 MB/s eta 0:00:56\n",
      "   ------------ --------------------------- 62.8/199.4 MB 2.5 MB/s eta 0:00:56\n",
      "   ------------ --------------------------- 62.8/199.4 MB 2.5 MB/s eta 0:00:56\n",
      "   ------------ --------------------------- 62.8/199.4 MB 2.4 MB/s eta 0:00:58\n",
      "   ------------ --------------------------- 62.8/199.4 MB 2.4 MB/s eta 0:00:58\n",
      "   ------------ --------------------------- 62.8/199.4 MB 2.4 MB/s eta 0:00:58\n",
      "   ------------ --------------------------- 62.8/199.4 MB 2.3 MB/s eta 0:01:00\n",
      "   ------------ --------------------------- 62.8/199.4 MB 2.3 MB/s eta 0:01:00\n",
      "   ------------ --------------------------- 62.9/199.4 MB 2.2 MB/s eta 0:01:01\n",
      "   ------------ --------------------------- 62.9/199.4 MB 2.2 MB/s eta 0:01:01\n",
      "   ------------ --------------------------- 63.0/199.4 MB 2.2 MB/s eta 0:01:02\n",
      "   ------------ --------------------------- 63.2/199.4 MB 2.2 MB/s eta 0:01:01\n",
      "   ------------ --------------------------- 63.4/199.4 MB 2.2 MB/s eta 0:01:01\n",
      "   ------------ --------------------------- 63.5/199.4 MB 2.2 MB/s eta 0:01:01\n",
      "   ------------ --------------------------- 63.7/199.4 MB 2.2 MB/s eta 0:01:01\n",
      "   ------------ --------------------------- 63.9/199.4 MB 2.3 MB/s eta 0:01:01\n",
      "   ------------ --------------------------- 64.1/199.4 MB 2.3 MB/s eta 0:01:00\n",
      "   ------------ --------------------------- 64.2/199.4 MB 2.3 MB/s eta 0:00:59\n",
      "   ------------ --------------------------- 64.4/199.4 MB 2.3 MB/s eta 0:00:59\n",
      "   ------------ --------------------------- 64.6/199.4 MB 2.3 MB/s eta 0:00:59\n",
      "   ------------- -------------------------- 64.8/199.4 MB 2.4 MB/s eta 0:00:58\n",
      "   ------------- -------------------------- 65.0/199.4 MB 2.4 MB/s eta 0:00:57\n",
      "   ------------- -------------------------- 65.3/199.4 MB 2.4 MB/s eta 0:00:56\n",
      "   ------------- -------------------------- 65.5/199.4 MB 2.5 MB/s eta 0:00:55\n",
      "   ------------- -------------------------- 65.7/199.4 MB 2.5 MB/s eta 0:00:54\n",
      "   ------------- -------------------------- 65.9/199.4 MB 2.5 MB/s eta 0:00:54\n",
      "   ------------- -------------------------- 66.0/199.4 MB 2.6 MB/s eta 0:00:51\n",
      "   ------------- -------------------------- 66.2/199.4 MB 2.7 MB/s eta 0:00:50\n",
      "   ------------- -------------------------- 66.4/199.4 MB 2.7 MB/s eta 0:00:49\n",
      "   ------------- -------------------------- 66.6/199.4 MB 2.8 MB/s eta 0:00:49\n",
      "   ------------- -------------------------- 66.8/199.4 MB 2.8 MB/s eta 0:00:48\n",
      "   ------------- -------------------------- 67.0/199.4 MB 2.8 MB/s eta 0:00:48\n",
      "   ------------- -------------------------- 67.2/199.4 MB 2.8 MB/s eta 0:00:47\n",
      "   ------------- -------------------------- 67.4/199.4 MB 2.9 MB/s eta 0:00:46\n",
      "   ------------- -------------------------- 67.6/199.4 MB 2.9 MB/s eta 0:00:46\n",
      "   ------------- -------------------------- 67.8/199.4 MB 2.9 MB/s eta 0:00:46\n",
      "   ------------- -------------------------- 68.0/199.4 MB 2.9 MB/s eta 0:00:45\n",
      "   ------------- -------------------------- 68.1/199.4 MB 2.9 MB/s eta 0:00:45\n",
      "   ------------- -------------------------- 68.4/199.4 MB 3.0 MB/s eta 0:00:44\n",
      "   ------------- -------------------------- 68.5/199.4 MB 3.0 MB/s eta 0:00:44\n",
      "   ------------- -------------------------- 68.8/199.4 MB 3.0 MB/s eta 0:00:44\n",
      "   ------------- -------------------------- 69.0/199.4 MB 3.0 MB/s eta 0:00:43\n",
      "   ------------- -------------------------- 69.2/199.4 MB 3.0 MB/s eta 0:00:43\n",
      "   ------------- -------------------------- 69.4/199.4 MB 3.1 MB/s eta 0:00:43\n",
      "   ------------- -------------------------- 69.6/199.4 MB 3.1 MB/s eta 0:00:43\n",
      "   -------------- ------------------------- 69.8/199.4 MB 3.1 MB/s eta 0:00:43\n",
      "   -------------- ------------------------- 70.1/199.4 MB 3.1 MB/s eta 0:00:43\n",
      "   -------------- ------------------------- 70.3/199.4 MB 3.1 MB/s eta 0:00:42\n",
      "   -------------- ------------------------- 70.5/199.4 MB 3.1 MB/s eta 0:00:42\n",
      "   -------------- ------------------------- 70.7/199.4 MB 3.1 MB/s eta 0:00:42\n",
      "   -------------- ------------------------- 70.9/199.4 MB 3.1 MB/s eta 0:00:42\n",
      "   -------------- ------------------------- 71.2/199.4 MB 3.1 MB/s eta 0:00:42\n",
      "   -------------- ------------------------- 71.4/199.4 MB 3.1 MB/s eta 0:00:42\n",
      "   -------------- ------------------------- 71.6/199.4 MB 3.1 MB/s eta 0:00:41\n",
      "   -------------- ------------------------- 72.1/199.4 MB 3.1 MB/s eta 0:00:41\n",
      "   -------------- ------------------------- 72.2/199.4 MB 3.1 MB/s eta 0:00:41\n",
      "   -------------- ------------------------- 72.5/199.4 MB 3.1 MB/s eta 0:00:41\n",
      "   -------------- ------------------------- 72.7/199.4 MB 3.2 MB/s eta 0:00:41\n",
      "   -------------- ------------------------- 72.9/199.4 MB 3.4 MB/s eta 0:00:38\n",
      "   -------------- ------------------------- 73.2/199.4 MB 4.2 MB/s eta 0:00:30\n",
      "   -------------- ------------------------- 73.4/199.4 MB 4.2 MB/s eta 0:00:30\n",
      "   -------------- ------------------------- 73.6/199.4 MB 4.3 MB/s eta 0:00:30\n",
      "   -------------- ------------------------- 73.8/199.4 MB 4.3 MB/s eta 0:00:29\n",
      "   -------------- ------------------------- 74.0/199.4 MB 4.4 MB/s eta 0:00:29\n",
      "   -------------- ------------------------- 74.3/199.4 MB 4.4 MB/s eta 0:00:29\n",
      "   -------------- ------------------------- 74.5/199.4 MB 4.4 MB/s eta 0:00:29\n",
      "   -------------- ------------------------- 74.7/199.4 MB 4.4 MB/s eta 0:00:29\n",
      "   --------------- ------------------------ 74.9/199.4 MB 4.4 MB/s eta 0:00:29\n",
      "   --------------- ------------------------ 75.1/199.4 MB 4.4 MB/s eta 0:00:29\n",
      "   --------------- ------------------------ 75.3/199.4 MB 4.4 MB/s eta 0:00:29\n",
      "   --------------- ------------------------ 75.5/199.4 MB 4.4 MB/s eta 0:00:29\n",
      "   --------------- ------------------------ 75.7/199.4 MB 4.4 MB/s eta 0:00:28\n",
      "   --------------- ------------------------ 75.7/199.4 MB 4.4 MB/s eta 0:00:28\n",
      "   --------------- ------------------------ 76.1/199.4 MB 4.4 MB/s eta 0:00:29\n",
      "   --------------- ------------------------ 76.3/199.4 MB 4.4 MB/s eta 0:00:29\n",
      "   --------------- ------------------------ 76.4/199.4 MB 4.3 MB/s eta 0:00:29\n",
      "   --------------- ------------------------ 76.5/199.4 MB 4.3 MB/s eta 0:00:29\n",
      "   --------------- ------------------------ 76.6/199.4 MB 4.3 MB/s eta 0:00:29\n",
      "   --------------- ------------------------ 76.8/199.4 MB 4.3 MB/s eta 0:00:29\n",
      "   --------------- ------------------------ 77.0/199.4 MB 4.3 MB/s eta 0:00:29\n",
      "   --------------- ------------------------ 77.1/199.4 MB 4.2 MB/s eta 0:00:29\n",
      "   --------------- ------------------------ 77.2/199.4 MB 4.2 MB/s eta 0:00:30\n",
      "   --------------- ------------------------ 77.4/199.4 MB 4.2 MB/s eta 0:00:30\n",
      "   --------------- ------------------------ 77.5/199.4 MB 4.1 MB/s eta 0:00:30\n",
      "   --------------- ------------------------ 77.6/199.4 MB 4.1 MB/s eta 0:00:30\n",
      "   --------------- ------------------------ 77.8/199.4 MB 4.1 MB/s eta 0:00:30\n",
      "   --------------- ------------------------ 77.9/199.4 MB 4.0 MB/s eta 0:00:31\n",
      "   --------------- ------------------------ 78.0/199.4 MB 4.0 MB/s eta 0:00:31\n",
      "   --------------- ------------------------ 78.2/199.4 MB 4.0 MB/s eta 0:00:31\n",
      "   --------------- ------------------------ 78.3/199.4 MB 4.0 MB/s eta 0:00:31\n",
      "   --------------- ------------------------ 78.4/199.4 MB 4.0 MB/s eta 0:00:31\n",
      "   --------------- ------------------------ 78.5/199.4 MB 4.0 MB/s eta 0:00:31\n",
      "   --------------- ------------------------ 78.7/199.4 MB 3.9 MB/s eta 0:00:31\n",
      "   --------------- ------------------------ 78.9/199.4 MB 3.9 MB/s eta 0:00:31\n",
      "   --------------- ------------------------ 79.1/199.4 MB 3.9 MB/s eta 0:00:31\n",
      "   --------------- ------------------------ 79.2/199.4 MB 3.9 MB/s eta 0:00:31\n",
      "   --------------- ------------------------ 79.3/199.4 MB 3.9 MB/s eta 0:00:32\n",
      "   --------------- ------------------------ 79.5/199.4 MB 3.8 MB/s eta 0:00:32\n",
      "   --------------- ------------------------ 79.6/199.4 MB 3.8 MB/s eta 0:00:32\n",
      "   --------------- ------------------------ 79.7/199.4 MB 3.8 MB/s eta 0:00:32\n",
      "   ---------------- ----------------------- 79.9/199.4 MB 3.8 MB/s eta 0:00:32\n",
      "   ---------------- ----------------------- 80.1/199.4 MB 3.8 MB/s eta 0:00:32\n",
      "   ---------------- ----------------------- 80.3/199.4 MB 3.7 MB/s eta 0:00:32\n",
      "   ---------------- ----------------------- 80.5/199.4 MB 3.7 MB/s eta 0:00:32\n",
      "   ---------------- ----------------------- 80.6/199.4 MB 3.7 MB/s eta 0:00:33\n",
      "   ---------------- ----------------------- 80.8/199.4 MB 3.7 MB/s eta 0:00:33\n",
      "   ---------------- ----------------------- 81.0/199.4 MB 3.7 MB/s eta 0:00:33\n",
      "   ---------------- ----------------------- 81.2/199.4 MB 3.7 MB/s eta 0:00:33\n",
      "   ---------------- ----------------------- 81.3/199.4 MB 3.6 MB/s eta 0:00:33\n",
      "   ---------------- ----------------------- 81.5/199.4 MB 3.6 MB/s eta 0:00:33\n",
      "   ---------------- ----------------------- 81.7/199.4 MB 3.6 MB/s eta 0:00:33\n",
      "   ---------------- ----------------------- 81.9/199.4 MB 3.7 MB/s eta 0:00:32\n",
      "   ---------------- ----------------------- 82.1/199.4 MB 3.6 MB/s eta 0:00:33\n",
      "   ---------------- ----------------------- 82.3/199.4 MB 3.6 MB/s eta 0:00:33\n",
      "   ---------------- ----------------------- 82.5/199.4 MB 3.6 MB/s eta 0:00:33\n",
      "   ---------------- ----------------------- 82.7/199.4 MB 3.6 MB/s eta 0:00:33\n",
      "   ---------------- ----------------------- 82.9/199.4 MB 3.6 MB/s eta 0:00:33\n",
      "   ---------------- ----------------------- 83.1/199.4 MB 3.6 MB/s eta 0:00:33\n",
      "   ---------------- ----------------------- 83.4/199.4 MB 3.6 MB/s eta 0:00:33\n",
      "   ---------------- ----------------------- 83.5/199.4 MB 3.5 MB/s eta 0:00:33\n",
      "   ---------------- ----------------------- 83.7/199.4 MB 3.6 MB/s eta 0:00:33\n",
      "   ---------------- ----------------------- 83.9/199.4 MB 3.6 MB/s eta 0:00:33\n",
      "   ---------------- ----------------------- 84.2/199.4 MB 3.6 MB/s eta 0:00:33\n",
      "   ---------------- ----------------------- 84.4/199.4 MB 3.6 MB/s eta 0:00:33\n",
      "   ---------------- ----------------------- 84.6/199.4 MB 3.6 MB/s eta 0:00:33\n",
      "   ----------------- ---------------------- 84.8/199.4 MB 3.6 MB/s eta 0:00:33\n",
      "   ----------------- ---------------------- 85.0/199.4 MB 3.6 MB/s eta 0:00:32\n",
      "   ----------------- ---------------------- 85.2/199.4 MB 3.5 MB/s eta 0:00:33\n",
      "   ----------------- ---------------------- 85.4/199.4 MB 3.6 MB/s eta 0:00:33\n",
      "   ----------------- ---------------------- 85.6/199.4 MB 3.6 MB/s eta 0:00:32\n",
      "   ----------------- ---------------------- 85.7/199.4 MB 3.5 MB/s eta 0:00:33\n",
      "   ----------------- ---------------------- 85.9/199.4 MB 3.5 MB/s eta 0:00:33\n",
      "   ----------------- ---------------------- 86.1/199.4 MB 3.5 MB/s eta 0:00:33\n",
      "   ----------------- ---------------------- 86.3/199.4 MB 3.5 MB/s eta 0:00:33\n",
      "   ----------------- ---------------------- 86.5/199.4 MB 3.5 MB/s eta 0:00:32\n",
      "   ----------------- ---------------------- 86.7/199.4 MB 3.6 MB/s eta 0:00:32\n",
      "   ----------------- ---------------------- 86.8/199.4 MB 3.5 MB/s eta 0:00:32\n",
      "   ----------------- ---------------------- 87.0/199.4 MB 3.6 MB/s eta 0:00:32\n",
      "   ----------------- ---------------------- 87.2/199.4 MB 3.6 MB/s eta 0:00:32\n",
      "   ----------------- ---------------------- 87.3/199.4 MB 3.6 MB/s eta 0:00:31\n",
      "   ----------------- ---------------------- 87.6/199.4 MB 3.7 MB/s eta 0:00:31\n",
      "   ----------------- ---------------------- 87.7/199.4 MB 3.7 MB/s eta 0:00:31\n",
      "   ----------------- ---------------------- 87.9/199.4 MB 3.7 MB/s eta 0:00:31\n",
      "   ----------------- ---------------------- 88.1/199.4 MB 3.7 MB/s eta 0:00:30\n",
      "   ----------------- ---------------------- 88.3/199.4 MB 3.7 MB/s eta 0:00:30\n",
      "   ----------------- ---------------------- 88.5/199.4 MB 3.8 MB/s eta 0:00:30\n",
      "   ----------------- ---------------------- 88.7/199.4 MB 3.8 MB/s eta 0:00:29\n",
      "   ----------------- ---------------------- 88.9/199.4 MB 3.9 MB/s eta 0:00:29\n",
      "   ----------------- ---------------------- 89.1/199.4 MB 3.9 MB/s eta 0:00:29\n",
      "   ----------------- ---------------------- 89.4/199.4 MB 3.9 MB/s eta 0:00:29\n",
      "   ----------------- ---------------------- 89.6/199.4 MB 4.0 MB/s eta 0:00:28\n",
      "   ------------------ --------------------- 89.7/199.4 MB 4.0 MB/s eta 0:00:28\n",
      "   ------------------ --------------------- 90.0/199.4 MB 4.0 MB/s eta 0:00:28\n",
      "   ------------------ --------------------- 90.2/199.4 MB 4.1 MB/s eta 0:00:27\n",
      "   ------------------ --------------------- 90.5/199.4 MB 4.1 MB/s eta 0:00:27\n",
      "   ------------------ --------------------- 90.6/199.4 MB 4.1 MB/s eta 0:00:27\n",
      "   ------------------ --------------------- 90.9/199.4 MB 4.1 MB/s eta 0:00:27\n",
      "   ------------------ --------------------- 91.1/199.4 MB 4.2 MB/s eta 0:00:26\n",
      "   ------------------ --------------------- 91.2/199.4 MB 4.1 MB/s eta 0:00:27\n",
      "   ------------------ --------------------- 91.3/199.4 MB 4.1 MB/s eta 0:00:27\n",
      "   ------------------ --------------------- 91.3/199.4 MB 4.1 MB/s eta 0:00:27\n",
      "   ------------------ --------------------- 91.3/199.4 MB 4.0 MB/s eta 0:00:28\n",
      "   ------------------ --------------------- 91.3/199.4 MB 4.0 MB/s eta 0:00:28\n",
      "   ------------------ --------------------- 91.4/199.4 MB 3.8 MB/s eta 0:00:29\n",
      "   ------------------ --------------------- 91.5/199.4 MB 3.8 MB/s eta 0:00:29\n",
      "   ------------------ --------------------- 91.6/199.4 MB 3.8 MB/s eta 0:00:29\n",
      "   ------------------ --------------------- 91.7/199.4 MB 3.7 MB/s eta 0:00:29\n",
      "   ------------------ --------------------- 91.9/199.4 MB 3.7 MB/s eta 0:00:29\n",
      "   ------------------ --------------------- 92.1/199.4 MB 3.7 MB/s eta 0:00:29\n",
      "   ------------------ --------------------- 92.3/199.4 MB 3.7 MB/s eta 0:00:29\n",
      "   ------------------ --------------------- 92.5/199.4 MB 3.7 MB/s eta 0:00:29\n",
      "   ------------------ --------------------- 92.5/199.4 MB 3.7 MB/s eta 0:00:30\n",
      "   ------------------ --------------------- 92.6/199.4 MB 3.7 MB/s eta 0:00:29\n",
      "   ------------------ --------------------- 92.7/199.4 MB 3.6 MB/s eta 0:00:30\n",
      "   ------------------ --------------------- 92.9/199.4 MB 3.6 MB/s eta 0:00:30\n",
      "   ------------------ --------------------- 93.0/199.4 MB 3.6 MB/s eta 0:00:30\n",
      "   ------------------ --------------------- 93.2/199.4 MB 3.6 MB/s eta 0:00:30\n",
      "   ------------------ --------------------- 93.3/199.4 MB 3.6 MB/s eta 0:00:30\n",
      "   ------------------ --------------------- 93.5/199.4 MB 3.6 MB/s eta 0:00:30\n",
      "   ------------------ --------------------- 93.6/199.4 MB 3.6 MB/s eta 0:00:30\n",
      "   ------------------ --------------------- 93.8/199.4 MB 3.5 MB/s eta 0:00:30\n",
      "   ------------------ --------------------- 93.9/199.4 MB 3.5 MB/s eta 0:00:30\n",
      "   ------------------ --------------------- 94.1/199.4 MB 3.5 MB/s eta 0:00:31\n",
      "   ------------------ --------------------- 94.2/199.4 MB 3.5 MB/s eta 0:00:31\n",
      "   ------------------ --------------------- 94.4/199.4 MB 3.5 MB/s eta 0:00:31\n",
      "   ------------------ --------------------- 94.6/199.4 MB 3.5 MB/s eta 0:00:31\n",
      "   ------------------- -------------------- 94.8/199.4 MB 3.5 MB/s eta 0:00:31\n",
      "   ------------------- -------------------- 95.0/199.4 MB 3.5 MB/s eta 0:00:31\n",
      "   ------------------- -------------------- 95.2/199.4 MB 3.5 MB/s eta 0:00:31\n",
      "   ------------------- -------------------- 95.5/199.4 MB 3.5 MB/s eta 0:00:30\n",
      "   ------------------- -------------------- 95.7/199.4 MB 3.5 MB/s eta 0:00:30\n",
      "   ------------------- -------------------- 95.9/199.4 MB 3.5 MB/s eta 0:00:30\n",
      "   ------------------- -------------------- 96.1/199.4 MB 3.5 MB/s eta 0:00:30\n",
      "   ------------------- -------------------- 96.4/199.4 MB 3.5 MB/s eta 0:00:30\n",
      "   ------------------- -------------------- 96.6/199.4 MB 3.5 MB/s eta 0:00:30\n",
      "   ------------------- -------------------- 96.8/199.4 MB 3.5 MB/s eta 0:00:29\n",
      "   ------------------- -------------------- 97.0/199.4 MB 3.6 MB/s eta 0:00:29\n",
      "   ------------------- -------------------- 97.2/199.4 MB 3.6 MB/s eta 0:00:29\n",
      "   ------------------- -------------------- 97.2/199.4 MB 3.6 MB/s eta 0:00:29\n",
      "   ------------------- -------------------- 97.5/199.4 MB 3.6 MB/s eta 0:00:29\n",
      "   ------------------- -------------------- 97.8/199.4 MB 3.6 MB/s eta 0:00:29\n",
      "   ------------------- -------------------- 97.9/199.4 MB 3.6 MB/s eta 0:00:29\n",
      "   ------------------- -------------------- 98.0/199.4 MB 3.6 MB/s eta 0:00:29\n",
      "   ------------------- -------------------- 98.2/199.4 MB 3.5 MB/s eta 0:00:29\n",
      "   ------------------- -------------------- 98.3/199.4 MB 3.5 MB/s eta 0:00:29\n",
      "   ------------------- -------------------- 98.4/199.4 MB 3.5 MB/s eta 0:00:29\n",
      "   ------------------- -------------------- 98.6/199.4 MB 3.5 MB/s eta 0:00:29\n",
      "   ------------------- -------------------- 98.7/199.4 MB 3.5 MB/s eta 0:00:30\n",
      "   ------------------- -------------------- 98.9/199.4 MB 3.4 MB/s eta 0:00:30\n",
      "   ------------------- -------------------- 99.0/199.4 MB 3.4 MB/s eta 0:00:30\n",
      "   ------------------- -------------------- 99.2/199.4 MB 3.4 MB/s eta 0:00:30\n",
      "   ------------------- -------------------- 99.3/199.4 MB 3.4 MB/s eta 0:00:30\n",
      "   ------------------- -------------------- 99.5/199.4 MB 3.4 MB/s eta 0:00:30\n",
      "   ------------------- -------------------- 99.7/199.4 MB 3.4 MB/s eta 0:00:30\n",
      "   -------------------- ------------------- 99.8/199.4 MB 3.4 MB/s eta 0:00:30\n",
      "   -------------------- ------------------- 100.0/199.4 MB 3.3 MB/s eta 0:00:30\n",
      "   -------------------- ------------------- 100.1/199.4 MB 3.3 MB/s eta 0:00:30\n",
      "   -------------------- ------------------- 100.3/199.4 MB 3.3 MB/s eta 0:00:30\n",
      "   -------------------- ------------------- 100.5/199.4 MB 3.3 MB/s eta 0:00:30\n",
      "   -------------------- ------------------- 100.7/199.4 MB 3.3 MB/s eta 0:00:30\n",
      "   -------------------- ------------------- 100.8/199.4 MB 3.3 MB/s eta 0:00:30\n",
      "   -------------------- ------------------- 101.0/199.4 MB 3.3 MB/s eta 0:00:30\n",
      "   -------------------- ------------------- 101.2/199.4 MB 3.3 MB/s eta 0:00:30\n",
      "   -------------------- ------------------- 101.4/199.4 MB 3.3 MB/s eta 0:00:30\n",
      "   -------------------- ------------------- 101.6/199.4 MB 3.5 MB/s eta 0:00:29\n",
      "   -------------------- ------------------- 101.8/199.4 MB 3.6 MB/s eta 0:00:28\n",
      "   -------------------- ------------------- 102.0/199.4 MB 3.6 MB/s eta 0:00:27\n",
      "   -------------------- ------------------- 102.2/199.4 MB 3.6 MB/s eta 0:00:27\n",
      "   -------------------- ------------------- 102.4/199.4 MB 3.6 MB/s eta 0:00:27\n",
      "   -------------------- ------------------- 102.6/199.4 MB 3.6 MB/s eta 0:00:27\n",
      "   -------------------- ------------------- 102.8/199.4 MB 3.7 MB/s eta 0:00:27\n",
      "   -------------------- ------------------- 103.0/199.4 MB 3.8 MB/s eta 0:00:26\n",
      "   -------------------- ------------------- 103.2/199.4 MB 3.8 MB/s eta 0:00:26\n",
      "   -------------------- ------------------- 103.4/199.4 MB 3.8 MB/s eta 0:00:26\n",
      "   -------------------- ------------------- 103.4/199.4 MB 3.8 MB/s eta 0:00:26\n",
      "   -------------------- ------------------- 103.5/199.4 MB 3.7 MB/s eta 0:00:27\n",
      "   -------------------- ------------------- 103.6/199.4 MB 3.7 MB/s eta 0:00:27\n",
      "   -------------------- ------------------- 103.8/199.4 MB 3.7 MB/s eta 0:00:27\n",
      "   -------------------- ------------------- 104.0/199.4 MB 3.7 MB/s eta 0:00:26\n",
      "   -------------------- ------------------- 104.2/199.4 MB 3.7 MB/s eta 0:00:26\n",
      "   -------------------- ------------------- 104.4/199.4 MB 3.8 MB/s eta 0:00:26\n",
      "   -------------------- ------------------- 104.6/199.4 MB 3.7 MB/s eta 0:00:26\n",
      "   --------------------- ------------------ 104.8/199.4 MB 3.8 MB/s eta 0:00:26\n",
      "   --------------------- ------------------ 104.9/199.4 MB 3.7 MB/s eta 0:00:26\n",
      "   --------------------- ------------------ 105.1/199.4 MB 3.7 MB/s eta 0:00:26\n",
      "   --------------------- ------------------ 105.2/199.4 MB 3.7 MB/s eta 0:00:26\n",
      "   --------------------- ------------------ 105.3/199.4 MB 3.7 MB/s eta 0:00:26\n",
      "   --------------------- ------------------ 105.5/199.4 MB 3.7 MB/s eta 0:00:26\n",
      "   --------------------- ------------------ 105.7/199.4 MB 3.6 MB/s eta 0:00:26\n",
      "   --------------------- ------------------ 105.9/199.4 MB 3.6 MB/s eta 0:00:26\n",
      "   --------------------- ------------------ 105.9/199.4 MB 3.6 MB/s eta 0:00:26\n",
      "   --------------------- ------------------ 106.2/199.4 MB 3.6 MB/s eta 0:00:26\n",
      "   --------------------- ------------------ 106.3/199.4 MB 3.6 MB/s eta 0:00:27\n",
      "   --------------------- ------------------ 106.5/199.4 MB 3.5 MB/s eta 0:00:27\n",
      "   --------------------- ------------------ 106.6/199.4 MB 3.5 MB/s eta 0:00:27\n",
      "   --------------------- ------------------ 106.8/199.4 MB 3.5 MB/s eta 0:00:27\n",
      "   --------------------- ------------------ 107.0/199.4 MB 3.5 MB/s eta 0:00:27\n",
      "   --------------------- ------------------ 107.1/199.4 MB 3.5 MB/s eta 0:00:27\n",
      "   --------------------- ------------------ 107.3/199.4 MB 3.5 MB/s eta 0:00:27\n",
      "   --------------------- ------------------ 107.4/199.4 MB 3.5 MB/s eta 0:00:27\n",
      "   --------------------- ------------------ 107.6/199.4 MB 3.5 MB/s eta 0:00:27\n",
      "   --------------------- ------------------ 107.7/199.4 MB 3.5 MB/s eta 0:00:27\n",
      "   --------------------- ------------------ 107.9/199.4 MB 3.4 MB/s eta 0:00:27\n",
      "   --------------------- ------------------ 108.1/199.4 MB 3.4 MB/s eta 0:00:27\n",
      "   --------------------- ------------------ 108.2/199.4 MB 3.4 MB/s eta 0:00:27\n",
      "   --------------------- ------------------ 108.4/199.4 MB 3.4 MB/s eta 0:00:27\n",
      "   --------------------- ------------------ 108.5/199.4 MB 3.5 MB/s eta 0:00:27\n",
      "   --------------------- ------------------ 108.7/199.4 MB 3.5 MB/s eta 0:00:27\n",
      "   --------------------- ------------------ 108.9/199.4 MB 3.5 MB/s eta 0:00:26\n",
      "   --------------------- ------------------ 109.0/199.4 MB 3.5 MB/s eta 0:00:26\n",
      "   --------------------- ------------------ 109.2/199.4 MB 3.5 MB/s eta 0:00:26\n",
      "   --------------------- ------------------ 109.4/199.4 MB 3.5 MB/s eta 0:00:26\n",
      "   --------------------- ------------------ 109.5/199.4 MB 3.5 MB/s eta 0:00:26\n",
      "   ---------------------- ----------------- 109.7/199.4 MB 3.5 MB/s eta 0:00:26\n",
      "   ---------------------- ----------------- 109.9/199.4 MB 3.5 MB/s eta 0:00:26\n",
      "   ---------------------- ----------------- 110.1/199.4 MB 3.6 MB/s eta 0:00:26\n",
      "   ---------------------- ----------------- 110.2/199.4 MB 3.5 MB/s eta 0:00:26\n",
      "   ---------------------- ----------------- 110.3/199.4 MB 3.5 MB/s eta 0:00:26\n",
      "   ---------------------- ----------------- 110.5/199.4 MB 3.5 MB/s eta 0:00:26\n",
      "   ---------------------- ----------------- 110.7/199.4 MB 3.5 MB/s eta 0:00:26\n",
      "   ---------------------- ----------------- 110.8/199.4 MB 3.5 MB/s eta 0:00:26\n",
      "   ---------------------- ----------------- 111.0/199.4 MB 3.5 MB/s eta 0:00:26\n",
      "   ---------------------- ----------------- 111.2/199.4 MB 3.5 MB/s eta 0:00:26\n",
      "   ---------------------- ----------------- 111.3/199.4 MB 3.5 MB/s eta 0:00:26\n",
      "   ---------------------- ----------------- 111.4/199.4 MB 3.5 MB/s eta 0:00:26\n",
      "   ---------------------- ----------------- 111.5/199.4 MB 3.4 MB/s eta 0:00:26\n",
      "   ---------------------- ----------------- 111.6/199.4 MB 3.4 MB/s eta 0:00:26\n",
      "   ---------------------- ----------------- 111.8/199.4 MB 3.4 MB/s eta 0:00:26\n",
      "   ---------------------- ----------------- 111.9/199.4 MB 3.4 MB/s eta 0:00:26\n",
      "   ---------------------- ----------------- 112.0/199.4 MB 3.4 MB/s eta 0:00:27\n",
      "   ---------------------- ----------------- 112.2/199.4 MB 3.3 MB/s eta 0:00:27\n",
      "   ---------------------- ----------------- 112.3/199.4 MB 3.3 MB/s eta 0:00:27\n",
      "   ---------------------- ----------------- 112.4/199.4 MB 3.3 MB/s eta 0:00:27\n",
      "   ---------------------- ----------------- 112.5/199.4 MB 3.3 MB/s eta 0:00:27\n",
      "   ---------------------- ----------------- 112.7/199.4 MB 3.3 MB/s eta 0:00:27\n",
      "   ---------------------- ----------------- 112.8/199.4 MB 3.3 MB/s eta 0:00:27\n",
      "   ---------------------- ----------------- 113.0/199.4 MB 3.3 MB/s eta 0:00:27\n",
      "   ---------------------- ----------------- 113.1/199.4 MB 3.2 MB/s eta 0:00:27\n",
      "   ---------------------- ----------------- 113.3/199.4 MB 3.2 MB/s eta 0:00:27\n",
      "   ---------------------- ----------------- 113.4/199.4 MB 3.2 MB/s eta 0:00:28\n",
      "   ---------------------- ----------------- 113.5/199.4 MB 3.2 MB/s eta 0:00:28\n",
      "   ---------------------- ----------------- 113.6/199.4 MB 3.2 MB/s eta 0:00:28\n",
      "   ---------------------- ----------------- 113.7/199.4 MB 3.2 MB/s eta 0:00:27\n",
      "   ---------------------- ----------------- 113.8/199.4 MB 3.2 MB/s eta 0:00:27\n",
      "   ---------------------- ----------------- 113.9/199.4 MB 3.2 MB/s eta 0:00:27\n",
      "   ---------------------- ----------------- 114.0/199.4 MB 3.2 MB/s eta 0:00:27\n",
      "   ---------------------- ----------------- 114.1/199.4 MB 3.1 MB/s eta 0:00:28\n",
      "   ---------------------- ----------------- 114.3/199.4 MB 3.1 MB/s eta 0:00:28\n",
      "   ---------------------- ----------------- 114.4/199.4 MB 3.1 MB/s eta 0:00:28\n",
      "   ---------------------- ----------------- 114.5/199.4 MB 3.1 MB/s eta 0:00:28\n",
      "   ----------------------- ---------------- 114.7/199.4 MB 3.1 MB/s eta 0:00:28\n",
      "   ----------------------- ---------------- 114.9/199.4 MB 3.1 MB/s eta 0:00:28\n",
      "   ----------------------- ---------------- 115.0/199.4 MB 3.1 MB/s eta 0:00:28\n",
      "   ----------------------- ---------------- 115.2/199.4 MB 3.1 MB/s eta 0:00:28\n",
      "   ----------------------- ---------------- 115.4/199.4 MB 3.1 MB/s eta 0:00:28\n",
      "   ----------------------- ---------------- 115.5/199.4 MB 3.1 MB/s eta 0:00:27\n",
      "   ----------------------- ---------------- 115.7/199.4 MB 3.1 MB/s eta 0:00:27\n",
      "   ----------------------- ---------------- 115.9/199.4 MB 3.1 MB/s eta 0:00:27\n",
      "   ----------------------- ---------------- 116.1/199.4 MB 3.1 MB/s eta 0:00:27\n",
      "   ----------------------- ---------------- 116.3/199.4 MB 3.1 MB/s eta 0:00:27\n",
      "   ----------------------- ---------------- 116.5/199.4 MB 3.1 MB/s eta 0:00:27\n",
      "   ----------------------- ---------------- 116.7/199.4 MB 3.1 MB/s eta 0:00:27\n",
      "   ----------------------- ---------------- 116.8/199.4 MB 3.1 MB/s eta 0:00:27\n",
      "   ----------------------- ---------------- 117.0/199.4 MB 3.2 MB/s eta 0:00:26\n",
      "   ----------------------- ---------------- 117.2/199.4 MB 3.2 MB/s eta 0:00:26\n",
      "   ----------------------- ---------------- 117.4/199.4 MB 3.2 MB/s eta 0:00:26\n",
      "   ----------------------- ---------------- 117.6/199.4 MB 3.2 MB/s eta 0:00:26\n",
      "   ----------------------- ---------------- 117.8/199.4 MB 3.2 MB/s eta 0:00:26\n",
      "   ----------------------- ---------------- 118.0/199.4 MB 3.2 MB/s eta 0:00:26\n",
      "   ----------------------- ---------------- 118.2/199.4 MB 3.2 MB/s eta 0:00:26\n",
      "   ----------------------- ---------------- 118.4/199.4 MB 3.2 MB/s eta 0:00:26\n",
      "   ----------------------- ---------------- 118.6/199.4 MB 3.2 MB/s eta 0:00:26\n",
      "   ----------------------- ---------------- 118.8/199.4 MB 3.3 MB/s eta 0:00:25\n",
      "   ----------------------- ---------------- 119.0/199.4 MB 3.3 MB/s eta 0:00:25\n",
      "   ----------------------- ---------------- 119.2/199.4 MB 3.3 MB/s eta 0:00:25\n",
      "   ----------------------- ---------------- 119.4/199.4 MB 3.3 MB/s eta 0:00:25\n",
      "   ----------------------- ---------------- 119.6/199.4 MB 3.3 MB/s eta 0:00:25\n",
      "   ------------------------ --------------- 119.8/199.4 MB 3.3 MB/s eta 0:00:25\n",
      "   ------------------------ --------------- 120.0/199.4 MB 3.3 MB/s eta 0:00:25\n",
      "   ------------------------ --------------- 120.2/199.4 MB 3.3 MB/s eta 0:00:24\n",
      "   ------------------------ --------------- 120.5/199.4 MB 3.3 MB/s eta 0:00:24\n",
      "   ------------------------ --------------- 120.7/199.4 MB 3.4 MB/s eta 0:00:24\n",
      "   ------------------------ --------------- 120.9/199.4 MB 3.4 MB/s eta 0:00:24\n",
      "   ------------------------ --------------- 121.1/199.4 MB 3.4 MB/s eta 0:00:24\n",
      "   ------------------------ --------------- 121.3/199.4 MB 3.4 MB/s eta 0:00:23\n",
      "   ------------------------ --------------- 121.5/199.4 MB 3.5 MB/s eta 0:00:23\n",
      "   ------------------------ --------------- 121.7/199.4 MB 3.5 MB/s eta 0:00:23\n",
      "   ------------------------ --------------- 121.9/199.4 MB 3.5 MB/s eta 0:00:22\n",
      "   ------------------------ --------------- 122.1/199.4 MB 3.6 MB/s eta 0:00:22\n",
      "   ------------------------ --------------- 122.4/199.4 MB 3.6 MB/s eta 0:00:22\n",
      "   ------------------------ --------------- 122.6/199.4 MB 3.7 MB/s eta 0:00:22\n",
      "   ------------------------ --------------- 122.8/199.4 MB 3.7 MB/s eta 0:00:21\n",
      "   ------------------------ --------------- 123.0/199.4 MB 3.8 MB/s eta 0:00:21\n",
      "   ------------------------ --------------- 123.3/199.4 MB 3.8 MB/s eta 0:00:21\n",
      "   ------------------------ --------------- 123.5/199.4 MB 3.8 MB/s eta 0:00:20\n",
      "   ------------------------ --------------- 123.7/199.4 MB 3.9 MB/s eta 0:00:20\n",
      "   ------------------------ --------------- 123.9/199.4 MB 4.0 MB/s eta 0:00:20\n",
      "   ------------------------ --------------- 124.1/199.4 MB 4.0 MB/s eta 0:00:19\n",
      "   ------------------------ --------------- 124.3/199.4 MB 4.0 MB/s eta 0:00:19\n",
      "   ------------------------ --------------- 124.4/199.4 MB 4.1 MB/s eta 0:00:19\n",
      "   ------------------------- -------------- 124.7/199.4 MB 4.1 MB/s eta 0:00:19\n",
      "   ------------------------- -------------- 124.9/199.4 MB 4.2 MB/s eta 0:00:18\n",
      "   ------------------------- -------------- 125.1/199.4 MB 4.2 MB/s eta 0:00:18\n",
      "   ------------------------- -------------- 125.3/199.4 MB 4.2 MB/s eta 0:00:18\n",
      "   ------------------------- -------------- 125.5/199.4 MB 4.2 MB/s eta 0:00:18\n",
      "   ------------------------- -------------- 125.7/199.4 MB 4.3 MB/s eta 0:00:18\n",
      "   ------------------------- -------------- 125.8/199.4 MB 4.2 MB/s eta 0:00:18\n",
      "   ------------------------- -------------- 126.1/199.4 MB 4.3 MB/s eta 0:00:18\n",
      "   ------------------------- -------------- 126.3/199.4 MB 4.3 MB/s eta 0:00:18\n",
      "   ------------------------- -------------- 126.6/199.4 MB 4.3 MB/s eta 0:00:18\n",
      "   ------------------------- -------------- 126.8/199.4 MB 4.3 MB/s eta 0:00:17\n",
      "   ------------------------- -------------- 126.9/199.4 MB 4.3 MB/s eta 0:00:17\n",
      "   ------------------------- -------------- 127.2/199.4 MB 4.3 MB/s eta 0:00:17\n",
      "   ------------------------- -------------- 127.4/199.4 MB 4.3 MB/s eta 0:00:17\n",
      "   ------------------------- -------------- 127.6/199.4 MB 4.4 MB/s eta 0:00:17\n",
      "   ------------------------- -------------- 127.9/199.4 MB 4.4 MB/s eta 0:00:17\n",
      "   ------------------------- -------------- 128.1/199.4 MB 4.4 MB/s eta 0:00:17\n",
      "   ------------------------- -------------- 128.4/199.4 MB 4.4 MB/s eta 0:00:17\n",
      "   ------------------------- -------------- 128.6/199.4 MB 4.4 MB/s eta 0:00:17\n",
      "   ------------------------- -------------- 128.8/199.4 MB 4.5 MB/s eta 0:00:16\n",
      "   ------------------------- -------------- 129.0/199.4 MB 4.5 MB/s eta 0:00:16\n",
      "   ------------------------- -------------- 129.3/199.4 MB 4.5 MB/s eta 0:00:16\n",
      "   ------------------------- -------------- 129.4/199.4 MB 4.5 MB/s eta 0:00:16\n",
      "   -------------------------- ------------- 129.7/199.4 MB 4.5 MB/s eta 0:00:16\n",
      "   -------------------------- ------------- 129.9/199.4 MB 4.5 MB/s eta 0:00:16\n",
      "   -------------------------- ------------- 130.1/199.4 MB 4.5 MB/s eta 0:00:16\n",
      "   -------------------------- ------------- 130.4/199.4 MB 4.5 MB/s eta 0:00:16\n",
      "   -------------------------- ------------- 130.6/199.4 MB 4.5 MB/s eta 0:00:16\n",
      "   -------------------------- ------------- 130.9/199.4 MB 4.5 MB/s eta 0:00:16\n",
      "   -------------------------- ------------- 131.1/199.4 MB 4.5 MB/s eta 0:00:16\n",
      "   -------------------------- ------------- 131.3/199.4 MB 4.5 MB/s eta 0:00:15\n",
      "   -------------------------- ------------- 131.6/199.4 MB 4.5 MB/s eta 0:00:15\n",
      "   -------------------------- ------------- 131.8/199.4 MB 4.6 MB/s eta 0:00:15\n",
      "   -------------------------- ------------- 132.0/199.4 MB 4.6 MB/s eta 0:00:15\n",
      "   -------------------------- ------------- 132.3/199.4 MB 4.6 MB/s eta 0:00:15\n",
      "   -------------------------- ------------- 132.5/199.4 MB 4.6 MB/s eta 0:00:15\n",
      "   -------------------------- ------------- 132.7/199.4 MB 4.6 MB/s eta 0:00:15\n",
      "   -------------------------- ------------- 133.0/199.4 MB 4.6 MB/s eta 0:00:15\n",
      "   -------------------------- ------------- 133.3/199.4 MB 4.6 MB/s eta 0:00:15\n",
      "   -------------------------- ------------- 133.6/199.4 MB 4.6 MB/s eta 0:00:15\n",
      "   -------------------------- ------------- 133.8/199.4 MB 4.6 MB/s eta 0:00:15\n",
      "   -------------------------- ------------- 134.0/199.4 MB 4.6 MB/s eta 0:00:15\n",
      "   -------------------------- ------------- 134.0/199.4 MB 4.5 MB/s eta 0:00:15\n",
      "   -------------------------- ------------- 134.1/199.4 MB 4.6 MB/s eta 0:00:15\n",
      "   -------------------------- ------------- 134.2/199.4 MB 4.5 MB/s eta 0:00:15\n",
      "   -------------------------- ------------- 134.2/199.4 MB 4.5 MB/s eta 0:00:15\n",
      "   -------------------------- ------------- 134.5/199.4 MB 4.4 MB/s eta 0:00:15\n",
      "   --------------------------- ------------ 134.7/199.4 MB 4.5 MB/s eta 0:00:15\n",
      "   --------------------------- ------------ 134.9/199.4 MB 4.5 MB/s eta 0:00:15\n",
      "   --------------------------- ------------ 135.2/199.4 MB 4.4 MB/s eta 0:00:15\n",
      "   --------------------------- ------------ 135.4/199.4 MB 4.5 MB/s eta 0:00:15\n",
      "   --------------------------- ------------ 135.7/199.4 MB 4.5 MB/s eta 0:00:15\n",
      "   --------------------------- ------------ 135.9/199.4 MB 4.5 MB/s eta 0:00:15\n",
      "   --------------------------- ------------ 136.2/199.4 MB 4.6 MB/s eta 0:00:14\n",
      "   --------------------------- ------------ 136.4/199.4 MB 4.6 MB/s eta 0:00:14\n",
      "   --------------------------- ------------ 136.6/199.4 MB 4.6 MB/s eta 0:00:14\n",
      "   --------------------------- ------------ 136.9/199.4 MB 4.6 MB/s eta 0:00:14\n",
      "   --------------------------- ------------ 137.1/199.4 MB 4.6 MB/s eta 0:00:14\n",
      "   --------------------------- ------------ 137.4/199.4 MB 4.6 MB/s eta 0:00:14\n",
      "   --------------------------- ------------ 137.6/199.4 MB 4.6 MB/s eta 0:00:14\n",
      "   --------------------------- ------------ 137.8/199.4 MB 4.6 MB/s eta 0:00:14\n",
      "   --------------------------- ------------ 138.1/199.4 MB 4.6 MB/s eta 0:00:14\n",
      "   --------------------------- ------------ 138.3/199.4 MB 4.7 MB/s eta 0:00:14\n",
      "   --------------------------- ------------ 138.4/199.4 MB 4.6 MB/s eta 0:00:14\n",
      "   --------------------------- ------------ 138.8/199.4 MB 4.6 MB/s eta 0:00:14\n",
      "   --------------------------- ------------ 139.0/199.4 MB 4.7 MB/s eta 0:00:13\n",
      "   --------------------------- ------------ 139.3/199.4 MB 4.7 MB/s eta 0:00:13\n",
      "   --------------------------- ------------ 139.5/199.4 MB 4.7 MB/s eta 0:00:13\n",
      "   ---------------------------- ----------- 139.7/199.4 MB 4.7 MB/s eta 0:00:13\n",
      "   ---------------------------- ----------- 139.9/199.4 MB 4.6 MB/s eta 0:00:13\n",
      "   ---------------------------- ----------- 140.1/199.4 MB 4.7 MB/s eta 0:00:13\n",
      "   ---------------------------- ----------- 140.3/199.4 MB 4.6 MB/s eta 0:00:13\n",
      "   ---------------------------- ----------- 140.6/199.4 MB 4.7 MB/s eta 0:00:13\n",
      "   ---------------------------- ----------- 140.8/199.4 MB 4.6 MB/s eta 0:00:13\n",
      "   ---------------------------- ----------- 141.0/199.4 MB 4.6 MB/s eta 0:00:13\n",
      "   ---------------------------- ----------- 141.3/199.4 MB 4.6 MB/s eta 0:00:13\n",
      "   ---------------------------- ----------- 141.5/199.4 MB 4.6 MB/s eta 0:00:13\n",
      "   ---------------------------- ----------- 141.7/199.4 MB 4.6 MB/s eta 0:00:13\n",
      "   ---------------------------- ----------- 141.9/199.4 MB 4.6 MB/s eta 0:00:13\n",
      "   ---------------------------- ----------- 142.2/199.4 MB 4.6 MB/s eta 0:00:13\n",
      "   ---------------------------- ----------- 142.4/199.4 MB 4.6 MB/s eta 0:00:13\n",
      "   ---------------------------- ----------- 142.6/199.4 MB 4.6 MB/s eta 0:00:13\n",
      "   ---------------------------- ----------- 142.9/199.4 MB 4.6 MB/s eta 0:00:13\n",
      "   ---------------------------- ----------- 143.1/199.4 MB 4.6 MB/s eta 0:00:13\n",
      "   ---------------------------- ----------- 143.3/199.4 MB 4.6 MB/s eta 0:00:13\n",
      "   ---------------------------- ----------- 143.5/199.4 MB 4.5 MB/s eta 0:00:13\n",
      "   ---------------------------- ----------- 143.7/199.4 MB 4.5 MB/s eta 0:00:13\n",
      "   ---------------------------- ----------- 143.9/199.4 MB 4.5 MB/s eta 0:00:13\n",
      "   ---------------------------- ----------- 144.1/199.4 MB 4.5 MB/s eta 0:00:13\n",
      "   ---------------------------- ----------- 144.4/199.4 MB 4.7 MB/s eta 0:00:12\n",
      "   ----------------------------- ---------- 144.7/199.4 MB 4.9 MB/s eta 0:00:12\n",
      "   ----------------------------- ---------- 144.9/199.4 MB 4.8 MB/s eta 0:00:12\n",
      "   ----------------------------- ---------- 145.2/199.4 MB 4.9 MB/s eta 0:00:12\n",
      "   ----------------------------- ---------- 145.4/199.4 MB 4.9 MB/s eta 0:00:12\n",
      "   ----------------------------- ---------- 145.6/199.4 MB 4.9 MB/s eta 0:00:12\n",
      "   ----------------------------- ---------- 145.8/199.4 MB 4.8 MB/s eta 0:00:12\n",
      "   ----------------------------- ---------- 146.1/199.4 MB 4.8 MB/s eta 0:00:11\n",
      "   ----------------------------- ---------- 146.3/199.4 MB 4.8 MB/s eta 0:00:11\n",
      "   ----------------------------- ---------- 146.6/199.4 MB 4.9 MB/s eta 0:00:11\n",
      "   ----------------------------- ---------- 146.9/199.4 MB 4.9 MB/s eta 0:00:11\n",
      "   ----------------------------- ---------- 147.1/199.4 MB 4.8 MB/s eta 0:00:11\n",
      "   ----------------------------- ---------- 147.3/199.4 MB 4.8 MB/s eta 0:00:11\n",
      "   ----------------------------- ---------- 147.5/199.4 MB 4.8 MB/s eta 0:00:11\n",
      "   ----------------------------- ---------- 147.8/199.4 MB 4.9 MB/s eta 0:00:11\n",
      "   ----------------------------- ---------- 147.8/199.4 MB 4.9 MB/s eta 0:00:11\n",
      "   ----------------------------- ---------- 147.8/199.4 MB 4.9 MB/s eta 0:00:11\n",
      "   ----------------------------- ---------- 147.8/199.4 MB 4.9 MB/s eta 0:00:11\n",
      "   ----------------------------- ---------- 147.8/199.4 MB 4.9 MB/s eta 0:00:11\n",
      "   ----------------------------- ---------- 148.0/199.4 MB 4.4 MB/s eta 0:00:12\n",
      "   ----------------------------- ---------- 148.1/199.4 MB 4.4 MB/s eta 0:00:12\n",
      "   ----------------------------- ---------- 148.4/199.4 MB 4.4 MB/s eta 0:00:12\n",
      "   ----------------------------- ---------- 148.7/199.4 MB 4.5 MB/s eta 0:00:12\n",
      "   ----------------------------- ---------- 148.8/199.4 MB 4.4 MB/s eta 0:00:12\n",
      "   ----------------------------- ---------- 149.1/199.4 MB 4.4 MB/s eta 0:00:12\n",
      "   ----------------------------- ---------- 149.4/199.4 MB 4.4 MB/s eta 0:00:12\n",
      "   ------------------------------ --------- 149.6/199.4 MB 4.4 MB/s eta 0:00:12\n",
      "   ------------------------------ --------- 149.8/199.4 MB 4.5 MB/s eta 0:00:12\n",
      "   ------------------------------ --------- 150.1/199.4 MB 4.4 MB/s eta 0:00:12\n",
      "   ------------------------------ --------- 150.3/199.4 MB 4.5 MB/s eta 0:00:12\n",
      "   ------------------------------ --------- 150.5/199.4 MB 4.4 MB/s eta 0:00:12\n",
      "   ------------------------------ --------- 150.8/199.4 MB 4.5 MB/s eta 0:00:11\n",
      "   ------------------------------ --------- 151.1/199.4 MB 4.5 MB/s eta 0:00:11\n",
      "   ------------------------------ --------- 151.3/199.4 MB 4.5 MB/s eta 0:00:11\n",
      "   ------------------------------ --------- 151.5/199.4 MB 4.5 MB/s eta 0:00:11\n",
      "   ------------------------------ --------- 151.7/199.4 MB 4.5 MB/s eta 0:00:11\n",
      "   ------------------------------ --------- 151.8/199.4 MB 4.4 MB/s eta 0:00:11\n",
      "   ------------------------------ --------- 152.1/199.4 MB 4.4 MB/s eta 0:00:11\n",
      "   ------------------------------ --------- 152.4/199.4 MB 4.4 MB/s eta 0:00:11\n",
      "   ------------------------------ --------- 152.6/199.4 MB 4.5 MB/s eta 0:00:11\n",
      "   ------------------------------ --------- 152.9/199.4 MB 4.5 MB/s eta 0:00:11\n",
      "   ------------------------------ --------- 153.1/199.4 MB 4.5 MB/s eta 0:00:11\n",
      "   ------------------------------ --------- 153.3/199.4 MB 4.4 MB/s eta 0:00:11\n",
      "   ------------------------------ --------- 153.5/199.4 MB 4.5 MB/s eta 0:00:11\n",
      "   ------------------------------ --------- 153.8/199.4 MB 4.5 MB/s eta 0:00:11\n",
      "   ------------------------------ --------- 154.0/199.4 MB 4.5 MB/s eta 0:00:11\n",
      "   ------------------------------ --------- 154.2/199.4 MB 4.5 MB/s eta 0:00:11\n",
      "   ------------------------------ --------- 154.5/199.4 MB 4.5 MB/s eta 0:00:11\n",
      "   ------------------------------- -------- 154.7/199.4 MB 4.5 MB/s eta 0:00:10\n",
      "   ------------------------------- -------- 154.8/199.4 MB 4.5 MB/s eta 0:00:10\n",
      "   ------------------------------- -------- 155.1/199.4 MB 4.5 MB/s eta 0:00:10\n",
      "   ------------------------------- -------- 155.4/199.4 MB 4.5 MB/s eta 0:00:10\n",
      "   ------------------------------- -------- 155.8/199.4 MB 4.5 MB/s eta 0:00:10\n",
      "   ------------------------------- -------- 156.0/199.4 MB 4.5 MB/s eta 0:00:10\n",
      "   ------------------------------- -------- 156.2/199.4 MB 4.5 MB/s eta 0:00:10\n",
      "   ------------------------------- -------- 156.4/199.4 MB 4.5 MB/s eta 0:00:10\n",
      "   ------------------------------- -------- 156.7/199.4 MB 4.4 MB/s eta 0:00:10\n",
      "   ------------------------------- -------- 156.9/199.4 MB 4.4 MB/s eta 0:00:10\n",
      "   ------------------------------- -------- 157.1/199.4 MB 4.5 MB/s eta 0:00:10\n",
      "   ------------------------------- -------- 157.3/199.4 MB 4.4 MB/s eta 0:00:10\n",
      "   ------------------------------- -------- 157.5/199.4 MB 4.4 MB/s eta 0:00:10\n",
      "   ------------------------------- -------- 157.7/199.4 MB 4.4 MB/s eta 0:00:10\n",
      "   ------------------------------- -------- 157.8/199.4 MB 4.3 MB/s eta 0:00:10\n",
      "   ------------------------------- -------- 157.9/199.4 MB 4.3 MB/s eta 0:00:10\n",
      "   ------------------------------- -------- 158.2/199.4 MB 4.7 MB/s eta 0:00:09\n",
      "   ------------------------------- -------- 158.4/199.4 MB 4.7 MB/s eta 0:00:09\n",
      "   ------------------------------- -------- 158.6/199.4 MB 4.7 MB/s eta 0:00:09\n",
      "   ------------------------------- -------- 158.8/199.4 MB 4.7 MB/s eta 0:00:09\n",
      "   ------------------------------- -------- 159.0/199.4 MB 4.7 MB/s eta 0:00:09\n",
      "   ------------------------------- -------- 159.2/199.4 MB 4.7 MB/s eta 0:00:09\n",
      "   ------------------------------- -------- 159.4/199.4 MB 4.6 MB/s eta 0:00:09\n",
      "   -------------------------------- ------- 159.6/199.4 MB 4.6 MB/s eta 0:00:09\n",
      "   -------------------------------- ------- 159.7/199.4 MB 4.6 MB/s eta 0:00:09\n",
      "   -------------------------------- ------- 160.0/199.4 MB 4.6 MB/s eta 0:00:09\n",
      "   -------------------------------- ------- 160.2/199.4 MB 4.5 MB/s eta 0:00:09\n",
      "   -------------------------------- ------- 160.4/199.4 MB 4.5 MB/s eta 0:00:09\n",
      "   -------------------------------- ------- 160.4/199.4 MB 4.5 MB/s eta 0:00:09\n",
      "   -------------------------------- ------- 160.7/199.4 MB 4.5 MB/s eta 0:00:09\n",
      "   -------------------------------- ------- 160.8/199.4 MB 4.4 MB/s eta 0:00:09\n",
      "   -------------------------------- ------- 161.0/199.4 MB 4.4 MB/s eta 0:00:09\n",
      "   -------------------------------- ------- 161.1/199.4 MB 4.4 MB/s eta 0:00:09\n",
      "   -------------------------------- ------- 161.2/199.4 MB 4.3 MB/s eta 0:00:09\n",
      "   -------------------------------- ------- 161.4/199.4 MB 4.3 MB/s eta 0:00:09\n",
      "   -------------------------------- ------- 161.6/199.4 MB 4.3 MB/s eta 0:00:09\n",
      "   -------------------------------- ------- 161.7/199.4 MB 4.3 MB/s eta 0:00:09\n",
      "   -------------------------------- ------- 162.0/199.4 MB 4.3 MB/s eta 0:00:09\n",
      "   -------------------------------- ------- 162.2/199.4 MB 4.3 MB/s eta 0:00:09\n",
      "   -------------------------------- ------- 162.3/199.4 MB 4.2 MB/s eta 0:00:09\n",
      "   -------------------------------- ------- 162.5/199.4 MB 4.2 MB/s eta 0:00:09\n",
      "   -------------------------------- ------- 162.7/199.4 MB 4.2 MB/s eta 0:00:09\n",
      "   -------------------------------- ------- 162.9/199.4 MB 4.2 MB/s eta 0:00:09\n",
      "   -------------------------------- ------- 163.1/199.4 MB 4.2 MB/s eta 0:00:09\n",
      "   -------------------------------- ------- 163.3/199.4 MB 4.2 MB/s eta 0:00:09\n",
      "   -------------------------------- ------- 163.5/199.4 MB 4.2 MB/s eta 0:00:09\n",
      "   -------------------------------- ------- 163.7/199.4 MB 4.1 MB/s eta 0:00:09\n",
      "   -------------------------------- ------- 163.8/199.4 MB 4.1 MB/s eta 0:00:09\n",
      "   -------------------------------- ------- 164.0/199.4 MB 4.1 MB/s eta 0:00:09\n",
      "   -------------------------------- ------- 164.2/199.4 MB 4.1 MB/s eta 0:00:09\n",
      "   -------------------------------- ------- 164.3/199.4 MB 4.1 MB/s eta 0:00:09\n",
      "   --------------------------------- ------ 164.5/199.4 MB 4.0 MB/s eta 0:00:09\n",
      "   --------------------------------- ------ 164.7/199.4 MB 4.0 MB/s eta 0:00:09\n",
      "   --------------------------------- ------ 164.9/199.4 MB 4.0 MB/s eta 0:00:09\n",
      "   --------------------------------- ------ 165.1/199.4 MB 4.0 MB/s eta 0:00:09\n",
      "   --------------------------------- ------ 165.3/199.4 MB 4.0 MB/s eta 0:00:09\n",
      "   --------------------------------- ------ 165.4/199.4 MB 4.0 MB/s eta 0:00:09\n",
      "   --------------------------------- ------ 165.6/199.4 MB 3.9 MB/s eta 0:00:09\n",
      "   --------------------------------- ------ 165.8/199.4 MB 3.9 MB/s eta 0:00:09\n",
      "   --------------------------------- ------ 166.0/199.4 MB 3.9 MB/s eta 0:00:09\n",
      "   --------------------------------- ------ 166.1/199.4 MB 3.9 MB/s eta 0:00:09\n",
      "   --------------------------------- ------ 166.4/199.4 MB 3.9 MB/s eta 0:00:09\n",
      "   --------------------------------- ------ 166.6/199.4 MB 3.9 MB/s eta 0:00:09\n",
      "   --------------------------------- ------ 166.8/199.4 MB 3.9 MB/s eta 0:00:09\n",
      "   --------------------------------- ------ 167.0/199.4 MB 3.9 MB/s eta 0:00:09\n",
      "   --------------------------------- ------ 167.2/199.4 MB 3.9 MB/s eta 0:00:09\n",
      "   --------------------------------- ------ 167.3/199.4 MB 3.8 MB/s eta 0:00:09\n",
      "   --------------------------------- ------ 167.5/199.4 MB 3.9 MB/s eta 0:00:09\n",
      "   --------------------------------- ------ 167.7/199.4 MB 3.9 MB/s eta 0:00:09\n",
      "   --------------------------------- ------ 168.0/199.4 MB 3.9 MB/s eta 0:00:09\n",
      "   --------------------------------- ------ 168.2/199.4 MB 3.9 MB/s eta 0:00:08\n",
      "   --------------------------------- ------ 168.4/199.4 MB 3.9 MB/s eta 0:00:08\n",
      "   --------------------------------- ------ 168.7/199.4 MB 3.9 MB/s eta 0:00:08\n",
      "   --------------------------------- ------ 168.9/199.4 MB 3.9 MB/s eta 0:00:08\n",
      "   --------------------------------- ------ 169.1/199.4 MB 3.9 MB/s eta 0:00:08\n",
      "   --------------------------------- ------ 169.3/199.4 MB 3.9 MB/s eta 0:00:08\n",
      "   ---------------------------------- ----- 169.5/199.4 MB 3.9 MB/s eta 0:00:08\n",
      "   ---------------------------------- ----- 169.8/199.4 MB 3.9 MB/s eta 0:00:08\n",
      "   ---------------------------------- ----- 169.9/199.4 MB 4.0 MB/s eta 0:00:08\n",
      "   ---------------------------------- ----- 170.2/199.4 MB 4.0 MB/s eta 0:00:08\n",
      "   ---------------------------------- ----- 170.4/199.4 MB 3.9 MB/s eta 0:00:08\n",
      "   ---------------------------------- ----- 170.6/199.4 MB 4.0 MB/s eta 0:00:08\n",
      "   ---------------------------------- ----- 170.9/199.4 MB 4.0 MB/s eta 0:00:08\n",
      "   ---------------------------------- ----- 171.2/199.4 MB 4.1 MB/s eta 0:00:07\n",
      "   ---------------------------------- ----- 171.3/199.4 MB 4.1 MB/s eta 0:00:07\n",
      "   ---------------------------------- ----- 171.5/199.4 MB 4.1 MB/s eta 0:00:07\n",
      "   ---------------------------------- ----- 171.7/199.4 MB 4.2 MB/s eta 0:00:07\n",
      "   ---------------------------------- ----- 172.0/199.4 MB 4.2 MB/s eta 0:00:07\n",
      "   ---------------------------------- ----- 172.2/199.4 MB 4.2 MB/s eta 0:00:07\n",
      "   ---------------------------------- ----- 172.5/199.4 MB 4.2 MB/s eta 0:00:07\n",
      "   ---------------------------------- ----- 172.7/199.4 MB 4.3 MB/s eta 0:00:07\n",
      "   ---------------------------------- ----- 172.9/199.4 MB 4.3 MB/s eta 0:00:07\n",
      "   ---------------------------------- ----- 173.0/199.4 MB 4.2 MB/s eta 0:00:07\n",
      "   ---------------------------------- ----- 173.3/199.4 MB 4.3 MB/s eta 0:00:07\n",
      "   ---------------------------------- ----- 173.5/199.4 MB 4.3 MB/s eta 0:00:07\n",
      "   ---------------------------------- ----- 173.6/199.4 MB 4.3 MB/s eta 0:00:07\n",
      "   ---------------------------------- ----- 173.9/199.4 MB 4.3 MB/s eta 0:00:06\n",
      "   ---------------------------------- ----- 174.1/199.4 MB 4.3 MB/s eta 0:00:06\n",
      "   ---------------------------------- ----- 174.3/199.4 MB 4.3 MB/s eta 0:00:06\n",
      "   ----------------------------------- ---- 174.5/199.4 MB 4.3 MB/s eta 0:00:06\n",
      "   ----------------------------------- ---- 174.7/199.4 MB 4.3 MB/s eta 0:00:06\n",
      "   ----------------------------------- ---- 174.9/199.4 MB 4.4 MB/s eta 0:00:06\n",
      "   ----------------------------------- ---- 175.0/199.4 MB 4.3 MB/s eta 0:00:06\n",
      "   ----------------------------------- ---- 175.2/199.4 MB 4.3 MB/s eta 0:00:06\n",
      "   ----------------------------------- ---- 175.2/199.4 MB 4.3 MB/s eta 0:00:06\n",
      "   ----------------------------------- ---- 175.3/199.4 MB 4.3 MB/s eta 0:00:06\n",
      "   ----------------------------------- ---- 175.4/199.4 MB 4.1 MB/s eta 0:00:06\n",
      "   ----------------------------------- ---- 175.5/199.4 MB 4.1 MB/s eta 0:00:06\n",
      "   ----------------------------------- ---- 175.6/199.4 MB 4.1 MB/s eta 0:00:06\n",
      "   ----------------------------------- ---- 175.7/199.4 MB 4.0 MB/s eta 0:00:06\n",
      "   ----------------------------------- ---- 175.8/199.4 MB 4.0 MB/s eta 0:00:06\n",
      "   ----------------------------------- ---- 175.9/199.4 MB 4.0 MB/s eta 0:00:06\n",
      "   ----------------------------------- ---- 176.0/199.4 MB 4.0 MB/s eta 0:00:06\n",
      "   ----------------------------------- ---- 176.2/199.4 MB 3.9 MB/s eta 0:00:06\n",
      "   ----------------------------------- ---- 176.3/199.4 MB 4.0 MB/s eta 0:00:06\n",
      "   ----------------------------------- ---- 176.4/199.4 MB 3.9 MB/s eta 0:00:06\n",
      "   ----------------------------------- ---- 176.5/199.4 MB 3.9 MB/s eta 0:00:06\n",
      "   ----------------------------------- ---- 176.6/199.4 MB 3.8 MB/s eta 0:00:06\n",
      "   ----------------------------------- ---- 176.6/199.4 MB 3.8 MB/s eta 0:00:07\n",
      "   ----------------------------------- ---- 176.7/199.4 MB 3.7 MB/s eta 0:00:07\n",
      "   ----------------------------------- ---- 176.8/199.4 MB 3.7 MB/s eta 0:00:07\n",
      "   ----------------------------------- ---- 176.9/199.4 MB 3.7 MB/s eta 0:00:07\n",
      "   ----------------------------------- ---- 177.0/199.4 MB 3.6 MB/s eta 0:00:07\n",
      "   ----------------------------------- ---- 177.1/199.4 MB 3.6 MB/s eta 0:00:07\n",
      "   ----------------------------------- ---- 177.3/199.4 MB 3.6 MB/s eta 0:00:07\n",
      "   ----------------------------------- ---- 177.4/199.4 MB 3.6 MB/s eta 0:00:07\n",
      "   ----------------------------------- ---- 177.5/199.4 MB 3.6 MB/s eta 0:00:07\n",
      "   ----------------------------------- ---- 177.7/199.4 MB 3.5 MB/s eta 0:00:07\n",
      "   ----------------------------------- ---- 177.8/199.4 MB 3.5 MB/s eta 0:00:07\n",
      "   ----------------------------------- ---- 178.0/199.4 MB 3.5 MB/s eta 0:00:07\n",
      "   ----------------------------------- ---- 178.1/199.4 MB 3.5 MB/s eta 0:00:07\n",
      "   ----------------------------------- ---- 178.3/199.4 MB 3.5 MB/s eta 0:00:07\n",
      "   ----------------------------------- ---- 178.4/199.4 MB 3.4 MB/s eta 0:00:07\n",
      "   ----------------------------------- ---- 178.5/199.4 MB 3.4 MB/s eta 0:00:07\n",
      "   ----------------------------------- ---- 178.6/199.4 MB 3.4 MB/s eta 0:00:07\n",
      "   ----------------------------------- ---- 178.7/199.4 MB 3.4 MB/s eta 0:00:07\n",
      "   ----------------------------------- ---- 178.7/199.4 MB 3.3 MB/s eta 0:00:07\n",
      "   ----------------------------------- ---- 178.9/199.4 MB 3.3 MB/s eta 0:00:07\n",
      "   ----------------------------------- ---- 179.1/199.4 MB 3.3 MB/s eta 0:00:07\n",
      "   ----------------------------------- ---- 179.2/199.4 MB 3.3 MB/s eta 0:00:07\n",
      "   ----------------------------------- ---- 179.4/199.4 MB 3.3 MB/s eta 0:00:07\n",
      "   ------------------------------------ --- 179.5/199.4 MB 3.2 MB/s eta 0:00:07\n",
      "   ------------------------------------ --- 179.7/199.4 MB 3.3 MB/s eta 0:00:07\n",
      "   ------------------------------------ --- 179.9/199.4 MB 3.2 MB/s eta 0:00:07\n",
      "   ------------------------------------ --- 180.1/199.4 MB 3.2 MB/s eta 0:00:06\n",
      "   ------------------------------------ --- 180.3/199.4 MB 3.2 MB/s eta 0:00:06\n",
      "   ------------------------------------ --- 180.4/199.4 MB 3.2 MB/s eta 0:00:06\n",
      "   ------------------------------------ --- 180.6/199.4 MB 3.2 MB/s eta 0:00:06\n",
      "   ------------------------------------ --- 180.8/199.4 MB 3.2 MB/s eta 0:00:06\n",
      "   ------------------------------------ --- 181.0/199.4 MB 3.2 MB/s eta 0:00:06\n",
      "   ------------------------------------ --- 181.2/199.4 MB 3.2 MB/s eta 0:00:06\n",
      "   ------------------------------------ --- 181.4/199.4 MB 3.2 MB/s eta 0:00:06\n",
      "   ------------------------------------ --- 181.5/199.4 MB 3.2 MB/s eta 0:00:06\n",
      "   ------------------------------------ --- 181.7/199.4 MB 3.1 MB/s eta 0:00:06\n",
      "   ------------------------------------ --- 181.8/199.4 MB 3.1 MB/s eta 0:00:06\n",
      "   ------------------------------------ --- 181.9/199.4 MB 3.1 MB/s eta 0:00:06\n",
      "   ------------------------------------ --- 182.1/199.4 MB 3.1 MB/s eta 0:00:06\n",
      "   ------------------------------------ --- 182.2/199.4 MB 3.1 MB/s eta 0:00:06\n",
      "   ------------------------------------ --- 182.4/199.4 MB 3.1 MB/s eta 0:00:06\n",
      "   ------------------------------------ --- 182.5/199.4 MB 3.0 MB/s eta 0:00:06\n",
      "   ------------------------------------ --- 182.7/199.4 MB 3.0 MB/s eta 0:00:06\n",
      "   ------------------------------------ --- 182.9/199.4 MB 3.0 MB/s eta 0:00:06\n",
      "   ------------------------------------ --- 183.0/199.4 MB 3.0 MB/s eta 0:00:06\n",
      "   ------------------------------------ --- 183.1/199.4 MB 3.0 MB/s eta 0:00:06\n",
      "   ------------------------------------ --- 183.3/199.4 MB 3.0 MB/s eta 0:00:06\n",
      "   ------------------------------------ --- 183.4/199.4 MB 3.0 MB/s eta 0:00:06\n",
      "   ------------------------------------ --- 183.5/199.4 MB 2.9 MB/s eta 0:00:06\n",
      "   ------------------------------------ --- 183.6/199.4 MB 2.9 MB/s eta 0:00:06\n",
      "   ------------------------------------ --- 183.7/199.4 MB 2.9 MB/s eta 0:00:06\n",
      "   ------------------------------------ --- 183.8/199.4 MB 2.9 MB/s eta 0:00:06\n",
      "   ------------------------------------ --- 183.8/199.4 MB 2.9 MB/s eta 0:00:06\n",
      "   ------------------------------------ --- 183.9/199.4 MB 2.8 MB/s eta 0:00:06\n",
      "   ------------------------------------ --- 184.0/199.4 MB 2.8 MB/s eta 0:00:06\n",
      "   ------------------------------------ --- 184.1/199.4 MB 2.8 MB/s eta 0:00:06\n",
      "   ------------------------------------ --- 184.2/199.4 MB 2.8 MB/s eta 0:00:06\n",
      "   ------------------------------------ --- 184.3/199.4 MB 2.8 MB/s eta 0:00:06\n",
      "   ------------------------------------- -- 184.5/199.4 MB 2.8 MB/s eta 0:00:06\n",
      "   ------------------------------------- -- 184.6/199.4 MB 2.7 MB/s eta 0:00:06\n",
      "   ------------------------------------- -- 184.7/199.4 MB 2.7 MB/s eta 0:00:06\n",
      "   ------------------------------------- -- 184.9/199.4 MB 2.7 MB/s eta 0:00:06\n",
      "   ------------------------------------- -- 185.0/199.4 MB 2.7 MB/s eta 0:00:06\n",
      "   ------------------------------------- -- 185.2/199.4 MB 2.7 MB/s eta 0:00:06\n",
      "   ------------------------------------- -- 185.4/199.4 MB 2.7 MB/s eta 0:00:06\n",
      "   ------------------------------------- -- 185.5/199.4 MB 2.7 MB/s eta 0:00:06\n",
      "   ------------------------------------- -- 185.7/199.4 MB 2.8 MB/s eta 0:00:05\n",
      "   ------------------------------------- -- 185.8/199.4 MB 2.8 MB/s eta 0:00:05\n",
      "   ------------------------------------- -- 186.0/199.4 MB 2.8 MB/s eta 0:00:05\n",
      "   ------------------------------------- -- 186.2/199.4 MB 2.8 MB/s eta 0:00:05\n",
      "   ------------------------------------- -- 186.3/199.4 MB 2.9 MB/s eta 0:00:05\n",
      "   ------------------------------------- -- 186.5/199.4 MB 2.9 MB/s eta 0:00:05\n",
      "   ------------------------------------- -- 186.7/199.4 MB 2.9 MB/s eta 0:00:05\n",
      "   ------------------------------------- -- 186.8/199.4 MB 2.9 MB/s eta 0:00:05\n",
      "   ------------------------------------- -- 187.0/199.4 MB 3.0 MB/s eta 0:00:05\n",
      "   ------------------------------------- -- 187.2/199.4 MB 3.0 MB/s eta 0:00:05\n",
      "   ------------------------------------- -- 187.4/199.4 MB 3.0 MB/s eta 0:00:04\n",
      "   ------------------------------------- -- 187.6/199.4 MB 3.0 MB/s eta 0:00:04\n",
      "   ------------------------------------- -- 187.7/199.4 MB 3.0 MB/s eta 0:00:04\n",
      "   ------------------------------------- -- 187.7/199.4 MB 3.0 MB/s eta 0:00:04\n",
      "   ------------------------------------- -- 187.8/199.4 MB 3.0 MB/s eta 0:00:04\n",
      "   ------------------------------------- -- 187.9/199.4 MB 3.0 MB/s eta 0:00:04\n",
      "   ------------------------------------- -- 188.0/199.4 MB 3.0 MB/s eta 0:00:04\n",
      "   ------------------------------------- -- 188.2/199.4 MB 3.0 MB/s eta 0:00:04\n",
      "   ------------------------------------- -- 188.3/199.4 MB 3.0 MB/s eta 0:00:04\n",
      "   ------------------------------------- -- 188.5/199.4 MB 3.0 MB/s eta 0:00:04\n",
      "   ------------------------------------- -- 188.6/199.4 MB 3.0 MB/s eta 0:00:04\n",
      "   ------------------------------------- -- 188.8/199.4 MB 2.9 MB/s eta 0:00:04\n",
      "   ------------------------------------- -- 189.0/199.4 MB 3.0 MB/s eta 0:00:04\n",
      "   ------------------------------------- -- 189.1/199.4 MB 3.1 MB/s eta 0:00:04\n",
      "   ------------------------------------- -- 189.4/199.4 MB 3.1 MB/s eta 0:00:04\n",
      "   -------------------------------------- - 189.5/199.4 MB 3.1 MB/s eta 0:00:04\n",
      "   -------------------------------------- - 189.7/199.4 MB 3.1 MB/s eta 0:00:04\n",
      "   -------------------------------------- - 189.9/199.4 MB 3.1 MB/s eta 0:00:04\n",
      "   -------------------------------------- - 190.1/199.4 MB 3.1 MB/s eta 0:00:04\n",
      "   -------------------------------------- - 190.3/199.4 MB 3.1 MB/s eta 0:00:03\n",
      "   -------------------------------------- - 190.5/199.4 MB 3.1 MB/s eta 0:00:03\n",
      "   -------------------------------------- - 190.7/199.4 MB 3.1 MB/s eta 0:00:03\n",
      "   -------------------------------------- - 190.9/199.4 MB 3.1 MB/s eta 0:00:03\n",
      "   -------------------------------------- - 191.1/199.4 MB 3.1 MB/s eta 0:00:03\n",
      "   -------------------------------------- - 191.3/199.4 MB 3.1 MB/s eta 0:00:03\n",
      "   -------------------------------------- - 191.5/199.4 MB 3.1 MB/s eta 0:00:03\n",
      "   -------------------------------------- - 191.7/199.4 MB 3.1 MB/s eta 0:00:03\n",
      "   -------------------------------------- - 191.9/199.4 MB 3.1 MB/s eta 0:00:03\n",
      "   -------------------------------------- - 192.1/199.4 MB 3.2 MB/s eta 0:00:03\n",
      "   -------------------------------------- - 192.3/199.4 MB 3.2 MB/s eta 0:00:03\n",
      "   -------------------------------------- - 192.6/199.4 MB 3.2 MB/s eta 0:00:03\n",
      "   -------------------------------------- - 192.8/199.4 MB 3.2 MB/s eta 0:00:03\n",
      "   -------------------------------------- - 192.9/199.4 MB 3.2 MB/s eta 0:00:03\n",
      "   -------------------------------------- - 193.1/199.4 MB 3.2 MB/s eta 0:00:02\n",
      "   -------------------------------------- - 193.3/199.4 MB 3.2 MB/s eta 0:00:02\n",
      "   -------------------------------------- - 193.5/199.4 MB 3.3 MB/s eta 0:00:02\n",
      "   -------------------------------------- - 193.7/199.4 MB 3.3 MB/s eta 0:00:02\n",
      "   -------------------------------------- - 193.9/199.4 MB 3.3 MB/s eta 0:00:02\n",
      "   -------------------------------------- - 194.0/199.4 MB 3.4 MB/s eta 0:00:02\n",
      "   -------------------------------------- - 194.2/199.4 MB 3.5 MB/s eta 0:00:02\n",
      "   -------------------------------------- - 194.4/199.4 MB 3.5 MB/s eta 0:00:02\n",
      "   ---------------------------------------  194.5/199.4 MB 3.5 MB/s eta 0:00:02\n",
      "   ---------------------------------------  194.7/199.4 MB 3.6 MB/s eta 0:00:02\n",
      "   ---------------------------------------  194.9/199.4 MB 3.6 MB/s eta 0:00:02\n",
      "   ---------------------------------------  195.1/199.4 MB 3.6 MB/s eta 0:00:02\n",
      "   ---------------------------------------  195.3/199.4 MB 3.6 MB/s eta 0:00:02\n",
      "   ---------------------------------------  195.5/199.4 MB 3.6 MB/s eta 0:00:02\n",
      "   ---------------------------------------  195.6/199.4 MB 3.6 MB/s eta 0:00:02\n",
      "   ---------------------------------------  195.8/199.4 MB 3.6 MB/s eta 0:00:01\n",
      "   ---------------------------------------  195.9/199.4 MB 3.7 MB/s eta 0:00:01\n",
      "   ---------------------------------------  196.1/199.4 MB 3.6 MB/s eta 0:00:01\n",
      "   ---------------------------------------  196.4/199.4 MB 3.7 MB/s eta 0:00:01\n",
      "   ---------------------------------------  196.5/199.4 MB 3.7 MB/s eta 0:00:01\n",
      "   ---------------------------------------  196.7/199.4 MB 3.7 MB/s eta 0:00:01\n",
      "   ---------------------------------------  196.9/199.4 MB 3.7 MB/s eta 0:00:01\n",
      "   ---------------------------------------  197.0/199.4 MB 3.7 MB/s eta 0:00:01\n",
      "   ---------------------------------------  197.2/199.4 MB 3.7 MB/s eta 0:00:01\n",
      "   ---------------------------------------  197.4/199.4 MB 3.7 MB/s eta 0:00:01\n",
      "   ---------------------------------------  197.6/199.4 MB 3.7 MB/s eta 0:00:01\n",
      "   ---------------------------------------  197.8/199.4 MB 3.7 MB/s eta 0:00:01\n",
      "   ---------------------------------------  198.0/199.4 MB 3.8 MB/s eta 0:00:01\n",
      "   ---------------------------------------  198.2/199.4 MB 3.9 MB/s eta 0:00:01\n",
      "   ---------------------------------------  198.3/199.4 MB 3.9 MB/s eta 0:00:01\n",
      "   ---------------------------------------  198.5/199.4 MB 3.9 MB/s eta 0:00:01\n",
      "   ---------------------------------------  198.7/199.4 MB 3.9 MB/s eta 0:00:01\n",
      "   ---------------------------------------  198.9/199.4 MB 3.9 MB/s eta 0:00:01\n",
      "   ---------------------------------------  199.1/199.4 MB 3.9 MB/s eta 0:00:01\n",
      "   ---------------------------------------  199.2/199.4 MB 3.9 MB/s eta 0:00:01\n",
      "   ---------------------------------------  199.4/199.4 MB 3.9 MB/s eta 0:00:01\n",
      "   ---------------------------------------  199.4/199.4 MB 3.9 MB/s eta 0:00:01\n",
      "   ---------------------------------------  199.4/199.4 MB 3.9 MB/s eta 0:00:01\n",
      "   ---------------------------------------  199.4/199.4 MB 3.9 MB/s eta 0:00:01\n",
      "   ---------------------------------------  199.4/199.4 MB 3.9 MB/s eta 0:00:01\n",
      "   ---------------------------------------  199.4/199.4 MB 3.9 MB/s eta 0:00:01\n",
      "   ---------------------------------------  199.4/199.4 MB 3.9 MB/s eta 0:00:01\n",
      "   ---------------------------------------  199.4/199.4 MB 3.9 MB/s eta 0:00:01\n",
      "   ---------------------------------------  199.4/199.4 MB 3.9 MB/s eta 0:00:01\n",
      "   ---------------------------------------  199.4/199.4 MB 3.9 MB/s eta 0:00:01\n",
      "   ---------------------------------------  199.4/199.4 MB 3.9 MB/s eta 0:00:01\n",
      "   ---------------------------------------  199.4/199.4 MB 3.9 MB/s eta 0:00:01\n",
      "   ---------------------------------------  199.4/199.4 MB 3.9 MB/s eta 0:00:01\n",
      "   ---------------------------------------  199.4/199.4 MB 3.9 MB/s eta 0:00:01\n",
      "   ---------------------------------------  199.4/199.4 MB 3.9 MB/s eta 0:00:01\n",
      "   ---------------------------------------  199.4/199.4 MB 3.9 MB/s eta 0:00:01\n",
      "   ---------------------------------------  199.4/199.4 MB 3.9 MB/s eta 0:00:01\n",
      "   ---------------------------------------  199.4/199.4 MB 3.9 MB/s eta 0:00:01\n",
      "   ---------------------------------------  199.4/199.4 MB 3.9 MB/s eta 0:00:01\n",
      "   ---------------------------------------- 199.4/199.4 MB 2.4 MB/s eta 0:00:00\n",
      "Using cached typing_extensions-4.12.2-py3-none-any.whl (37 kB)\n",
      "Downloading filelock-3.16.1-py3-none-any.whl (16 kB)\n",
      "Downloading fsspec-2024.9.0-py3-none-any.whl (179 kB)\n",
      "   ---------------------------------------- 0.0/179.3 kB ? eta -:--:--\n",
      "   -------------------------------------- - 174.1/179.3 kB 5.3 MB/s eta 0:00:01\n",
      "   ---------------------------------------- 179.3/179.3 kB 3.6 MB/s eta 0:00:00\n",
      "Downloading networkx-3.3-py3-none-any.whl (1.7 MB)\n",
      "   ---------------------------------------- 0.0/1.7 MB ? eta -:--:--\n",
      "   --- ------------------------------------ 0.2/1.7 MB 4.6 MB/s eta 0:00:01\n",
      "   ------- -------------------------------- 0.3/1.7 MB 5.2 MB/s eta 0:00:01\n",
      "   ------------ --------------------------- 0.5/1.7 MB 4.3 MB/s eta 0:00:01\n",
      "   ----------------- ---------------------- 0.7/1.7 MB 4.7 MB/s eta 0:00:01\n",
      "   ---------------------- ----------------- 1.0/1.7 MB 4.6 MB/s eta 0:00:01\n",
      "   --------------------------- ------------ 1.2/1.7 MB 4.3 MB/s eta 0:00:01\n",
      "   -------------------------------- ------- 1.4/1.7 MB 4.6 MB/s eta 0:00:01\n",
      "   ------------------------------------ --- 1.6/1.7 MB 4.3 MB/s eta 0:00:01\n",
      "   ---------------------------------------  1.7/1.7 MB 4.5 MB/s eta 0:00:01\n",
      "   ---------------------------------------- 1.7/1.7 MB 4.2 MB/s eta 0:00:00\n",
      "Downloading sympy-1.13.3-py3-none-any.whl (6.2 MB)\n",
      "   ---------------------------------------- 0.0/6.2 MB ? eta -:--:--\n",
      "   - -------------------------------------- 0.2/6.2 MB 5.9 MB/s eta 0:00:02\n",
      "   -- ------------------------------------- 0.4/6.2 MB 4.5 MB/s eta 0:00:02\n",
      "   --- ------------------------------------ 0.6/6.2 MB 4.4 MB/s eta 0:00:02\n",
      "   ---- ----------------------------------- 0.8/6.2 MB 4.4 MB/s eta 0:00:02\n",
      "   ------ --------------------------------- 1.0/6.2 MB 4.4 MB/s eta 0:00:02\n",
      "   ------- -------------------------------- 1.2/6.2 MB 4.7 MB/s eta 0:00:02\n",
      "   --------- ------------------------------ 1.4/6.2 MB 4.5 MB/s eta 0:00:02\n",
      "   ---------- ----------------------------- 1.6/6.2 MB 4.5 MB/s eta 0:00:02\n",
      "   ----------- ---------------------------- 1.8/6.2 MB 4.4 MB/s eta 0:00:01\n",
      "   ------------- -------------------------- 2.0/6.2 MB 4.5 MB/s eta 0:00:01\n",
      "   -------------- ------------------------- 2.3/6.2 MB 4.5 MB/s eta 0:00:01\n",
      "   --------------- ------------------------ 2.5/6.2 MB 4.5 MB/s eta 0:00:01\n",
      "   ----------------- ---------------------- 2.7/6.2 MB 4.5 MB/s eta 0:00:01\n",
      "   ------------------ --------------------- 2.9/6.2 MB 4.4 MB/s eta 0:00:01\n",
      "   ------------------- -------------------- 3.1/6.2 MB 4.4 MB/s eta 0:00:01\n",
      "   -------------------- ------------------- 3.2/6.2 MB 4.4 MB/s eta 0:00:01\n",
      "   ---------------------- ----------------- 3.5/6.2 MB 4.3 MB/s eta 0:00:01\n",
      "   ----------------------- ---------------- 3.7/6.2 MB 4.4 MB/s eta 0:00:01\n",
      "   ------------------------- -------------- 3.9/6.2 MB 4.4 MB/s eta 0:00:01\n",
      "   -------------------------- ------------- 4.1/6.2 MB 4.5 MB/s eta 0:00:01\n",
      "   --------------------------- ------------ 4.3/6.2 MB 4.3 MB/s eta 0:00:01\n",
      "   ---------------------------- ----------- 4.5/6.2 MB 4.4 MB/s eta 0:00:01\n",
      "   ------------------------------ --------- 4.7/6.2 MB 4.3 MB/s eta 0:00:01\n",
      "   ------------------------------- -------- 4.9/6.2 MB 4.4 MB/s eta 0:00:01\n",
      "   --------------------------------- ------ 5.2/6.2 MB 4.4 MB/s eta 0:00:01\n",
      "   ---------------------------------- ----- 5.3/6.2 MB 4.4 MB/s eta 0:00:01\n",
      "   ----------------------------------- ---- 5.5/6.2 MB 4.3 MB/s eta 0:00:01\n",
      "   ------------------------------------- -- 5.8/6.2 MB 4.3 MB/s eta 0:00:01\n",
      "   -------------------------------------- - 5.9/6.2 MB 4.3 MB/s eta 0:00:01\n",
      "   ---------------------------------------  6.1/6.2 MB 4.3 MB/s eta 0:00:01\n",
      "   ---------------------------------------  6.2/6.2 MB 4.2 MB/s eta 0:00:01\n",
      "   ---------------------------------------- 6.2/6.2 MB 4.2 MB/s eta 0:00:00\n",
      "Downloading mpmath-1.3.0-py3-none-any.whl (536 kB)\n",
      "   ---------------------------------------- 0.0/536.2 kB ? eta -:--:--\n",
      "   ------------ --------------------------- 163.8/536.2 kB 3.3 MB/s eta 0:00:01\n",
      "   ------------------------- -------------- 348.2/536.2 kB 3.6 MB/s eta 0:00:01\n",
      "   -------------------------------------- - 512.0/536.2 kB 3.6 MB/s eta 0:00:01\n",
      "   ---------------------------------------- 536.2/536.2 kB 3.4 MB/s eta 0:00:00\n",
      "Installing collected packages: mpmath, typing-extensions, sympy, networkx, fsspec, filelock, torch, lightning-utilities, torchmetrics\n",
      "Successfully installed filelock-3.16.1 fsspec-2024.9.0 lightning-utilities-0.11.7 mpmath-1.3.0 networkx-3.3 sympy-1.13.3 torch-2.4.1 torchmetrics-1.4.2 typing-extensions-4.12.2\n"
     ]
    },
    {
     "name": "stderr",
     "output_type": "stream",
     "text": [
      "\n",
      "[notice] A new release of pip is available: 23.2.1 -> 24.2\n",
      "[notice] To update, run: python.exe -m pip install --upgrade pip\n"
     ]
    }
   ],
   "execution_count": 27
  },
  {
   "cell_type": "code",
   "source": [
    "!pip install 'git+https://github.com/facebookresearch/segment-anything.git'"
   ],
   "metadata": {
    "id": "N_nSV8TjGSkg",
    "colab": {
     "base_uri": "https://localhost:8080/"
    },
    "executionInfo": {
     "status": "ok",
     "timestamp": 1705387687604,
     "user_tz": -330,
     "elapsed": 12267,
     "user": {
      "displayName": "Ponniah Kameswaran",
      "userId": "10075489862576309872"
     }
    },
    "outputId": "9f9ae7e9-007a-4b8a-e0b3-9749d60484b5",
    "ExecuteTime": {
     "end_time": "2024-09-21T11:29:53.493949Z",
     "start_time": "2024-09-21T11:29:50.585013Z"
    }
   },
   "outputs": [
    {
     "name": "stderr",
     "output_type": "stream",
     "text": [
      "ERROR: Invalid requirement: \"'git+https://github.com/facebookresearch/segment-anything.git'\"\n",
      "\n",
      "[notice] A new release of pip is available: 23.2.1 -> 24.2\n",
      "[notice] To update, run: python.exe -m pip install --upgrade pip\n"
     ]
    }
   ],
   "execution_count": 28
  },
  {
   "cell_type": "code",
   "source": [
    "!pip install timm"
   ],
   "metadata": {
    "colab": {
     "base_uri": "https://localhost:8080/"
    },
    "id": "GlpBJIMlvhrc",
    "executionInfo": {
     "status": "ok",
     "timestamp": 1705387698696,
     "user_tz": -330,
     "elapsed": 11105,
     "user": {
      "displayName": "Ponniah Kameswaran",
      "userId": "10075489862576309872"
     }
    },
    "outputId": "b81d05b4-540e-4022-cb93-976fc3785f9b",
    "ExecuteTime": {
     "end_time": "2024-09-21T11:30:30.701812Z",
     "start_time": "2024-09-21T11:29:53.493949Z"
    }
   },
   "outputs": [
    {
     "name": "stdout",
     "output_type": "stream",
     "text": [
      "Collecting timm\n",
      "  Obtaining dependency information for timm from https://files.pythonhosted.org/packages/e7/0e/ef97f6d8c399bf5842af0dd5a4f5ac55b2f169d62e29ecbf7663e1cb1438/timm-1.0.9-py3-none-any.whl.metadata\n",
      "  Downloading timm-1.0.9-py3-none-any.whl.metadata (42 kB)\n",
      "     ---------------------------------------- 0.0/42.4 kB ? eta -:--:--\n",
      "     --------- ------------------------------ 10.2/42.4 kB ? eta -:--:--\n",
      "     ------------------ ------------------- 20.5/42.4 kB 162.5 kB/s eta 0:00:01\n",
      "     ------------------------------------ - 41.0/42.4 kB 279.3 kB/s eta 0:00:01\n",
      "     -------------------------------------- 42.4/42.4 kB 228.1 kB/s eta 0:00:00\n",
      "Requirement already satisfied: torch in c:\\users\\ambra\\pycharmprojects\\dc3_group8\\.venv\\lib\\site-packages (from timm) (2.4.1)\n",
      "Collecting torchvision (from timm)\n",
      "  Obtaining dependency information for torchvision from https://files.pythonhosted.org/packages/6b/b2/fd577e1622b43cdeb74782a60cea4909f88f471813c215ea7b4e7ea84a74/torchvision-0.19.1-cp312-cp312-win_amd64.whl.metadata\n",
      "  Downloading torchvision-0.19.1-cp312-cp312-win_amd64.whl.metadata (6.1 kB)\n",
      "Requirement already satisfied: pyyaml in c:\\users\\ambra\\pycharmprojects\\dc3_group8\\.venv\\lib\\site-packages (from timm) (6.0.2)\n",
      "Collecting huggingface_hub (from timm)\n",
      "  Obtaining dependency information for huggingface_hub from https://files.pythonhosted.org/packages/d5/ce/1f8e61cd63175cc2e79233b954b1c4e85363c788fb3a1fa23c87a25c9b81/huggingface_hub-0.25.0-py3-none-any.whl.metadata\n",
      "  Downloading huggingface_hub-0.25.0-py3-none-any.whl.metadata (13 kB)\n",
      "Collecting safetensors (from timm)\n",
      "  Obtaining dependency information for safetensors from https://files.pythonhosted.org/packages/f1/5f/ab6b6cec85b40789801f35b7d2fb579ae242d8193929974a106d5ff5c835/safetensors-0.4.5-cp312-none-win_amd64.whl.metadata\n",
      "  Downloading safetensors-0.4.5-cp312-none-win_amd64.whl.metadata (3.9 kB)\n",
      "Requirement already satisfied: filelock in c:\\users\\ambra\\pycharmprojects\\dc3_group8\\.venv\\lib\\site-packages (from huggingface_hub->timm) (3.16.1)\n",
      "Requirement already satisfied: fsspec>=2023.5.0 in c:\\users\\ambra\\pycharmprojects\\dc3_group8\\.venv\\lib\\site-packages (from huggingface_hub->timm) (2024.9.0)\n",
      "Requirement already satisfied: packaging>=20.9 in c:\\users\\ambra\\pycharmprojects\\dc3_group8\\.venv\\lib\\site-packages (from huggingface_hub->timm) (24.1)\n",
      "Requirement already satisfied: requests in c:\\users\\ambra\\pycharmprojects\\dc3_group8\\.venv\\lib\\site-packages (from huggingface_hub->timm) (2.32.3)\n",
      "Collecting tqdm>=4.42.1 (from huggingface_hub->timm)\n",
      "  Obtaining dependency information for tqdm>=4.42.1 from https://files.pythonhosted.org/packages/48/5d/acf5905c36149bbaec41ccf7f2b68814647347b72075ac0b1fe3022fdc73/tqdm-4.66.5-py3-none-any.whl.metadata\n",
      "  Downloading tqdm-4.66.5-py3-none-any.whl.metadata (57 kB)\n",
      "     ---------------------------------------- 0.0/57.6 kB ? eta -:--:--\n",
      "     ---------------------------------------- 57.6/57.6 kB ? eta 0:00:00\n",
      "Requirement already satisfied: typing-extensions>=3.7.4.3 in c:\\users\\ambra\\pycharmprojects\\dc3_group8\\.venv\\lib\\site-packages (from huggingface_hub->timm) (4.12.2)\n",
      "Requirement already satisfied: sympy in c:\\users\\ambra\\pycharmprojects\\dc3_group8\\.venv\\lib\\site-packages (from torch->timm) (1.13.3)\n",
      "Requirement already satisfied: networkx in c:\\users\\ambra\\pycharmprojects\\dc3_group8\\.venv\\lib\\site-packages (from torch->timm) (3.3)\n",
      "Requirement already satisfied: jinja2 in c:\\users\\ambra\\pycharmprojects\\dc3_group8\\.venv\\lib\\site-packages (from torch->timm) (3.1.4)\n",
      "Requirement already satisfied: setuptools in c:\\users\\ambra\\pycharmprojects\\dc3_group8\\.venv\\lib\\site-packages (from torch->timm) (75.1.0)\n",
      "Requirement already satisfied: numpy in c:\\users\\ambra\\pycharmprojects\\dc3_group8\\.venv\\lib\\site-packages (from torchvision->timm) (2.1.1)\n",
      "Collecting pillow!=8.3.*,>=5.3.0 (from torchvision->timm)\n",
      "  Obtaining dependency information for pillow!=8.3.*,>=5.3.0 from https://files.pythonhosted.org/packages/74/0a/d4ce3c44bca8635bd29a2eab5aa181b654a734a29b263ca8efe013beea98/pillow-10.4.0-cp312-cp312-win_amd64.whl.metadata\n",
      "  Using cached pillow-10.4.0-cp312-cp312-win_amd64.whl.metadata (9.3 kB)\n",
      "Requirement already satisfied: colorama in c:\\users\\ambra\\pycharmprojects\\dc3_group8\\.venv\\lib\\site-packages (from tqdm>=4.42.1->huggingface_hub->timm) (0.4.6)\n",
      "Requirement already satisfied: MarkupSafe>=2.0 in c:\\users\\ambra\\pycharmprojects\\dc3_group8\\.venv\\lib\\site-packages (from jinja2->torch->timm) (2.1.5)\n",
      "Requirement already satisfied: charset-normalizer<4,>=2 in c:\\users\\ambra\\pycharmprojects\\dc3_group8\\.venv\\lib\\site-packages (from requests->huggingface_hub->timm) (3.3.2)\n",
      "Requirement already satisfied: idna<4,>=2.5 in c:\\users\\ambra\\pycharmprojects\\dc3_group8\\.venv\\lib\\site-packages (from requests->huggingface_hub->timm) (3.10)\n",
      "Requirement already satisfied: urllib3<3,>=1.21.1 in c:\\users\\ambra\\pycharmprojects\\dc3_group8\\.venv\\lib\\site-packages (from requests->huggingface_hub->timm) (2.2.3)\n",
      "Requirement already satisfied: certifi>=2017.4.17 in c:\\users\\ambra\\pycharmprojects\\dc3_group8\\.venv\\lib\\site-packages (from requests->huggingface_hub->timm) (2024.8.30)\n",
      "Requirement already satisfied: mpmath<1.4,>=1.1.0 in c:\\users\\ambra\\pycharmprojects\\dc3_group8\\.venv\\lib\\site-packages (from sympy->torch->timm) (1.3.0)\n",
      "Downloading timm-1.0.9-py3-none-any.whl (2.3 MB)\n",
      "   ---------------------------------------- 0.0/2.3 MB ? eta -:--:--\n",
      "   --- ------------------------------------ 0.2/2.3 MB 6.7 MB/s eta 0:00:01\n",
      "   ------- -------------------------------- 0.4/2.3 MB 5.3 MB/s eta 0:00:01\n",
      "   ----------- ---------------------------- 0.7/2.3 MB 5.2 MB/s eta 0:00:01\n",
      "   ---------------- ----------------------- 0.9/2.3 MB 5.0 MB/s eta 0:00:01\n",
      "   -------------------- ------------------- 1.2/2.3 MB 5.3 MB/s eta 0:00:01\n",
      "   ------------------------ --------------- 1.4/2.3 MB 4.9 MB/s eta 0:00:01\n",
      "   ---------------------------- ----------- 1.7/2.3 MB 5.1 MB/s eta 0:00:01\n",
      "   --------------------------------- ------ 1.9/2.3 MB 5.1 MB/s eta 0:00:01\n",
      "   -------------------------------------- - 2.2/2.3 MB 5.2 MB/s eta 0:00:01\n",
      "   ---------------------------------------  2.3/2.3 MB 5.3 MB/s eta 0:00:01\n",
      "   ---------------------------------------- 2.3/2.3 MB 4.6 MB/s eta 0:00:00\n",
      "Downloading huggingface_hub-0.25.0-py3-none-any.whl (436 kB)\n",
      "   ---------------------------------------- 0.0/436.4 kB ? eta -:--:--\n",
      "   --------------- ------------------------ 174.1/436.4 kB 5.3 MB/s eta 0:00:01\n",
      "   --------------------------------- ------ 368.6/436.4 kB 4.6 MB/s eta 0:00:01\n",
      "   ---------------------------------------  430.1/436.4 kB 5.4 MB/s eta 0:00:01\n",
      "   ---------------------------------------- 436.4/436.4 kB 3.0 MB/s eta 0:00:00\n",
      "Downloading safetensors-0.4.5-cp312-none-win_amd64.whl (286 kB)\n",
      "   ---------------------------------------- 0.0/286.3 kB ? eta -:--:--\n",
      "   -------------------- ------------------- 143.4/286.3 kB ? eta -:--:--\n",
      "   ---------------------------------------- 286.3/286.3 kB 5.9 MB/s eta 0:00:00\n",
      "Downloading torchvision-0.19.1-cp312-cp312-win_amd64.whl (1.3 MB)\n",
      "   ---------------------------------------- 0.0/1.3 MB ? eta -:--:--\n",
      "   ----- ---------------------------------- 0.2/1.3 MB 5.1 MB/s eta 0:00:01\n",
      "   ------------ --------------------------- 0.4/1.3 MB 5.0 MB/s eta 0:00:01\n",
      "   -------------------- ------------------- 0.6/1.3 MB 5.1 MB/s eta 0:00:01\n",
      "   --------------------------- ------------ 0.9/1.3 MB 5.1 MB/s eta 0:00:01\n",
      "   --------------------------------- ------ 1.1/1.3 MB 4.9 MB/s eta 0:00:01\n",
      "   ---------------------------------------  1.3/1.3 MB 4.8 MB/s eta 0:00:01\n",
      "   ---------------------------------------- 1.3/1.3 MB 4.3 MB/s eta 0:00:00\n",
      "Using cached pillow-10.4.0-cp312-cp312-win_amd64.whl (2.6 MB)\n",
      "Downloading tqdm-4.66.5-py3-none-any.whl (78 kB)\n",
      "   ---------------------------------------- 0.0/78.4 kB ? eta -:--:--\n",
      "   ---------------------------------------- 78.4/78.4 kB 4.3 MB/s eta 0:00:00\n",
      "Installing collected packages: tqdm, safetensors, pillow, huggingface_hub, torchvision, timm\n",
      "Successfully installed huggingface_hub-0.25.0 pillow-10.4.0 safetensors-0.4.5 timm-1.0.9 torchvision-0.19.1 tqdm-4.66.5\n"
     ]
    },
    {
     "name": "stderr",
     "output_type": "stream",
     "text": [
      "\n",
      "[notice] A new release of pip is available: 23.2.1 -> 24.2\n",
      "[notice] To update, run: python.exe -m pip install --upgrade pip\n"
     ]
    }
   ],
   "execution_count": 29
  },
  {
   "cell_type": "code",
   "source": [
    "!pip install segment-anything-hq"
   ],
   "metadata": {
    "colab": {
     "base_uri": "https://localhost:8080/"
    },
    "id": "GWGqdUaoJ6yT",
    "executionInfo": {
     "status": "ok",
     "timestamp": 1705387714781,
     "user_tz": -330,
     "elapsed": 16090,
     "user": {
      "displayName": "Ponniah Kameswaran",
      "userId": "10075489862576309872"
     }
    },
    "outputId": "7071178c-6dd1-4616-c913-80f92a7e88f5",
    "ExecuteTime": {
     "end_time": "2024-09-21T11:30:38.834659Z",
     "start_time": "2024-09-21T11:30:30.701812Z"
    }
   },
   "outputs": [
    {
     "name": "stdout",
     "output_type": "stream",
     "text": [
      "Collecting segment-anything-hq\n",
      "  Obtaining dependency information for segment-anything-hq from https://files.pythonhosted.org/packages/ea/7a/08e037dc65a78aa6c3b433771cc18207a93f1b0380f0bda298c98cc5d7ea/segment_anything_hq-0.3-py3-none-any.whl.metadata\n",
      "  Downloading segment_anything_hq-0.3-py3-none-any.whl.metadata (17 kB)\n",
      "Requirement already satisfied: torch>=1.7 in c:\\users\\ambra\\pycharmprojects\\dc3_group8\\.venv\\lib\\site-packages (from segment-anything-hq) (2.4.1)\n",
      "Requirement already satisfied: torchvision>=0.8 in c:\\users\\ambra\\pycharmprojects\\dc3_group8\\.venv\\lib\\site-packages (from segment-anything-hq) (0.19.1)\n",
      "Requirement already satisfied: filelock in c:\\users\\ambra\\pycharmprojects\\dc3_group8\\.venv\\lib\\site-packages (from torch>=1.7->segment-anything-hq) (3.16.1)\n",
      "Requirement already satisfied: typing-extensions>=4.8.0 in c:\\users\\ambra\\pycharmprojects\\dc3_group8\\.venv\\lib\\site-packages (from torch>=1.7->segment-anything-hq) (4.12.2)\n",
      "Requirement already satisfied: sympy in c:\\users\\ambra\\pycharmprojects\\dc3_group8\\.venv\\lib\\site-packages (from torch>=1.7->segment-anything-hq) (1.13.3)\n",
      "Requirement already satisfied: networkx in c:\\users\\ambra\\pycharmprojects\\dc3_group8\\.venv\\lib\\site-packages (from torch>=1.7->segment-anything-hq) (3.3)\n",
      "Requirement already satisfied: jinja2 in c:\\users\\ambra\\pycharmprojects\\dc3_group8\\.venv\\lib\\site-packages (from torch>=1.7->segment-anything-hq) (3.1.4)\n",
      "Requirement already satisfied: fsspec in c:\\users\\ambra\\pycharmprojects\\dc3_group8\\.venv\\lib\\site-packages (from torch>=1.7->segment-anything-hq) (2024.9.0)\n",
      "Requirement already satisfied: setuptools in c:\\users\\ambra\\pycharmprojects\\dc3_group8\\.venv\\lib\\site-packages (from torch>=1.7->segment-anything-hq) (75.1.0)\n",
      "Requirement already satisfied: numpy in c:\\users\\ambra\\pycharmprojects\\dc3_group8\\.venv\\lib\\site-packages (from torchvision>=0.8->segment-anything-hq) (2.1.1)\n",
      "Requirement already satisfied: pillow!=8.3.*,>=5.3.0 in c:\\users\\ambra\\pycharmprojects\\dc3_group8\\.venv\\lib\\site-packages (from torchvision>=0.8->segment-anything-hq) (10.4.0)\n",
      "Requirement already satisfied: MarkupSafe>=2.0 in c:\\users\\ambra\\pycharmprojects\\dc3_group8\\.venv\\lib\\site-packages (from jinja2->torch>=1.7->segment-anything-hq) (2.1.5)\n",
      "Requirement already satisfied: mpmath<1.4,>=1.1.0 in c:\\users\\ambra\\pycharmprojects\\dc3_group8\\.venv\\lib\\site-packages (from sympy->torch>=1.7->segment-anything-hq) (1.3.0)\n",
      "Downloading segment_anything_hq-0.3-py3-none-any.whl (52 kB)\n",
      "   ---------------------------------------- 0.0/53.0 kB ? eta -:--:--\n",
      "   ------- -------------------------------- 10.2/53.0 kB ? eta -:--:--\n",
      "   -------------------------------------- - 51.2/53.0 kB 650.2 kB/s eta 0:00:01\n",
      "   ---------------------------------------- 53.0/53.0 kB 388.3 kB/s eta 0:00:00\n",
      "Installing collected packages: segment-anything-hq\n",
      "Successfully installed segment-anything-hq-0.3\n"
     ]
    },
    {
     "name": "stderr",
     "output_type": "stream",
     "text": [
      "\n",
      "[notice] A new release of pip is available: 23.2.1 -> 24.2\n",
      "[notice] To update, run: python.exe -m pip install --upgrade pip\n"
     ]
    }
   ],
   "execution_count": 30
  },
  {
   "cell_type": "code",
   "metadata": {
    "id": "CnUvJSHdVMRA",
    "executionInfo": {
     "status": "ok",
     "timestamp": 1705387717946,
     "user_tz": -330,
     "elapsed": 3172,
     "user": {
      "displayName": "Ponniah Kameswaran",
      "userId": "10075489862576309872"
     }
    },
    "ExecuteTime": {
     "end_time": "2024-09-21T11:30:38.878368Z",
     "start_time": "2024-09-21T11:30:38.838174Z"
    }
   },
   "source": [
    "import cv2\n",
    "import yaml\n",
    "import pandas as pd\n",
    "import albumentations\n",
    "\n",
    "from pathlib import Path"
   ],
   "outputs": [
    {
     "ename": "ModuleNotFoundError",
     "evalue": "No module named 'cv2'",
     "output_type": "error",
     "traceback": [
      "\u001B[1;31m---------------------------------------------------------------------------\u001B[0m",
      "\u001B[1;31mModuleNotFoundError\u001B[0m                       Traceback (most recent call last)",
      "Cell \u001B[1;32mIn[31], line 1\u001B[0m\n\u001B[1;32m----> 1\u001B[0m \u001B[38;5;28;01mimport\u001B[39;00m \u001B[38;5;21;01mcv2\u001B[39;00m\n\u001B[0;32m      2\u001B[0m \u001B[38;5;28;01mimport\u001B[39;00m \u001B[38;5;21;01myaml\u001B[39;00m\n\u001B[0;32m      3\u001B[0m \u001B[38;5;28;01mimport\u001B[39;00m \u001B[38;5;21;01mpandas\u001B[39;00m \u001B[38;5;28;01mas\u001B[39;00m \u001B[38;5;21;01mpd\u001B[39;00m\n",
      "\u001B[1;31mModuleNotFoundError\u001B[0m: No module named 'cv2'"
     ]
    }
   ],
   "execution_count": 31
  },
  {
   "cell_type": "code",
   "source": [
    "from labelmate.loader import LabelPropDataLoader\n",
    "from labelmate.patchifier import SimplePatchifier\n",
    "from labelmate.visualizer import visualize_output\n",
    "from labelmate.evaluator import LabelPropEvaluator\n",
    "from labelmate.propagator import PLASPIXLabelProp, SAMPointPromptsLabelProp"
   ],
   "metadata": {
    "id": "Sn6OTeMV8sAW",
    "executionInfo": {
     "status": "ok",
     "timestamp": 1705387726720,
     "user_tz": -330,
     "elapsed": 8781,
     "user": {
      "displayName": "Ponniah Kameswaran",
      "userId": "10075489862576309872"
     }
    },
    "ExecuteTime": {
     "end_time": "2024-09-27T14:26:41.442686Z",
     "start_time": "2024-09-27T14:26:41.428871Z"
    }
   },
   "outputs": [
    {
     "ename": "ModuleNotFoundError",
     "evalue": "No module named 'labelmate'",
     "output_type": "error",
     "traceback": [
      "\u001B[1;31m---------------------------------------------------------------------------\u001B[0m",
      "\u001B[1;31mModuleNotFoundError\u001B[0m                       Traceback (most recent call last)",
      "Cell \u001B[1;32mIn[1], line 1\u001B[0m\n\u001B[1;32m----> 1\u001B[0m \u001B[38;5;28;01mfrom\u001B[39;00m \u001B[38;5;21;01mlabelmate\u001B[39;00m\u001B[38;5;21;01m.\u001B[39;00m\u001B[38;5;21;01mloader\u001B[39;00m \u001B[38;5;28;01mimport\u001B[39;00m LabelPropDataLoader\n\u001B[0;32m      2\u001B[0m \u001B[38;5;28;01mfrom\u001B[39;00m \u001B[38;5;21;01mlabelmate\u001B[39;00m\u001B[38;5;21;01m.\u001B[39;00m\u001B[38;5;21;01mpatchifier\u001B[39;00m \u001B[38;5;28;01mimport\u001B[39;00m SimplePatchifier\n\u001B[0;32m      3\u001B[0m \u001B[38;5;28;01mfrom\u001B[39;00m \u001B[38;5;21;01mlabelmate\u001B[39;00m\u001B[38;5;21;01m.\u001B[39;00m\u001B[38;5;21;01mvisualizer\u001B[39;00m \u001B[38;5;28;01mimport\u001B[39;00m visualize_output\n",
      "\u001B[1;31mModuleNotFoundError\u001B[0m: No module named 'labelmate'"
     ]
    }
   ],
   "execution_count": 1
  },
  {
   "cell_type": "code",
   "source": [
    "custom_modules = ['labelmate.loader', 'labelmate.visualizer',\n",
    "                  'labelmate.evaluator', 'labelmate.propagator',\n",
    "                  'labelmate.hypertuner', 'labelmate.patchifier',\n",
    "                  ]\n",
    "for module_name in custom_modules:\n",
    "    logging.getLogger(module_name).setLevel(logging.INFO)"
   ],
   "metadata": {
    "id": "6iNGqwSUYDy9",
    "executionInfo": {
     "status": "ok",
     "timestamp": 1705387726720,
     "user_tz": -330,
     "elapsed": 9,
     "user": {
      "displayName": "Ponniah Kameswaran",
      "userId": "10075489862576309872"
     }
    },
    "ExecuteTime": {
     "end_time": "2024-09-21T11:30:38.885391Z",
     "start_time": "2024-09-21T11:30:38.885391Z"
    }
   },
   "outputs": [],
   "execution_count": null
  },
  {
   "cell_type": "code",
   "source": [
    "custom_modules = ['torchmetrics',\n",
    "                  ]\n",
    "for module_name in custom_modules:\n",
    "    logging.getLogger(module_name).setLevel(logging.ERROR)"
   ],
   "metadata": {
    "id": "0MYYY_xELZrE",
    "executionInfo": {
     "status": "ok",
     "timestamp": 1705387726720,
     "user_tz": -330,
     "elapsed": 8,
     "user": {
      "displayName": "Ponniah Kameswaran",
      "userId": "10075489862576309872"
     }
    },
    "ExecuteTime": {
     "end_time": "2024-09-21T11:30:38.885391Z",
     "start_time": "2024-09-21T11:30:38.885391Z"
    }
   },
   "outputs": [],
   "execution_count": null
  },
  {
   "cell_type": "code",
   "source": [
    "import warnings\n",
    "warnings.filterwarnings(\"ignore\", category=UserWarning)"
   ],
   "metadata": {
    "id": "uftWRiOWTdTc",
    "executionInfo": {
     "status": "ok",
     "timestamp": 1705387726721,
     "user_tz": -330,
     "elapsed": 8,
     "user": {
      "displayName": "Ponniah Kameswaran",
      "userId": "10075489862576309872"
     }
    }
   },
   "outputs": [],
   "execution_count": null
  },
  {
   "cell_type": "markdown",
   "source": [
    "### Pre-trained Weights"
   ],
   "metadata": {
    "id": "DIuFXBrMC_3L"
   }
  },
  {
   "cell_type": "code",
   "source": [
    "import shutil\n",
    "\n",
    "# dowload the pre-trained weights mentioned in GitHub and point to that file\n",
    "PRE_TRAINED_WEIGHTS = os.path.join(PROJECT_ROOT_DIR, 'models', 'standardization_C=100_step70000.pth')\n",
    "\n",
    "# copy the pre-trained weights file to the code folder created by git clone\n",
    "if os.path.exists(PRE_TRAINED_WEIGHTS):\n",
    "    logger.info(f\"Copying weights from {PRE_TRAINED_WEIGHTS}...\")\n",
    "    shutil.copyfile(\n",
    "        PRE_TRAINED_WEIGHTS,\n",
    "        os.path.join(LOCAL_ROOT_DIR, 'standardization_C=100_step70000.pth'),\n",
    "        )\n",
    "    logger.info(os.listdir(LOCAL_ROOT_DIR))"
   ],
   "metadata": {
    "colab": {
     "base_uri": "https://localhost:8080/"
    },
    "id": "Y_Vm5dJWfUJh",
    "executionInfo": {
     "status": "ok",
     "timestamp": 1705387730102,
     "user_tz": -330,
     "elapsed": 3388,
     "user": {
      "displayName": "Ponniah Kameswaran",
      "userId": "10075489862576309872"
     }
    },
    "outputId": "2033fcfd-27cb-4ec8-c63b-6cdf67877fc9"
   },
   "outputs": [],
   "execution_count": null
  },
  {
   "cell_type": "code",
   "source": [
    "# dowload the pre-trained weights mentioned in GitHub and point to that file\n",
    "SAM_WEIGHTS_PATH = '/content/weights/sam'\n",
    "SAM_WEIGHTS_FILE = 'sam_vit_h_4b8939.pth'\n",
    "SAM_WEIGHTS_URL = f\"https://dl.fbaipublicfiles.com/segment_anything/{SAM_WEIGHTS_FILE}\"\n",
    "\n",
    "!wget {SAM_WEIGHTS_URL} -P {SAM_WEIGHTS_PATH}"
   ],
   "metadata": {
    "id": "GIDWFx-nnmnq",
    "colab": {
     "base_uri": "https://localhost:8080/"
    },
    "executionInfo": {
     "status": "ok",
     "timestamp": 1705387743412,
     "user_tz": -330,
     "elapsed": 13313,
     "user": {
      "displayName": "Ponniah Kameswaran",
      "userId": "10075489862576309872"
     }
    },
    "outputId": "571b57ad-d7b6-4d52-fa2f-36cd719b7c85"
   },
   "outputs": [],
   "execution_count": null
  },
  {
   "cell_type": "code",
   "source": [
    "# dowload the pre-trained weights mentioned in GitHub and point to that file\n",
    "SAM_HQ_WEIGHTS_PATH = '/content/weights/sam-hq'\n",
    "SAM_HQ_WEIGHTS_FILE = 'sam_hq_vit_h.pth'\n",
    "SAM_HQ_WEIGHTS_URL = 'https://huggingface.co/lkeab/hq-sam/resolve/main/sam_hq_vit_h.pth'\n",
    "\n",
    "!wget {SAM_HQ_WEIGHTS_URL} -P {SAM_HQ_WEIGHTS_PATH}"
   ],
   "metadata": {
    "colab": {
     "base_uri": "https://localhost:8080/"
    },
    "id": "SL9bIowouhOr",
    "executionInfo": {
     "status": "ok",
     "timestamp": 1705387793415,
     "user_tz": -330,
     "elapsed": 50006,
     "user": {
      "displayName": "Ponniah Kameswaran",
      "userId": "10075489862576309872"
     }
    },
    "outputId": "4934f8d8-a8aa-4d2e-9681-8105d4149fb3"
   },
   "outputs": [],
   "execution_count": null
  },
  {
   "cell_type": "markdown",
   "source": [
    "## Path Variables"
   ],
   "metadata": {
    "id": "wni3VRre9J1X"
   }
  },
  {
   "cell_type": "code",
   "source": [
    "# Path to folder that contains images and dense masks\n",
    "DATA_ROOT_DIR = os.path.join(BUCKET_MOUNT_DIR, 'benthic_datasets', 'mask_labels', 'reef_support')\n",
    "logger.info(f\"Dataset (images and masks) will be accessed from: {DATA_ROOT_DIR}\")"
   ],
   "metadata": {
    "id": "33F7TjkF9h9f",
    "executionInfo": {
     "status": "ok",
     "timestamp": 1705387812907,
     "user_tz": -330,
     "elapsed": 353,
     "user": {
      "displayName": "Ponniah Kameswaran",
      "userId": "10075489862576309872"
     }
    },
    "colab": {
     "base_uri": "https://localhost:8080/"
    },
    "outputId": "02ade622-e131-4d5f-969c-c8356032aaa7"
   },
   "outputs": [],
   "execution_count": null
  },
  {
   "cell_type": "code",
   "source": [
    "# Path to permanently store input images, input sparse masks in image format and output from label propagation\n",
    "RESULTS_UPLOAD_PATH = os.path.join(PROJECT_ROOT_DIR, 'findings', 'SAM-B1-RAND-300-F')\n",
    "logger.info(f\"Results obtained will be saved to: {RESULTS_UPLOAD_PATH}\")"
   ],
   "metadata": {
    "id": "FFIkKoV2-o82",
    "executionInfo": {
     "status": "ok",
     "timestamp": 1705387815476,
     "user_tz": -330,
     "elapsed": 612,
     "user": {
      "displayName": "Ponniah Kameswaran",
      "userId": "10075489862576309872"
     }
    },
    "colab": {
     "base_uri": "https://localhost:8080/"
    },
    "outputId": "6a5b46fb-1ceb-4000-c2ec-da14bfdb1639"
   },
   "outputs": [],
   "execution_count": null
  },
  {
   "cell_type": "code",
   "source": [
    "# Path to the csv that contains image level summary for Reef Support dataset\n",
    "REEF_SUPPORT_MANIFEST_PATH = os.path.join(PROJECT_ROOT_DIR, 'data', 'MANIFEST_REEF_SUPPORT.csv')\n",
    "logger.info(f\"Dataset manifest will be accessed from: {REEF_SUPPORT_MANIFEST_PATH}\")"
   ],
   "metadata": {
    "id": "k3sgYInR9wcO",
    "executionInfo": {
     "status": "ok",
     "timestamp": 1705387819132,
     "user_tz": -330,
     "elapsed": 377,
     "user": {
      "displayName": "Ponniah Kameswaran",
      "userId": "10075489862576309872"
     }
    },
    "colab": {
     "base_uri": "https://localhost:8080/"
    },
    "outputId": "b34b0b0b-fa62-4116-ea88-6034ebf56409"
   },
   "outputs": [],
   "execution_count": null
  },
  {
   "cell_type": "code",
   "source": [
    "# Combined Point Labels data from Reef Support Dense Masks and Seaview Point Labels with results of label comparison exercise\n",
    "REEF_SUPPORT_SEAVIEW_POINT_LABELS_PATH = os.path.join(PROJECT_ROOT_DIR, 'data', 'DATA-REEF-SUPPORT-POINT-LABELS-v1.csv')\n",
    "logger.info(f\"Point labels data will be loaded from: {REEF_SUPPORT_SEAVIEW_POINT_LABELS_PATH}\")"
   ],
   "metadata": {
    "id": "HCyUVD9V-Avv",
    "executionInfo": {
     "status": "ok",
     "timestamp": 1705387825915,
     "user_tz": -330,
     "elapsed": 369,
     "user": {
      "displayName": "Ponniah Kameswaran",
      "userId": "10075489862576309872"
     }
    },
    "colab": {
     "base_uri": "https://localhost:8080/"
    },
    "outputId": "b464c4e0-211d-47fe-bf3d-0959441a57eb"
   },
   "outputs": [],
   "execution_count": null
  },
  {
   "cell_type": "markdown",
   "source": [
    "## Helper Functions"
   ],
   "metadata": {
    "id": "nzzp6bThGjTL"
   }
  },
  {
   "cell_type": "code",
   "source": [
    "def create_labelmate_dataset(quadrat_ids, manifest_df, point_labels_source='DENSE', point_labels_count=100):\n",
    "    samples = []\n",
    "\n",
    "    for quadrat_id in quadrat_ids:\n",
    "        image_file_name = manifest_df.query(f\"quadratid == '{quadrat_id}'\").image_file_name.item()\n",
    "        folder = manifest_df.query(f\"quadratid == '{quadrat_id}'\").folder.item()\n",
    "        region = manifest_df.query(f\"quadratid == '{quadrat_id}'\").region.item()\n",
    "        manifest_index = manifest_df.query(f\"quadratid == '{quadrat_id}'\").index.item()\n",
    "\n",
    "        # PLASPIX code encounters CUDA OOM error for images larger than 1100 pixels height or width\n",
    "        # best hyper parameter combination was found for images with 100 point labels in 1031x1031 samples\n",
    "        # so, benchmark 1 will be computed by resizing all samples to 1024x1024 and then\n",
    "        # randomly sampling 100 point labels from dense mask\n",
    "        point_labels_source = point_labels_source\n",
    "        point_labels_count = point_labels_count\n",
    "\n",
    "        sample = dict(\n",
    "            sample_id=quadrat_id,\n",
    "            dataset_name=folder,\n",
    "            region=region,\n",
    "            image_path=os.path.join(DATA_ROOT_DIR, folder, 'images', image_file_name),\n",
    "            mask_path=os.path.join(DATA_ROOT_DIR, folder, 'masks_stitched', f\"{quadrat_id}_mask.png\"),\n",
    "            point_labels_source=point_labels_source,\n",
    "            point_labels_count=point_labels_count,\n",
    "            manifest_index=manifest_index,\n",
    "        )\n",
    "        samples.append(sample)\n",
    "\n",
    "    dataset_df = pd.DataFrame(samples)\n",
    "\n",
    "    return dataset_df"
   ],
   "metadata": {
    "id": "JoEERAn4E7FV",
    "executionInfo": {
     "status": "ok",
     "timestamp": 1705387831707,
     "user_tz": -330,
     "elapsed": 354,
     "user": {
      "displayName": "Ponniah Kameswaran",
      "userId": "10075489862576309872"
     }
    }
   },
   "outputs": [],
   "execution_count": null
  },
  {
   "cell_type": "code",
   "source": [
    "def get_resize_transform(image_size=1024):\n",
    "    resize_transform = \\\n",
    "        albumentations.Compose(\n",
    "            [albumentations.Resize(\n",
    "                height=image_size,\n",
    "                width=image_size,\n",
    "                interpolation=cv2.INTER_AREA,\n",
    "                p=1,\n",
    "                ),\n",
    "            ]\n",
    "            )\n",
    "    return resize_transform"
   ],
   "metadata": {
    "id": "LM-7-5WkGxus",
    "executionInfo": {
     "status": "ok",
     "timestamp": 1705387832061,
     "user_tz": -330,
     "elapsed": 3,
     "user": {
      "displayName": "Ponniah Kameswaran",
      "userId": "10075489862576309872"
     }
    }
   },
   "outputs": [],
   "execution_count": null
  },
  {
   "cell_type": "markdown",
   "source": [
    "## Dataset Preparation"
   ],
   "metadata": {
    "id": "q47O9d9EY0J_"
   }
  },
  {
   "cell_type": "markdown",
   "source": [
    "### Read Manifest & Point Labels"
   ],
   "metadata": {
    "id": "GIt2O4KqZHJM"
   }
  },
  {
   "cell_type": "code",
   "source": [
    "manifest_df = pd.read_csv(REEF_SUPPORT_MANIFEST_PATH, header='infer')\n",
    "point_labels_df = pd.read_csv(REEF_SUPPORT_SEAVIEW_POINT_LABELS_PATH, header='infer')"
   ],
   "metadata": {
    "id": "9vvbMtlwY1il",
    "executionInfo": {
     "status": "ok",
     "timestamp": 1705387835157,
     "user_tz": -330,
     "elapsed": 927,
     "user": {
      "displayName": "Ponniah Kameswaran",
      "userId": "10075489862576309872"
     }
    }
   },
   "outputs": [],
   "execution_count": null
  },
  {
   "cell_type": "code",
   "source": [
    "point_labels_df['class_name'] = point_labels_df.reef_support_class_name\n",
    "point_labels_df['class_label'] = point_labels_df.reef_support_class_label"
   ],
   "metadata": {
    "id": "9QZ_GKXjZMjf",
    "executionInfo": {
     "status": "ok",
     "timestamp": 1705387836523,
     "user_tz": -330,
     "elapsed": 2,
     "user": {
      "displayName": "Ponniah Kameswaran",
      "userId": "10075489862576309872"
     }
    }
   },
   "outputs": [],
   "execution_count": null
  },
  {
   "cell_type": "code",
   "source": [
    "if point_labels_df.quadratid.dtype != object:\n",
    "    point_labels_df = \\\n",
    "        point_labels_df.astype({'quadratid': str})\n",
    "    print(\"Changed Quadrat ID to object data type\")\n",
    "else:\n",
    "    print(\"Quadrat ID is already in object data type\")"
   ],
   "metadata": {
    "colab": {
     "base_uri": "https://localhost:8080/"
    },
    "id": "H9aYg4ZADtxQ",
    "executionInfo": {
     "status": "ok",
     "timestamp": 1705387838294,
     "user_tz": -330,
     "elapsed": 3,
     "user": {
      "displayName": "Ponniah Kameswaran",
      "userId": "10075489862576309872"
     }
    },
    "outputId": "ae36951d-4c77-4e46-e51f-241b9544bd8d"
   },
   "outputs": [],
   "execution_count": null
  },
  {
   "cell_type": "code",
   "source": [
    "manifest_df.sample(2)"
   ],
   "metadata": {
    "colab": {
     "base_uri": "https://localhost:8080/",
     "height": 161
    },
    "id": "32z1FHFwGML1",
    "executionInfo": {
     "status": "ok",
     "timestamp": 1705387840227,
     "user_tz": -330,
     "elapsed": 612,
     "user": {
      "displayName": "Ponniah Kameswaran",
      "userId": "10075489862576309872"
     }
    },
    "outputId": "a95973d6-5a65-469c-c2bb-b7bfaf9152ad"
   },
   "outputs": [],
   "execution_count": null
  },
  {
   "cell_type": "code",
   "source": [
    "point_labels_df.sample(2)"
   ],
   "metadata": {
    "colab": {
     "base_uri": "https://localhost:8080/",
     "height": 167
    },
    "id": "qCckcKHSzoAV",
    "executionInfo": {
     "status": "ok",
     "timestamp": 1705387842413,
     "user_tz": -330,
     "elapsed": 6,
     "user": {
      "displayName": "Ponniah Kameswaran",
      "userId": "10075489862576309872"
     }
    },
    "outputId": "bb1d9063-6d4f-4dcb-8c6f-8ff9ccf87a49"
   },
   "outputs": [],
   "execution_count": null
  },
  {
   "cell_type": "markdown",
   "source": [
    "### Sample Selection"
   ],
   "metadata": {
    "id": "E7x5mtM_Zeih"
   }
  },
  {
   "cell_type": "code",
   "source": [
    "with open('yolov8-config.yaml', 'r') as stream:\n",
    "    yolov8_config = yaml.safe_load(stream)\n",
    "\n",
    "print(yolov8_config)\n",
    "print(list(yolov8_config['val_dataset'].keys()))"
   ],
   "metadata": {
    "colab": {
     "base_uri": "https://localhost:8080/"
    },
    "id": "qiKS-UKtGwYL",
    "executionInfo": {
     "status": "ok",
     "timestamp": 1705387855178,
     "user_tz": -330,
     "elapsed": 1199,
     "user": {
      "displayName": "Ponniah Kameswaran",
      "userId": "10075489862576309872"
     }
    },
    "outputId": "fb7a281a-8e40-47dc-cb64-f82d4eca385a"
   },
   "outputs": [],
   "execution_count": null
  },
  {
   "cell_type": "code",
   "source": [
    "REEF_SUPPORT_BENCHMARK_DATASET = yolov8_config['val_dataset']\n",
    "# REEF_SUPPORT_BENCHMARK_DATASET = dict(TETES_PROVIDENCIA=yolov8_config['val_dataset']['TETES_PROVIDENCIA'])"
   ],
   "metadata": {
    "id": "L-jvNcMx5C47",
    "executionInfo": {
     "status": "ok",
     "timestamp": 1705387857840,
     "user_tz": -330,
     "elapsed": 358,
     "user": {
      "displayName": "Ponniah Kameswaran",
      "userId": "10075489862576309872"
     }
    }
   },
   "outputs": [],
   "execution_count": null
  },
  {
   "cell_type": "code",
   "source": [
    "# quadrat_ids = [17001652802, 24047242502]\n",
    "# quadrat_ids = [20034061802, 17025816302, 17019874202, 20034067102, 17017815902, 25009056001, 20029004202, 20042103002, 24026197901, 17019871102]\n",
    "# quadrat_ids = [17001652802]\n",
    "# quadrat_ids = [12025020201]\n",
    "\n",
    "quadrat_ids = [\n",
    "    '32011066301',\n",
    "    # '12025020201',\n",
    "    '20046281801',\n",
    "    '20220914_AnB_CB14 (219)',\n",
    "    'E19_T2_C11_Corr_22sep22',\n",
    "    'G0088441',\n",
    "    ]\n",
    "quadrat_ids"
   ],
   "metadata": {
    "colab": {
     "base_uri": "https://localhost:8080/"
    },
    "id": "ykKbgq45wJn7",
    "executionInfo": {
     "status": "ok",
     "timestamp": 1704931633304,
     "user_tz": -330,
     "elapsed": 761,
     "user": {
      "displayName": "Ponniah Kameswaran",
      "userId": "12345524209351306261"
     }
    },
    "outputId": "f3a626c6-1da2-4cd0-de2a-9932659fdc06"
   },
   "outputs": [],
   "execution_count": null
  },
  {
   "cell_type": "markdown",
   "source": [
    "## Label Propagation"
   ],
   "metadata": {
    "id": "wUzyAOw8uyKD"
   }
  },
  {
   "cell_type": "markdown",
   "source": [
    "### Parameters Setup"
   ],
   "metadata": {
    "id": "Wlrphs_1Le5z"
   }
  },
  {
   "cell_type": "code",
   "source": [
    "dataset_dict = REEF_SUPPORT_BENCHMARK_DATASET.copy()\n",
    "# dataset_dict = {'REGION-1': ['17001652802'], 'REGION-2': ['12025020201'], 'REGION-3': ['24047242502']}\n",
    "# dataset_dict = {'ATL': ['20010148701', '17039238402'], 'PAC_AUS': ['10001026902']}\n",
    "experiment_name = 'SAM-B1-RAND-300-F'\n",
    "execution_tag = 'C0'\n",
    "working_folder = Path('/content/labelprop')\n",
    "\n",
    "image_size = 1024\n",
    "point_labels_source = 'DENSE'\n",
    "point_labels_count = 300\n",
    "patchifier = None # SimplePatchifier\n",
    "propagator = SAMPointPromptsLabelProp # PLASPIXLabelProp\n",
    "image_encoder_weights_path = os.path.join(SAM_WEIGHTS_PATH, SAM_WEIGHTS_FILE)"
   ],
   "metadata": {
    "id": "v15m_PT8I56t",
    "executionInfo": {
     "status": "ok",
     "timestamp": 1705387963657,
     "user_tz": -330,
     "elapsed": 388,
     "user": {
      "displayName": "Ponniah Kameswaran",
      "userId": "10075489862576309872"
     }
    }
   },
   "outputs": [],
   "execution_count": null
  },
  {
   "cell_type": "code",
   "source": [
    "if 'SAM' in propagator.__name__:\n",
    "    hyper_params = \\\n",
    "        dict(\n",
    "            point_labels_source=point_labels_source,\n",
    "            point_labels_count=point_labels_count,\n",
    "            image_encoder='vit_h',\n",
    "            image_encoder_weights_path=image_encoder_weights_path,\n",
    "            )\n",
    "elif 'PLASPIX' in propagator.__name__:\n",
    "    # set value for each hyper parameter\n",
    "    point_labels_type = 'SPARSE'\n",
    "    num_spixels = 400\n",
    "    ensemble = 'No'\n",
    "    alpha = 10\n",
    "    xysigma = 0.25\n",
    "    cnnsigma = 0.1\n",
    "\n",
    "    # create a dictionary listing all hyper parameters and their ranges\n",
    "    hyper_params = {\n",
    "        'point_labels_source': point_labels_source,\n",
    "        'point_labels_count': point_labels_count,\n",
    "        'point_labels_type': point_labels_type,\n",
    "        'num_spixels': num_spixels,\n",
    "        'ensemble': ensemble,\n",
    "        'alpha': alpha,\n",
    "        'xysigma': xysigma,\n",
    "        'cnnsigma': cnnsigma,\n",
    "    }"
   ],
   "metadata": {
    "id": "uQNxEF1oExFk",
    "executionInfo": {
     "status": "ok",
     "timestamp": 1705387966852,
     "user_tz": -330,
     "elapsed": 3,
     "user": {
      "displayName": "Ponniah Kameswaran",
      "userId": "10075489862576309872"
     }
    }
   },
   "outputs": [],
   "execution_count": null
  },
  {
   "cell_type": "code",
   "source": [
    "logger.info(f\"Experiment name         : {experiment_name}\")\n",
    "logger.info(f\"Execution tag           : {execution_tag}\")\n",
    "logger.info(f\"Local working folder    : {working_folder}\")\n",
    "logger.info(f\"Experiment save folder  : {RESULTS_UPLOAD_PATH}\")\n",
    "logger.info(f\"\")\n",
    "logger.info(f\"Image size              : {image_size}\")\n",
    "logger.info(f\"Point labels source     : {point_labels_source}\")\n",
    "logger.info(f\"Point labels count      : {point_labels_count}\")\n",
    "logger.info(f\"Patchifier              : {patchifier.__name__ if patchifier else 'None'}\")\n",
    "logger.info(f\"Propagator              : {propagator.__name__ if propagator else 'None'}\")\n",
    "logger.info(f\"\")\n",
    "logger.info(f\"Hyper parameters        : {hyper_params}\")\n",
    "logger.info(f\"\")\n",
    "logger.info(f\"# of folders in dataset : {len(dataset_dict)}\")\n",
    "logger.info(f\"# of samples in dataset : {sum([len(x) for x in dataset_dict.values()])}\")"
   ],
   "metadata": {
    "colab": {
     "base_uri": "https://localhost:8080/"
    },
    "id": "xuicZNHJJHzU",
    "executionInfo": {
     "status": "ok",
     "timestamp": 1705387999458,
     "user_tz": -330,
     "elapsed": 383,
     "user": {
      "displayName": "Ponniah Kameswaran",
      "userId": "10075489862576309872"
     }
    },
    "outputId": "644d94fd-7381-4d85-84dc-338dd532be76"
   },
   "outputs": [],
   "execution_count": null
  },
  {
   "cell_type": "markdown",
   "source": [
    "### Propagation Pipeline"
   ],
   "metadata": {
    "id": "_HglYyarLhAv"
   }
  },
  {
   "cell_type": "code",
   "source": [
    "dataset_full_df = pd.DataFrame({})\n",
    "patches_dataset_full = []\n",
    "\n",
    "for folder in dataset_dict.keys():\n",
    "    logger.info(f\"{'-'*80}\")\n",
    "    logger.info(f\"Folder: {folder}\")\n",
    "\n",
    "    # get list of quadratids from the dataset\n",
    "    quadrat_ids = [os.path.splitext(x)[0] for x in dataset_dict[folder]]\n",
    "    logger.info(f\"# of samples in folder: {len(quadrat_ids)}\")\n",
    "\n",
    "    # build a folder specific dataset in the format expected by labelmate package\n",
    "    dataset_df = create_labelmate_dataset(quadrat_ids, manifest_df, point_labels_source, point_labels_count)\n",
    "\n",
    "    # append folder specific dataset to full dataset\n",
    "    dataset_full_df = pd.concat([dataset_full_df, dataset_df], ignore_index=True)\n",
    "\n",
    "    # setup labelmate dataset\n",
    "    logger.info(f\"Loading samples into local working folder ...\")\n",
    "    label_prop_data = \\\n",
    "        LabelPropDataLoader(\n",
    "            experiment_name=f\"{experiment_name}-{folder}\",\n",
    "            dataset=dataset_df.copy(),\n",
    "            point_labels=None,\n",
    "            num_classes=3,\n",
    "            working_folder=working_folder,\n",
    "            transforms=get_resize_transform(image_size=image_size),\n",
    "            )\n",
    "\n",
    "    # reset working folder contents\n",
    "    label_prop_data.delete_sub_folders()\n",
    "    label_prop_data.create_sub_folders()\n",
    "\n",
    "    # prepare input data in working folders\n",
    "    label_prop_data.prepare_input_data()\n",
    "    logger.info(f\"# of samples loaded: {len(label_prop_data)}\")\n",
    "\n",
    "    # patchify data if patchifier is provided\n",
    "    if patchifier:\n",
    "        logger.info(f\"Patchifying samples ...\")\n",
    "        # setup patchifier dataset\n",
    "        patch_data = \\\n",
    "            patchifier(\n",
    "                experiment_name=f\"{experiment_name}-{folder}\",\n",
    "                samples=label_prop_data,\n",
    "                num_classes=3,\n",
    "                working_folder=Path.joinpath(label_prop_data.working_folder, 'patches'),\n",
    "                patch_height=256,\n",
    "                patch_width=256,\n",
    "                step_size=256\n",
    "            )\n",
    "\n",
    "        # reset patchifier working folder contents\n",
    "        patch_data.delete_sub_folders()\n",
    "        patch_data.create_sub_folders()\n",
    "\n",
    "        # create patches for samples\n",
    "        patch_data.patchify_samples()\n",
    "        logger.info(f\"# of patches loaded: {len(patch_data)}\")\n",
    "\n",
    "        # save patch details into a patches dataset\n",
    "        patch_datatset = \\\n",
    "            [{'dataset_name': folder, 'region': folder, **patch_data[idx]}\n",
    "            for idx in range(len(patch_data))]\n",
    "\n",
    "        # append folder specific patches dataset to full patches dataset\n",
    "        patches_dataset_full.extend(patch_datatset)\n",
    "    else:\n",
    "        logger.info(f\"Samples will not be patchified\")\n",
    "\n",
    "    # setup label propagator\n",
    "    logger.info(f\"Propagating labels using {propagator.__name__} ...\")\n",
    "    label_propagator = \\\n",
    "        propagator(\n",
    "            dataloader=patch_data if patchifier else label_prop_data,\n",
    "            execution_tag=execution_tag,\n",
    "            hyper_params={'region': folder, **hyper_params},\n",
    "            )\n",
    "\n",
    "    # run label propagation\n",
    "    label_propagator.run_pipeline()\n",
    "\n",
    "    # plot confusion matrix\n",
    "    label_propagator.evaluator.plot_confusion_matrix()\n",
    "\n",
    "    # save experiment data\n",
    "    label_propagator.save_experiment(\n",
    "        save_path=Path(RESULTS_UPLOAD_PATH),\n",
    "        sub_folders=['images', 'masks', 'predictions'],\n",
    "        )\n",
    "\n",
    "    # offload propagator from GPU\n",
    "    if 'SAM' in propagator.__name__:\n",
    "        del label_propagator.sam_mask_predictor\n",
    "        del label_propagator.sam_model\n",
    "        torch.cuda.empty_cache()\n",
    "\n",
    "    del label_propagator\n",
    "    torch.cuda.empty_cache()"
   ],
   "metadata": {
    "colab": {
     "base_uri": "https://localhost:8080/",
     "height": 1000,
     "referenced_widgets": [
      "104b65f54f2a4e369dfde3b5e8d8f6a8",
      "a87b6877b44d4b518cf377e235489c0a",
      "18c5cfd17f0349e9aa131172f450f16e",
      "fb9ffbbd1c2e4bc793ba7f31b15e8e1c",
      "3d28c7fc252041dbb1abfe4905db3f89",
      "3a75638df1a049d69b12af4f019a6b17",
      "92053eebcc5748b9983aaf3926cabf8b",
      "3f04a6010a2a43debcc3a3c0143bba85",
      "7e67e024df644a119ecd265599e1af1d",
      "ca415ef8e9784867bb7e9aaf9ac6848f",
      "d64a6e6a52854ba8a523398bf499a05f",
      "815ace888620492085699015facd54c1",
      "a94b1416a2cf4f43a67e7af90adbd69e",
      "edcc66cff6a64a4da006d92f4c91dc17",
      "ec3e1e44043e4e659e8e3c9ee6a18090",
      "6fc73a21e1f24254b6582825e5180d90",
      "222774aa83c84e8eaefb53a8bee8cc20",
      "c7d3d2b2aedb40cf9afa076ddd123a38",
      "599ec7237e0c4cdd97829d66ffbc9ba0",
      "30bd2fe551c84ca0b8ff23542ee9be5e",
      "a569b702763143a4b17080387685a6cd",
      "e76c0b92d57848309985a67e6015eb08",
      "8f288bb70d664ec98a663805ea2364cf",
      "68fd19eae12348099177d61f3a3a6419",
      "a975dc73e2a4473483ff84e1ca13bd11",
      "71c4d830ea1c4f79a664e2de17915c1b",
      "852a12f640d648dbb46945c6933b86d2",
      "e72015d4628544b6b389bb3290b3c71c",
      "b665ebd6e33141c4a3878e8c444788bf",
      "79dd280b0d004a1e81601501890fd295",
      "31d7381dfa674ff69ffcd9fd3af8e313",
      "2c12283ba462428cadbc546374b30b37",
      "85b62e14efcc4110b6bf2b7ec6295ef2",
      "6b132a81fd5449ea97b4c68861597a34",
      "801149af491045df97d4254de19f3520",
      "a92987913b4444f29e7616b87ba6f885",
      "191860a5e3ca473d9fbd3cc946c74c4d",
      "87aec3ca45e1490c965f4b634c0d6531",
      "06e94530600e48eb87a6aedbe74b2b79",
      "5e5db0ac6af34be49acad988d27bed76",
      "f7f0575e90604269b53b60badfe81a0f",
      "e2ad0923fba949509a675a84752b894f",
      "2609ceb9e16b44a8b0e2f144ef02395f",
      "47e846d2b1654057bb10949dba37eb7e",
      "3bec918ac8b747aa9ac65cf750ef3ec7",
      "9f134955289b442388e02c911bead3d0",
      "c7bfe6e49cce4a86a7a9eb247f81a9a0",
      "ab71190ec22d4fea9ab3d66109c1682d",
      "fdb606321859488187744e6abaa00cc1",
      "a258d75bcb8b4530857a3b42f91c2a26",
      "359bd6610085476697babcf774c78526",
      "b7534606a9c94b7dbd1cc95b04a79aff",
      "09b8ec9e405d4b0e812e6b12200d17f4",
      "db716d8aec604152abd45e0b0e6abe02",
      "58d38490b44b4b79b770ccfb8d918c41",
      "1ff577c934734a4d8c086a46508cb9d5",
      "3dcd7bd351814f7a8e7a4f175e20139f",
      "41924b8158fc459ea7630f12ea63e1e0",
      "05d30bcd5906444cae224f816016bbb6",
      "6dac11974b8741148f03bc07b069b375",
      "00881fbac2d940ff9bf086823cca296a",
      "8c622c984f634f388fdcb940d44f4f76",
      "9af8e38805564668b3268f67b733900c",
      "e9d3636effa9414b991f7eb20a479678",
      "1497046ba6e84692ab669ba76b0996f2",
      "8c188acbdbe04af7af2b65ed409b6d3e",
      "fc382788d8af4c4baec93d27dcec66ce",
      "a674b5c7d05747a1a7d5827569abaaae",
      "10d25a3e5b93465e928fb9d396d920e3",
      "7123d68b937c4f51b33e66a704ecb761",
      "98ed69d9e9dd48c2920f29fa9251ee45",
      "94b3a092e86f405f920648373f45fe68",
      "001ac89f7007472c975d6d232a8eae5f",
      "49137e67fa7341c999622479609c23f9",
      "c0bc17cf22e54d5dbfe73d06929c0271",
      "2e24b50e4dac4c3f92629d32b8ca37ba",
      "5f7ae408e3a648b4adbb17608b805824",
      "c9f34ce813cf402a88e013de6dee3b9f",
      "22bbad19c62449738f7e0b85ac33d56c",
      "3178bd869fb1447f9eaf0887ca2590c4",
      "9c2dfc94a9534ee29e2a50903c6dba95",
      "628e58117b4d4464afed8e19b5f6d62f",
      "368086d4e5824499a3c5b13649b4f4d9",
      "0edfe941463d463aabb5f5823f39098a",
      "51eb6e1676984b76ac2d20f82e63c82d",
      "9721e3918fc949689db4ec8432de0c6a",
      "d81cfdd32fdb45b0a7a3da2d80d2e8b0",
      "2d39c0448f3f47e19356437d517b4ab7",
      "2c6b8c7cb47c4965a215c52e6f518de2",
      "71d8848eea3c4837aa9469d95b14152f",
      "6edbc7e8c5db4ddd9637854f3aef0cf7",
      "51ed99c780104884ae8ad754d1392d93",
      "3d7d2f1bb548429883875e58aa8239f1",
      "9089ea3edb954fc5b3e456a66f058cb9",
      "1fda6814a5f14f5a81c6fbb1773d3ea0",
      "78a1a61289e24cfa98550618a8cd3141",
      "67a7ba06d9554f8bb7d8764afc1a7ace",
      "2985c9fcafef4aeab48ef36079c8649a",
      "1e06bbe08d2a4f20900429401aef2a93",
      "63b180db45444175a261e84679b98c5b",
      "1fc99eae01e14abc836096562af2b2c6",
      "6658226a31864ff3bf11f3ff5e7ccd1f",
      "d5c004dfc73c44d59a89dca72f45bd1f",
      "258dc14d49884e67a37c3dee17f04a25",
      "2b94f183c4f44722875459be88f53b48",
      "bdce50ee7d0e446c8bde45cf26247b24",
      "db411178d8274f76bd0de67fb6143b28",
      "16f82d768d63414ca0aa56bc52560d9b",
      "e9207849000b4836a869b17f78295074",
      "023ed02c7b4941d6ad5b94429aafdd45",
      "5b7e69b78ddd4e1caef0cfecfb463a32",
      "ca06ea6e417a4cad936cc66ec1a62156",
      "ad992480b49a420aa5cd4a45c9b309de",
      "22ab7993259e435e89068803f33eb894",
      "83b40944ca664190b3a7e3c97612c723",
      "6d2d9d9ab83a45b7ae8e9b32aff60e33",
      "aaa25bd57d0f4fb48b0e64989eda0379",
      "55244d288bb94c939af8e24a54c98dd4",
      "60b4b8de52634524949f58774b6eb51c",
      "35cb114ae9c349728dbe3a0ee1293aa2",
      "9c71ebdaefad4874b285a73d82236945",
      "515d3e5b421e4374b10f951aa7a36da6",
      "06336f5d0be64ae985316064f649c0fe",
      "f3edc5ad97a14aa98a8b47bf83fcddcb",
      "724acbd1865042439cd7f4ea04d98416",
      "fedadb9128f94a8188c48ce53a4c8eea",
      "5dcd21233bf141e58cc84ad341bfa3e6",
      "039b60a3e0b847c188079caaa2be4501",
      "5276d88fcdc54529968419d5e338d6be",
      "2e24df40bffe48bfb6634790fc91defe",
      "799f0a148926458ebf62bc071c6cc901",
      "e519e71ebdc445a1985b7b0c51661589"
     ]
    },
    "id": "AT7uBNspFtVO",
    "outputId": "20b6f336-0db5-476a-ff2a-21ec82c78e10",
    "executionInfo": {
     "status": "ok",
     "timestamp": 1705391002671,
     "user_tz": -330,
     "elapsed": 2988268,
     "user": {
      "displayName": "Ponniah Kameswaran",
      "userId": "10075489862576309872"
     }
    }
   },
   "outputs": [],
   "execution_count": null
  },
  {
   "cell_type": "markdown",
   "source": [
    "## Evaluation Metrics"
   ],
   "metadata": {
    "id": "aE9mwalhcoNc"
   }
  },
  {
   "cell_type": "markdown",
   "source": [
    "### Evaluation Pipeline"
   ],
   "metadata": {
    "id": "AIAGyemScywt"
   }
  },
  {
   "cell_type": "code",
   "source": [
    "# setup a dummy dataset pointing to the experiment save path\n",
    "# if patchifier was used, then sample details as well as point labels\n",
    "# need to be taken from patch dataset related variables\n",
    "if patchifier:\n",
    "    label_prop_dummy_dataset = [\n",
    "        dict(\n",
    "            sample_id=patches_dataset_full[idx]['sample_id'],\n",
    "            dataset_name=patches_dataset_full[idx]['dataset_name'],\n",
    "            region=patches_dataset_full[idx]['region'],\n",
    "            image_path=os.path.join(RESULTS_UPLOAD_PATH, *(patches_dataset_full[0]['image_path'].parts[-2:])),\n",
    "            mask_path=os.path.join(RESULTS_UPLOAD_PATH, *(patches_dataset_full[0]['mask_path'].parts[-2:])),\n",
    "            point_labels_source=point_labels_source,\n",
    "            point_labels_count=point_labels_count,\n",
    "        ) for idx in range(len(patches_dataset_full))\n",
    "    ]\n",
    "    label_prop_dummy_dataset_df = pd.DataFrame(label_prop_dummy_dataset)\n",
    "    label_prop_dummy_point_labels_df = \\\n",
    "        pd.concat([patches_dataset_full[idx]['point_labels'] for idx in range(len(patches_dataset_full))], ignore_index=True)\n",
    "    logger.info(f\"# of samples (patches): {label_prop_dummy_dataset_df.shape[0]}\")\n",
    "else:\n",
    "    label_prop_dummy_dataset_df = dataset_full_df.copy()\n",
    "    label_prop_dummy_point_labels_df = pd.DataFrame({})\n",
    "    logger.info(f\"# of samples (full images): {label_prop_dummy_dataset_df.shape[0]}\")"
   ],
   "metadata": {
    "id": "nZz4CQ8t6gZE",
    "colab": {
     "base_uri": "https://localhost:8080/"
    },
    "executionInfo": {
     "status": "ok",
     "timestamp": 1705391157793,
     "user_tz": -330,
     "elapsed": 376,
     "user": {
      "displayName": "Ponniah Kameswaran",
      "userId": "10075489862576309872"
     }
    },
    "outputId": "5f25aea1-f578-46ea-b138-9bc851679701"
   },
   "outputs": [],
   "execution_count": null
  },
  {
   "cell_type": "code",
   "source": [
    "# setup a dummy dataset pointing to the experiment save path\n",
    "label_prop_data_dummy = \\\n",
    "    LabelPropDataLoader(\n",
    "        experiment_name=experiment_name,\n",
    "        dataset=label_prop_dummy_dataset_df.copy(),\n",
    "        point_labels=label_prop_dummy_point_labels_df,\n",
    "        num_classes=3,\n",
    "        working_folder=Path(RESULTS_UPLOAD_PATH),\n",
    "        execution_tag=execution_tag,\n",
    "        transforms=None,\n",
    "        )\n",
    "\n",
    "# setup evaluator\n",
    "label_prop_evaluator = \\\n",
    "    LabelPropEvaluator(\n",
    "        experiment_name=experiment_name,\n",
    "        execution_tag=execution_tag,\n",
    "        num_classes=3,\n",
    "        hyper_params=hyper_params,\n",
    "    )\n",
    "\n",
    "# run evaluator on the dummy dataset\n",
    "eval_results_samples = label_prop_evaluator.evaluate_samples(label_prop_data_dummy)\n",
    "eval_results_summary = label_prop_evaluator.generate_summary()\n",
    "\n",
    "# plot confusion matrix\n",
    "label_prop_evaluator.plot_confusion_matrix()\n",
    "\n",
    "# show overall results\n",
    "eval_results_summary"
   ],
   "metadata": {
    "colab": {
     "base_uri": "https://localhost:8080/",
     "height": 788
    },
    "id": "cRHzfpWaPkHo",
    "executionInfo": {
     "status": "ok",
     "timestamp": 1705391421597,
     "user_tz": -330,
     "elapsed": 254842,
     "user": {
      "displayName": "Ponniah Kameswaran",
      "userId": "10075489862576309872"
     }
    },
    "outputId": "76f30060-ba5d-4a40-ad55-f06fac2ddb57"
   },
   "outputs": [],
   "execution_count": null
  },
  {
   "cell_type": "markdown",
   "source": [
    "### Save Evaluation Metrics"
   ],
   "metadata": {
    "id": "ATKC-QLLcxCf"
   }
  },
  {
   "cell_type": "code",
   "source": [
    "label_prop_evaluator.eval_results_summary.to_csv(\n",
    "    os.path.join(RESULTS_UPLOAD_PATH, f\"{experiment_name}-Results-Summary-{execution_tag}.csv\"),\n",
    "    index=False,\n",
    "    )"
   ],
   "metadata": {
    "id": "LTkEIXJzcxCg",
    "executionInfo": {
     "status": "ok",
     "timestamp": 1705391436302,
     "user_tz": -330,
     "elapsed": 354,
     "user": {
      "displayName": "Ponniah Kameswaran",
      "userId": "10075489862576309872"
     }
    }
   },
   "outputs": [],
   "execution_count": null
  },
  {
   "cell_type": "code",
   "source": [
    "label_prop_evaluator.eval_results_samples.to_csv(\n",
    "    os.path.join(RESULTS_UPLOAD_PATH, f\"{experiment_name}-Results-Samples-{execution_tag}.csv\"),\n",
    "    index=False,\n",
    "    )"
   ],
   "metadata": {
    "id": "ktvhoo3QcxCh",
    "executionInfo": {
     "status": "ok",
     "timestamp": 1705391438439,
     "user_tz": -330,
     "elapsed": 358,
     "user": {
      "displayName": "Ponniah Kameswaran",
      "userId": "10075489862576309872"
     }
    }
   },
   "outputs": [],
   "execution_count": null
  },
  {
   "cell_type": "markdown",
   "source": [
    "## Visualize Results"
   ],
   "metadata": {
    "id": "ITeHIPlOTrsF"
   }
  },
  {
   "cell_type": "markdown",
   "source": [
    "### Select Samples"
   ],
   "metadata": {
    "id": "wm3M6uGCp7LF"
   }
  },
  {
   "cell_type": "code",
   "source": [
    "sample_ids = [\n",
    "    '32011066301',\n",
    "    '12025020201',\n",
    "    '20046281801',\n",
    "    '20220914_AnB_CB14 (219)',\n",
    "    'E19_T2_C11_Corr_22sep22',\n",
    "    'G0088441',\n",
    "    ]\n",
    "# sample_ids = ['17001652802', '12025020201', '24047242502']\n",
    "\n",
    "if patchifier:\n",
    "    sample_ids = label_prop_dummy_point_labels_df.query(f\"sample_id.isin({sample_ids})\").quadratid.unique().tolist()"
   ],
   "metadata": {
    "id": "ojLyudZydvqF",
    "executionInfo": {
     "status": "ok",
     "timestamp": 1705391442882,
     "user_tz": -330,
     "elapsed": 536,
     "user": {
      "displayName": "Ponniah Kameswaran",
      "userId": "10075489862576309872"
     }
    }
   },
   "outputs": [],
   "execution_count": null
  },
  {
   "cell_type": "markdown",
   "source": [
    "### Plot Results"
   ],
   "metadata": {
    "id": "jgK96Wo4p8t9"
   }
  },
  {
   "cell_type": "code",
   "source": [
    "for sample_id in sample_ids:\n",
    "    index = label_prop_dummy_dataset_df.query(f\"sample_id == '{sample_id}'\").index.item()\n",
    "    manifest_index = label_prop_dummy_dataset_df.query(f\"sample_id == '{sample_id}'\").manifest_index.item()\n",
    "    region = label_prop_dummy_dataset_df.query(f\"sample_id == '{sample_id}'\").dataset_name.item()\n",
    "    point_labels_source = label_prop_dummy_dataset_df.query(f\"sample_id == '{sample_id}'\").point_labels_source.item()\n",
    "    point_labels_count = label_prop_dummy_dataset_df.query(f\"sample_id == '{sample_id}'\").point_labels_count.item()\n",
    "\n",
    "    if label_prop_dummy_point_labels_df.shape[0] == 0:\n",
    "        if point_labels_source == 'GRID':\n",
    "            point_labels = \\\n",
    "                label_prop_data_dummy.get_evenly_spaced_point_labels(\n",
    "                    mask_path=str(Path(label_prop_data_dummy[index]['mask_path']).resolve()),\n",
    "                    num_point_labels=point_labels_count,\n",
    "                    )\n",
    "        else:\n",
    "            point_labels = \\\n",
    "                label_prop_data_dummy.get_random_point_labels(\n",
    "                    mask_path=str(Path(label_prop_data_dummy[index]['mask_path']).resolve()),\n",
    "                    num_point_labels=point_labels_count,\n",
    "                    random_seed=manifest_index,\n",
    "                    )\n",
    "        point_labels_df = pd.DataFrame(point_labels)\n",
    "        point_labels_df['quadratid'] = sample_id\n",
    "    else:\n",
    "        point_labels_df = label_prop_dummy_point_labels_df.copy()\n",
    "\n",
    "    evaluation_metrics = \\\n",
    "        label_prop_evaluator.eval_results_samples.query(f\"sample_id == '{sample_id}'\")\n",
    "\n",
    "    print(f\"Sample ID: {sample_id}, Region: {region}\")\n",
    "    print(f\"IoU - Hard Coral = {evaluation_metrics.iou_class_1.item():.2%}, IoU - Soft Coral = {evaluation_metrics.iou_class_2.item():.2%}\")\n",
    "    print(f\"PA - Hard Coral = {evaluation_metrics.pa_class_1.item():.2%}, PA - Soft Coral = {evaluation_metrics.pa_class_2.item():.2%}\")\n",
    "\n",
    "    visualize_output(\n",
    "        experiment_name=label_prop_data_dummy[index]['experiment_name'],\n",
    "        sample_id=label_prop_data_dummy[index]['sample_id'],\n",
    "        image_path=Path(label_prop_data_dummy[index]['image_path']),\n",
    "        mask_path=Path(label_prop_data_dummy[index]['mask_path']),\n",
    "        prediction_path=Path(label_prop_data_dummy[index]['prediction_path']),\n",
    "        point_labels=point_labels_df,\n",
    "        )\n",
    "\n",
    "    print()\n",
    "    print()"
   ],
   "metadata": {
    "colab": {
     "base_uri": "https://localhost:8080/",
     "height": 1000
    },
    "id": "_MpFOAMwQ0x8",
    "executionInfo": {
     "status": "ok",
     "timestamp": 1705391477589,
     "user_tz": -330,
     "elapsed": 13841,
     "user": {
      "displayName": "Ponniah Kameswaran",
      "userId": "10075489862576309872"
     }
    },
    "outputId": "7cbd5524-790c-4c03-b1f8-f3c5ebe11477"
   },
   "outputs": [],
   "execution_count": null
  },
  {
   "cell_type": "code",
   "source": [],
   "metadata": {
    "colab": {
     "base_uri": "https://localhost:8080/",
     "height": 1000
    },
    "id": "YVlffG9QPrGO",
    "executionInfo": {
     "status": "ok",
     "timestamp": 1705055802955,
     "user_tz": -330,
     "elapsed": 5466,
     "user": {
      "displayName": "Ponniah Kameswaran",
      "userId": "12345524209351306261"
     }
    },
    "outputId": "4e8b5199-3cf1-4a78-bf01-b0c9f18c40c8"
   },
   "outputs": [],
   "execution_count": null
  },
  {
   "cell_type": "code",
   "source": [],
   "metadata": {
    "id": "izg7z3gZ_9zN",
    "colab": {
     "base_uri": "https://localhost:8080/",
     "height": 1000
    },
    "executionInfo": {
     "status": "ok",
     "timestamp": 1705055506301,
     "user_tz": -330,
     "elapsed": 7154,
     "user": {
      "displayName": "Ponniah Kameswaran",
      "userId": "12345524209351306261"
     }
    },
    "outputId": "1799ee5d-bbb9-4a14-9781-9c7442709948"
   },
   "outputs": [],
   "execution_count": null
  },
  {
   "cell_type": "markdown",
   "source": [
    "## YOLOv8 Comparison"
   ],
   "metadata": {
    "id": "l2bYeauXO9a0"
   }
  },
  {
   "cell_type": "markdown",
   "source": [
    "### Select Samples"
   ],
   "metadata": {
    "id": "hJCtPBLQO8mL"
   }
  },
  {
   "cell_type": "code",
   "source": [
    "sample_ids = [\n",
    "    '32011066301',\n",
    "    '12025020201',\n",
    "    '20046281801',\n",
    "    '20220914_AnB_CB14 (219)',\n",
    "    'E19_T2_C11_Corr_22sep22',\n",
    "    'G0088441',\n",
    "    ]\n",
    "# sample_ids = ['17001652802', '12025020201', '24047242502']\n",
    "sample_ids = ['20010148701', '17039238402', '10001026902']\n",
    "\n",
    "if patchifier:\n",
    "    sample_ids = label_prop_dummy_point_labels_df.query(f\"sample_id.isin({sample_ids})\").quadratid.unique().tolist()"
   ],
   "metadata": {
    "id": "7lxNcdDaO8mL"
   },
   "outputs": [],
   "execution_count": null
  },
  {
   "cell_type": "code",
   "source": [
    "# setup a dummy dataset pointing to the experiment save path\n",
    "label_prop_data_dummy = \\\n",
    "    LabelPropDataLoader(\n",
    "        experiment_name=experiment_name,\n",
    "        dataset=label_prop_dummy_dataset_df.copy(),\n",
    "        point_labels=label_prop_dummy_point_labels_df,\n",
    "        num_classes=3,\n",
    "        working_folder=Path(RESULTS_UPLOAD_PATH),\n",
    "        execution_tag=execution_tag,\n",
    "        transforms=None,\n",
    "        )"
   ],
   "metadata": {
    "id": "D-9b7un2PNID"
   },
   "outputs": [],
   "execution_count": null
  },
  {
   "cell_type": "markdown",
   "source": [
    "### Plot Results"
   ],
   "metadata": {
    "id": "S88e7JvSO8mL"
   }
  },
  {
   "cell_type": "code",
   "source": [
    "for sample_id in sample_ids:\n",
    "    index = label_prop_dummy_dataset_df.query(f\"sample_id == '{sample_id}'\").index.item()\n",
    "    manifest_index = label_prop_dummy_dataset_df.query(f\"sample_id == '{sample_id}'\").manifest_index.item()\n",
    "    region = label_prop_dummy_dataset_df.query(f\"sample_id == '{sample_id}'\").dataset_name.item()\n",
    "    point_labels_source = label_prop_dummy_dataset_df.query(f\"sample_id == '{sample_id}'\").point_labels_source.item()\n",
    "    point_labels_count = label_prop_dummy_dataset_df.query(f\"sample_id == '{sample_id}'\").point_labels_count.item()\n",
    "\n",
    "    if label_prop_dummy_point_labels_df.shape[0] == 0:\n",
    "        if point_labels_source == 'GRID':\n",
    "            point_labels = \\\n",
    "                label_prop_data_dummy.get_evenly_spaced_point_labels(\n",
    "                    mask_path=str(Path(label_prop_data_dummy[index]['mask_path']).resolve()),\n",
    "                    num_point_labels=point_labels_count,\n",
    "                    )\n",
    "        else:\n",
    "            point_labels = \\\n",
    "                label_prop_data_dummy.get_random_point_labels(\n",
    "                    mask_path=str(Path(label_prop_data_dummy[index]['mask_path']).resolve()),\n",
    "                    num_point_labels=point_labels_count,\n",
    "                    random_seed=manifest_index,\n",
    "                    )\n",
    "        point_labels_df = pd.DataFrame(point_labels)\n",
    "        point_labels_df['quadratid'] = sample_id\n",
    "    else:\n",
    "        point_labels_df = label_prop_dummy_point_labels_df.copy()\n",
    "\n",
    "    evaluation_metrics = \\\n",
    "        label_prop_evaluator.eval_results_samples.query(f\"sample_id == '{sample_id}'\")\n",
    "\n",
    "    print(f\"Sample ID: {sample_id}, Region: {region}\")\n",
    "    print(f\"IoU - Hard Coral = {evaluation_metrics.iou_class_1.item():.2%}, IoU - Soft Coral = {evaluation_metrics.iou_class_2.item():.2%}\")\n",
    "    print(f\"PA - Hard Coral = {evaluation_metrics.pa_class_1.item():.2%}, PA - Soft Coral = {evaluation_metrics.pa_class_2.item():.2%}\")\n",
    "\n",
    "    visualize_output(\n",
    "        experiment_name=label_prop_data_dummy[index]['experiment_name'],\n",
    "        sample_id=label_prop_data_dummy[index]['sample_id'],\n",
    "        image_path=Path(label_prop_data_dummy[index]['image_path']),\n",
    "        mask_path=Path(label_prop_data_dummy[index]['mask_path']),\n",
    "        prediction_path=Path(label_prop_data_dummy[index]['prediction_path']),\n",
    "        point_labels=point_labels_df,\n",
    "        )\n",
    "\n",
    "    print()\n",
    "    print()"
   ],
   "metadata": {
    "colab": {
     "base_uri": "https://localhost:8080/",
     "height": 391
    },
    "executionInfo": {
     "status": "error",
     "timestamp": 1705072497200,
     "user_tz": -330,
     "elapsed": 40446,
     "user": {
      "displayName": "Ponniah Kameswaran",
      "userId": "05380499174109442671"
     }
    },
    "outputId": "7bdc34b6-c9d6-44f7-edea-e2061948972b",
    "id": "UB0HH1DjO8mM"
   },
   "outputs": [],
   "execution_count": null
  },
  {
   "cell_type": "code",
   "source": [
    "quadrat_ids = ['20010148701', '17039238402', '10001026902']"
   ],
   "metadata": {
    "id": "jlErWH2GPsWJ"
   },
   "outputs": [],
   "execution_count": null
  },
  {
   "cell_type": "code",
   "source": [
    "dataset_df = create_labelmate_dataset(quadrat_ids, manifest_df, point_labels_source, point_labels_count)"
   ],
   "metadata": {
    "id": "39fya_LPQAXG"
   },
   "outputs": [],
   "execution_count": null
  },
  {
   "cell_type": "code",
   "source": [
    "label_prop_data = \\\n",
    "    LabelPropDataLoader(\n",
    "        experiment_name=f\"{experiment_name}-{folder}\",\n",
    "        dataset=dataset_df.copy(),\n",
    "        point_labels=point_labels_df,\n",
    "        num_classes=3,\n",
    "        execution_tag='C0',\n",
    "        working_folder=Path(RESULTS_UPLOAD_PATH),\n",
    "        transforms=get_resize_transform(image_size=image_size),\n",
    "        )"
   ],
   "metadata": {
    "id": "7sMX5nN1Pn_M"
   },
   "outputs": [],
   "execution_count": null
  },
  {
   "cell_type": "code",
   "source": [
    "index = 1\n",
    "visualize_output(\n",
    "    experiment_name=label_prop_data[index]['experiment_name'],\n",
    "    sample_id=label_prop_data[index]['sample_id'],\n",
    "    image_path=Path(label_prop_data[index]['image_path']),\n",
    "    mask_path=Path(label_prop_data[index]['mask_path']),\n",
    "    prediction_path=Path(label_prop_data[index]['prediction_path']),\n",
    "    point_labels=point_labels_df,\n",
    "    )"
   ],
   "metadata": {
    "colab": {
     "base_uri": "https://localhost:8080/",
     "height": 330
    },
    "id": "qJ86iXn_QM2p",
    "executionInfo": {
     "status": "ok",
     "timestamp": 1705073674684,
     "user_tz": -330,
     "elapsed": 2492,
     "user": {
      "displayName": "Ponniah Kameswaran",
      "userId": "05380499174109442671"
     }
    },
    "outputId": "c467b31a-3ae3-42a5-8070-8296077034e8"
   },
   "outputs": [],
   "execution_count": null
  },
  {
   "cell_type": "code",
   "source": [
    "os.path.exists(Path(label_prop_data[0]['prediction_path']))"
   ],
   "metadata": {
    "colab": {
     "base_uri": "https://localhost:8080/"
    },
    "id": "tosc9OAnQc-i",
    "executionInfo": {
     "status": "ok",
     "timestamp": 1705073136126,
     "user_tz": -330,
     "elapsed": 8,
     "user": {
      "displayName": "Ponniah Kameswaran",
      "userId": "05380499174109442671"
     }
    },
    "outputId": "6c49e9e0-280f-49d9-c14d-9a4c3302b536"
   },
   "outputs": [],
   "execution_count": null
  },
  {
   "cell_type": "code",
   "source": [
    "Path(label_prop_data[2]['prediction_path'])"
   ],
   "metadata": {
    "colab": {
     "base_uri": "https://localhost:8080/"
    },
    "id": "4gLaohZ1RFoR",
    "executionInfo": {
     "status": "ok",
     "timestamp": 1705072944179,
     "user_tz": -330,
     "elapsed": 471,
     "user": {
      "displayName": "Ponniah Kameswaran",
      "userId": "05380499174109442671"
     }
    },
    "outputId": "75c5d93d-1405-4352-b323-e1ef379fc86d"
   },
   "outputs": [],
   "execution_count": null
  },
  {
   "cell_type": "code",
   "source": [
    "os.path.exists('/content/drive/MyDrive/20231114-FruitPunch-AI-for-Coral-Reefs-2/findings/SAM-B1-V2/predictions/10001026902-C0.png')"
   ],
   "metadata": {
    "colab": {
     "base_uri": "https://localhost:8080/"
    },
    "id": "bN0GvKtHQdUQ",
    "executionInfo": {
     "status": "ok",
     "timestamp": 1705073192632,
     "user_tz": -330,
     "elapsed": 2276,
     "user": {
      "displayName": "Ponniah Kameswaran",
      "userId": "05380499174109442671"
     }
    },
    "outputId": "79610c7f-b54d-4db2-ed17-6ca1b7ec6fa4"
   },
   "outputs": [],
   "execution_count": null
  },
  {
   "cell_type": "code",
   "source": [],
   "metadata": {
    "id": "6OoGZ9O1R9Le"
   },
   "outputs": [],
   "execution_count": null
  }
 ]
}
