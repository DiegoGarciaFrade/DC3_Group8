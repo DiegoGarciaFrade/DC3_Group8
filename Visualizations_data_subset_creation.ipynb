{
  "nbformat": 4,
  "nbformat_minor": 0,
  "metadata": {
    "colab": {
      "provenance": [],
      "include_colab_link": true
    },
    "kernelspec": {
      "name": "python3",
      "display_name": "Python 3"
    },
    "language_info": {
      "name": "python"
    }
  },
  "cells": [
    {
      "cell_type": "markdown",
      "metadata": {
        "id": "view-in-github",
        "colab_type": "text"
      },
      "source": [
        "<a href=\"https://colab.research.google.com/github/DiegoGarciaFrade/DC3_Group8/blob/main/Visualizations_data_subset_creation.ipynb\" target=\"_parent\"><img src=\"https://colab.research.google.com/assets/colab-badge.svg\" alt=\"Open In Colab\"/></a>"
      ]
    },
    {
      "cell_type": "markdown",
      "source": [
        "# Creating data set used for pipelines"
      ],
      "metadata": {
        "id": "PdEAovN7Az1-"
      }
    },
    {
      "cell_type": "markdown",
      "source": [
        "# Imports"
      ],
      "metadata": {
        "id": "wVgKOxvqAHxU"
      }
    },
    {
      "cell_type": "code",
      "source": [
        "import os\n",
        "import numpy as np\n",
        "import cv2\n",
        "import pandas as pd\n",
        "import matplotlib.pyplot as plt\n",
        "import shutil\n",
        "from pathlib import Path\n",
        "from tqdm import tqdm\n",
        "\n",
        "from google.colab import drive\n",
        "from google.colab import output"
      ],
      "metadata": {
        "id": "CoE9ZO-xANDa"
      },
      "execution_count": null,
      "outputs": []
    },
    {
      "cell_type": "code",
      "source": [
        "# mounting the drive\n",
        "drive.mount('/content/drive')"
      ],
      "metadata": {
        "colab": {
          "base_uri": "https://localhost:8080/"
        },
        "id": "iGfZ508qAWXa",
        "outputId": "812e81e0-49d8-470a-a715-89f696300fff"
      },
      "execution_count": null,
      "outputs": [
        {
          "output_type": "stream",
          "name": "stdout",
          "text": [
            "Drive already mounted at /content/drive; to attempt to forcibly remount, call drive.mount(\"/content/drive\", force_remount=True).\n"
          ]
        }
      ]
    },
    {
      "cell_type": "code",
      "source": [
        "# Setting the path to images\n",
        "PROJECT_ROOT_DIR = 'drive/MyDrive/'\n",
        "\n",
        "# path for point labels\n",
        "DATA_ROOT_DIR_POINT_LABELS = os.path.join(PROJECT_ROOT_DIR,'jbg060_AI_for_Good_course_Shared',\n",
        "                             '01_Data', 'benthic_datasets', 'point_labels', 'SEAVIEW', 'tabular-data')\n",
        "\n",
        "# path for masks\n",
        "DATA_ROOT_DIR_MASK = os.path.join(PROJECT_ROOT_DIR,'jbg060_AI_for_Good_course_Shared',\n",
        "                             '01_Data', 'benthic_datasets', 'mask_labels', 'reef_support')\n"
      ],
      "metadata": {
        "id": "oeZMNiD4AlFL"
      },
      "execution_count": null,
      "outputs": []
    },
    {
      "cell_type": "markdown",
      "source": [
        "# Getting images that have both point labels and corresponding masks\n",
        "\n",
        "* Folders that store data for regions have small differencess in names:\n",
        " - example: annotations_PAC_IDN_PHL.csv and SEAVIEW_IDN_PHL"
      ],
      "metadata": {
        "id": "gdhyaTYvDT2O"
      }
    },
    {
      "cell_type": "code",
      "source": [
        "# loading the csv files - point labels\n",
        "region_points = ['annotations_PAC_AUS.csv', 'annotations_PAC_USA.csv', 'annotations_ATL.csv', 'annotations_PAC_IDN_PHL.csv']\n",
        "\n",
        "# Loaded tabular data\n",
        "ann_PAC_AUS = pd.read_csv(os.path.join(DATA_ROOT_DIR_POINT_LABELS, region_points[0]))\n",
        "ann_PAC_USA = pd.read_csv(os.path.join(DATA_ROOT_DIR_POINT_LABELS, region_points[1]))\n",
        "ann_ALT = pd.read_csv(os.path.join(DATA_ROOT_DIR_POINT_LABELS, region_points[2]))\n",
        "ann_IDN_PHIL = pd.read_csv(os.path.join(DATA_ROOT_DIR_POINT_LABELS, region_points[3]))"
      ],
      "metadata": {
        "id": "wUdyH7WADgvt"
      },
      "execution_count": null,
      "outputs": []
    },
    {
      "cell_type": "code",
      "source": [
        "# getting the ids of images that have masks\n",
        "mask_folders = ['SEAVIEW_PAC_AUS', 'SEAVIEW_PAC_USA', 'SEAVIEW_ATL', 'SEAVIEW_IDN_PHL']\n",
        "\n",
        "# Getting the paths\n",
        "path_mask_PAC_AUS = os.path.join(DATA_ROOT_DIR_MASK, mask_folders[0], 'masks_stitched')\n",
        "path_mask_PAC_USA = os.path.join(DATA_ROOT_DIR_MASK, mask_folders[1], 'masks_stitched')\n",
        "path_mask_ATL = os.path.join(DATA_ROOT_DIR_MASK, mask_folders[2], 'masks_stitched')\n",
        "path_mask_IDN_PHL = os.path.join(DATA_ROOT_DIR_MASK, mask_folders[3], 'masks_stitched')\n",
        "\n",
        "\n",
        "# Getting the ids of masks - every name file is changed into an int\n",
        "mask_id_PAC_AUS = sorted([int(f.split('_')[0]) for f in os.listdir(path_mask_PAC_AUS) if f.endswith(('.jpg', '.png'))])\n",
        "mask_id_PAC_USA = sorted([int(f.split('_')[0]) for f in os.listdir(path_mask_PAC_USA) if f.endswith(('.jpg', '.png'))])\n",
        "mask_id_ALT = sorted([int(f.split('_')[0]) for f in os.listdir(path_mask_ATL) if f.endswith(('.jpg', '.png'))])\n",
        "mask_id_IDN_PHL = sorted([int(f.split('_')[0]) for f in os.listdir(path_mask_IDN_PHL) if f.endswith(('.jpg', '.png'))])"
      ],
      "metadata": {
        "id": "YOODfW9eWMNa"
      },
      "execution_count": null,
      "outputs": []
    },
    {
      "cell_type": "code",
      "source": [
        "# checking for duplicates\n",
        "# if the set and the list are of the same length then there are no duplicates\n",
        "# all values in the tuple are \"True\"\n",
        "# there are no duplicates\n",
        "len(mask_id_PAC_AUS) == len(set(mask_id_PAC_AUS)), len(mask_id_PAC_USA) == len(set(mask_id_PAC_USA)), len(mask_id_ALT) == len(set(mask_id_ALT)), len(mask_id_IDN_PHL) == len(set(mask_id_IDN_PHL)),"
      ],
      "metadata": {
        "id": "DwyvhpWmZk14",
        "colab": {
          "base_uri": "https://localhost:8080/"
        },
        "outputId": "0ecddfc2-aa9b-4cb8-bb14-1dd18c135b9c"
      },
      "execution_count": null,
      "outputs": [
        {
          "output_type": "execute_result",
          "data": {
            "text/plain": [
              "(True, True, True, True)"
            ]
          },
          "metadata": {},
          "execution_count": 133
        }
      ]
    },
    {
      "cell_type": "code",
      "source": [
        "# count of iages per region\n",
        "len(mask_id_PAC_AUS), len(mask_id_PAC_USA), len(mask_id_ALT), len(mask_id_IDN_PHL)"
      ],
      "metadata": {
        "colab": {
          "base_uri": "https://localhost:8080/"
        },
        "id": "MOrTEWhww4kQ",
        "outputId": "aef8f0da-3f28-4549-f33b-83d9f552f6e4"
      },
      "execution_count": null,
      "outputs": [
        {
          "output_type": "execute_result",
          "data": {
            "text/plain": [
              "(658, 278, 659, 466)"
            ]
          },
          "metadata": {},
          "execution_count": 134
        }
      ]
    },
    {
      "cell_type": "code",
      "source": [
        "# checking for ids that have both point labels and masks\n",
        "inter_PAC_AUS = set(ann_PAC_AUS['quadratid']) & set(mask_id_PAC_AUS)\n",
        "inter_PAC_USA = set(ann_PAC_USA['quadratid']) & set(mask_id_PAC_USA)\n",
        "inter_ALT = set(ann_ALT['quadratid']) & set(mask_id_ALT)\n",
        "inter_IDN_PHL = set(ann_IDN_PHIL['quadratid']) & set(mask_id_IDN_PHL)\n",
        "\n",
        "len(inter_PAC_AUS), len(inter_PAC_USA), len(inter_ALT), len(inter_IDN_PHL) # we found all ids that have both masks and ids"
      ],
      "metadata": {
        "colab": {
          "base_uri": "https://localhost:8080/"
        },
        "id": "xvD5V7nIxMCI",
        "outputId": "0d297da4-d126-4c8c-86e4-f532253a77ee"
      },
      "execution_count": null,
      "outputs": [
        {
          "output_type": "execute_result",
          "data": {
            "text/plain": [
              "(658, 278, 659, 466)"
            ]
          },
          "metadata": {},
          "execution_count": 135
        }
      ]
    },
    {
      "cell_type": "code",
      "source": [
        "# getting the tables with images that have both point labels and images\n",
        "final_PAC_AUS = ann_PAC_AUS[ann_PAC_AUS['quadratid'].isin(inter_PAC_AUS)]\n",
        "final_PAC_USA = ann_PAC_USA[ann_PAC_USA['quadratid'].isin(inter_PAC_USA)]\n",
        "final_PAC_ALT = ann_ALT[ann_ALT['quadratid'].isin(inter_ALT)]\n",
        "final_IDN_PHL = ann_IDN_PHIL[ann_IDN_PHIL['quadratid'].isin(inter_IDN_PHL)]\n",
        "\n",
        "# testing for ids - if some where missing\n",
        "all = len(set(final_PAC_AUS['quadratid'])), len(set(final_PAC_USA['quadratid'])), len(set(final_PAC_ALT['quadratid'])), len(set(final_IDN_PHL['quadratid']))\n",
        "all"
      ],
      "metadata": {
        "colab": {
          "base_uri": "https://localhost:8080/"
        },
        "id": "fgTW1sy02iqv",
        "outputId": "93887f0f-1b93-445f-d573-5d34dbef6590"
      },
      "execution_count": null,
      "outputs": [
        {
          "output_type": "execute_result",
          "data": {
            "text/plain": [
              "(658, 278, 659, 466)"
            ]
          },
          "metadata": {},
          "execution_count": 136
        }
      ]
    },
    {
      "cell_type": "code",
      "source": [
        "def proportion(input: tuple, total: int):\n",
        "'''\n",
        "    Calculate the proportional values of elements in an input tuple relative to a specified total.\n",
        "\n",
        "    This function takes a tuple of numerical values and calculates each value's proportion\n",
        "    of the total sum of the tuple, scaled by the specified total. The result is a list where\n",
        "    each element represents the scaled proportion of the corresponding input value.\n",
        "\n",
        "    Parameters:\n",
        "    input (tuple): A tuple of numerical values to be scaled proportionally.\n",
        "    total (int): The target sum to which the values in `input` are scaled.\n",
        "\n",
        "    Returns:\n",
        "    list (List): A list of proportional values that sum up to approximately `total`,\n",
        "         with each value representing a scaled proportion of each element in `input`.\n",
        "'''\n",
        "  samples = []\n",
        "  for value in input:\n",
        "    sample = (value / sum(input)) * total\n",
        "    samples.append(sample)\n",
        "  return samples\n",
        "\n",
        "\n",
        "proportion(all, 500)\n",
        " # so let there be images\n",
        " # PAC_AUS -> 160 ,PAC_USA -> 67, PAC_ALT -> 160 , IDN_PHL -> 113 total = 500"
      ],
      "metadata": {
        "colab": {
          "base_uri": "https://localhost:8080/"
        },
        "id": "GgCHn8yX55oW",
        "outputId": "52a6a7b6-755e-4ebd-c466-3af13470fb65"
      },
      "execution_count": null,
      "outputs": [
        {
          "output_type": "execute_result",
          "data": {
            "text/plain": [
              "[159.6312469674915, 67.44298884036876, 159.87384764677338, 113.05191654536632]"
            ]
          },
          "metadata": {},
          "execution_count": 137
        }
      ]
    },
    {
      "cell_type": "markdown",
      "source": [
        "\n",
        "# Count of points per functional group per region\n"
      ],
      "metadata": {
        "id": "06RR0pu5GAG3"
      }
    },
    {
      "cell_type": "code",
      "source": [
        "final_PAC_AUS.groupby(['func_group'])['quadratid'].count()"
      ],
      "metadata": {
        "colab": {
          "base_uri": "https://localhost:8080/",
          "height": 272
        },
        "id": "76GLRhzgAG7V",
        "outputId": "2955e354-a940-445e-e605-5f1f0495f3ac"
      },
      "execution_count": null,
      "outputs": [
        {
          "output_type": "execute_result",
          "data": {
            "text/plain": [
              "func_group\n",
              "Algae                  26864\n",
              "Hard Coral             17767\n",
              "Other                    900\n",
              "Other Invertebrates      381\n",
              "Soft Coral               888\n",
              "Name: quadratid, dtype: int64"
            ],
            "text/html": [
              "<div>\n",
              "<style scoped>\n",
              "    .dataframe tbody tr th:only-of-type {\n",
              "        vertical-align: middle;\n",
              "    }\n",
              "\n",
              "    .dataframe tbody tr th {\n",
              "        vertical-align: top;\n",
              "    }\n",
              "\n",
              "    .dataframe thead th {\n",
              "        text-align: right;\n",
              "    }\n",
              "</style>\n",
              "<table border=\"1\" class=\"dataframe\">\n",
              "  <thead>\n",
              "    <tr style=\"text-align: right;\">\n",
              "      <th></th>\n",
              "      <th>quadratid</th>\n",
              "    </tr>\n",
              "    <tr>\n",
              "      <th>func_group</th>\n",
              "      <th></th>\n",
              "    </tr>\n",
              "  </thead>\n",
              "  <tbody>\n",
              "    <tr>\n",
              "      <th>Algae</th>\n",
              "      <td>26864</td>\n",
              "    </tr>\n",
              "    <tr>\n",
              "      <th>Hard Coral</th>\n",
              "      <td>17767</td>\n",
              "    </tr>\n",
              "    <tr>\n",
              "      <th>Other</th>\n",
              "      <td>900</td>\n",
              "    </tr>\n",
              "    <tr>\n",
              "      <th>Other Invertebrates</th>\n",
              "      <td>381</td>\n",
              "    </tr>\n",
              "    <tr>\n",
              "      <th>Soft Coral</th>\n",
              "      <td>888</td>\n",
              "    </tr>\n",
              "  </tbody>\n",
              "</table>\n",
              "</div><br><label><b>dtype:</b> int64</label>"
            ]
          },
          "metadata": {},
          "execution_count": 138
        }
      ]
    },
    {
      "cell_type": "code",
      "source": [
        "final_PAC_USA.groupby(['func_group'])['quadratid'].count()"
      ],
      "metadata": {
        "colab": {
          "base_uri": "https://localhost:8080/",
          "height": 241
        },
        "id": "9OXwbpAnFNNq",
        "outputId": "17231476-6c3e-4679-c570-5c7045b536c6"
      },
      "execution_count": null,
      "outputs": [
        {
          "output_type": "execute_result",
          "data": {
            "text/plain": [
              "func_group\n",
              "Algae                  12793\n",
              "Hard Coral              4736\n",
              "Other                   1482\n",
              "Other Invertebrates      189\n",
              "Name: quadratid, dtype: int64"
            ],
            "text/html": [
              "<div>\n",
              "<style scoped>\n",
              "    .dataframe tbody tr th:only-of-type {\n",
              "        vertical-align: middle;\n",
              "    }\n",
              "\n",
              "    .dataframe tbody tr th {\n",
              "        vertical-align: top;\n",
              "    }\n",
              "\n",
              "    .dataframe thead th {\n",
              "        text-align: right;\n",
              "    }\n",
              "</style>\n",
              "<table border=\"1\" class=\"dataframe\">\n",
              "  <thead>\n",
              "    <tr style=\"text-align: right;\">\n",
              "      <th></th>\n",
              "      <th>quadratid</th>\n",
              "    </tr>\n",
              "    <tr>\n",
              "      <th>func_group</th>\n",
              "      <th></th>\n",
              "    </tr>\n",
              "  </thead>\n",
              "  <tbody>\n",
              "    <tr>\n",
              "      <th>Algae</th>\n",
              "      <td>12793</td>\n",
              "    </tr>\n",
              "    <tr>\n",
              "      <th>Hard Coral</th>\n",
              "      <td>4736</td>\n",
              "    </tr>\n",
              "    <tr>\n",
              "      <th>Other</th>\n",
              "      <td>1482</td>\n",
              "    </tr>\n",
              "    <tr>\n",
              "      <th>Other Invertebrates</th>\n",
              "      <td>189</td>\n",
              "    </tr>\n",
              "  </tbody>\n",
              "</table>\n",
              "</div><br><label><b>dtype:</b> int64</label>"
            ]
          },
          "metadata": {},
          "execution_count": 139
        }
      ]
    },
    {
      "cell_type": "code",
      "source": [
        "final_PAC_ALT.groupby(['func_group'])['quadratid'].count()"
      ],
      "metadata": {
        "colab": {
          "base_uri": "https://localhost:8080/",
          "height": 303
        },
        "id": "Ge7eeYavFNiP",
        "outputId": "ea357a24-4c91-444a-fe15-22ea10a1d915"
      },
      "execution_count": null,
      "outputs": [
        {
          "output_type": "execute_result",
          "data": {
            "text/plain": [
              "func_group\n",
              "Algae                  24771\n",
              "Hard Coral              4387\n",
              "Other                   3788\n",
              "Other Invertebrates      357\n",
              "Soft Coral              4497\n",
              "Sponge                  4150\n",
              "Name: quadratid, dtype: int64"
            ],
            "text/html": [
              "<div>\n",
              "<style scoped>\n",
              "    .dataframe tbody tr th:only-of-type {\n",
              "        vertical-align: middle;\n",
              "    }\n",
              "\n",
              "    .dataframe tbody tr th {\n",
              "        vertical-align: top;\n",
              "    }\n",
              "\n",
              "    .dataframe thead th {\n",
              "        text-align: right;\n",
              "    }\n",
              "</style>\n",
              "<table border=\"1\" class=\"dataframe\">\n",
              "  <thead>\n",
              "    <tr style=\"text-align: right;\">\n",
              "      <th></th>\n",
              "      <th>quadratid</th>\n",
              "    </tr>\n",
              "    <tr>\n",
              "      <th>func_group</th>\n",
              "      <th></th>\n",
              "    </tr>\n",
              "  </thead>\n",
              "  <tbody>\n",
              "    <tr>\n",
              "      <th>Algae</th>\n",
              "      <td>24771</td>\n",
              "    </tr>\n",
              "    <tr>\n",
              "      <th>Hard Coral</th>\n",
              "      <td>4387</td>\n",
              "    </tr>\n",
              "    <tr>\n",
              "      <th>Other</th>\n",
              "      <td>3788</td>\n",
              "    </tr>\n",
              "    <tr>\n",
              "      <th>Other Invertebrates</th>\n",
              "      <td>357</td>\n",
              "    </tr>\n",
              "    <tr>\n",
              "      <th>Soft Coral</th>\n",
              "      <td>4497</td>\n",
              "    </tr>\n",
              "    <tr>\n",
              "      <th>Sponge</th>\n",
              "      <td>4150</td>\n",
              "    </tr>\n",
              "  </tbody>\n",
              "</table>\n",
              "</div><br><label><b>dtype:</b> int64</label>"
            ]
          },
          "metadata": {},
          "execution_count": 140
        }
      ]
    },
    {
      "cell_type": "code",
      "source": [
        "final_IDN_PHL.groupby(['func_group'])['quadratid'].count()"
      ],
      "metadata": {
        "colab": {
          "base_uri": "https://localhost:8080/",
          "height": 272
        },
        "id": "QQFZImWaFN0S",
        "outputId": "8a7dfd1d-d0c8-4fa9-c446-cadcf5279e2c"
      },
      "execution_count": null,
      "outputs": [
        {
          "output_type": "execute_result",
          "data": {
            "text/plain": [
              "func_group\n",
              "Algae                  16475\n",
              "Hard Coral             11450\n",
              "Other                   1689\n",
              "Other Invertebrates     1994\n",
              "Soft Coral              2492\n",
              "Name: quadratid, dtype: int64"
            ],
            "text/html": [
              "<div>\n",
              "<style scoped>\n",
              "    .dataframe tbody tr th:only-of-type {\n",
              "        vertical-align: middle;\n",
              "    }\n",
              "\n",
              "    .dataframe tbody tr th {\n",
              "        vertical-align: top;\n",
              "    }\n",
              "\n",
              "    .dataframe thead th {\n",
              "        text-align: right;\n",
              "    }\n",
              "</style>\n",
              "<table border=\"1\" class=\"dataframe\">\n",
              "  <thead>\n",
              "    <tr style=\"text-align: right;\">\n",
              "      <th></th>\n",
              "      <th>quadratid</th>\n",
              "    </tr>\n",
              "    <tr>\n",
              "      <th>func_group</th>\n",
              "      <th></th>\n",
              "    </tr>\n",
              "  </thead>\n",
              "  <tbody>\n",
              "    <tr>\n",
              "      <th>Algae</th>\n",
              "      <td>16475</td>\n",
              "    </tr>\n",
              "    <tr>\n",
              "      <th>Hard Coral</th>\n",
              "      <td>11450</td>\n",
              "    </tr>\n",
              "    <tr>\n",
              "      <th>Other</th>\n",
              "      <td>1689</td>\n",
              "    </tr>\n",
              "    <tr>\n",
              "      <th>Other Invertebrates</th>\n",
              "      <td>1994</td>\n",
              "    </tr>\n",
              "    <tr>\n",
              "      <th>Soft Coral</th>\n",
              "      <td>2492</td>\n",
              "    </tr>\n",
              "  </tbody>\n",
              "</table>\n",
              "</div><br><label><b>dtype:</b> int64</label>"
            ]
          },
          "metadata": {},
          "execution_count": 141
        }
      ]
    },
    {
      "cell_type": "markdown",
      "source": [
        "# Geeting count of points per image"
      ],
      "metadata": {
        "id": "kNe_s8UxGIh5"
      }
    },
    {
      "cell_type": "code",
      "source": [
        "soft_coral_ids_PAC_AUS= final_PAC_AUS[final_PAC_AUS['func_group'] == 'Soft Coral']['quadratid'].unique()\n",
        "soft_coral_ids_PAC_USA = final_PAC_USA[final_PAC_USA['func_group'] == 'Soft Coral']['quadratid'].unique()\n",
        "soft_coral_ids_PAC_ALT = final_PAC_ALT[final_PAC_ALT['func_group'] == 'Soft Coral']['quadratid'].unique()\n",
        "soft_coral_ids_IDN_PHL = final_IDN_PHL[final_IDN_PHL['func_group'] == 'Soft Coral']['quadratid'].unique()\n",
        "\n",
        "for i in [soft_coral_ids_PAC_AUS, soft_coral_ids_PAC_USA, soft_coral_ids_PAC_ALT, soft_coral_ids_IDN_PHL]:\n",
        "  print(len(i))\n",
        "\n",
        "# Note: there are no soft corals in USA data set, thus we will focus on other regions\n",
        "# we will try to balance the number of points for each region"
      ],
      "metadata": {
        "colab": {
          "base_uri": "https://localhost:8080/"
        },
        "id": "LjuQsoflHYGY",
        "outputId": "11094401-a887-4f82-a65f-2cc37a2ae696"
      },
      "execution_count": null,
      "outputs": [
        {
          "output_type": "stream",
          "name": "stdout",
          "text": [
            "247\n",
            "0\n",
            "449\n",
            "184\n"
          ]
        }
      ]
    },
    {
      "cell_type": "markdown",
      "source": [
        "# Preparing subset of images form every region, based on number of images that contain soft corals"
      ],
      "metadata": {
        "id": "MC-y79xAhkcy"
      }
    },
    {
      "cell_type": "code",
      "source": [
        "# Getting the dictionary of counnts of every image from a region\n",
        "def get_counts_dict(data):\n",
        "    \"\"\"\n",
        "    This function outputs a dictionary with counts of point labels for images for a region\n",
        "\n",
        "    Parameters:\n",
        "    data (pd.DataFrame): The original DataFrame.\n",
        "    result (pd.DataFrame): The grouped DataFrame.\n",
        "\n",
        "    Returns:\n",
        "    result_dict (dictionary): A dictionary with counts of point labels for images for a region\n",
        "    \"\"\"\n",
        "  result = data.groupby(['quadratid', 'func_group'])['y'].count()\n",
        "  result_dict = result.unstack(fill_value=0).to_dict(orient='index')\n",
        "  return result_dict\n",
        "\n",
        "\n",
        "AUS_count_dict = get_counts_dict(final_PAC_AUS)\n",
        "USA_count_dict = get_counts_dict(final_PAC_USA)\n",
        "ALT_count_dict = get_counts_dict(final_PAC_ALT)\n",
        "IDN_PHIL_count_dict = get_counts_dict(final_IDN_PHL)\n"
      ],
      "metadata": {
        "id": "iMyw2KmgJv2e"
      },
      "execution_count": null,
      "outputs": []
    },
    {
      "cell_type": "code",
      "source": [
        "def update_and_normalize_counts(data_count_dict, dataframe):\n",
        "\n",
        "\"\"\"\n",
        "    Updates and normalizes the counts of point labels in a dictionary based on a DataFrame.\n",
        "\n",
        "    This function takes in a dictionary containing counts and a DataFrame, then:\n",
        "      - Updates the 'total' field for each key in the dictionary based on counts from the DataFrame.\n",
        "      - Normalizes the individual counts for each key, except 'total', by dividing by the total count.\n",
        "\n",
        "    Parameters:\n",
        "    data_count_dict (dict): A dictionary where keys represent 'quadratid' values and each value is another dictionary containing label counts and a 'total' field.\n",
        "    dataframe (pd.DataFrame): A DataFrame with columns 'quadratid' and 'y', where 'y' contains labels for each 'quadratid'.\n",
        "\n",
        "    Returns:\n",
        "    None: The function updates the input dictionary `data_count_dict` in place with normalized counts.\n",
        "\"\"\"\n",
        "\n",
        "    # Group the 'final_PAC_AUS' DataFrame by 'quadratid' and count the occurrences of 'y'\n",
        "    total_counts = dataframe.groupby('quadratid')['y'].count().to_dict()\n",
        "\n",
        "    # Update the 'total' field in the 'AUS_count_dict' with values from 'total_counts'\n",
        "    for key in data_count_dict.keys():\n",
        "        if key in total_counts:\n",
        "            data_count_dict[key]['total'] = total_counts[key]\n",
        "\n",
        "    # Normalize the counts for each key in 'AUS_count_dict'\n",
        "    for key1 in data_count_dict.keys():\n",
        "        total = data_count_dict[key1].get('total', 0)  # Get the total for the current quadratid, default to 0\n",
        "        # Normalize the values, skipping the 'total' key\n",
        "        if total > 0:\n",
        "            for key2 in data_count_dict[key1].keys():\n",
        "                if key2 != 'total':\n",
        "                    data_count_dict[key1][key2] /= total\n",
        "        else:\n",
        "            # If total is 0, set all other counts to 0\n",
        "            for key2 in data_count_dict[key1].keys():\n",
        "                if key2 != 'total':\n",
        "                    data_count_dict[key1][key2] = 0\n"
      ],
      "metadata": {
        "id": "SD2XKk37VhHX"
      },
      "execution_count": null,
      "outputs": []
    },
    {
      "cell_type": "markdown",
      "source": [
        "# AUS"
      ],
      "metadata": {
        "id": "zbBoAQPimd5U"
      }
    },
    {
      "cell_type": "code",
      "source": [
        "update_and_normalize_counts(AUS_count_dict, final_PAC_AUS)"
      ],
      "metadata": {
        "id": "hGxL5IPFWkdY"
      },
      "execution_count": null,
      "outputs": []
    },
    {
      "cell_type": "code",
      "source": [
        "ids_soft_aus = set()\n",
        "for key in AUS_count_dict.keys():\n",
        "  if AUS_count_dict[key]['Soft Coral'] >= 0.06 :\n",
        "    ids_soft_aus.add(key)\n",
        "\n",
        "print(len(ids_soft_aus))\n"
      ],
      "metadata": {
        "colab": {
          "base_uri": "https://localhost:8080/"
        },
        "id": "79teNkGyc46p",
        "outputId": "9b4a6428-566f-4def-add6-3ff179e245a4"
      },
      "execution_count": null,
      "outputs": [
        {
          "output_type": "stream",
          "name": "stdout",
          "text": [
            "87\n"
          ]
        }
      ]
    },
    {
      "cell_type": "code",
      "source": [
        "ids_hard_aus = set()\n",
        "for key in AUS_count_dict.keys():\n",
        "  if AUS_count_dict[key]['Hard Coral'] >= 0.45 and AUS_count_dict[key]['Hard Coral'] <= 0.7:\n",
        "    ids_hard_aus.add(key)\n",
        "\n",
        "print(len(ids_hard_aus))"
      ],
      "metadata": {
        "colab": {
          "base_uri": "https://localhost:8080/"
        },
        "id": "iLZovDPHedDi",
        "outputId": "c467e605-f23d-475a-cd10-184ec229719e"
      },
      "execution_count": null,
      "outputs": [
        {
          "output_type": "stream",
          "name": "stdout",
          "text": [
            "82\n"
          ]
        }
      ]
    },
    {
      "cell_type": "code",
      "source": [
        "selected_AUS_IDS = list(ids_soft_aus.union(ids_hard_aus))\n",
        "len(selected_AUS_IDS)"
      ],
      "metadata": {
        "colab": {
          "base_uri": "https://localhost:8080/"
        },
        "id": "rDAVG2rkm262",
        "outputId": "dae7befa-19f5-4bb9-a36a-6c66151dbb26"
      },
      "execution_count": null,
      "outputs": [
        {
          "output_type": "execute_result",
          "data": {
            "text/plain": [
              "162"
            ]
          },
          "metadata": {},
          "execution_count": 148
        }
      ]
    },
    {
      "cell_type": "markdown",
      "source": [
        "# USA\n"
      ],
      "metadata": {
        "id": "-ZnEw6QYUonL"
      }
    },
    {
      "cell_type": "code",
      "source": [
        "update_and_normalize_counts(USA_count_dict, final_PAC_USA)"
      ],
      "metadata": {
        "id": "y8R6x8l-mHtX"
      },
      "execution_count": null,
      "outputs": []
    },
    {
      "cell_type": "code",
      "source": [
        "ids_hard_usa = set()\n",
        "for key in USA_count_dict.keys():\n",
        "  if USA_count_dict[key]['Hard Coral'] >= 0.35 and USA_count_dict[key]['Hard Coral'] <= 0.9:\n",
        "    ids_hard_usa.add(key)\n",
        "\n",
        "print(len(ids_hard_usa))"
      ],
      "metadata": {
        "colab": {
          "base_uri": "https://localhost:8080/"
        },
        "id": "ZyJRNJtlW-Lk",
        "outputId": "844fd04b-b622-4dc9-e03d-3df465b9f277"
      },
      "execution_count": null,
      "outputs": [
        {
          "output_type": "stream",
          "name": "stdout",
          "text": [
            "65\n"
          ]
        }
      ]
    },
    {
      "cell_type": "code",
      "source": [
        "selected_USA_IDS = list(ids_hard_usa)\n",
        "len(selected_USA_IDS)"
      ],
      "metadata": {
        "colab": {
          "base_uri": "https://localhost:8080/"
        },
        "id": "lyVO946xXqld",
        "outputId": "803aae6d-f95e-4c2d-e8f9-c5b4beb9fbe9"
      },
      "execution_count": null,
      "outputs": [
        {
          "output_type": "execute_result",
          "data": {
            "text/plain": [
              "65"
            ]
          },
          "metadata": {},
          "execution_count": 151
        }
      ]
    },
    {
      "cell_type": "markdown",
      "source": [
        "# ALT\n"
      ],
      "metadata": {
        "id": "0GXCdYD1YEm7"
      }
    },
    {
      "cell_type": "code",
      "source": [
        "update_and_normalize_counts(ALT_count_dict, final_PAC_ALT)"
      ],
      "metadata": {
        "id": "Ilpma5kQYZds"
      },
      "execution_count": null,
      "outputs": []
    },
    {
      "cell_type": "code",
      "source": [
        "ids_soft_alt = set()\n",
        "for key in ALT_count_dict.keys():\n",
        "  if ALT_count_dict[key]['Soft Coral'] >= 0.25 and ALT_count_dict[key]['Soft Coral'] <= 0.9 :\n",
        "    ids_soft_alt.add(key)\n",
        "\n",
        "print(len(ids_soft_alt))"
      ],
      "metadata": {
        "colab": {
          "base_uri": "https://localhost:8080/"
        },
        "id": "gFyrCs_dYlTS",
        "outputId": "0eae2d56-3bae-48a4-e7e8-e2d04f652e0b"
      },
      "execution_count": null,
      "outputs": [
        {
          "output_type": "stream",
          "name": "stdout",
          "text": [
            "85\n"
          ]
        }
      ]
    },
    {
      "cell_type": "code",
      "source": [
        "ids_hard_alt = set()\n",
        "for key in ALT_count_dict.keys():\n",
        "  if ALT_count_dict[key]['Hard Coral'] >= 0.25 and ALT_count_dict[key]['Hard Coral'] <= 1:\n",
        "    ids_hard_alt.add(key)\n",
        "\n",
        "print(len(ids_hard_alt))"
      ],
      "metadata": {
        "colab": {
          "base_uri": "https://localhost:8080/"
        },
        "id": "dY138ynMYmW4",
        "outputId": "ac896119-9d4a-4827-b049-a1ebeefbf7d2"
      },
      "execution_count": null,
      "outputs": [
        {
          "output_type": "stream",
          "name": "stdout",
          "text": [
            "78\n"
          ]
        }
      ]
    },
    {
      "cell_type": "code",
      "source": [
        "selected_ALT_IDS = list(ids_soft_alt.union(ids_hard_alt))\n",
        "len(selected_ALT_IDS)"
      ],
      "metadata": {
        "colab": {
          "base_uri": "https://localhost:8080/"
        },
        "id": "MB3s3ZcXYpwP",
        "outputId": "68bccbe3-9444-4872-eb4b-d067329c14b2"
      },
      "execution_count": null,
      "outputs": [
        {
          "output_type": "execute_result",
          "data": {
            "text/plain": [
              "162"
            ]
          },
          "metadata": {},
          "execution_count": 155
        }
      ]
    },
    {
      "cell_type": "markdown",
      "source": [
        "# IDN_PHL\n",
        "\n"
      ],
      "metadata": {
        "id": "FyX3c_gtZxbi"
      }
    },
    {
      "cell_type": "code",
      "source": [
        "update_and_normalize_counts(IDN_PHIL_count_dict, final_IDN_PHL)"
      ],
      "metadata": {
        "id": "aIGECpo7Z6XH"
      },
      "execution_count": null,
      "outputs": []
    },
    {
      "cell_type": "code",
      "source": [
        "ids_soft_idn_phil = set()\n",
        "for key in IDN_PHIL_count_dict.keys():\n",
        "  if IDN_PHIL_count_dict[key]['Soft Coral'] >= 0.15 and IDN_PHIL_count_dict[key]['Soft Coral'] <= 1 :\n",
        "    ids_soft_idn_phil.add(key)\n",
        "\n",
        "print(len(ids_soft_idn_phil))"
      ],
      "metadata": {
        "colab": {
          "base_uri": "https://localhost:8080/"
        },
        "id": "38GfP708aFxY",
        "outputId": "40fc1ce2-a42a-4d17-fada-c1c0f92f0342"
      },
      "execution_count": null,
      "outputs": [
        {
          "output_type": "stream",
          "name": "stdout",
          "text": [
            "73\n"
          ]
        }
      ]
    },
    {
      "cell_type": "code",
      "source": [
        "ids_hard_idn_phil = set()\n",
        "for key in IDN_PHIL_count_dict.keys():\n",
        "  if IDN_PHIL_count_dict[key]['Hard Coral'] >= 0.5 and IDN_PHIL_count_dict[key]['Hard Coral'] <= 0.6:\n",
        "    ids_hard_idn_phil.add(key)\n",
        "\n",
        "print(len(ids_hard_idn_phil))"
      ],
      "metadata": {
        "colab": {
          "base_uri": "https://localhost:8080/"
        },
        "id": "Djsw1fEMaHhA",
        "outputId": "57db5715-1253-43c8-9e4a-f43b0f197ee1"
      },
      "execution_count": null,
      "outputs": [
        {
          "output_type": "stream",
          "name": "stdout",
          "text": [
            "58\n"
          ]
        }
      ]
    },
    {
      "cell_type": "code",
      "source": [
        "selected_IDN_PHIL = list(ids_soft_idn_phil.union(ids_hard_idn_phil))\n",
        "len(selected_IDN_PHIL)"
      ],
      "metadata": {
        "colab": {
          "base_uri": "https://localhost:8080/"
        },
        "id": "6GbFxcsfblWl",
        "outputId": "13546ed0-3684-42f4-b40b-54a8cd6c57db"
      },
      "execution_count": null,
      "outputs": [
        {
          "output_type": "execute_result",
          "data": {
            "text/plain": [
              "130"
            ]
          },
          "metadata": {},
          "execution_count": 159
        }
      ]
    },
    {
      "cell_type": "markdown",
      "source": [
        "# Creating the tables that will contain ids that satisfy the treshhold of proportional presence of soft corals"
      ],
      "metadata": {
        "id": "OFBV6ndactCr"
      }
    },
    {
      "cell_type": "code",
      "source": [
        "# AUS\n",
        "modified_PAC_AUS = final_PAC_AUS[final_PAC_AUS['quadratid'].isin(selected_AUS_IDS)]\n",
        "# USA\n",
        "modified_PAC_USA = final_PAC_USA[final_PAC_USA['quadratid'].isin(selected_USA_IDS)]\n",
        "# ALT\n",
        "modified_PAC_ALT = final_PAC_ALT[final_PAC_ALT['quadratid'].isin(selected_ALT_IDS)]\n",
        "# IDN_PHIL\n",
        "modified_IDN_PHL = final_IDN_PHL[final_IDN_PHL['quadratid'].isin(selected_IDN_PHIL)]"
      ],
      "metadata": {
        "id": "yFzZiOCfcyCR"
      },
      "execution_count": null,
      "outputs": []
    },
    {
      "cell_type": "markdown",
      "source": [
        "# Creating dictionary for visualization of all data points from selected regions"
      ],
      "metadata": {
        "id": "nkWxTz5cCFcl"
      }
    },
    {
      "cell_type": "code",
      "source": [
        "# takes a subset of images from regions: used for visulaizations\n",
        "grouped_AUS = modified_PAC_AUS.groupby(['func_group'])['quadratid'].count().reset_index()\n",
        "\n",
        "grouped_USA = modified_PAC_USA.groupby(['func_group'])['quadratid'].count().reset_index()\n",
        "\n",
        "grouped_ALT = modified_PAC_ALT.groupby(['func_group'])['quadratid'].count().reset_index()\n",
        "\n",
        "grouped_IDN_PHL = modified_IDN_PHL.groupby(['func_group'])['quadratid'].count().reset_index()"
      ],
      "metadata": {
        "id": "ySwCZ0LWgBpw"
      },
      "execution_count": null,
      "outputs": []
    },
    {
      "cell_type": "code",
      "source": [
        "# takes all images from regions: used for visulaizations\n",
        "\n",
        "dirty_AUS = final_PAC_AUS.groupby(['func_group'])['quadratid'].count().reset_index()\n",
        "\n",
        "dirty_USA = final_PAC_USA.groupby(['func_group'])['quadratid'].count().reset_index()\n",
        "\n",
        "dirty_ATL = final_PAC_ALT.groupby(['func_group'])['quadratid'].count().reset_index()\n",
        "\n",
        "dirty_IDN_PHL = final_IDN_PHL.groupby(['func_group'])['quadratid'].count().reset_index()"
      ],
      "metadata": {
        "id": "p-Mr0hd2B0a7"
      },
      "execution_count": null,
      "outputs": []
    },
    {
      "cell_type": "markdown",
      "source": [
        "# Getting the images for the poster"
      ],
      "metadata": {
        "id": "dakYGsyI2LeB"
      }
    },
    {
      "cell_type": "code",
      "source": [
        "import pandas as pd\n",
        "\n",
        "def summarize_func_groups(df, group_col, value_col, groups_to_keep):\n",
        "    \"\"\"\n",
        "    This function keeps the specified groups and sums the rest into an \"Others\" category.\n",
        "\n",
        "    Parameters:\n",
        "    df (pd.DataFrame): The original DataFrame.\n",
        "    group_col (str): The name of the column that contains the functional groups.\n",
        "    value_col (str): The name of the column that contains the values to sum.\n",
        "    groups_to_keep (list): A list of groups to keep unchanged.\n",
        "\n",
        "    Returns:\n",
        "    pd.DataFrame: A new DataFrame with the specified groups and an \"Others\" row.\n",
        "    \"\"\"\n",
        "    # Filter to keep only specified groups\n",
        "    df_new = df[df[group_col].isin(groups_to_keep)].copy()\n",
        "\n",
        "    # Sum the other categories\n",
        "    others_sum = df[~df[group_col].isin(groups_to_keep)][value_col].sum()\n",
        "\n",
        "    # Create a new row for \"Others\"\n",
        "    others_row = pd.DataFrame({group_col: ['Other'], value_col: [others_sum]})\n",
        "\n",
        "    # Concatenate the new \"Others\" row with df_new\n",
        "    df_final = pd.concat([df_new, others_row], ignore_index=True)\n",
        "\n",
        "    return df_final\n"
      ],
      "metadata": {
        "id": "ReYXZ08F-D5J"
      },
      "execution_count": null,
      "outputs": []
    },
    {
      "cell_type": "code",
      "source": [
        "# AUS\n",
        "summarized_AUS = summarize_func_groups(grouped_AUS, 'func_group', 'quadratid', ['Hard Coral', 'Soft Coral'])\n",
        "summarized_AUS = summarized_AUS.set_index('func_group')['quadratid'].to_dict()\n",
        "summarized_AUS"
      ],
      "metadata": {
        "colab": {
          "base_uri": "https://localhost:8080/"
        },
        "id": "ZMi2lk8u2V2X",
        "outputId": "f647ec80-233a-42f5-9d6b-ec498801e8c1"
      },
      "execution_count": null,
      "outputs": [
        {
          "output_type": "execute_result",
          "data": {
            "text/plain": [
              "{'Hard Coral': 4305, 'Soft Coral': 624, 'Other': 5871}"
            ]
          },
          "metadata": {},
          "execution_count": 167
        }
      ]
    },
    {
      "cell_type": "code",
      "source": [
        "# USA\n",
        "summarized_USA = summarize_func_groups(grouped_USA, 'func_group', 'quadratid', ['Hard Coral'])\n",
        "\n",
        "dummy_row = pd.DataFrame({'func_group': ['Soft Coral'], 'quadratid': [0]})\n",
        "\n",
        "    # Concatenate the new \"Others\" row with df_new\n",
        "summarized_USA = pd.concat([summarized_USA, dummy_row], ignore_index=True)\n",
        "summarized_USA = summarized_USA .set_index('func_group')['quadratid'].to_dict()\n",
        "summarized_USA"
      ],
      "metadata": {
        "colab": {
          "base_uri": "https://localhost:8080/"
        },
        "id": "8TYqzC7S2X36",
        "outputId": "c0156917-7852-4f02-d08d-93ae669fda6d"
      },
      "execution_count": null,
      "outputs": [
        {
          "output_type": "execute_result",
          "data": {
            "text/plain": [
              "{'Hard Coral': 3101, 'Other': 1699, 'Soft Coral': 0}"
            ]
          },
          "metadata": {},
          "execution_count": 168
        }
      ]
    },
    {
      "cell_type": "code",
      "source": [
        "# ALT\n",
        "summarized_ALT = summarize_func_groups(grouped_ALT, 'func_group', 'quadratid', ['Hard Coral', 'Soft Coral'])\n",
        "summarized_ALT = summarized_ALT.set_index('func_group')['quadratid'].to_dict()\n",
        "summarized_ALT"
      ],
      "metadata": {
        "colab": {
          "base_uri": "https://localhost:8080/"
        },
        "id": "k_B6oZZF2rBQ",
        "outputId": "d031d300-a396-4edf-a421-0655c5e9bb85"
      },
      "execution_count": null,
      "outputs": [
        {
          "output_type": "execute_result",
          "data": {
            "text/plain": [
              "{'Hard Coral': 2560, 'Soft Coral': 2687, 'Other': 5753}"
            ]
          },
          "metadata": {},
          "execution_count": 169
        }
      ]
    },
    {
      "cell_type": "code",
      "source": [
        "# IDN PHL\n",
        "summarized_IDN_PHL = summarize_func_groups(grouped_IDN_PHL, 'func_group', 'quadratid', ['Hard Coral', 'Soft Coral'])\n",
        "summarized_IDN_PHL = summarized_IDN_PHL.set_index('func_group')['quadratid'].to_dict()\n",
        "summarized_IDN_PHL\n"
      ],
      "metadata": {
        "colab": {
          "base_uri": "https://localhost:8080/"
        },
        "id": "bCoPOumq2thH",
        "outputId": "8f067630-898e-45b8-f3bb-72ca08b74a79"
      },
      "execution_count": null,
      "outputs": [
        {
          "output_type": "execute_result",
          "data": {
            "text/plain": [
              "{'Hard Coral': 3245, 'Soft Coral': 2117, 'Other': 4238}"
            ]
          },
          "metadata": {},
          "execution_count": 170
        }
      ]
    },
    {
      "cell_type": "markdown",
      "source": [
        "# Crazy - data set that uses all images from regions, used for visualizations\n"
      ],
      "metadata": {
        "id": "R2nNpB5rCWPX"
      }
    },
    {
      "cell_type": "code",
      "source": [
        "crazy_AUS = summarize_func_groups(dirty_AUS, 'func_group', 'quadratid', ['Hard Coral', 'Soft Coral'])\n",
        "crazy_AUS = crazy_AUS.set_index('func_group')['quadratid'].to_dict()\n",
        "crazy_AUS"
      ],
      "metadata": {
        "colab": {
          "base_uri": "https://localhost:8080/"
        },
        "id": "fGrsLEpkBn_a",
        "outputId": "d988131a-ef63-4a34-edaa-f272c4f7f73b"
      },
      "execution_count": null,
      "outputs": [
        {
          "output_type": "execute_result",
          "data": {
            "text/plain": [
              "{'Hard Coral': 17767, 'Soft Coral': 888, 'Other': 28145}"
            ]
          },
          "metadata": {},
          "execution_count": 182
        }
      ]
    },
    {
      "cell_type": "code",
      "source": [
        "crazy_USA = summarize_func_groups(dirty_USA, 'func_group', 'quadratid', ['Hard Coral', 'Soft Coral'])\n",
        "\n",
        "dummy_row = pd.DataFrame({'func_group': ['Soft Coral'], 'quadratid': [0]})\n",
        "\n",
        "    # Concatenate the new \"Others\" row with df_new\n",
        "crazy_USA = pd.concat([crazy_USA, dummy_row], ignore_index=True)\n",
        "\n",
        "crazy_USA = crazy_USA.set_index('func_group')['quadratid'].to_dict()\n",
        "crazy_USA"
      ],
      "metadata": {
        "colab": {
          "base_uri": "https://localhost:8080/"
        },
        "id": "waWszpqCCb6g",
        "outputId": "b8f8e249-a045-486a-c4e1-c5bb6efb956e"
      },
      "execution_count": null,
      "outputs": [
        {
          "output_type": "execute_result",
          "data": {
            "text/plain": [
              "{'Hard Coral': 4736, 'Other': 14464, 'Soft Coral': 0}"
            ]
          },
          "metadata": {},
          "execution_count": 183
        }
      ]
    },
    {
      "cell_type": "code",
      "source": [
        "crazy_ATL = summarize_func_groups(dirty_ATL, 'func_group', 'quadratid', ['Hard Coral', 'Soft Coral'])\n",
        "crazy_ATL = crazy_ATL.set_index('func_group')['quadratid'].to_dict()\n",
        "crazy_ATL"
      ],
      "metadata": {
        "colab": {
          "base_uri": "https://localhost:8080/"
        },
        "id": "FW9FZoziCcbF",
        "outputId": "fa80b36b-08df-4835-ae0a-93c460f01a84"
      },
      "execution_count": null,
      "outputs": [
        {
          "output_type": "execute_result",
          "data": {
            "text/plain": [
              "{'Hard Coral': 4387, 'Soft Coral': 4497, 'Other': 33066}"
            ]
          },
          "metadata": {},
          "execution_count": 185
        }
      ]
    },
    {
      "cell_type": "code",
      "source": [
        "crazy_IDN_PHL = summarize_func_groups(dirty_IDN_PHL, 'func_group', 'quadratid', ['Hard Coral', 'Soft Coral'])\n",
        "crazy_IDN_PHL= crazy_IDN_PHL.set_index('func_group')['quadratid'].to_dict()\n",
        "crazy_IDN_PHL"
      ],
      "metadata": {
        "colab": {
          "base_uri": "https://localhost:8080/"
        },
        "id": "kun1VMu5CcjC",
        "outputId": "6d60383f-0c71-4ce5-e6b2-c8b0087296b9"
      },
      "execution_count": null,
      "outputs": [
        {
          "output_type": "execute_result",
          "data": {
            "text/plain": [
              "{'Hard Coral': 11450, 'Soft Coral': 2492, 'Other': 20158}"
            ]
          },
          "metadata": {},
          "execution_count": 186
        }
      ]
    },
    {
      "cell_type": "markdown",
      "source": [
        "# Preparing the counts of all points summed over all regions"
      ],
      "metadata": {
        "id": "EZGICCZkTVXf"
      }
    },
    {
      "cell_type": "code",
      "source": [
        "result = {}\n",
        "for key in crazy_AUS:\n",
        "    # Sum the values from each dictionary for the current key\n",
        "    result[key] = crazy_USA[key] + crazy_ATL[key] + crazy_IDN_PHL[key] + crazy_AUS[key]\n",
        "\n",
        "result"
      ],
      "metadata": {
        "colab": {
          "base_uri": "https://localhost:8080/"
        },
        "id": "cAbmlusWTkOY",
        "outputId": "833be3e8-189b-4375-bcf7-7ab357cef187"
      },
      "execution_count": null,
      "outputs": [
        {
          "output_type": "execute_result",
          "data": {
            "text/plain": [
              "{'Hard Coral': 38340, 'Soft Coral': 7877, 'Other': 95833}"
            ]
          },
          "metadata": {},
          "execution_count": 191
        }
      ]
    },
    {
      "cell_type": "markdown",
      "source": [
        "# Visualisation"
      ],
      "metadata": {
        "id": "JjqK4JMZAlI5"
      }
    },
    {
      "cell_type": "code",
      "source": [
        "fig, ax = plt.subplots()\n",
        "\n",
        "courses = list(result.keys())\n",
        "values = list(result.values())\n",
        "\n",
        "# creating the bar plot\n",
        "plt.bar(courses, values, width = 0.4,color=['blue', 'orange', 'green'])\n",
        "plt.title('Sum of point lables for AUS, USA, ATL, IDN_PHL', weight='bold', fontsize=14)\n",
        "plt.xlabel('Point Labels', weight='bold', fontsize=14)\n",
        "plt.ylabel('Counts', weight='bold', fontsize=14)"
      ],
      "metadata": {
        "colab": {
          "base_uri": "https://localhost:8080/",
          "height": 496
        },
        "id": "jzBARAJAUSUd",
        "outputId": "1e89fe49-59ea-414f-b5a1-e876cde6b445"
      },
      "execution_count": null,
      "outputs": [
        {
          "output_type": "execute_result",
          "data": {
            "text/plain": [
              "Text(0, 0.5, 'Counts')"
            ]
          },
          "metadata": {},
          "execution_count": 202
        },
        {
          "output_type": "display_data",
          "data": {
            "text/plain": [
              "<Figure size 640x480 with 1 Axes>"
            ],
            "image/png": "[encoded data removed]"
          },
          "metadata": {}
        }
      ]
    },
    {
      "cell_type": "code",
      "source": [],
      "metadata": {
        "id": "F7yuSp_aVDY-"
      },
      "execution_count": null,
      "outputs": []
    },
    {
      "cell_type": "code",
      "source": [
        "# graph for all counts of points all regions\n",
        "regions = ('AUS', 'USA', 'ALT', 'IDN_PHL')\n",
        "\n",
        "label_counts  = {\n",
        "    \"Hard Coral\": np.array([crazy_AUS[\"Hard Coral\"], crazy_USA[\"Hard Coral\"],\n",
        "                           crazy_ATL[\"Hard Coral\"], crazy_IDN_PHL[\"Hard Coral\"]]),\n",
        "    \"Soft Coral\": np.array([crazy_AUS[\"Soft Coral\"], crazy_USA[\"Soft Coral\"],\n",
        "                           crazy_ATL[\"Soft Coral\"], crazy_IDN_PHL[\"Soft Coral\"]]),\n",
        "    \"Other\" : np.array([crazy_AUS[\"Other\"], crazy_USA[\"Other\"],\n",
        "                           crazy_ATL[\"Other\"], crazy_IDN_PHL[\"Other\"]])\n",
        "}\n",
        "\n",
        "width = 0.5\n",
        "\n",
        "\n",
        "fig, ax = plt.subplots()\n",
        "bottom = np.zeros(len(regions))  # Use len(regions) to create an appropriate shape\n",
        "\n",
        "# Iterate over the label counts\n",
        "for label, counts in label_counts.items():\n",
        "    ax.bar(regions, counts, width, label=label, bottom=bottom)\n",
        "    # Add individual counts on top of each segment\n",
        "    for i in range(len(counts)):\n",
        "        ax.text(i, bottom[i] + counts[i] / 2, str(int(counts[i])), ha='center', va='center')  # Adjust position\n",
        "    bottom += counts\n",
        "\n",
        "ax.set_title(\"Count of Point Labels per Region\", fontsize=14,  weight='bold')\n",
        "ax.set_xlabel(\"Regions\", fontsize=14,  weight='bold')  # Set x-axis label\n",
        "ax.set_ylabel(\"Counts\", fontsize=14,  weight='bold')\n",
        "ax.legend(loc='upper center', bbox_to_anchor=(0.5, -0.15), ncol=3)\n",
        "\n",
        "\n",
        "plt.savefig(\"stacked_bar_chart.png\", format='png', dpi=300, bbox_inches='tight')  # Change file name and format as needed\n",
        "\n",
        "plt.show()\n"
      ],
      "metadata": {
        "colab": {
          "base_uri": "https://localhost:8080/",
          "height": 517
        },
        "id": "X6rV6lSF_1rT",
        "outputId": "a3461ca1-f2a2-48ae-814e-df5913152a4d"
      },
      "execution_count": null,
      "outputs": [
        {
          "output_type": "display_data",
          "data": {
            "text/plain": [
              "<Figure size 640x480 with 1 Axes>"
            ],
            "image/png": "[encoded data removed]"
          },
          "metadata": {}
        }
      ]
    },
    {
      "cell_type": "code",
      "source": [
        "# visualisation of smaller data set\n",
        "\n",
        "regions = ('AUS', 'USA', 'ALT', 'IDN_PHL')\n",
        "\n",
        "label_counts  = {\n",
        "    \"Hard Coral\": np.array([summarized_AUS[\"Hard Coral\"], summarized_USA[\"Hard Coral\"],\n",
        "                           summarized_ALT[\"Hard Coral\"], summarized_IDN_PHL[\"Hard Coral\"]]),\n",
        "    \"Soft Coral\": np.array([summarized_AUS[\"Soft Coral\"], summarized_USA[\"Soft Coral\"],\n",
        "                           summarized_ALT[\"Soft Coral\"], summarized_IDN_PHL[\"Soft Coral\"]]),\n",
        "    \"Other\" : np.array([summarized_AUS[\"Other\"], summarized_USA[\"Other\"],\n",
        "                           summarized_ALT[\"Other\"], summarized_IDN_PHL[\"Other\"]])\n",
        "}\n",
        "\n",
        "width = 0.5\n",
        "\n",
        "\n",
        "fig, ax = plt.subplots()\n",
        "bottom = np.zeros(len(regions))  # Use len(regions) to create an appropriate shape\n",
        "\n",
        "# Iterate over the label counts\n",
        "for label, counts in label_counts.items():\n",
        "    ax.bar(regions, counts, width, label=label, bottom=bottom)\n",
        "    # Add individual counts on top of each segment\n",
        "    for i in range(len(counts)):\n",
        "        ax.text(i, bottom[i] + counts[i] / 2, str(int(counts[i])), ha='center', va='center')  # Adjust position\n",
        "    bottom += counts\n",
        "\n",
        "ax.set_title(\"Count of Point Labels per Region - sampled data set\", fontsize=14, loc='left')\n",
        "ax.set_xlabel(\"Regions\", fontsize=14)  # Set x-axis label\n",
        "ax.set_ylabel(\"Counts\", fontsize=14)\n",
        "ax.legend(loc='upper center', bbox_to_anchor=(0.5, -0.15), ncol=3)\n",
        "\n",
        "\n",
        "plt.savefig(\"stacked_bar_chart.png\", format='png', dpi=300, bbox_inches='tight')  # Change file name and format as needed\n",
        "\n",
        "plt.show()"
      ],
      "metadata": {
        "colab": {
          "base_uri": "https://localhost:8080/",
          "height": 517
        },
        "id": "-0NPTR23BmPU",
        "outputId": "87a24970-f7e7-4c2e-c866-ab50ca9e29c3"
      },
      "execution_count": null,
      "outputs": [
        {
          "output_type": "display_data",
          "data": {
            "text/plain": [
              "<Figure size 640x480 with 1 Axes>"
            ],
            "image/png": "[encoded data removed]"
          },
          "metadata": {}
        }
      ]
    },
    {
      "cell_type": "code",
      "source": [],
      "metadata": {
        "id": "AeRdvPQrowwF"
      },
      "execution_count": null,
      "outputs": []
    },
    {
      "cell_type": "markdown",
      "source": [
        "# Code below was not used in the final part of the project"
      ],
      "metadata": {
        "id": "uDx3ZKXxozTd"
      }
    },
    {
      "cell_type": "markdown",
      "source": [
        "# Creating folders that contain the subset of the data, which will be used in the pipeline"
      ],
      "metadata": {
        "id": "KnndKXM2mBHK"
      }
    },
    {
      "cell_type": "code",
      "source": [
        "# getting the ids of images that have masks\n",
        "mask_folders = ['SEAVIEW_PAC_AUS', 'SEAVIEW_PAC_USA', 'SEAVIEW_ATL', 'SEAVIEW_IDN_PHL']\n",
        "\n",
        "# Getting the paths\n",
        "path_mask_PAC_AUS = os.path.join(DATA_ROOT_DIR_MASK, mask_folders[0], 'masks_stitched')\n",
        "path_mask_PAC_USA = os.path.join(DATA_ROOT_DIR_MASK, mask_folders[1], 'masks_stitched')\n",
        "path_mask_ATL = os.path.join(DATA_ROOT_DIR_MASK, mask_folders[2], 'masks_stitched')\n",
        "path_mask_IDN_PHL = os.path.join(DATA_ROOT_DIR_MASK, mask_folders[3], 'masks_stitched')\n",
        "\n",
        "\n",
        "# Getting the ids of masks - every name file is changed into an int\n",
        "mask_id_PAC_AUS = sorted([int(f.split('_')[0]) for f in os.listdir(path_mask_PAC_AUS) if f.endswith(('.jpg', '.png'))])\n",
        "mask_id_PAC_USA = sorted([int(f.split('_')[0]) for f in os.listdir(path_mask_PAC_USA) if f.endswith(('.jpg', '.png'))])\n",
        "mask_id_ALT = sorted([int(f.split('_')[0]) for f in os.listdir(path_mask_ATL) if f.endswith(('.jpg', '.png'))])\n",
        "mask_id_IDN_PHL = sorted([int(f.split('_')[0]) for f in os.listdir(path_mask_IDN_PHL) if f.endswith(('.jpg', '.png'))])"
      ],
      "metadata": {
        "id": "LiPBoUoCmFgT"
      },
      "execution_count": null,
      "outputs": []
    },
    {
      "cell_type": "code",
      "source": [
        "all_mask_ids = set(selected_AUS_IDS + selected_USA_IDS + selected_ALT_IDS + selected_IDN_PHIL)\n",
        "\n",
        "target_directory = Path('/content/masks_set_2')\n",
        "\n",
        "target_directory.mkdir(parents=True, exist_ok=True)\n",
        "\n",
        "\n",
        "# Function to copy images from source to target directory\n",
        "def copy_images_from_folder(source_folder, ids):\n",
        "    source_folder = Path(source_folder)  # Ensure source_folder is a Path object\n",
        "    for f in os.listdir(source_folder):\n",
        "        if f.endswith(('.jpg', '.png')):  # Check if file is an image\n",
        "            # Extract ID from filename\n",
        "            file_id = int(f.split('_')[0])\n",
        "            if file_id in ids:  # If ID is in the list, copy the file\n",
        "                source_file_path = source_folder / f\n",
        "                destination_file_path = target_directory / f\n",
        "                shutil.copy(source_file_path, destination_file_path)  # Copy the file\n",
        "                print(f\"Copied '{f}' to '{target_directory}'\")\n",
        "\n",
        "copy_images_from_folder(path_mask_PAC_AUS, all_mask_ids)\n",
        "copy_images_from_folder(path_mask_PAC_USA, all_mask_ids)\n",
        "copy_images_from_folder(path_mask_ATL, all_mask_ids)\n",
        "copy_images_from_folder(path_mask_IDN_PHL, all_mask_ids)"
      ],
      "metadata": {
        "colab": {
          "base_uri": "https://localhost:8080/"
        },
        "id": "d0gztlrknHBV",
        "outputId": "e8434d7b-f9a3-4acf-a060-d79ac6419930"
      },
      "execution_count": null,
      "outputs": [
        {
          "output_type": "stream",
          "name": "stdout",
          "text": [
            "Copied '10001008301_mask.png' to '/content/masks_set_2'\n",
            "Copied '10001008501_mask.png' to '/content/masks_set_2'\n",
            "Copied '10001010601_mask.png' to '/content/masks_set_2'\n",
            "Copied '10001018502_mask.png' to '/content/masks_set_2'\n",
            "Copied '10001020402_mask.png' to '/content/masks_set_2'\n",
            "Copied '10001018802_mask.png' to '/content/masks_set_2'\n",
            "Copied '10001020902_mask.png' to '/content/masks_set_2'\n",
            "Copied '10001021302_mask.png' to '/content/masks_set_2'\n",
            "Copied '10001021501_mask.png' to '/content/masks_set_2'\n",
            "Copied '10001021702_mask.png' to '/content/masks_set_2'\n",
            "Copied '10001021602_mask.png' to '/content/masks_set_2'\n",
            "Copied '10001022402_mask.png' to '/content/masks_set_2'\n",
            "Copied '10001021902_mask.png' to '/content/masks_set_2'\n",
            "Copied '10001023202_mask.png' to '/content/masks_set_2'\n",
            "Copied '10001023602_mask.png' to '/content/masks_set_2'\n",
            "Copied '10001024402_mask.png' to '/content/masks_set_2'\n",
            "Copied '10001024102_mask.png' to '/content/masks_set_2'\n",
            "Copied '10001024202_mask.png' to '/content/masks_set_2'\n",
            "Copied '10001026002_mask.png' to '/content/masks_set_2'\n",
            "Copied '10001026202_mask.png' to '/content/masks_set_2'\n",
            "Copied '10001026702_mask.png' to '/content/masks_set_2'\n",
            "Copied '10001026902_mask.png' to '/content/masks_set_2'\n",
            "Copied '10001026802_mask.png' to '/content/masks_set_2'\n",
            "Copied '10001027102_mask.png' to '/content/masks_set_2'\n",
            "Copied '10005043103_mask.png' to '/content/masks_set_2'\n",
            "Copied '10006093807_mask.png' to '/content/masks_set_2'\n",
            "Copied '10006098302_mask.png' to '/content/masks_set_2'\n",
            "Copied '10006110901_mask.png' to '/content/masks_set_2'\n",
            "Copied '10006111001_mask.png' to '/content/masks_set_2'\n",
            "Copied '10006125702_mask.png' to '/content/masks_set_2'\n",
            "Copied '10016012501_mask.png' to '/content/masks_set_2'\n",
            "Copied '10019019402_mask.png' to '/content/masks_set_2'\n",
            "Copied '10019055702_mask.png' to '/content/masks_set_2'\n",
            "Copied '10019056802_mask.png' to '/content/masks_set_2'\n",
            "Copied '10019058301_mask.png' to '/content/masks_set_2'\n",
            "Copied '10019062902_mask.png' to '/content/masks_set_2'\n",
            "Copied '10019083001_mask.png' to '/content/masks_set_2'\n",
            "Copied '10019083201_mask.png' to '/content/masks_set_2'\n",
            "Copied '10020088801_mask.png' to '/content/masks_set_2'\n",
            "Copied '10025044701_mask.png' to '/content/masks_set_2'\n",
            "Copied '11004130402_mask.png' to '/content/masks_set_2'\n",
            "Copied '11004130802_mask.png' to '/content/masks_set_2'\n",
            "Copied '11004131102_mask.png' to '/content/masks_set_2'\n",
            "Copied '11004130202_mask.png' to '/content/masks_set_2'\n",
            "Copied '11004130702_mask.png' to '/content/masks_set_2'\n",
            "Copied '12001089802_mask.png' to '/content/masks_set_2'\n",
            "Copied '12001090002_mask.png' to '/content/masks_set_2'\n",
            "Copied '12001090702_mask.png' to '/content/masks_set_2'\n",
            "Copied '12001090902_mask.png' to '/content/masks_set_2'\n",
            "Copied '12001091702_mask.png' to '/content/masks_set_2'\n",
            "Copied '12015004502_mask.png' to '/content/masks_set_2'\n",
            "Copied '12015003702_mask.png' to '/content/masks_set_2'\n",
            "Copied '12015004802_mask.png' to '/content/masks_set_2'\n",
            "Copied '12015005802_mask.png' to '/content/masks_set_2'\n",
            "Copied '12021002802_mask.png' to '/content/masks_set_2'\n",
            "Copied '12021006102_mask.png' to '/content/masks_set_2'\n",
            "Copied '12021022701_mask.png' to '/content/masks_set_2'\n",
            "Copied '12021023902_mask.png' to '/content/masks_set_2'\n",
            "Copied '12021024101_mask.png' to '/content/masks_set_2'\n",
            "Copied '12021031802_mask.png' to '/content/masks_set_2'\n",
            "Copied '12021039001_mask.png' to '/content/masks_set_2'\n",
            "Copied '12021082001_mask.png' to '/content/masks_set_2'\n",
            "Copied '12023257502_mask.png' to '/content/masks_set_2'\n",
            "Copied '12023258801_mask.png' to '/content/masks_set_2'\n",
            "Copied '12023260802_mask.png' to '/content/masks_set_2'\n",
            "Copied '12023285802_mask.png' to '/content/masks_set_2'\n",
            "Copied '12025018601_mask.png' to '/content/masks_set_2'\n",
            "Copied '12025018801_mask.png' to '/content/masks_set_2'\n",
            "Copied '12025018501_mask.png' to '/content/masks_set_2'\n",
            "Copied '12025018901_mask.png' to '/content/masks_set_2'\n",
            "Copied '12025019801_mask.png' to '/content/masks_set_2'\n",
            "Copied '12025020201_mask.png' to '/content/masks_set_2'\n",
            "Copied '12025020901_mask.png' to '/content/masks_set_2'\n",
            "Copied '12025021101_mask.png' to '/content/masks_set_2'\n",
            "Copied '12027192801_mask.png' to '/content/masks_set_2'\n",
            "Copied '12027221501_mask.png' to '/content/masks_set_2'\n",
            "Copied '12027221801_mask.png' to '/content/masks_set_2'\n",
            "Copied '12027222401_mask.png' to '/content/masks_set_2'\n",
            "Copied '12027222101_mask.png' to '/content/masks_set_2'\n",
            "Copied '12027222601_mask.png' to '/content/masks_set_2'\n",
            "Copied '15006014801_mask.png' to '/content/masks_set_2'\n",
            "Copied '15006014701_mask.png' to '/content/masks_set_2'\n",
            "Copied '15006019701_mask.png' to '/content/masks_set_2'\n",
            "Copied '15006026001_mask.png' to '/content/masks_set_2'\n",
            "Copied '15006026301_mask.png' to '/content/masks_set_2'\n",
            "Copied '15006064701_mask.png' to '/content/masks_set_2'\n",
            "Copied '15006087801_mask.png' to '/content/masks_set_2'\n",
            "Copied '15006087101_mask.png' to '/content/masks_set_2'\n",
            "Copied '15007188301_mask.png' to '/content/masks_set_2'\n",
            "Copied '15007190002_mask.png' to '/content/masks_set_2'\n",
            "Copied '15007190302_mask.png' to '/content/masks_set_2'\n",
            "Copied '15015048301_mask.png' to '/content/masks_set_2'\n",
            "Copied '15015052901_mask.png' to '/content/masks_set_2'\n",
            "Copied '15015051601_mask.png' to '/content/masks_set_2'\n",
            "Copied '15015053201_mask.png' to '/content/masks_set_2'\n",
            "Copied '15015053101_mask.png' to '/content/masks_set_2'\n",
            "Copied '15015067001_mask.png' to '/content/masks_set_2'\n",
            "Copied '15015059001_mask.png' to '/content/masks_set_2'\n",
            "Copied '15015076001_mask.png' to '/content/masks_set_2'\n",
            "Copied '15020223401_mask.png' to '/content/masks_set_2'\n",
            "Copied '15020221901_mask.png' to '/content/masks_set_2'\n",
            "Copied '15020223501_mask.png' to '/content/masks_set_2'\n",
            "Copied '15020223601_mask.png' to '/content/masks_set_2'\n",
            "Copied '15020223901_mask.png' to '/content/masks_set_2'\n",
            "Copied '15020224001_mask.png' to '/content/masks_set_2'\n",
            "Copied '15020224201_mask.png' to '/content/masks_set_2'\n",
            "Copied '15020224101_mask.png' to '/content/masks_set_2'\n",
            "Copied '15020224701_mask.png' to '/content/masks_set_2'\n",
            "Copied '15020224801_mask.png' to '/content/masks_set_2'\n",
            "Copied '15020224901_mask.png' to '/content/masks_set_2'\n",
            "Copied '15020225301_mask.png' to '/content/masks_set_2'\n",
            "Copied '15020225501_mask.png' to '/content/masks_set_2'\n",
            "Copied '15020225601_mask.png' to '/content/masks_set_2'\n",
            "Copied '15020226001_mask.png' to '/content/masks_set_2'\n",
            "Copied '15020226801_mask.png' to '/content/masks_set_2'\n",
            "Copied '15020226201_mask.png' to '/content/masks_set_2'\n",
            "Copied '15020226301_mask.png' to '/content/masks_set_2'\n",
            "Copied '15020226901_mask.png' to '/content/masks_set_2'\n",
            "Copied '15020227201_mask.png' to '/content/masks_set_2'\n",
            "Copied '15020227001_mask.png' to '/content/masks_set_2'\n",
            "Copied '15020227401_mask.png' to '/content/masks_set_2'\n",
            "Copied '15020227601_mask.png' to '/content/masks_set_2'\n",
            "Copied '15020227301_mask.png' to '/content/masks_set_2'\n",
            "Copied '15022046801_mask.png' to '/content/masks_set_2'\n",
            "Copied '15022048101_mask.png' to '/content/masks_set_2'\n",
            "Copied '15022048001_mask.png' to '/content/masks_set_2'\n",
            "Copied '15022048701_mask.png' to '/content/masks_set_2'\n",
            "Copied '15022048501_mask.png' to '/content/masks_set_2'\n",
            "Copied '15025020001_mask.png' to '/content/masks_set_2'\n",
            "Copied '15025006601_mask.png' to '/content/masks_set_2'\n",
            "Copied '15025026001_mask.png' to '/content/masks_set_2'\n",
            "Copied '15025031601_mask.png' to '/content/masks_set_2'\n",
            "Copied '15025028601_mask.png' to '/content/masks_set_2'\n",
            "Copied '15025043901_mask.png' to '/content/masks_set_2'\n",
            "Copied '15025045101_mask.png' to '/content/masks_set_2'\n",
            "Copied '15025045901_mask.png' to '/content/masks_set_2'\n",
            "Copied '15025045201_mask.png' to '/content/masks_set_2'\n",
            "Copied '15025046201_mask.png' to '/content/masks_set_2'\n",
            "Copied '15025049901_mask.png' to '/content/masks_set_2'\n",
            "Copied '15025060601_mask.png' to '/content/masks_set_2'\n",
            "Copied '15025060701_mask.png' to '/content/masks_set_2'\n",
            "Copied '15025060801_mask.png' to '/content/masks_set_2'\n",
            "Copied '15025051101_mask.png' to '/content/masks_set_2'\n",
            "Copied '35023131201_mask.png' to '/content/masks_set_2'\n",
            "Copied '35023131301_mask.png' to '/content/masks_set_2'\n",
            "Copied '35023131401_mask.png' to '/content/masks_set_2'\n",
            "Copied '35023132201_mask.png' to '/content/masks_set_2'\n",
            "Copied '35023131901_mask.png' to '/content/masks_set_2'\n",
            "Copied '35023132001_mask.png' to '/content/masks_set_2'\n",
            "Copied '35023132601_mask.png' to '/content/masks_set_2'\n",
            "Copied '35023132701_mask.png' to '/content/masks_set_2'\n",
            "Copied '35023132801_mask.png' to '/content/masks_set_2'\n",
            "Copied '35023132901_mask.png' to '/content/masks_set_2'\n",
            "Copied '35023133301_mask.png' to '/content/masks_set_2'\n",
            "Copied '35028276701_mask.png' to '/content/masks_set_2'\n",
            "Copied '35031267102_mask.png' to '/content/masks_set_2'\n",
            "Copied '45027025902_mask.png' to '/content/masks_set_2'\n",
            "Copied '45027026002_mask.png' to '/content/masks_set_2'\n",
            "Copied '45034129001_mask.png' to '/content/masks_set_2'\n",
            "Copied '45034130801_mask.png' to '/content/masks_set_2'\n",
            "Copied '45034131201_mask.png' to '/content/masks_set_2'\n",
            "Copied '45034131301_mask.png' to '/content/masks_set_2'\n",
            "Copied '38004001301_mask.png' to '/content/masks_set_2'\n",
            "Copied '38004004901_mask.png' to '/content/masks_set_2'\n",
            "Copied '38004015301_mask.png' to '/content/masks_set_2'\n",
            "Copied '38004043001_mask.png' to '/content/masks_set_2'\n",
            "Copied '38005120201_mask.png' to '/content/masks_set_2'\n",
            "Copied '38006202601_mask.png' to '/content/masks_set_2'\n",
            "Copied '38006203501_mask.png' to '/content/masks_set_2'\n",
            "Copied '38006204601_mask.png' to '/content/masks_set_2'\n",
            "Copied '38006204801_mask.png' to '/content/masks_set_2'\n",
            "Copied '38006205001_mask.png' to '/content/masks_set_2'\n",
            "Copied '38006204701_mask.png' to '/content/masks_set_2'\n",
            "Copied '38007081901_mask.png' to '/content/masks_set_2'\n",
            "Copied '38008103601_mask.png' to '/content/masks_set_2'\n",
            "Copied '38008114501_mask.png' to '/content/masks_set_2'\n",
            "Copied '38008123601_mask.png' to '/content/masks_set_2'\n",
            "Copied '38008134901_mask.png' to '/content/masks_set_2'\n",
            "Copied '38012045101_mask.png' to '/content/masks_set_2'\n",
            "Copied '38014169801_mask.png' to '/content/masks_set_2'\n",
            "Copied '38014179201_mask.png' to '/content/masks_set_2'\n",
            "Copied '38014198901_mask.png' to '/content/masks_set_2'\n",
            "Copied '38014218301_mask.png' to '/content/masks_set_2'\n",
            "Copied '38014226501_mask.png' to '/content/masks_set_2'\n",
            "Copied '38017137701_mask.png' to '/content/masks_set_2'\n",
            "Copied '38017128001_mask.png' to '/content/masks_set_2'\n",
            "Copied '38017111001_mask.png' to '/content/masks_set_2'\n",
            "Copied '38017144901_mask.png' to '/content/masks_set_2'\n",
            "Copied '38017140901_mask.png' to '/content/masks_set_2'\n",
            "Copied '38017144601_mask.png' to '/content/masks_set_2'\n",
            "Copied '38018170501_mask.png' to '/content/masks_set_2'\n",
            "Copied '38018205701_mask.png' to '/content/masks_set_2'\n",
            "Copied '38018229201_mask.png' to '/content/masks_set_2'\n",
            "Copied '38018230801_mask.png' to '/content/masks_set_2'\n",
            "Copied '38018231401_mask.png' to '/content/masks_set_2'\n",
            "Copied '38018231101_mask.png' to '/content/masks_set_2'\n",
            "Copied '38018237201_mask.png' to '/content/masks_set_2'\n",
            "Copied '38018245201_mask.png' to '/content/masks_set_2'\n",
            "Copied '38021182201_mask.png' to '/content/masks_set_2'\n",
            "Copied '38022037601_mask.png' to '/content/masks_set_2'\n",
            "Copied '38022038001_mask.png' to '/content/masks_set_2'\n",
            "Copied '38022070201_mask.png' to '/content/masks_set_2'\n",
            "Copied '38026093101_mask.png' to '/content/masks_set_2'\n",
            "Copied '38041007202_mask.png' to '/content/masks_set_2'\n",
            "Copied '38041009001_mask.png' to '/content/masks_set_2'\n",
            "Copied '38041009101_mask.png' to '/content/masks_set_2'\n",
            "Copied '38044022001_mask.png' to '/content/masks_set_2'\n",
            "Copied '38044024101_mask.png' to '/content/masks_set_2'\n",
            "Copied '38044023901_mask.png' to '/content/masks_set_2'\n",
            "Copied '38045184101_mask.png' to '/content/masks_set_2'\n",
            "Copied '38046231101_mask.png' to '/content/masks_set_2'\n",
            "Copied '39005139701_mask.png' to '/content/masks_set_2'\n",
            "Copied '39016167901_mask.png' to '/content/masks_set_2'\n",
            "Copied '44013029801_mask.png' to '/content/masks_set_2'\n",
            "Copied '44013029701_mask.png' to '/content/masks_set_2'\n",
            "Copied '44013029401_mask.png' to '/content/masks_set_2'\n",
            "Copied '44018248301_mask.png' to '/content/masks_set_2'\n",
            "Copied '44018249901_mask.png' to '/content/masks_set_2'\n",
            "Copied '44018250401_mask.png' to '/content/masks_set_2'\n",
            "Copied '44018250201_mask.png' to '/content/masks_set_2'\n",
            "Copied '44018250601_mask.png' to '/content/masks_set_2'\n",
            "Copied '44026217101_mask.png' to '/content/masks_set_2'\n",
            "Copied '44026217601_mask.png' to '/content/masks_set_2'\n",
            "Copied '44026217701_mask.png' to '/content/masks_set_2'\n",
            "Copied '44026218501_mask.png' to '/content/masks_set_2'\n",
            "Copied '44027005001_mask.png' to '/content/masks_set_2'\n",
            "Copied '44034009301_mask.png' to '/content/masks_set_2'\n",
            "Copied '17001738102_mask.png' to '/content/masks_set_2'\n",
            "Copied '17001738502_mask.png' to '/content/masks_set_2'\n",
            "Copied '17001738402_mask.png' to '/content/masks_set_2'\n",
            "Copied '17001739702_mask.png' to '/content/masks_set_2'\n",
            "Copied '17001739502_mask.png' to '/content/masks_set_2'\n",
            "Copied '17001740402_mask.png' to '/content/masks_set_2'\n",
            "Copied '17001740202_mask.png' to '/content/masks_set_2'\n",
            "Copied '17001740802_mask.png' to '/content/masks_set_2'\n",
            "Copied '17002409801_mask.png' to '/content/masks_set_2'\n",
            "Copied '17001745802_mask.png' to '/content/masks_set_2'\n",
            "Copied '17004348402_mask.png' to '/content/masks_set_2'\n",
            "Copied '17004349002_mask.png' to '/content/masks_set_2'\n",
            "Copied '17004349802_mask.png' to '/content/masks_set_2'\n",
            "Copied '17004349702_mask.png' to '/content/masks_set_2'\n",
            "Copied '17004426901_mask.png' to '/content/masks_set_2'\n",
            "Copied '17005057001_mask.png' to '/content/masks_set_2'\n",
            "Copied '17004351002_mask.png' to '/content/masks_set_2'\n",
            "Copied '17004350902_mask.png' to '/content/masks_set_2'\n",
            "Copied '17005057201_mask.png' to '/content/masks_set_2'\n",
            "Copied '17005057301_mask.png' to '/content/masks_set_2'\n",
            "Copied '17005057401_mask.png' to '/content/masks_set_2'\n",
            "Copied '17005057801_mask.png' to '/content/masks_set_2'\n",
            "Copied '17005058201_mask.png' to '/content/masks_set_2'\n",
            "Copied '17005058301_mask.png' to '/content/masks_set_2'\n",
            "Copied '17005058401_mask.png' to '/content/masks_set_2'\n",
            "Copied '17005058801_mask.png' to '/content/masks_set_2'\n",
            "Copied '17005059401_mask.png' to '/content/masks_set_2'\n",
            "Copied '17005059201_mask.png' to '/content/masks_set_2'\n",
            "Copied '17006012002_mask.png' to '/content/masks_set_2'\n",
            "Copied '17006012602_mask.png' to '/content/masks_set_2'\n",
            "Copied '17006012702_mask.png' to '/content/masks_set_2'\n",
            "Copied '17006012902_mask.png' to '/content/masks_set_2'\n",
            "Copied '17006013102_mask.png' to '/content/masks_set_2'\n",
            "Copied '17006013502_mask.png' to '/content/masks_set_2'\n",
            "Copied '17006013902_mask.png' to '/content/masks_set_2'\n",
            "Copied '17017820602_mask.png' to '/content/masks_set_2'\n",
            "Copied '17017820202_mask.png' to '/content/masks_set_2'\n",
            "Copied '17019874202_mask.png' to '/content/masks_set_2'\n",
            "Copied '17019937902_mask.png' to '/content/masks_set_2'\n",
            "Copied '17019935202_mask.png' to '/content/masks_set_2'\n",
            "Copied '17022848302_mask.png' to '/content/masks_set_2'\n",
            "Copied '17025816302_mask.png' to '/content/masks_set_2'\n",
            "Copied '17024717802_mask.png' to '/content/masks_set_2'\n",
            "Copied '17034031202_mask.png' to '/content/masks_set_2'\n",
            "Copied '17034030702_mask.png' to '/content/masks_set_2'\n",
            "Copied '17034030202_mask.png' to '/content/masks_set_2'\n",
            "Copied '17034031402_mask.png' to '/content/masks_set_2'\n",
            "Copied '17034032002_mask.png' to '/content/masks_set_2'\n",
            "Copied '17034032502_mask.png' to '/content/masks_set_2'\n",
            "Copied '17034033002_mask.png' to '/content/masks_set_2'\n",
            "Copied '17037005602_mask.png' to '/content/masks_set_2'\n",
            "Copied '17037005802_mask.png' to '/content/masks_set_2'\n",
            "Copied '17037006102_mask.png' to '/content/masks_set_2'\n",
            "Copied '17039196602_mask.png' to '/content/masks_set_2'\n",
            "Copied '17039236602_mask.png' to '/content/masks_set_2'\n",
            "Copied '17039237202_mask.png' to '/content/masks_set_2'\n",
            "Copied '17039237402_mask.png' to '/content/masks_set_2'\n",
            "Copied '17039238102_mask.png' to '/content/masks_set_2'\n",
            "Copied '17039237902_mask.png' to '/content/masks_set_2'\n",
            "Copied '17039238402_mask.png' to '/content/masks_set_2'\n",
            "Copied '20010148101_mask.png' to '/content/masks_set_2'\n",
            "Copied '20010148501_mask.png' to '/content/masks_set_2'\n",
            "Copied '20010148701_mask.png' to '/content/masks_set_2'\n",
            "Copied '20010148801_mask.png' to '/content/masks_set_2'\n",
            "Copied '20010149001_mask.png' to '/content/masks_set_2'\n",
            "Copied '20010149101_mask.png' to '/content/masks_set_2'\n",
            "Copied '20010149301_mask.png' to '/content/masks_set_2'\n",
            "Copied '20011030301_mask.png' to '/content/masks_set_2'\n",
            "Copied '20011045302_mask.png' to '/content/masks_set_2'\n",
            "Copied '20011087201_mask.png' to '/content/masks_set_2'\n",
            "Copied '20012174802_mask.png' to '/content/masks_set_2'\n",
            "Copied '20014072301_mask.png' to '/content/masks_set_2'\n",
            "Copied '20014076801_mask.png' to '/content/masks_set_2'\n",
            "Copied '20015151402_mask.png' to '/content/masks_set_2'\n",
            "Copied '20015173305_mask.png' to '/content/masks_set_2'\n",
            "Copied '20015173002_mask.png' to '/content/masks_set_2'\n",
            "Copied '20015179502_mask.png' to '/content/masks_set_2'\n",
            "Copied '20015183501_mask.png' to '/content/masks_set_2'\n",
            "Copied '20015204202_mask.png' to '/content/masks_set_2'\n",
            "Copied '20016216501_mask.png' to '/content/masks_set_2'\n",
            "Copied '20016218602_mask.png' to '/content/masks_set_2'\n",
            "Copied '20016225102_mask.png' to '/content/masks_set_2'\n",
            "Copied '20016230405_mask.png' to '/content/masks_set_2'\n",
            "Copied '20016241002_mask.png' to '/content/masks_set_2'\n",
            "Copied '20016241101_mask.png' to '/content/masks_set_2'\n",
            "Copied '20016241004_mask.png' to '/content/masks_set_2'\n",
            "Copied '20016295302_mask.png' to '/content/masks_set_2'\n",
            "Copied '20018116301_mask.png' to '/content/masks_set_2'\n",
            "Copied '20018118501_mask.png' to '/content/masks_set_2'\n",
            "Copied '20018119601_mask.png' to '/content/masks_set_2'\n",
            "Copied '20018120001_mask.png' to '/content/masks_set_2'\n",
            "Copied '20020013101_mask.png' to '/content/masks_set_2'\n",
            "Copied '20020017201_mask.png' to '/content/masks_set_2'\n",
            "Copied '20020025101_mask.png' to '/content/masks_set_2'\n",
            "Copied '20020025701_mask.png' to '/content/masks_set_2'\n",
            "Copied '20020027101_mask.png' to '/content/masks_set_2'\n",
            "Copied '20020027901_mask.png' to '/content/masks_set_2'\n",
            "Copied '20020035001_mask.png' to '/content/masks_set_2'\n",
            "Copied '20020035701_mask.png' to '/content/masks_set_2'\n",
            "Copied '20020028201_mask.png' to '/content/masks_set_2'\n",
            "Copied '20020041201_mask.png' to '/content/masks_set_2'\n",
            "Copied '20020043701_mask.png' to '/content/masks_set_2'\n",
            "Copied '20020045901_mask.png' to '/content/masks_set_2'\n",
            "Copied '20020044401_mask.png' to '/content/masks_set_2'\n",
            "Copied '20020051001_mask.png' to '/content/masks_set_2'\n",
            "Copied '20021100201_mask.png' to '/content/masks_set_2'\n",
            "Copied '20021100701_mask.png' to '/content/masks_set_2'\n",
            "Copied '20021100901_mask.png' to '/content/masks_set_2'\n",
            "Copied '20021101001_mask.png' to '/content/masks_set_2'\n",
            "Copied '20021101101_mask.png' to '/content/masks_set_2'\n",
            "Copied '20021101301_mask.png' to '/content/masks_set_2'\n",
            "Copied '20021101401_mask.png' to '/content/masks_set_2'\n",
            "Copied '20021102201_mask.png' to '/content/masks_set_2'\n",
            "Copied '20022281202_mask.png' to '/content/masks_set_2'\n",
            "Copied '20024003001_mask.png' to '/content/masks_set_2'\n",
            "Copied '20024003201_mask.png' to '/content/masks_set_2'\n",
            "Copied '20024003501_mask.png' to '/content/masks_set_2'\n",
            "Copied '20024003801_mask.png' to '/content/masks_set_2'\n",
            "Copied '20024005101_mask.png' to '/content/masks_set_2'\n",
            "Copied '20024071502_mask.png' to '/content/masks_set_2'\n",
            "Copied '20031021102_mask.png' to '/content/masks_set_2'\n",
            "Copied '20034084602_mask.png' to '/content/masks_set_2'\n",
            "Copied '20036110801_mask.png' to '/content/masks_set_2'\n",
            "Copied '20036140201_mask.png' to '/content/masks_set_2'\n",
            "Copied '20044141002_mask.png' to '/content/masks_set_2'\n",
            "Copied '20046224701_mask.png' to '/content/masks_set_2'\n",
            "Copied '20046225401_mask.png' to '/content/masks_set_2'\n",
            "Copied '21002112901_mask.png' to '/content/masks_set_2'\n",
            "Copied '21002116201_mask.png' to '/content/masks_set_2'\n",
            "Copied '21002118901_mask.png' to '/content/masks_set_2'\n",
            "Copied '21005043602_mask.png' to '/content/masks_set_2'\n",
            "Copied '21005043502_mask.png' to '/content/masks_set_2'\n",
            "Copied '21005043902_mask.png' to '/content/masks_set_2'\n",
            "Copied '21005043702_mask.png' to '/content/masks_set_2'\n",
            "Copied '21005043802_mask.png' to '/content/masks_set_2'\n",
            "Copied '21005044302_mask.png' to '/content/masks_set_2'\n",
            "Copied '21005044102_mask.png' to '/content/masks_set_2'\n",
            "Copied '21005044402_mask.png' to '/content/masks_set_2'\n",
            "Copied '21005044202_mask.png' to '/content/masks_set_2'\n",
            "Copied '21005044502_mask.png' to '/content/masks_set_2'\n",
            "Copied '24026180301_mask.png' to '/content/masks_set_2'\n",
            "Copied '24026181006_mask.png' to '/content/masks_set_2'\n",
            "Copied '24026181401_mask.png' to '/content/masks_set_2'\n",
            "Copied '24026197901_mask.png' to '/content/masks_set_2'\n",
            "Copied '24033230502_mask.png' to '/content/masks_set_2'\n",
            "Copied '25001008201_mask.png' to '/content/masks_set_2'\n",
            "Copied '25009011501_mask.png' to '/content/masks_set_2'\n",
            "Copied '25009011901_mask.png' to '/content/masks_set_2'\n",
            "Copied '25009012301_mask.png' to '/content/masks_set_2'\n",
            "Copied '25016061201_mask.png' to '/content/masks_set_2'\n",
            "Copied '25016075501_mask.png' to '/content/masks_set_2'\n",
            "Copied '25016136002_mask.png' to '/content/masks_set_2'\n",
            "Copied '25016137702_mask.png' to '/content/masks_set_2'\n",
            "Copied '25016138102_mask.png' to '/content/masks_set_2'\n",
            "Copied '25032121001_mask.png' to '/content/masks_set_2'\n",
            "Copied '25032121301_mask.png' to '/content/masks_set_2'\n",
            "Copied '25032122201_mask.png' to '/content/masks_set_2'\n",
            "Copied '25032122101_mask.png' to '/content/masks_set_2'\n",
            "Copied '25032122301_mask.png' to '/content/masks_set_2'\n",
            "Copied '25033076001_mask.png' to '/content/masks_set_2'\n",
            "Copied '25033076301_mask.png' to '/content/masks_set_2'\n",
            "Copied '25033077901_mask.png' to '/content/masks_set_2'\n",
            "Copied '26009009901_mask.png' to '/content/masks_set_2'\n",
            "Copied '26009010901_mask.png' to '/content/masks_set_2'\n",
            "Copied '26009055601_mask.png' to '/content/masks_set_2'\n",
            "Copied '26009051501_mask.png' to '/content/masks_set_2'\n",
            "Copied '26010113401_mask.png' to '/content/masks_set_2'\n",
            "Copied '26010099801_mask.png' to '/content/masks_set_2'\n",
            "Copied '26010140401_mask.png' to '/content/masks_set_2'\n",
            "Copied '26010168101_mask.png' to '/content/masks_set_2'\n",
            "Copied '26010148301_mask.png' to '/content/masks_set_2'\n",
            "Copied '26010154101_mask.png' to '/content/masks_set_2'\n",
            "Copied '26010177001_mask.png' to '/content/masks_set_2'\n",
            "Copied '26010177201_mask.png' to '/content/masks_set_2'\n",
            "Copied '26010177501_mask.png' to '/content/masks_set_2'\n",
            "Copied '26010178601_mask.png' to '/content/masks_set_2'\n",
            "Copied '26010178901_mask.png' to '/content/masks_set_2'\n",
            "Copied '26010179301_mask.png' to '/content/masks_set_2'\n",
            "Copied '26010179401_mask.png' to '/content/masks_set_2'\n",
            "Copied '26010179501_mask.png' to '/content/masks_set_2'\n",
            "Copied '26012003501_mask.png' to '/content/masks_set_2'\n",
            "Copied '26012003701_mask.png' to '/content/masks_set_2'\n",
            "Copied '26013126301_mask.png' to '/content/masks_set_2'\n",
            "Copied '26013130401_mask.png' to '/content/masks_set_2'\n",
            "Copied '26013132801_mask.png' to '/content/masks_set_2'\n",
            "Copied '26013133001_mask.png' to '/content/masks_set_2'\n",
            "Copied '26013133101_mask.png' to '/content/masks_set_2'\n",
            "Copied '26013132901_mask.png' to '/content/masks_set_2'\n",
            "Copied '26013133201_mask.png' to '/content/masks_set_2'\n",
            "Copied '26013133401_mask.png' to '/content/masks_set_2'\n",
            "Copied '26013133301_mask.png' to '/content/masks_set_2'\n",
            "Copied '26013134101_mask.png' to '/content/masks_set_2'\n",
            "Copied '26013133501_mask.png' to '/content/masks_set_2'\n",
            "Copied '26013134301_mask.png' to '/content/masks_set_2'\n",
            "Copied '26013133701_mask.png' to '/content/masks_set_2'\n",
            "Copied '26013134201_mask.png' to '/content/masks_set_2'\n",
            "Copied '26013133801_mask.png' to '/content/masks_set_2'\n",
            "Copied '26013133601_mask.png' to '/content/masks_set_2'\n",
            "Copied '26013134401_mask.png' to '/content/masks_set_2'\n",
            "Copied '26013135301_mask.png' to '/content/masks_set_2'\n",
            "Copied '26013136301_mask.png' to '/content/masks_set_2'\n",
            "Copied '26013136201_mask.png' to '/content/masks_set_2'\n",
            "Copied '26013143201_mask.png' to '/content/masks_set_2'\n",
            "Copied '32001007501_mask.png' to '/content/masks_set_2'\n",
            "Copied '32001009401_mask.png' to '/content/masks_set_2'\n",
            "Copied '32001088201_mask.png' to '/content/masks_set_2'\n",
            "Copied '32001068501_mask.png' to '/content/masks_set_2'\n",
            "Copied '32001087101_mask.png' to '/content/masks_set_2'\n",
            "Copied '32009268301_mask.png' to '/content/masks_set_2'\n",
            "Copied '32009268701_mask.png' to '/content/masks_set_2'\n",
            "Copied '32009269301_mask.png' to '/content/masks_set_2'\n",
            "Copied '32010017201_mask.png' to '/content/masks_set_2'\n",
            "Copied '32011066301_mask.png' to '/content/masks_set_2'\n",
            "Copied '32011080501_mask.png' to '/content/masks_set_2'\n",
            "Copied '32011082601_mask.png' to '/content/masks_set_2'\n",
            "Copied '32011088501_mask.png' to '/content/masks_set_2'\n",
            "Copied '32012168901_mask.png' to '/content/masks_set_2'\n",
            "Copied '32012178301_mask.png' to '/content/masks_set_2'\n",
            "Copied '32016002001_mask.png' to '/content/masks_set_2'\n",
            "Copied '32016007701_mask.png' to '/content/masks_set_2'\n",
            "Copied '32016015001_mask.png' to '/content/masks_set_2'\n",
            "Copied '32017024301_mask.png' to '/content/masks_set_2'\n",
            "Copied '32018140601_mask.png' to '/content/masks_set_2'\n",
            "Copied '32018141401_mask.png' to '/content/masks_set_2'\n",
            "Copied '32018140901_mask.png' to '/content/masks_set_2'\n",
            "Copied '32018141301_mask.png' to '/content/masks_set_2'\n",
            "Copied '32018141201_mask.png' to '/content/masks_set_2'\n",
            "Copied '32018142101_mask.png' to '/content/masks_set_2'\n",
            "Copied '32018142201_mask.png' to '/content/masks_set_2'\n",
            "Copied '32018142301_mask.png' to '/content/masks_set_2'\n",
            "Copied '32018142601_mask.png' to '/content/masks_set_2'\n",
            "Copied '32018142401_mask.png' to '/content/masks_set_2'\n",
            "Copied '32018142501_mask.png' to '/content/masks_set_2'\n",
            "Copied '32018142901_mask.png' to '/content/masks_set_2'\n",
            "Copied '32018142801_mask.png' to '/content/masks_set_2'\n",
            "Copied '32018143001_mask.png' to '/content/masks_set_2'\n",
            "Copied '32018143101_mask.png' to '/content/masks_set_2'\n",
            "Copied '32018143201_mask.png' to '/content/masks_set_2'\n",
            "Copied '32018143301_mask.png' to '/content/masks_set_2'\n",
            "Copied '32018146601_mask.png' to '/content/masks_set_2'\n",
            "Copied '32018143401_mask.png' to '/content/masks_set_2'\n",
            "Copied '32019046601_mask.png' to '/content/masks_set_2'\n",
            "Copied '33001013501_mask.png' to '/content/masks_set_2'\n",
            "Copied '33001023401_mask.png' to '/content/masks_set_2'\n",
            "Copied '33002147101_mask.png' to '/content/masks_set_2'\n",
            "Copied '33002160001_mask.png' to '/content/masks_set_2'\n",
            "Copied '33002114501_mask.png' to '/content/masks_set_2'\n",
            "Copied '33002161601_mask.png' to '/content/masks_set_2'\n",
            "Copied '33004022101_mask.png' to '/content/masks_set_2'\n",
            "Copied '33004042701_mask.png' to '/content/masks_set_2'\n",
            "Copied '33004071001_mask.png' to '/content/masks_set_2'\n",
            "Copied '33004051701_mask.png' to '/content/masks_set_2'\n",
            "Copied '33005135201_mask.png' to '/content/masks_set_2'\n",
            "Copied '33006257501_mask.png' to '/content/masks_set_2'\n",
            "Copied '33006257401_mask.png' to '/content/masks_set_2'\n",
            "Copied '33006258101_mask.png' to '/content/masks_set_2'\n",
            "Copied '33006257901_mask.png' to '/content/masks_set_2'\n",
            "Copied '33006258401_mask.png' to '/content/masks_set_2'\n",
            "Copied '33006258601_mask.png' to '/content/masks_set_2'\n",
            "Copied '33006258501_mask.png' to '/content/masks_set_2'\n",
            "Copied '33006258901_mask.png' to '/content/masks_set_2'\n",
            "Copied '33006259501_mask.png' to '/content/masks_set_2'\n",
            "Copied '33006259701_mask.png' to '/content/masks_set_2'\n",
            "Copied '33006259601_mask.png' to '/content/masks_set_2'\n",
            "Copied '33006263001_mask.png' to '/content/masks_set_2'\n",
            "Copied '33007002701_mask.png' to '/content/masks_set_2'\n",
            "Copied '33012222401_mask.png' to '/content/masks_set_2'\n",
            "Copied '33012207801_mask.png' to '/content/masks_set_2'\n",
            "Copied '33013031301_mask.png' to '/content/masks_set_2'\n",
            "Copied '33013032101_mask.png' to '/content/masks_set_2'\n",
            "Copied '33013034101_mask.png' to '/content/masks_set_2'\n",
            "Copied '33013053301_mask.png' to '/content/masks_set_2'\n",
            "Copied '33014128501_mask.png' to '/content/masks_set_2'\n",
            "Copied '33014146401_mask.png' to '/content/masks_set_2'\n",
            "Copied '33014140501_mask.png' to '/content/masks_set_2'\n",
            "Copied '33014160701_mask.png' to '/content/masks_set_2'\n",
            "Copied '33014150401_mask.png' to '/content/masks_set_2'\n",
            "Copied '33014170101_mask.png' to '/content/masks_set_2'\n",
            "Copied '33015211801_mask.png' to '/content/masks_set_2'\n",
            "Copied '33015214601_mask.png' to '/content/masks_set_2'\n",
            "Copied '33015215801_mask.png' to '/content/masks_set_2'\n",
            "Copied '33015227301_mask.png' to '/content/masks_set_2'\n",
            "Copied '33016274901_mask.png' to '/content/masks_set_2'\n",
            "Copied '33016279601_mask.png' to '/content/masks_set_2'\n",
            "Copied '33017003801_mask.png' to '/content/masks_set_2'\n",
            "Copied '33017015301_mask.png' to '/content/masks_set_2'\n",
            "Copied '33017007801_mask.png' to '/content/masks_set_2'\n",
            "Copied '33017089601_mask.png' to '/content/masks_set_2'\n",
            "Copied '33018109601_mask.png' to '/content/masks_set_2'\n",
            "Copied '33018109901_mask.png' to '/content/masks_set_2'\n",
            "Copied '33018109801_mask.png' to '/content/masks_set_2'\n",
            "Copied '33018110401_mask.png' to '/content/masks_set_2'\n"
          ]
        }
      ]
    },
    {
      "cell_type": "code",
      "source": [
        "# loading the csv files - point labels\n",
        "region_img = ['PAC_AUS', 'PAC_USA', 'ATL', 'PAC_IDN_PHL']\n",
        "\n",
        "\n",
        "DATA_ROOT_DIR_IMAGES = os.path.join(PROJECT_ROOT_DIR,'jbg060_AI_for_Good_course_Shared',\n",
        "                             '01_Data', 'benthic_datasets', 'point_labels', 'SEAVIEW')\n",
        "\n",
        "# Getting the paths\n",
        "path_img_PAC_AUS = os.path.join(DATA_ROOT_DIR_IMAGES, region_img[0])\n",
        "path_img_PAC_USA = os.path.join(DATA_ROOT_DIR_IMAGES, region_img[1])\n",
        "path_img_ATL = os.path.join(DATA_ROOT_DIR_IMAGES, region_img[2])\n",
        "path_img_IDN_PHL = os.path.join(DATA_ROOT_DIR_IMAGES, region_img[3])\n",
        "\n",
        "\n",
        "len(os.listdir(path_img_PAC_AUS)), len(os.listdir(path_img_PAC_USA)), len(os.listdir(path_img_ATL)), len(os.listdir(path_img_IDN_PHL)), len(os.listdir('/content/masks_set_2'))"
      ],
      "metadata": {
        "id": "8JCPPyRntlYt",
        "colab": {
          "base_uri": "https://localhost:8080/"
        },
        "outputId": "85da3410-d3bb-4719-8660-ebb030ba6b60"
      },
      "execution_count": null,
      "outputs": [
        {
          "output_type": "execute_result",
          "data": {
            "text/plain": [
              "(2657, 1153, 1407, 1638, 519)"
            ]
          },
          "metadata": {},
          "execution_count": 179
        }
      ]
    },
    {
      "cell_type": "code",
      "source": [
        "target_directory = Path('/content/images_set_2')\n",
        "\n",
        "\n",
        "target_directory.mkdir(parents=True, exist_ok=True)\n",
        "\n",
        "\n",
        "# Function to copy images from source to target directory\n",
        "def copy_images_from_folder(source_folder, ids):\n",
        "    source_folder = Path(source_folder)  # Ensure source_folder is a Path object\n",
        "    for f in os.listdir(source_folder):\n",
        "        if f.endswith(('.jpg', '.png')):  # Check if file is an image\n",
        "            # Extract ID from filename\n",
        "            file_id = int(f.split('.')[0])\n",
        "            if file_id in ids:  # If ID is in the list, copy the file\n",
        "                source_file_path = source_folder / f\n",
        "                destination_file_path = target_directory / f\n",
        "                shutil.copy(source_file_path, destination_file_path)  # Copy the file\n",
        "                print(f\"Copied '{f}' to '{target_directory}'\")\n",
        "\n",
        "# estimated running time 10 minutes\n",
        "copy_images_from_folder(path_img_PAC_AUS, all_mask_ids)\n",
        "copy_images_from_folder(path_img_PAC_USA, all_mask_ids)\n",
        "copy_images_from_folder(path_img_ATL, all_mask_ids)\n",
        "copy_images_from_folder(path_img_IDN_PHL, all_mask_ids)"
      ],
      "metadata": {
        "colab": {
          "base_uri": "https://localhost:8080/"
        },
        "id": "xvVpbo_BtZtD",
        "outputId": "eafc48b2-abdd-4bba-ca07-93732e8e4ea9"
      },
      "execution_count": null,
      "outputs": [
        {
          "output_type": "stream",
          "name": "stdout",
          "text": [
            "Copied '15025028601.jpg' to '/content/images_set_2'\n",
            "Copied '15025031601.jpg' to '/content/images_set_2'\n",
            "Copied '15025043901.jpg' to '/content/images_set_2'\n",
            "Copied '15025045101.jpg' to '/content/images_set_2'\n",
            "Copied '15025045201.jpg' to '/content/images_set_2'\n",
            "Copied '15025045901.jpg' to '/content/images_set_2'\n",
            "Copied '15025046201.jpg' to '/content/images_set_2'\n",
            "Copied '15025049901.jpg' to '/content/images_set_2'\n",
            "Copied '15025051101.jpg' to '/content/images_set_2'\n",
            "Copied '15025060601.jpg' to '/content/images_set_2'\n",
            "Copied '15025060701.jpg' to '/content/images_set_2'\n",
            "Copied '15025060801.jpg' to '/content/images_set_2'\n",
            "Copied '35023131301.jpg' to '/content/images_set_2'\n",
            "Copied '35023131201.jpg' to '/content/images_set_2'\n",
            "Copied '35023131401.jpg' to '/content/images_set_2'\n",
            "Copied '35023131901.jpg' to '/content/images_set_2'\n",
            "Copied '35023132001.jpg' to '/content/images_set_2'\n",
            "Copied '35023132201.jpg' to '/content/images_set_2'\n",
            "Copied '35023132601.jpg' to '/content/images_set_2'\n",
            "Copied '35023132701.jpg' to '/content/images_set_2'\n",
            "Copied '35023132901.jpg' to '/content/images_set_2'\n",
            "Copied '35023132801.jpg' to '/content/images_set_2'\n",
            "Copied '35023133301.jpg' to '/content/images_set_2'\n",
            "Copied '35028276701.jpg' to '/content/images_set_2'\n",
            "Copied '35031267102.jpg' to '/content/images_set_2'\n",
            "Copied '45027025902.jpg' to '/content/images_set_2'\n",
            "Copied '45027026002.jpg' to '/content/images_set_2'\n",
            "Copied '45034129001.jpg' to '/content/images_set_2'\n",
            "Copied '45034130801.jpg' to '/content/images_set_2'\n",
            "Copied '45034131301.jpg' to '/content/images_set_2'\n",
            "Copied '45034131201.jpg' to '/content/images_set_2'\n",
            "Copied '12023257502.jpg' to '/content/images_set_2'\n",
            "Copied '12023260802.jpg' to '/content/images_set_2'\n",
            "Copied '12023258801.jpg' to '/content/images_set_2'\n",
            "Copied '12023285802.jpg' to '/content/images_set_2'\n",
            "Copied '12025018501.jpg' to '/content/images_set_2'\n",
            "Copied '12025018601.jpg' to '/content/images_set_2'\n",
            "Copied '12025018901.jpg' to '/content/images_set_2'\n",
            "Copied '12025018801.jpg' to '/content/images_set_2'\n",
            "Copied '12025019801.jpg' to '/content/images_set_2'\n",
            "Copied '12025020201.jpg' to '/content/images_set_2'\n",
            "Copied '12025020901.jpg' to '/content/images_set_2'\n",
            "Copied '12025021101.jpg' to '/content/images_set_2'\n",
            "Copied '12027192801.jpg' to '/content/images_set_2'\n",
            "Copied '12027221801.jpg' to '/content/images_set_2'\n",
            "Copied '12027221501.jpg' to '/content/images_set_2'\n",
            "Copied '12027222101.jpg' to '/content/images_set_2'\n",
            "Copied '12027222401.jpg' to '/content/images_set_2'\n",
            "Copied '12027222601.jpg' to '/content/images_set_2'\n",
            "Copied '15006014701.jpg' to '/content/images_set_2'\n",
            "Copied '15006014801.jpg' to '/content/images_set_2'\n",
            "Copied '15006019701.jpg' to '/content/images_set_2'\n",
            "Copied '15006026001.jpg' to '/content/images_set_2'\n",
            "Copied '15006026301.jpg' to '/content/images_set_2'\n",
            "Copied '15006064701.jpg' to '/content/images_set_2'\n",
            "Copied '15006087101.jpg' to '/content/images_set_2'\n",
            "Copied '15006087801.jpg' to '/content/images_set_2'\n",
            "Copied '15007188301.jpg' to '/content/images_set_2'\n",
            "Copied '15007190002.jpg' to '/content/images_set_2'\n",
            "Copied '15007190302.jpg' to '/content/images_set_2'\n",
            "Copied '15015048301.jpg' to '/content/images_set_2'\n",
            "Copied '15015051601.jpg' to '/content/images_set_2'\n",
            "Copied '15015052901.jpg' to '/content/images_set_2'\n",
            "Copied '15015053101.jpg' to '/content/images_set_2'\n",
            "Copied '15015053201.jpg' to '/content/images_set_2'\n",
            "Copied '15015059001.jpg' to '/content/images_set_2'\n",
            "Copied '15015067001.jpg' to '/content/images_set_2'\n",
            "Copied '15015076001.jpg' to '/content/images_set_2'\n",
            "Copied '15020221901.jpg' to '/content/images_set_2'\n",
            "Copied '15020223601.jpg' to '/content/images_set_2'\n",
            "Copied '15020223501.jpg' to '/content/images_set_2'\n",
            "Copied '15020223401.jpg' to '/content/images_set_2'\n",
            "Copied '15020223901.jpg' to '/content/images_set_2'\n",
            "Copied '15020224001.jpg' to '/content/images_set_2'\n",
            "Copied '15020224201.jpg' to '/content/images_set_2'\n",
            "Copied '15020224101.jpg' to '/content/images_set_2'\n",
            "Copied '15020224701.jpg' to '/content/images_set_2'\n",
            "Copied '15020224901.jpg' to '/content/images_set_2'\n",
            "Copied '15020224801.jpg' to '/content/images_set_2'\n",
            "Copied '15020225301.jpg' to '/content/images_set_2'\n",
            "Copied '15020225501.jpg' to '/content/images_set_2'\n",
            "Copied '15020225601.jpg' to '/content/images_set_2'\n",
            "Copied '15020226001.jpg' to '/content/images_set_2'\n",
            "Copied '15020226201.jpg' to '/content/images_set_2'\n",
            "Copied '15020226301.jpg' to '/content/images_set_2'\n",
            "Copied '15020226801.jpg' to '/content/images_set_2'\n",
            "Copied '15020226901.jpg' to '/content/images_set_2'\n",
            "Copied '15020227001.jpg' to '/content/images_set_2'\n",
            "Copied '15020227201.jpg' to '/content/images_set_2'\n",
            "Copied '15020227301.jpg' to '/content/images_set_2'\n",
            "Copied '15020227401.jpg' to '/content/images_set_2'\n",
            "Copied '15020227601.jpg' to '/content/images_set_2'\n",
            "Copied '15022046801.jpg' to '/content/images_set_2'\n",
            "Copied '15022048001.jpg' to '/content/images_set_2'\n",
            "Copied '15022048101.jpg' to '/content/images_set_2'\n",
            "Copied '15022048501.jpg' to '/content/images_set_2'\n",
            "Copied '15022048701.jpg' to '/content/images_set_2'\n",
            "Copied '15025006601.jpg' to '/content/images_set_2'\n",
            "Copied '15025020001.jpg' to '/content/images_set_2'\n",
            "Copied '15025026001.jpg' to '/content/images_set_2'\n",
            "Copied '10001008301.jpg' to '/content/images_set_2'\n",
            "Copied '10001008501.jpg' to '/content/images_set_2'\n",
            "Copied '10001010601.jpg' to '/content/images_set_2'\n",
            "Copied '10001018502.jpg' to '/content/images_set_2'\n",
            "Copied '10001018802.jpg' to '/content/images_set_2'\n",
            "Copied '10001020402.jpg' to '/content/images_set_2'\n",
            "Copied '10001020902.jpg' to '/content/images_set_2'\n",
            "Copied '10001021302.jpg' to '/content/images_set_2'\n",
            "Copied '10001021501.jpg' to '/content/images_set_2'\n",
            "Copied '10001021702.jpg' to '/content/images_set_2'\n",
            "Copied '10001021602.jpg' to '/content/images_set_2'\n",
            "Copied '10001021902.jpg' to '/content/images_set_2'\n",
            "Copied '10001022402.jpg' to '/content/images_set_2'\n",
            "Copied '10001023202.jpg' to '/content/images_set_2'\n",
            "Copied '10001023602.jpg' to '/content/images_set_2'\n",
            "Copied '10001024102.jpg' to '/content/images_set_2'\n",
            "Copied '10001024202.jpg' to '/content/images_set_2'\n",
            "Copied '10001024402.jpg' to '/content/images_set_2'\n",
            "Copied '10001026002.jpg' to '/content/images_set_2'\n",
            "Copied '10001026202.jpg' to '/content/images_set_2'\n",
            "Copied '10001026702.jpg' to '/content/images_set_2'\n",
            "Copied '10001026802.jpg' to '/content/images_set_2'\n",
            "Copied '10001026902.jpg' to '/content/images_set_2'\n",
            "Copied '10001027102.jpg' to '/content/images_set_2'\n",
            "Copied '10005043103.jpg' to '/content/images_set_2'\n",
            "Copied '10006093807.jpg' to '/content/images_set_2'\n",
            "Copied '10006098302.jpg' to '/content/images_set_2'\n",
            "Copied '10006111001.jpg' to '/content/images_set_2'\n",
            "Copied '10006110901.jpg' to '/content/images_set_2'\n",
            "Copied '10006125702.jpg' to '/content/images_set_2'\n",
            "Copied '10016012501.jpg' to '/content/images_set_2'\n",
            "Copied '10019019402.jpg' to '/content/images_set_2'\n",
            "Copied '10019055702.jpg' to '/content/images_set_2'\n",
            "Copied '10019056802.jpg' to '/content/images_set_2'\n",
            "Copied '10019058301.jpg' to '/content/images_set_2'\n",
            "Copied '10019062902.jpg' to '/content/images_set_2'\n",
            "Copied '10019083001.jpg' to '/content/images_set_2'\n",
            "Copied '10019083201.jpg' to '/content/images_set_2'\n",
            "Copied '10020088801.jpg' to '/content/images_set_2'\n",
            "Copied '10025044701.jpg' to '/content/images_set_2'\n",
            "Copied '11004130202.jpg' to '/content/images_set_2'\n",
            "Copied '11004130402.jpg' to '/content/images_set_2'\n",
            "Copied '11004130702.jpg' to '/content/images_set_2'\n",
            "Copied '11004130802.jpg' to '/content/images_set_2'\n",
            "Copied '11004131102.jpg' to '/content/images_set_2'\n",
            "Copied '12001089802.jpg' to '/content/images_set_2'\n",
            "Copied '12001090002.jpg' to '/content/images_set_2'\n",
            "Copied '12001090702.jpg' to '/content/images_set_2'\n",
            "Copied '12001090902.jpg' to '/content/images_set_2'\n",
            "Copied '12001091702.jpg' to '/content/images_set_2'\n",
            "Copied '12015003702.jpg' to '/content/images_set_2'\n",
            "Copied '12015004502.jpg' to '/content/images_set_2'\n",
            "Copied '12015004802.jpg' to '/content/images_set_2'\n",
            "Copied '12015005802.jpg' to '/content/images_set_2'\n",
            "Copied '12021002802.jpg' to '/content/images_set_2'\n",
            "Copied '12021006102.jpg' to '/content/images_set_2'\n",
            "Copied '12021023902.jpg' to '/content/images_set_2'\n",
            "Copied '12021022701.jpg' to '/content/images_set_2'\n",
            "Copied '12021024101.jpg' to '/content/images_set_2'\n",
            "Copied '12021031802.jpg' to '/content/images_set_2'\n",
            "Copied '12021039001.jpg' to '/content/images_set_2'\n",
            "Copied '12021082001.jpg' to '/content/images_set_2'\n",
            "Copied '38012045101.jpg' to '/content/images_set_2'\n",
            "Copied '38014179201.jpg' to '/content/images_set_2'\n",
            "Copied '38014169801.jpg' to '/content/images_set_2'\n",
            "Copied '38014198901.jpg' to '/content/images_set_2'\n",
            "Copied '38014226501.jpg' to '/content/images_set_2'\n",
            "Copied '38014218301.jpg' to '/content/images_set_2'\n",
            "Copied '38017111001.jpg' to '/content/images_set_2'\n",
            "Copied '38017128001.jpg' to '/content/images_set_2'\n",
            "Copied '38017144901.jpg' to '/content/images_set_2'\n",
            "Copied '38017140901.jpg' to '/content/images_set_2'\n",
            "Copied '38017137701.jpg' to '/content/images_set_2'\n",
            "Copied '38018170501.jpg' to '/content/images_set_2'\n",
            "Copied '38017144601.jpg' to '/content/images_set_2'\n",
            "Copied '38018205701.jpg' to '/content/images_set_2'\n",
            "Copied '38018229201.jpg' to '/content/images_set_2'\n",
            "Copied '38018230801.jpg' to '/content/images_set_2'\n",
            "Copied '38018231101.jpg' to '/content/images_set_2'\n",
            "Copied '38018231401.jpg' to '/content/images_set_2'\n",
            "Copied '38018237201.jpg' to '/content/images_set_2'\n",
            "Copied '38018245201.jpg' to '/content/images_set_2'\n",
            "Copied '38021182201.jpg' to '/content/images_set_2'\n",
            "Copied '38022037601.jpg' to '/content/images_set_2'\n",
            "Copied '38022038001.jpg' to '/content/images_set_2'\n",
            "Copied '38022070201.jpg' to '/content/images_set_2'\n",
            "Copied '38026093101.jpg' to '/content/images_set_2'\n",
            "Copied '38041007202.jpg' to '/content/images_set_2'\n",
            "Copied '38041009101.jpg' to '/content/images_set_2'\n",
            "Copied '38041009001.jpg' to '/content/images_set_2'\n",
            "Copied '38044022001.jpg' to '/content/images_set_2'\n",
            "Copied '38044023901.jpg' to '/content/images_set_2'\n",
            "Copied '38044024101.jpg' to '/content/images_set_2'\n",
            "Copied '38045184101.jpg' to '/content/images_set_2'\n",
            "Copied '38046231101.jpg' to '/content/images_set_2'\n",
            "Copied '39005139701.jpg' to '/content/images_set_2'\n",
            "Copied '39016167901.jpg' to '/content/images_set_2'\n",
            "Copied '44013029701.jpg' to '/content/images_set_2'\n",
            "Copied '44013029401.jpg' to '/content/images_set_2'\n",
            "Copied '44013029801.jpg' to '/content/images_set_2'\n",
            "Copied '44018248301.jpg' to '/content/images_set_2'\n",
            "Copied '44018249901.jpg' to '/content/images_set_2'\n",
            "Copied '44018250201.jpg' to '/content/images_set_2'\n",
            "Copied '44018250401.jpg' to '/content/images_set_2'\n",
            "Copied '44018250601.jpg' to '/content/images_set_2'\n",
            "Copied '44026217101.jpg' to '/content/images_set_2'\n",
            "Copied '44026217601.jpg' to '/content/images_set_2'\n",
            "Copied '44026217701.jpg' to '/content/images_set_2'\n",
            "Copied '44026218501.jpg' to '/content/images_set_2'\n",
            "Copied '44027005001.jpg' to '/content/images_set_2'\n",
            "Copied '44034009301.jpg' to '/content/images_set_2'\n",
            "Copied '38004001301.jpg' to '/content/images_set_2'\n",
            "Copied '38004004901.jpg' to '/content/images_set_2'\n",
            "Copied '38004015301.jpg' to '/content/images_set_2'\n",
            "Copied '38004043001.jpg' to '/content/images_set_2'\n",
            "Copied '38005120201.jpg' to '/content/images_set_2'\n",
            "Copied '38006202601.jpg' to '/content/images_set_2'\n",
            "Copied '38006203501.jpg' to '/content/images_set_2'\n",
            "Copied '38006204801.jpg' to '/content/images_set_2'\n",
            "Copied '38006204601.jpg' to '/content/images_set_2'\n",
            "Copied '38006204701.jpg' to '/content/images_set_2'\n",
            "Copied '38006205001.jpg' to '/content/images_set_2'\n",
            "Copied '38007081901.jpg' to '/content/images_set_2'\n",
            "Copied '38008103601.jpg' to '/content/images_set_2'\n",
            "Copied '38008134901.jpg' to '/content/images_set_2'\n",
            "Copied '38008123601.jpg' to '/content/images_set_2'\n",
            "Copied '38008114501.jpg' to '/content/images_set_2'\n",
            "Copied '20016218602.jpg' to '/content/images_set_2'\n",
            "Copied '20016216501.jpg' to '/content/images_set_2'\n",
            "Copied '20016225102.jpg' to '/content/images_set_2'\n",
            "Copied '20016230405.jpg' to '/content/images_set_2'\n",
            "Copied '20016241002.jpg' to '/content/images_set_2'\n",
            "Copied '20016241101.jpg' to '/content/images_set_2'\n",
            "Copied '20016241004.jpg' to '/content/images_set_2'\n",
            "Copied '20018116301.jpg' to '/content/images_set_2'\n",
            "Copied '20016295302.jpg' to '/content/images_set_2'\n",
            "Copied '20018118501.jpg' to '/content/images_set_2'\n",
            "Copied '20018119601.jpg' to '/content/images_set_2'\n",
            "Copied '20018120001.jpg' to '/content/images_set_2'\n",
            "Copied '20020013101.jpg' to '/content/images_set_2'\n",
            "Copied '20020017201.jpg' to '/content/images_set_2'\n",
            "Copied '20020025101.jpg' to '/content/images_set_2'\n",
            "Copied '20020025701.jpg' to '/content/images_set_2'\n",
            "Copied '20020027101.jpg' to '/content/images_set_2'\n",
            "Copied '20020027901.jpg' to '/content/images_set_2'\n",
            "Copied '20020028201.jpg' to '/content/images_set_2'\n",
            "Copied '20020035001.jpg' to '/content/images_set_2'\n",
            "Copied '20020041201.jpg' to '/content/images_set_2'\n",
            "Copied '20020035701.jpg' to '/content/images_set_2'\n",
            "Copied '20020044401.jpg' to '/content/images_set_2'\n",
            "Copied '20020043701.jpg' to '/content/images_set_2'\n",
            "Copied '20020051001.jpg' to '/content/images_set_2'\n",
            "Copied '20020045901.jpg' to '/content/images_set_2'\n",
            "Copied '20021100201.jpg' to '/content/images_set_2'\n",
            "Copied '20021100701.jpg' to '/content/images_set_2'\n",
            "Copied '20021100901.jpg' to '/content/images_set_2'\n",
            "Copied '20021101101.jpg' to '/content/images_set_2'\n",
            "Copied '20021101301.jpg' to '/content/images_set_2'\n",
            "Copied '20021101401.jpg' to '/content/images_set_2'\n",
            "Copied '20021101001.jpg' to '/content/images_set_2'\n",
            "Copied '20021102201.jpg' to '/content/images_set_2'\n",
            "Copied '20022281202.jpg' to '/content/images_set_2'\n",
            "Copied '20024003001.jpg' to '/content/images_set_2'\n",
            "Copied '20024003201.jpg' to '/content/images_set_2'\n",
            "Copied '20024003501.jpg' to '/content/images_set_2'\n",
            "Copied '20024003801.jpg' to '/content/images_set_2'\n",
            "Copied '20024005101.jpg' to '/content/images_set_2'\n",
            "Copied '20024071502.jpg' to '/content/images_set_2'\n",
            "Copied '20031021102.jpg' to '/content/images_set_2'\n",
            "Copied '20034084602.jpg' to '/content/images_set_2'\n",
            "Copied '20036110801.jpg' to '/content/images_set_2'\n",
            "Copied '20036140201.jpg' to '/content/images_set_2'\n",
            "Copied '20044141002.jpg' to '/content/images_set_2'\n",
            "Copied '20046224701.jpg' to '/content/images_set_2'\n",
            "Copied '20046225401.jpg' to '/content/images_set_2'\n",
            "Copied '21002112901.jpg' to '/content/images_set_2'\n",
            "Copied '21002116201.jpg' to '/content/images_set_2'\n",
            "Copied '21002118901.jpg' to '/content/images_set_2'\n",
            "Copied '21005044102.jpg' to '/content/images_set_2'\n",
            "Copied '21005043502.jpg' to '/content/images_set_2'\n",
            "Copied '21005043602.jpg' to '/content/images_set_2'\n",
            "Copied '21005044302.jpg' to '/content/images_set_2'\n",
            "Copied '21005044402.jpg' to '/content/images_set_2'\n",
            "Copied '21005043902.jpg' to '/content/images_set_2'\n",
            "Copied '21005043702.jpg' to '/content/images_set_2'\n",
            "Copied '21005043802.jpg' to '/content/images_set_2'\n",
            "Copied '21005044202.jpg' to '/content/images_set_2'\n",
            "Copied '21005044502.jpg' to '/content/images_set_2'\n",
            "Copied '24026180301.jpg' to '/content/images_set_2'\n",
            "Copied '24026181006.jpg' to '/content/images_set_2'\n",
            "Copied '24026181401.jpg' to '/content/images_set_2'\n",
            "Copied '24026197901.jpg' to '/content/images_set_2'\n",
            "Copied '24033230502.jpg' to '/content/images_set_2'\n",
            "Copied '25001008201.jpg' to '/content/images_set_2'\n",
            "Copied '25009011501.jpg' to '/content/images_set_2'\n",
            "Copied '25009011901.jpg' to '/content/images_set_2'\n",
            "Copied '25009012301.jpg' to '/content/images_set_2'\n",
            "Copied '25016061201.jpg' to '/content/images_set_2'\n",
            "Copied '25016075501.jpg' to '/content/images_set_2'\n",
            "Copied '25016136002.jpg' to '/content/images_set_2'\n",
            "Copied '25016137702.jpg' to '/content/images_set_2'\n",
            "Copied '25016138102.jpg' to '/content/images_set_2'\n",
            "Copied '25032121001.jpg' to '/content/images_set_2'\n",
            "Copied '25032121301.jpg' to '/content/images_set_2'\n",
            "Copied '25032122201.jpg' to '/content/images_set_2'\n",
            "Copied '25032122101.jpg' to '/content/images_set_2'\n",
            "Copied '25032122301.jpg' to '/content/images_set_2'\n",
            "Copied '25033076001.jpg' to '/content/images_set_2'\n",
            "Copied '25033076301.jpg' to '/content/images_set_2'\n",
            "Copied '25033077901.jpg' to '/content/images_set_2'\n",
            "Copied '17001738102.jpg' to '/content/images_set_2'\n",
            "Copied '17001738402.jpg' to '/content/images_set_2'\n",
            "Copied '17001738502.jpg' to '/content/images_set_2'\n",
            "Copied '17001739502.jpg' to '/content/images_set_2'\n",
            "Copied '17001739702.jpg' to '/content/images_set_2'\n",
            "Copied '17001740202.jpg' to '/content/images_set_2'\n",
            "Copied '17001740402.jpg' to '/content/images_set_2'\n",
            "Copied '17001740802.jpg' to '/content/images_set_2'\n",
            "Copied '17001745802.jpg' to '/content/images_set_2'\n",
            "Copied '17002409801.jpg' to '/content/images_set_2'\n",
            "Copied '17004348402.jpg' to '/content/images_set_2'\n",
            "Copied '17004349002.jpg' to '/content/images_set_2'\n",
            "Copied '17004349702.jpg' to '/content/images_set_2'\n",
            "Copied '17004349802.jpg' to '/content/images_set_2'\n",
            "Copied '17004351002.jpg' to '/content/images_set_2'\n",
            "Copied '17004350902.jpg' to '/content/images_set_2'\n",
            "Copied '17004426901.jpg' to '/content/images_set_2'\n",
            "Copied '17005057001.jpg' to '/content/images_set_2'\n",
            "Copied '17005057201.jpg' to '/content/images_set_2'\n",
            "Copied '17005057301.jpg' to '/content/images_set_2'\n",
            "Copied '17005057401.jpg' to '/content/images_set_2'\n",
            "Copied '17005057801.jpg' to '/content/images_set_2'\n",
            "Copied '17005058201.jpg' to '/content/images_set_2'\n",
            "Copied '17005058401.jpg' to '/content/images_set_2'\n",
            "Copied '17005058301.jpg' to '/content/images_set_2'\n",
            "Copied '17005058801.jpg' to '/content/images_set_2'\n",
            "Copied '17005059201.jpg' to '/content/images_set_2'\n",
            "Copied '17005059401.jpg' to '/content/images_set_2'\n",
            "Copied '17006012002.jpg' to '/content/images_set_2'\n",
            "Copied '17006012702.jpg' to '/content/images_set_2'\n",
            "Copied '17006012602.jpg' to '/content/images_set_2'\n",
            "Copied '17006012902.jpg' to '/content/images_set_2'\n",
            "Copied '17006013102.jpg' to '/content/images_set_2'\n",
            "Copied '17006013502.jpg' to '/content/images_set_2'\n",
            "Copied '17006013902.jpg' to '/content/images_set_2'\n",
            "Copied '17017820202.jpg' to '/content/images_set_2'\n",
            "Copied '17017820602.jpg' to '/content/images_set_2'\n",
            "Copied '17019874202.jpg' to '/content/images_set_2'\n",
            "Copied '17019935202.jpg' to '/content/images_set_2'\n",
            "Copied '17019937902.jpg' to '/content/images_set_2'\n",
            "Copied '17022848302.jpg' to '/content/images_set_2'\n",
            "Copied '17024717802.jpg' to '/content/images_set_2'\n",
            "Copied '17025816302.jpg' to '/content/images_set_2'\n",
            "Copied '17034030202.jpg' to '/content/images_set_2'\n",
            "Copied '17034030702.jpg' to '/content/images_set_2'\n",
            "Copied '17034031202.jpg' to '/content/images_set_2'\n",
            "Copied '17034031402.jpg' to '/content/images_set_2'\n",
            "Copied '17034032002.jpg' to '/content/images_set_2'\n",
            "Copied '17034032502.jpg' to '/content/images_set_2'\n",
            "Copied '17034033002.jpg' to '/content/images_set_2'\n",
            "Copied '17037005802.jpg' to '/content/images_set_2'\n",
            "Copied '17037005602.jpg' to '/content/images_set_2'\n",
            "Copied '17037006102.jpg' to '/content/images_set_2'\n",
            "Copied '17039196602.jpg' to '/content/images_set_2'\n",
            "Copied '17039236602.jpg' to '/content/images_set_2'\n",
            "Copied '17039237402.jpg' to '/content/images_set_2'\n",
            "Copied '17039237202.jpg' to '/content/images_set_2'\n",
            "Copied '17039237902.jpg' to '/content/images_set_2'\n",
            "Copied '17039238402.jpg' to '/content/images_set_2'\n",
            "Copied '17039238102.jpg' to '/content/images_set_2'\n",
            "Copied '20010148101.jpg' to '/content/images_set_2'\n",
            "Copied '20010148501.jpg' to '/content/images_set_2'\n",
            "Copied '20010148701.jpg' to '/content/images_set_2'\n",
            "Copied '20010148801.jpg' to '/content/images_set_2'\n",
            "Copied '20010149001.jpg' to '/content/images_set_2'\n",
            "Copied '20010149101.jpg' to '/content/images_set_2'\n",
            "Copied '20010149301.jpg' to '/content/images_set_2'\n",
            "Copied '20011045302.jpg' to '/content/images_set_2'\n",
            "Copied '20011030301.jpg' to '/content/images_set_2'\n",
            "Copied '20011087201.jpg' to '/content/images_set_2'\n",
            "Copied '20012174802.jpg' to '/content/images_set_2'\n",
            "Copied '20014076801.jpg' to '/content/images_set_2'\n",
            "Copied '20014072301.jpg' to '/content/images_set_2'\n",
            "Copied '20015173002.jpg' to '/content/images_set_2'\n",
            "Copied '20015151402.jpg' to '/content/images_set_2'\n",
            "Copied '20015173305.jpg' to '/content/images_set_2'\n",
            "Copied '20015179502.jpg' to '/content/images_set_2'\n",
            "Copied '20015183501.jpg' to '/content/images_set_2'\n",
            "Copied '20015204202.jpg' to '/content/images_set_2'\n",
            "Copied '32012178301.jpg' to '/content/images_set_2'\n",
            "Copied '32012168901.jpg' to '/content/images_set_2'\n",
            "Copied '32016002001.jpg' to '/content/images_set_2'\n",
            "Copied '32016007701.jpg' to '/content/images_set_2'\n",
            "Copied '32016015001.jpg' to '/content/images_set_2'\n",
            "Copied '32017024301.jpg' to '/content/images_set_2'\n",
            "Copied '32018140901.jpg' to '/content/images_set_2'\n",
            "Copied '32018140601.jpg' to '/content/images_set_2'\n",
            "Copied '32018141301.jpg' to '/content/images_set_2'\n",
            "Copied '32018141201.jpg' to '/content/images_set_2'\n",
            "Copied '32018141401.jpg' to '/content/images_set_2'\n",
            "Copied '32018142101.jpg' to '/content/images_set_2'\n",
            "Copied '32018142401.jpg' to '/content/images_set_2'\n",
            "Copied '32018142301.jpg' to '/content/images_set_2'\n",
            "Copied '32018142201.jpg' to '/content/images_set_2'\n",
            "Copied '32018142601.jpg' to '/content/images_set_2'\n",
            "Copied '32018142501.jpg' to '/content/images_set_2'\n",
            "Copied '32018142801.jpg' to '/content/images_set_2'\n",
            "Copied '32018143001.jpg' to '/content/images_set_2'\n",
            "Copied '32018142901.jpg' to '/content/images_set_2'\n",
            "Copied '32018143101.jpg' to '/content/images_set_2'\n",
            "Copied '32018143201.jpg' to '/content/images_set_2'\n",
            "Copied '32018143301.jpg' to '/content/images_set_2'\n",
            "Copied '32018143401.jpg' to '/content/images_set_2'\n",
            "Copied '32018146601.jpg' to '/content/images_set_2'\n",
            "Copied '32019046601.jpg' to '/content/images_set_2'\n",
            "Copied '33001013501.jpg' to '/content/images_set_2'\n",
            "Copied '33001023401.jpg' to '/content/images_set_2'\n",
            "Copied '33002147101.jpg' to '/content/images_set_2'\n",
            "Copied '33002114501.jpg' to '/content/images_set_2'\n",
            "Copied '33002161601.jpg' to '/content/images_set_2'\n",
            "Copied '33002160001.jpg' to '/content/images_set_2'\n",
            "Copied '33004042701.jpg' to '/content/images_set_2'\n",
            "Copied '33004051701.jpg' to '/content/images_set_2'\n",
            "Copied '33004071001.jpg' to '/content/images_set_2'\n",
            "Copied '33004022101.jpg' to '/content/images_set_2'\n",
            "Copied '33005135201.jpg' to '/content/images_set_2'\n",
            "Copied '33006257401.jpg' to '/content/images_set_2'\n",
            "Copied '33006257501.jpg' to '/content/images_set_2'\n",
            "Copied '33006257901.jpg' to '/content/images_set_2'\n",
            "Copied '33006258101.jpg' to '/content/images_set_2'\n",
            "Copied '33006258401.jpg' to '/content/images_set_2'\n",
            "Copied '33006258501.jpg' to '/content/images_set_2'\n",
            "Copied '33006258601.jpg' to '/content/images_set_2'\n",
            "Copied '33006258901.jpg' to '/content/images_set_2'\n",
            "Copied '33006259601.jpg' to '/content/images_set_2'\n",
            "Copied '33006259501.jpg' to '/content/images_set_2'\n",
            "Copied '33006259701.jpg' to '/content/images_set_2'\n",
            "Copied '33006263001.jpg' to '/content/images_set_2'\n",
            "Copied '33007002701.jpg' to '/content/images_set_2'\n",
            "Copied '33012207801.jpg' to '/content/images_set_2'\n",
            "Copied '33012222401.jpg' to '/content/images_set_2'\n",
            "Copied '33013031301.jpg' to '/content/images_set_2'\n",
            "Copied '33013032101.jpg' to '/content/images_set_2'\n",
            "Copied '33013053301.jpg' to '/content/images_set_2'\n",
            "Copied '33013034101.jpg' to '/content/images_set_2'\n",
            "Copied '33014128501.jpg' to '/content/images_set_2'\n",
            "Copied '33014146401.jpg' to '/content/images_set_2'\n",
            "Copied '33014140501.jpg' to '/content/images_set_2'\n",
            "Copied '33014150401.jpg' to '/content/images_set_2'\n",
            "Copied '33014170101.jpg' to '/content/images_set_2'\n",
            "Copied '33014160701.jpg' to '/content/images_set_2'\n",
            "Copied '33015211801.jpg' to '/content/images_set_2'\n",
            "Copied '33015214601.jpg' to '/content/images_set_2'\n",
            "Copied '33015215801.jpg' to '/content/images_set_2'\n",
            "Copied '33015227301.jpg' to '/content/images_set_2'\n",
            "Copied '33016274901.jpg' to '/content/images_set_2'\n",
            "Copied '33016279601.jpg' to '/content/images_set_2'\n",
            "Copied '33017003801.jpg' to '/content/images_set_2'\n",
            "Copied '33017007801.jpg' to '/content/images_set_2'\n",
            "Copied '33017015301.jpg' to '/content/images_set_2'\n",
            "Copied '33017089601.jpg' to '/content/images_set_2'\n",
            "Copied '33018109601.jpg' to '/content/images_set_2'\n",
            "Copied '33018109801.jpg' to '/content/images_set_2'\n",
            "Copied '33018109901.jpg' to '/content/images_set_2'\n",
            "Copied '33018110401.jpg' to '/content/images_set_2'\n",
            "Copied '26009009901.jpg' to '/content/images_set_2'\n",
            "Copied '26009010901.jpg' to '/content/images_set_2'\n",
            "Copied '26009051501.jpg' to '/content/images_set_2'\n",
            "Copied '26009055601.jpg' to '/content/images_set_2'\n",
            "Copied '26010140401.jpg' to '/content/images_set_2'\n",
            "Copied '26010099801.jpg' to '/content/images_set_2'\n",
            "Copied '26010113401.jpg' to '/content/images_set_2'\n",
            "Copied '26010148301.jpg' to '/content/images_set_2'\n",
            "Copied '26010154101.jpg' to '/content/images_set_2'\n",
            "Copied '26010168101.jpg' to '/content/images_set_2'\n",
            "Copied '26010177001.jpg' to '/content/images_set_2'\n",
            "Copied '26010177501.jpg' to '/content/images_set_2'\n",
            "Copied '26010177201.jpg' to '/content/images_set_2'\n",
            "Copied '26010178601.jpg' to '/content/images_set_2'\n",
            "Copied '26010178901.jpg' to '/content/images_set_2'\n",
            "Copied '26010179301.jpg' to '/content/images_set_2'\n",
            "Copied '26010179401.jpg' to '/content/images_set_2'\n",
            "Copied '26010179501.jpg' to '/content/images_set_2'\n",
            "Copied '26012003701.jpg' to '/content/images_set_2'\n",
            "Copied '26012003501.jpg' to '/content/images_set_2'\n",
            "Copied '26013126301.jpg' to '/content/images_set_2'\n",
            "Copied '26013130401.jpg' to '/content/images_set_2'\n",
            "Copied '26013133001.jpg' to '/content/images_set_2'\n",
            "Copied '26013132801.jpg' to '/content/images_set_2'\n",
            "Copied '26013132901.jpg' to '/content/images_set_2'\n",
            "Copied '26013133101.jpg' to '/content/images_set_2'\n",
            "Copied '26013133301.jpg' to '/content/images_set_2'\n",
            "Copied '26013133201.jpg' to '/content/images_set_2'\n",
            "Copied '26013133401.jpg' to '/content/images_set_2'\n",
            "Copied '26013133501.jpg' to '/content/images_set_2'\n",
            "Copied '26013133701.jpg' to '/content/images_set_2'\n",
            "Copied '26013134101.jpg' to '/content/images_set_2'\n",
            "Copied '26013133601.jpg' to '/content/images_set_2'\n",
            "Copied '26013133801.jpg' to '/content/images_set_2'\n",
            "Copied '26013134201.jpg' to '/content/images_set_2'\n",
            "Copied '26013134401.jpg' to '/content/images_set_2'\n",
            "Copied '26013134301.jpg' to '/content/images_set_2'\n",
            "Copied '26013135301.jpg' to '/content/images_set_2'\n",
            "Copied '26013136201.jpg' to '/content/images_set_2'\n",
            "Copied '26013136301.jpg' to '/content/images_set_2'\n",
            "Copied '26013143201.jpg' to '/content/images_set_2'\n",
            "Copied '32001007501.jpg' to '/content/images_set_2'\n",
            "Copied '32001009401.jpg' to '/content/images_set_2'\n",
            "Copied '32001068501.jpg' to '/content/images_set_2'\n",
            "Copied '32001087101.jpg' to '/content/images_set_2'\n",
            "Copied '32001088201.jpg' to '/content/images_set_2'\n",
            "Copied '32009268301.jpg' to '/content/images_set_2'\n",
            "Copied '32009268701.jpg' to '/content/images_set_2'\n",
            "Copied '32009269301.jpg' to '/content/images_set_2'\n",
            "Copied '32010017201.jpg' to '/content/images_set_2'\n",
            "Copied '32011066301.jpg' to '/content/images_set_2'\n",
            "Copied '32011080501.jpg' to '/content/images_set_2'\n",
            "Copied '32011082601.jpg' to '/content/images_set_2'\n",
            "Copied '32011088501.jpg' to '/content/images_set_2'\n"
          ]
        }
      ]
    }
  ]
}